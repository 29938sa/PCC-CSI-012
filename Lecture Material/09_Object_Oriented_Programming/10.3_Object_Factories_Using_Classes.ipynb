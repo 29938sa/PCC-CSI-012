{
 "cells": [
  {
   "cell_type": "markdown",
   "metadata": {
    "slideshow": {
     "slide_type": "slide"
    }
   },
   "source": [
    "# Object Factories using Classes\n",
    "\n",
    "![Ice Cream Sandwhich Factory](https://media.giphy.com/media/n1JN4fSrXovJe/giphy.gif)"
   ]
  },
  {
   "attachments": {
    "image.png": {
     "image/png": "[encoded data removed]"
    }
   },
   "cell_type": "markdown",
   "metadata": {
    "slideshow": {
     "slide_type": "slide"
    }
   },
   "source": [
    "## Creating Custom Classes\n",
    "\n",
    "- Just like creating functions, there are specific elements to creating a class.\n",
    "- At the most basic level, you need:\n",
    "    ![image.png](attachment:image.png)\n",
    "    "
   ]
  },
  {
   "attachments": {
    "image.png": {
     "image/png": "[encoded data removed]"
    }
   },
   "cell_type": "markdown",
   "metadata": {},
   "source": [
    "- To define a method, you use the same format as defining a funtion, but the first variable **must** be `self` and indented one level underneath the class definition:\n",
    "    ![image.png](attachment:image.png)"
   ]
  },
  {
   "cell_type": "code",
   "execution_count": 1,
   "metadata": {
    "slideshow": {
     "slide_type": "subslide"
    }
   },
   "outputs": [],
   "source": [
    "class Pokemon():\n",
    "    generation = 1\n",
    "    def print_choice(self, pokemon_name):\n",
    "        print(f\"I choose you {pokemon_name}!\")"
   ]
  },
  {
   "cell_type": "code",
   "execution_count": 2,
   "metadata": {
    "slideshow": {
     "slide_type": "-"
    }
   },
   "outputs": [
    {
     "name": "stdout",
     "output_type": "stream",
     "text": [
      "I choose you pikachu!\n",
      "1\n"
     ]
    }
   ],
   "source": [
    "poke = Pokemon()\n",
    "\n",
    "# notice that call an object function, there's no passing the first\n",
    "# var of self to it.  This is done automatically by Python in the \n",
    "# background\n",
    "poke.print_choice('pikachu')\n",
    "print(poke.generation)"
   ]
  },
  {
   "cell_type": "markdown",
   "metadata": {
    "slideshow": {
     "slide_type": "slide"
    }
   },
   "source": [
    "## Dunder Methods\n",
    "\n",
    "- dunder (double underscore) methods are special methods (called magic methods) that have specific meaning when defining a class.\n",
    "- we won't cover them all in this course, but the one that we will cover two:\n",
    "    - **`__init__`:** initialization of an object.  This is the most important.\n",
    "    - **`__str__`:** what the object should be when \"printed\" or converted to a string."
   ]
  },
  {
   "cell_type": "code",
   "execution_count": 3,
   "metadata": {
    "slideshow": {
     "slide_type": "subslide"
    }
   },
   "outputs": [],
   "source": [
    "class Pokemon():\n",
    "    generation = 1\n",
    "    \n",
    "    def __init__(self, name, level):\n",
    "        self.name = name\n",
    "        self.level = level\n",
    "        \n",
    "    def print_choice(self):\n",
    "        print(f\"I choose you {self.name}!\")\n",
    "        \n",
    "    def __str__(self):\n",
    "        return f\"Pokemon: {self.name}\""
   ]
  },
  {
   "cell_type": "code",
   "execution_count": 4,
   "metadata": {
    "slideshow": {
     "slide_type": "-"
    }
   },
   "outputs": [],
   "source": [
    "pikachu = Pokemon('pickachu', 10)\n",
    "bulbasaur = Pokemon('bulbasaur', 12)"
   ]
  },
  {
   "cell_type": "code",
   "execution_count": 5,
   "metadata": {
    "slideshow": {
     "slide_type": "-"
    }
   },
   "outputs": [
    {
     "name": "stdout",
     "output_type": "stream",
     "text": [
      "I choose you pickachu!\n"
     ]
    }
   ],
   "source": [
    "pikachu.print_choice()"
   ]
  },
  {
   "cell_type": "code",
   "execution_count": 6,
   "metadata": {
    "slideshow": {
     "slide_type": "-"
    }
   },
   "outputs": [
    {
     "name": "stdout",
     "output_type": "stream",
     "text": [
      "Pokemon: bulbasaur\n"
     ]
    }
   ],
   "source": [
    "print(bulbasaur)"
   ]
  },
  {
   "cell_type": "markdown",
   "metadata": {
    "slideshow": {
     "slide_type": "slide"
    }
   },
   "source": [
    "## Class and Instance Basics\n",
    "\n",
    "- There are differences between class attributes/methods and instance attributes/methods\n",
    "- Class attributes/methods are available for all instances (unless changed by the instance) and from the class itself\n",
    "- Instance attributes are available for only that instance\n",
    "- Use class attributes/methods only if it's intended to be instance independent"
   ]
  },
  {
   "cell_type": "code",
   "execution_count": 7,
   "metadata": {
    "slideshow": {
     "slide_type": "subslide"
    }
   },
   "outputs": [],
   "source": [
    "class Pokemon():\n",
    "    generation = 'Base'\n",
    "    \n",
    "    def __init__(self, name, level, start_hp, energy_types, moves):\n",
    "        self.name = name\n",
    "        self.level = level\n",
    "        self.hp = start_hp\n",
    "        self.energy_types = energy_types\n",
    "        self.moves = moves\n",
    "        \n",
    "    def __str__(self):\n",
    "        return f'Pokemon: {self.name} with {self.hp} HP left'"
   ]
  },
  {
   "cell_type": "code",
   "execution_count": 8,
   "metadata": {
    "slideshow": {
     "slide_type": "-"
    }
   },
   "outputs": [
    {
     "data": {
      "text/plain": [
       "'Base'"
      ]
     },
     "execution_count": 8,
     "metadata": {},
     "output_type": "execute_result"
    }
   ],
   "source": [
    "Pokemon.generation"
   ]
  },
  {
   "cell_type": "markdown",
   "metadata": {
    "slideshow": {
     "slide_type": "subslide"
    }
   },
   "source": [
    "### Instances are in their own space"
   ]
  },
  {
   "cell_type": "code",
   "execution_count": 13,
   "metadata": {
    "slideshow": {
     "slide_type": "-"
    }
   },
   "outputs": [
    {
     "name": "stdout",
     "output_type": "stream",
     "text": [
      "Pokemon: Koffing with 60 HP left\n"
     ]
    }
   ],
   "source": [
    "koffing = Pokemon('Koffing', 13, 60, 'psychic', [('Foul Gas', 10)])\n",
    "print(koffing)"
   ]
  },
  {
   "cell_type": "code",
   "execution_count": 14,
   "metadata": {
    "slideshow": {
     "slide_type": "-"
    }
   },
   "outputs": [
    {
     "name": "stdout",
     "output_type": "stream",
     "text": [
      "Pokemon: Starmie with 90 HP left\n"
     ]
    }
   ],
   "source": [
    "starmie = Pokemon('Starmie', 28, 90, 'water', [('Star Freeze', 30)])\n",
    "print(starmie)"
   ]
  },
  {
   "cell_type": "code",
   "execution_count": 11,
   "metadata": {
    "slideshow": {
     "slide_type": "-"
    }
   },
   "outputs": [
    {
     "name": "stdout",
     "output_type": "stream",
     "text": [
      "13\n",
      "28\n"
     ]
    }
   ],
   "source": [
    "print(koffing.level)\n",
    "print(starmie.level)"
   ]
  },
  {
   "cell_type": "markdown",
   "metadata": {
    "slideshow": {
     "slide_type": "subslide"
    }
   },
   "source": [
    "### But they have access to the same class attributes/methods"
   ]
  },
  {
   "cell_type": "code",
   "execution_count": 12,
   "metadata": {
    "slideshow": {
     "slide_type": "-"
    }
   },
   "outputs": [
    {
     "name": "stdout",
     "output_type": "stream",
     "text": [
      "Base\n",
      "Base\n"
     ]
    }
   ],
   "source": [
    "print(koffing.generation)\n",
    "print(starmie.generation)"
   ]
  },
  {
   "cell_type": "markdown",
   "metadata": {
    "slideshow": {
     "slide_type": "slide"
    }
   },
   "source": [
    "## Exercises\n",
    "\n",
    "- Add to the `Pokemon` class a \"weaknesses\" and \"resistences\" attribute that are a list of string representing the different energy types a pokemon may be weak or resistent to.\n",
    "- Change what the `Pokemon` class will be printed as to: \"`Pokemon name` at level `level` with `HP` HP left\"\n",
    "- Add a method to the `Pokemon` class that will check to see if that pokemon has the user passed move: `<instance>.has_move('Foul Gas') # returns True/False`"
   ]
  },
  {
   "cell_type": "code",
   "execution_count": null,
   "metadata": {},
   "outputs": [],
   "source": []
  }
 ],
 "metadata": {
  "celltoolbar": "Slideshow",
  "kernelspec": {
   "display_name": "Python 3",
   "language": "python",
   "name": "python3"
  },
  "language_info": {
   "codemirror_mode": {
    "name": "ipython",
    "version": 3
   },
   "file_extension": ".py",
   "mimetype": "text/x-python",
   "name": "python",
   "nbconvert_exporter": "python",
   "pygments_lexer": "ipython3",
   "version": "3.6.6"
  }
 },
 "nbformat": 4,
 "nbformat_minor": 4
}
