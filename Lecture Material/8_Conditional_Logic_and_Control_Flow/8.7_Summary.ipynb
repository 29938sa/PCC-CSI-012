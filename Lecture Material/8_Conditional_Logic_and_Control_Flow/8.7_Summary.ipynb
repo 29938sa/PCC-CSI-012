{
 "cells": [
  {
   "cell_type": "markdown",
   "metadata": {},
   "source": [
    "# Summary\n",
    "\n",
    "Congratulations!  You've completed Module 8: Conditional Logic and Control Flow.\n",
    "\n",
    "In this module you've learned:\n",
    "- What Boolean Expressions are\n",
    "- Common comparison operators\n",
    "- What Logical Operators are\n",
    "- Conditional Execution/Control Flow using if, elif, and else statements\n",
    "- Nested conditionals\n",
    "- Understanding of what short-circuit evaluations are\n",
    "- Truth Tables and how to use them\n",
    "- Break and continue statements\n",
    "- Exception handling using try/except!"
   ]
  },
  {
   "cell_type": "markdown",
   "metadata": {},
   "source": [
    "## Additional Resources\n",
    "\n",
    "- https://realpython.com/python-exceptions/\n",
    "- https://realpython.com/python-conditional-statements/\n",
    "- https://realpython.com/quizzes/python-conditional-statements/\n",
    "- https://www.py4e.com/html3/03-conditional"
   ]
  }
 ],
 "metadata": {
  "kernelspec": {
   "display_name": "Python 3",
   "language": "python",
   "name": "python3"
  },
  "language_info": {
   "codemirror_mode": {
    "name": "ipython",
    "version": 3
   },
   "file_extension": ".py",
   "mimetype": "text/x-python",
   "name": "python",
   "nbconvert_exporter": "python",
   "pygments_lexer": "ipython3",
   "version": "3.6.6"
  }
 },
 "nbformat": 4,
 "nbformat_minor": 4
}
