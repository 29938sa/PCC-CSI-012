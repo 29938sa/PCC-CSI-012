{
 "cells": [
  {
   "cell_type": "markdown",
   "metadata": {},
   "source": [
    "# Assignment: Bringing It All Together\n",
    "\n",
    "In this assignment, you're going to need to use the skills you've learned thus far to accomplish these.  Feel free to look at the previous notebooks for reference."
   ]
  },
  {
   "cell_type": "markdown",
   "metadata": {},
   "source": [
    "## Rock, Paper, Scissor \n",
    "\n",
    "Create a program that prompts two users for `[R]ock`, `[P]aper`, or `[S]cissors`, where they enter either `R`, `P`, or `S` to select their choice.  Determine who won and dispaly the results.  The program should prompt the user again if they enter the wrong value.  As a reminder the following rules apply:\n",
    "\n",
    "- Rock beats Scissors\n",
    "- Paper beats Rock\n",
    "- Scissors beats Paper"
   ]
  },
  {
   "cell_type": "markdown",
   "metadata": {},
   "source": [
    "## Simulating a Dice Roll\n",
    "\n",
    "Create a program that rolls a dice 10,000 times and saves each roll.  Display to the user how many times each was rolled and their percentages.  Finally, iterate through the percentages and display any that have a percentage greater than 17%.  Some topics to consider when creating this:\n",
    "\n",
    "- Use the `random.randint()` function to roll the dice.\n",
    "- Use a dictionary to store the results.\n",
    "- Use looping to roll the dice 10,000 times.\n",
    "- Consider creating a function for the dice roll, and printing the results of the rolls."
   ]
  }
 ],
 "metadata": {
  "kernelspec": {
   "display_name": "Python 3",
   "language": "python",
   "name": "python3"
  },
  "language_info": {
   "codemirror_mode": {
    "name": "ipython",
    "version": 3
   },
   "file_extension": ".py",
   "mimetype": "text/x-python",
   "name": "python",
   "nbconvert_exporter": "python",
   "pygments_lexer": "ipython3",
   "version": "3.6.6"
  }
 },
 "nbformat": 4,
 "nbformat_minor": 4
}
