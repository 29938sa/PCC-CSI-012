{
 "cells": [
  {
   "cell_type": "markdown",
   "metadata": {
    "slideshow": {
     "slide_type": "slide"
    }
   },
   "source": [
    "# Logical Operations and Truth Tables\n",
    "\n",
    "- **Logical Operators:** operators that are used to combine comparisons together into more complex logical comparisons.\n",
    "- There are three logical operators for Python:\n",
    "    - `and`: evaluate `True` if `P` and `Q` are `True`; otherwise `False`\n",
    "    - `or`: evaluate `False` if `P` and `Q` are `False`; otherwise `True`\n",
    "    - `not`: evaluate `True` if `P` is `False` and vice versa\n",
    "- **Truth Table:** A table used to evaluate all combinations of values and their result for a logical operator."
   ]
  },
  {
   "cell_type": "markdown",
   "metadata": {
    "slideshow": {
     "slide_type": "slide"
    }
   },
   "source": [
    "## The `and` Operator\n",
    "\n",
    "- When `P` and `Q` are both evaluated to be `True` then the result is `True`, otherwise `False`\n",
    "- Real World Example:\n",
    "    - A mammal is warm-blooded AND nourishes its young with milk\n",
    "    - That means that platypuses, even though they lay eggs, are mammals!\n",
    "    \n",
    "![](https://ohmy.disney.com/wp-content/uploads/2014/07/New_Perry.gif)"
   ]
  },
  {
   "cell_type": "markdown",
   "metadata": {
    "slideshow": {
     "slide_type": "subslide"
    }
   },
   "source": [
    "### Truth Table (`and`)\n",
    "\n",
    "| P | Q | Evaluation |\n",
    "| - | - | ---------- |\n",
    "| `True` | `True` | `True` |\n",
    "| `True` | `False` | `False` |\n",
    "| `False` | `True` | `False` |\n",
    "| `False` | `False` | `False` |"
   ]
  },
  {
   "cell_type": "markdown",
   "metadata": {
    "slideshow": {
     "slide_type": "slide"
    }
   },
   "source": [
    "## The `or` Operator\n",
    "\n",
    "- When `P` and `Q` are both evaluated `False` then the result is `False`, otherwise `True`\n",
    "- This is commonly mistaken for the english use of 'or': \"I will stay OR I will go\"\n",
    "    - You can either stay OR go\n",
    "    - Computational OR means that if you both stay and go that's still true\n",
    "- Think of it like this: \"Do you want a Ham OR Turkey Sandwhich OR both?\" \n",
    "\n",
    "![](https://imgs.xkcd.com/comics/conditionals.png )"
   ]
  },
  {
   "cell_type": "markdown",
   "metadata": {
    "slideshow": {
     "slide_type": "subslide"
    }
   },
   "source": [
    "### Truth Table (`or`)\n",
    "\n",
    "| P | Q | Evaluation |\n",
    "| - | - | ---------- |\n",
    "| `True` | `True` | `True` |\n",
    "| `True` | `False` | `True` |\n",
    "| `False` | `True` | `True` |\n",
    "| `False` | `False` | `False` |"
   ]
  },
  {
   "cell_type": "markdown",
   "metadata": {
    "slideshow": {
     "slide_type": "slide"
    }
   },
   "source": [
    "## The `not` Operator\n",
    "\n",
    "- This basically reverses the current bool to it's opposite.\n",
    "- Going back to our Go or Stay, not go means we're staying; not staying means we're going"
   ]
  },
  {
   "cell_type": "markdown",
   "metadata": {
    "slideshow": {
     "slide_type": "subslide"
    }
   },
   "source": [
    "### Truth Table (`not`)\n",
    "\n",
    "| P | Evaluation |\n",
    "| - | ---------- |\n",
    "| `True` | `False` |\n",
    "| `False` | `True` |"
   ]
  },
  {
   "cell_type": "markdown",
   "metadata": {
    "slideshow": {
     "slide_type": "slide"
    }
   },
   "source": [
    "## Examples "
   ]
  },
  {
   "cell_type": "code",
   "execution_count": 7,
   "metadata": {
    "slideshow": {
     "slide_type": "-"
    }
   },
   "outputs": [
    {
     "data": {
      "text/plain": [
       "True"
      ]
     },
     "execution_count": 7,
     "metadata": {},
     "output_type": "execute_result"
    }
   ],
   "source": [
    "# check to see if A is in between 0 and 20\n",
    "A = 10\n",
    "\n",
    "A > 0 and A < 20"
   ]
  },
  {
   "cell_type": "code",
   "execution_count": 8,
   "metadata": {
    "slideshow": {
     "slide_type": "subslide"
    }
   },
   "outputs": [
    {
     "data": {
      "text/plain": [
       "False"
      ]
     },
     "execution_count": 8,
     "metadata": {},
     "output_type": "execute_result"
    }
   ],
   "source": [
    "# check to see if A and B are divisible by 2\n",
    "A = 10\n",
    "B = 5\n",
    "\n",
    "A % 2 == 0 and B % 2 == 0"
   ]
  },
  {
   "cell_type": "code",
   "execution_count": 10,
   "metadata": {
    "slideshow": {
     "slide_type": "subslide"
    }
   },
   "outputs": [
    {
     "data": {
      "text/plain": [
       "True"
      ]
     },
     "execution_count": 10,
     "metadata": {},
     "output_type": "execute_result"
    }
   ],
   "source": [
    "# Now let's check to see if either A OR B is divisible by 2\n",
    "A = 10\n",
    "B = 5\n",
    "\n",
    "A % 2 == 0 or B % 2 == 0"
   ]
  },
  {
   "cell_type": "code",
   "execution_count": 12,
   "metadata": {
    "slideshow": {
     "slide_type": "subslide"
    }
   },
   "outputs": [
    {
     "data": {
      "text/plain": [
       "True"
      ]
     },
     "execution_count": 12,
     "metadata": {},
     "output_type": "execute_result"
    }
   ],
   "source": [
    "# Now let's check to see if A is divisible by 2 AND B isn't\n",
    "A = 10\n",
    "B = 5\n",
    "\n",
    "A % 2 == 0 and (not B % 2 == 0)"
   ]
  },
  {
   "cell_type": "markdown",
   "metadata": {
    "slideshow": {
     "slide_type": "slide"
    }
   },
   "source": [
    "## Order of Precedence\n",
    "\n",
    "There is an order of precedence for which logical operator will be evaluated (similiar to mathematical order of operations)\n",
    "\n",
    "| Operator Order (High to Low) |\n",
    "| :--------------------------: |\n",
    "| <, <=, ==, >=, > |\n",
    "| not |\n",
    "| and |\n",
    "| or |"
   ]
  },
  {
   "cell_type": "code",
   "execution_count": 13,
   "metadata": {
    "slideshow": {
     "slide_type": "subslide"
    }
   },
   "outputs": [
    {
     "ename": "SyntaxError",
     "evalue": "invalid syntax (<ipython-input-13-cc226ff734ef>, line 1)",
     "output_type": "error",
     "traceback": [
      "\u001b[0;36m  File \u001b[0;32m\"<ipython-input-13-cc226ff734ef>\"\u001b[0;36m, line \u001b[0;32m1\u001b[0m\n\u001b[0;31m    False == not True\u001b[0m\n\u001b[0m               ^\u001b[0m\n\u001b[0;31mSyntaxError\u001b[0m\u001b[0;31m:\u001b[0m invalid syntax\n"
     ]
    }
   ],
   "source": [
    "False == not True"
   ]
  },
  {
   "cell_type": "code",
   "execution_count": 14,
   "metadata": {
    "slideshow": {
     "slide_type": "-"
    }
   },
   "outputs": [
    {
     "data": {
      "text/plain": [
       "True"
      ]
     },
     "execution_count": 14,
     "metadata": {},
     "output_type": "execute_result"
    }
   ],
   "source": [
    "False == (not True)"
   ]
  },
  {
   "cell_type": "markdown",
   "metadata": {
    "slideshow": {
     "slide_type": "-"
    }
   },
   "source": [
    "To both ensure that you're evaluating the statements the way that you intend and for clarity, it's a good idea to use parenthesis to wrap your statements."
   ]
  },
  {
   "cell_type": "markdown",
   "metadata": {
    "slideshow": {
     "slide_type": "slide"
    }
   },
   "source": [
    "## Short Circuit Evaluations\n",
    "\n",
    "- Python does what's called \"short-circuit\" evaluations of logical operators.  \n",
    "- This means that it will evaluate the statement until a `True` condition is met OR it's reached the end of the statement. \n",
    "- Some operators may be skipped in the statement, which can lead to some unusual behavior."
   ]
  },
  {
   "cell_type": "code",
   "execution_count": 24,
   "metadata": {
    "slideshow": {
     "slide_type": "subslide"
    }
   },
   "outputs": [
    {
     "data": {
      "text/plain": [
       "True"
      ]
     },
     "execution_count": 24,
     "metadata": {},
     "output_type": "execute_result"
    }
   ],
   "source": [
    "# let's do a simple check, where we want to check that A is positive\n",
    "# and it's division with B is also positive\n",
    "A = 10\n",
    "B = 2\n",
    "\n",
    "A >= 0 and (A / B) > 0"
   ]
  },
  {
   "cell_type": "code",
   "execution_count": 18,
   "metadata": {},
   "outputs": [
    {
     "ename": "ZeroDivisionError",
     "evalue": "division by zero",
     "output_type": "error",
     "traceback": [
      "\u001b[0;31m---------------------------------------------------------------------------\u001b[0m",
      "\u001b[0;31mZeroDivisionError\u001b[0m                         Traceback (most recent call last)",
      "\u001b[0;32m<ipython-input-18-f25b211b58ea>\u001b[0m in \u001b[0;36m<module>\u001b[0;34m\u001b[0m\n\u001b[1;32m      2\u001b[0m \u001b[0mB\u001b[0m \u001b[0;34m=\u001b[0m \u001b[0;36m0\u001b[0m\u001b[0;34m\u001b[0m\u001b[0m\n\u001b[1;32m      3\u001b[0m \u001b[0;34m\u001b[0m\u001b[0m\n\u001b[0;32m----> 4\u001b[0;31m \u001b[0mA\u001b[0m \u001b[0;34m>=\u001b[0m \u001b[0;36m0\u001b[0m \u001b[0;32mand\u001b[0m \u001b[0;34m(\u001b[0m\u001b[0mA\u001b[0m \u001b[0;34m/\u001b[0m \u001b[0mB\u001b[0m\u001b[0;34m)\u001b[0m \u001b[0;34m>\u001b[0m \u001b[0;36m0\u001b[0m\u001b[0;34m\u001b[0m\u001b[0m\n\u001b[0m",
      "\u001b[0;31mZeroDivisionError\u001b[0m: division by zero"
     ]
    }
   ],
   "source": [
    "# But what happens when B is 0?  I would expect a ZeroDivisionError\n",
    "A = 10\n",
    "B = 0\n",
    "\n",
    "A >= 0 and (A / B) > 0"
   ]
  },
  {
   "cell_type": "code",
   "execution_count": 22,
   "metadata": {
    "slideshow": {
     "slide_type": "subslide"
    }
   },
   "outputs": [
    {
     "data": {
      "text/plain": [
       "False"
      ]
     },
     "execution_count": 22,
     "metadata": {},
     "output_type": "execute_result"
    }
   ],
   "source": [
    "# What if A is negative?  Will this break?\n",
    "A = -10\n",
    "B = 0\n",
    "\n",
    "A >= 0 and (A / B) > 0"
   ]
  },
  {
   "cell_type": "code",
   "execution_count": 23,
   "metadata": {
    "slideshow": {
     "slide_type": "-"
    }
   },
   "outputs": [
    {
     "ename": "ZeroDivisionError",
     "evalue": "division by zero",
     "output_type": "error",
     "traceback": [
      "\u001b[0;31m---------------------------------------------------------------------------\u001b[0m",
      "\u001b[0;31mZeroDivisionError\u001b[0m                         Traceback (most recent call last)",
      "\u001b[0;32m<ipython-input-23-db6a01120809>\u001b[0m in \u001b[0;36m<module>\u001b[0;34m\u001b[0m\n\u001b[0;32m----> 1\u001b[0;31m \u001b[0mA\u001b[0m \u001b[0;34m/\u001b[0m \u001b[0mB\u001b[0m\u001b[0;34m\u001b[0m\u001b[0m\n\u001b[0m",
      "\u001b[0;31mZeroDivisionError\u001b[0m: division by zero"
     ]
    }
   ],
   "source": [
    "A / B"
   ]
  },
  {
   "cell_type": "markdown",
   "metadata": {
    "slideshow": {
     "slide_type": "-"
    }
   },
   "source": [
    "`A / B` defintely causes a `ZeroDivisionError` but it's not executed in the above logical check becuase `A >= 0` is `False`"
   ]
  },
  {
   "cell_type": "markdown",
   "metadata": {
    "slideshow": {
     "slide_type": "slide"
    }
   },
   "source": [
    "## In-Class Assignments\n",
    "\n",
    "- Create a logical expression that checks if the variable `A` is positive AND the variable `B` is negative\n",
    "- Create a logical expression that checks if the variable `A` is divisibel by `2` or `3`\n",
    "- Create a logical expression that checks if the variable `A` has the string `apple` in it but does NOT equal `applesauce`"
   ]
  },
  {
   "cell_type": "markdown",
   "metadata": {
    "slideshow": {
     "slide_type": "subslide"
    }
   },
   "source": [
    "## Solutions"
   ]
  },
  {
   "cell_type": "code",
   "execution_count": 30,
   "metadata": {},
   "outputs": [
    {
     "name": "stdout",
     "output_type": "stream",
     "text": [
      "-2, -2: False\n",
      "-2, -1: False\n",
      "-2,  0: False\n",
      "-2,  1: False\n",
      "-1, -2: False\n",
      "-1, -1: False\n",
      "-1,  0: False\n",
      "-1,  1: False\n",
      " 0, -2: False\n",
      " 0, -1: False\n",
      " 0,  0: False\n",
      " 0,  1: False\n",
      " 1, -2: True\n",
      " 1, -1: True\n",
      " 1,  0: False\n",
      " 1,  1: False\n"
     ]
    }
   ],
   "source": [
    "def comparison(A, B):\n",
    "    return A > 0 and B < 0\n",
    "\n",
    "for A in range(-2, 2):\n",
    "    for B in range(-2, 2):\n",
    "        print(f'{A:2}, {B:2}: {comparison(A, B)}')"
   ]
  },
  {
   "cell_type": "code",
   "execution_count": 33,
   "metadata": {},
   "outputs": [
    {
     "name": "stdout",
     "output_type": "stream",
     "text": [
      "1: False\n",
      "2: True\n",
      "3: True\n",
      "4: True\n",
      "5: False\n",
      "6: True\n",
      "7: False\n",
      "8: True\n",
      "9: True\n",
      "10: True\n"
     ]
    }
   ],
   "source": [
    "def comparison(A):\n",
    "    return A % 2 == 0 or A % 3 == 0\n",
    "\n",
    "for A in range(1, 11):\n",
    "    print(f'{A}: {comparison(A)}')"
   ]
  },
  {
   "cell_type": "code",
   "execution_count": 35,
   "metadata": {},
   "outputs": [
    {
     "name": "stdout",
     "output_type": "stream",
     "text": [
      "apple           : True\n",
      "apple strudel   : True\n",
      "applesauce      : False\n"
     ]
    }
   ],
   "source": [
    "def comparison(A):\n",
    "    return 'apple' in A and A != 'applesauce'\n",
    "\n",
    "tests = ['apple', 'apple strudel', 'applesauce']\n",
    "for test in tests:\n",
    "    print(f'{test:16}: {comparison(test)}')"
   ]
  }
 ],
 "metadata": {
  "celltoolbar": "Slideshow",
  "kernelspec": {
   "display_name": "Python 3",
   "language": "python",
   "name": "python3"
  },
  "language_info": {
   "codemirror_mode": {
    "name": "ipython",
    "version": 3
   },
   "file_extension": ".py",
   "mimetype": "text/x-python",
   "name": "python",
   "nbconvert_exporter": "python",
   "pygments_lexer": "ipython3",
   "version": "3.6.6"
  }
 },
 "nbformat": 4,
 "nbformat_minor": 4
}
