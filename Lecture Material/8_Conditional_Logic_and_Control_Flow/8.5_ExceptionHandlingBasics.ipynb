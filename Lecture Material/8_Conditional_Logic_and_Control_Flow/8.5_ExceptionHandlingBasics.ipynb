{
 "cells": [
  {
   "cell_type": "markdown",
   "metadata": {
    "slideshow": {
     "slide_type": "slide"
    }
   },
   "source": [
    "# Exception Handling Basics\n",
    "\n",
    "There's one more way that you can control the flow of code and that's with exception handling. Exception handling is the process of \"catching\" an error that would otherwise halt execution of your code. This allows you to potentially recover from a somewhat fatal situation.\n",
    "\n",
    "Exception handling is a powerful tool, but sometimes can be overused or used improperly.  Rememeber these simple rules when doing exception handling:\n",
    "\n",
    "- Only catch exception you can gracefully recover from.\n",
    "- It's ok to have exception in your code, they're meant to be there for situations that you didn't account for.\n",
    "- Don't try to account for every exception possible.\n",
    "- If you have to catch all execption (for example in an always running script) log the exception.\n",
    "- Keep your `try` blocks as small as possible."
   ]
  },
  {
   "cell_type": "markdown",
   "metadata": {
    "slideshow": {
     "slide_type": "slide"
    }
   },
   "source": [
    "## Types of Errors\n",
    "\n",
    "- A full list of default errors can be found in the [official Python documentation](https://docs.python.org/3.8/library/exceptions.html).\n",
    "- Some common one are:\n",
    "    - **`ValueError`:** An operation encounters an invalid value.\n",
    "    - **`TypeError`:** An operation is performed on a value of the wrong type.\n",
    "    - **`NameError`:** A variable name was used that hasn't been defined.\n",
    "    - **`ZeroDivisionError`:** The divisor in a division operation is 0.\n",
    "    - **`OverflowError`:** The result of an arithmetic operation is too large."
   ]
  },
  {
   "cell_type": "markdown",
   "metadata": {
    "slideshow": {
     "slide_type": "slide"
    }
   },
   "source": [
    "## Catching Exceptions Using `try`/`except` Statements\n",
    "\n",
    "To \"catch\" an exception, you use the `try` and `except` statements:\n",
    "\n",
    "- **`try`:** Try the the following indented code.\n",
    "- **`except`:** if an exception is raised in the `try` blokc, run the following indented code."
   ]
  },
  {
   "cell_type": "code",
   "execution_count": 1,
   "metadata": {
    "slideshow": {
     "slide_type": "subslide"
    }
   },
   "outputs": [
    {
     "name": "stdout",
     "output_type": "stream",
     "text": [
      "Please enter a number: meh\n",
      "That is not an integer!\n",
      "Please enter a number: test\n",
      "That is not an integer!\n",
      "Please enter a number: 12\n",
      "12\n"
     ]
    }
   ],
   "source": [
    "# Let's try a small example where we want to make sure\n",
    "# we get an integer value from the user\n",
    "num_is_valid = False\n",
    "\n",
    "while not num_is_valid:\n",
    "    number_str = input(\"Please enter a number: \")\n",
    "\n",
    "    try: \n",
    "        number = int(number_str)\n",
    "        num_is_valid = True\n",
    "    except ValueError:\n",
    "        print(\"That is not an integer!\")\n",
    "        \n",
    "print(number)"
   ]
  },
  {
   "cell_type": "code",
   "execution_count": 2,
   "metadata": {
    "slideshow": {
     "slide_type": "subslide"
    }
   },
   "outputs": [
    {
     "name": "stdout",
     "output_type": "stream",
     "text": [
      "A and B must be numbers!\n",
      "B cannot be 0\n",
      "5.0\n"
     ]
    }
   ],
   "source": [
    "# you can also chain exceptions\n",
    "def safe_division(A, B):\n",
    "    try:\n",
    "        print(A / B)\n",
    "    except TypeError:\n",
    "        print(\"A and B must be numbers!\")\n",
    "    except ZeroDivisionError:\n",
    "        print(\"B cannot be 0\")\n",
    "        \n",
    "safe_division(10, '5')\n",
    "safe_division(10, 0)\n",
    "safe_division(10, 2)"
   ]
  },
  {
   "cell_type": "markdown",
   "metadata": {
    "slideshow": {
     "slide_type": "slide"
    }
   },
   "source": [
    "## In-Class Assignment\n",
    "\n",
    "- Write a program that prompts the user to enter in a float and continues to do so until they do.  If the user enters an invalid value, use the `ValueError` to print out to the user \"Try Again\".\n",
    "- Write a program that prompts the user to enter in a string and then an integer.  Using the integer, display the value of the character that the number indexes into for the passed in string.  Some off-nominal use cases to consider are:\n",
    "    - Invalid integer entry\n",
    "    - An index value that's outside the scope of the string\n",
    "    - You may need to look at the Python documentation to find the correct Errors to catch"
   ]
  },
  {
   "cell_type": "markdown",
   "metadata": {
    "slideshow": {
     "slide_type": "slide"
    }
   },
   "source": [
    "## Solution"
   ]
  },
  {
   "cell_type": "code",
   "execution_count": 3,
   "metadata": {
    "slideshow": {
     "slide_type": "subslide"
    }
   },
   "outputs": [
    {
     "name": "stdout",
     "output_type": "stream",
     "text": [
      "Please enter a valid float: test\n",
      "Try Again\n",
      "Please enter a valid float: meh\n",
      "Try Again\n",
      "Please enter a valid float: 12.3\n",
      "Your value was: 12.3\n"
     ]
    }
   ],
   "source": [
    "while True:\n",
    "    prompt = input(\"Please enter a valid float: \")\n",
    "    try:\n",
    "        val = float(prompt)\n",
    "        print(f'Your value was: {val}')\n",
    "        break\n",
    "    except ValueError:\n",
    "        print('Try Again')"
   ]
  },
  {
   "cell_type": "code",
   "execution_count": 4,
   "metadata": {
    "slideshow": {
     "slide_type": "subslide"
    }
   },
   "outputs": [
    {
     "name": "stdout",
     "output_type": "stream",
     "text": [
      "Please enter a string: KronosKoderS\n",
      "Please enter the location of the character to display: meh\n",
      "Not an Integer!\n",
      "Please enter the location of the character to display: 100\n",
      "location is invalid!\n",
      "Please enter the location of the character to display: 3\n",
      "n\n"
     ]
    }
   ],
   "source": [
    "user_str = input(\"Please enter a string: \")\n",
    "\n",
    "while True:\n",
    "    user_num = input(\"Please enter the location of the character to display: \")\n",
    "    try:\n",
    "        num = int(user_num)\n",
    "        print(user_str[num])\n",
    "        break\n",
    "    except ValueError:\n",
    "        print('Not an Integer!')\n",
    "    except IndexError:\n",
    "        print('location is invalid!')"
   ]
  },
  {
   "cell_type": "code",
   "execution_count": null,
   "metadata": {},
   "outputs": [],
   "source": []
  }
 ],
 "metadata": {
  "celltoolbar": "Slideshow",
  "kernelspec": {
   "display_name": "Python 3",
   "language": "python",
   "name": "python3"
  },
  "language_info": {
   "codemirror_mode": {
    "name": "ipython",
    "version": 3
   },
   "file_extension": ".py",
   "mimetype": "text/x-python",
   "name": "python",
   "nbconvert_exporter": "python",
   "pygments_lexer": "ipython3",
   "version": "3.6.6"
  }
 },
 "nbformat": 4,
 "nbformat_minor": 4
}
