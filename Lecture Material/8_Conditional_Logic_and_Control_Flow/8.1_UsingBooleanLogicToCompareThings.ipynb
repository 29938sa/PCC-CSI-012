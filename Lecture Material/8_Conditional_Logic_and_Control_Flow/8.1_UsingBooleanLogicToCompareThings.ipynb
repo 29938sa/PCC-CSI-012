{
 "cells": [
  {
   "cell_type": "markdown",
   "metadata": {
    "slideshow": {
     "slide_type": "slide"
    }
   },
   "source": [
    "# Using Boolean Logic to Compare Things\n",
    "\n",
    "- Boolean logic basically all comes down to whether something is True or False\n",
    "- **Conditional Statement:** a statement that evaluates to either `True` or `False`\n",
    "- We use conditional statements in our everyday life:\n",
    "    - If you drive over the speed limit you may get a ticket\n",
    "    - If there is toilet paper in the store, buy some\n",
    "    - If you do your homework AND study then you will do well in the class\n",
    "- **Comparison Operator:** operators that compare values to evaluate to `True` or `False`"
   ]
  },
  {
   "cell_type": "markdown",
   "metadata": {
    "slideshow": {
     "slide_type": "slide"
    }
   },
   "source": [
    "## The `bool` type\n",
    "\n",
    "Python has a type called `bool` that is used to represent a boolean type.  "
   ]
  },
  {
   "cell_type": "code",
   "execution_count": 23,
   "metadata": {
    "slideshow": {
     "slide_type": "-"
    }
   },
   "outputs": [
    {
     "data": {
      "text/plain": [
       "bool"
      ]
     },
     "execution_count": 23,
     "metadata": {},
     "output_type": "execute_result"
    }
   ],
   "source": [
    "type(True)"
   ]
  },
  {
   "cell_type": "code",
   "execution_count": 24,
   "metadata": {
    "slideshow": {
     "slide_type": "-"
    }
   },
   "outputs": [
    {
     "data": {
      "text/plain": [
       "bool"
      ]
     },
     "execution_count": 24,
     "metadata": {},
     "output_type": "execute_result"
    }
   ],
   "source": [
    "type(False)"
   ]
  },
  {
   "cell_type": "markdown",
   "metadata": {
    "slideshow": {
     "slide_type": "-"
    }
   },
   "source": [
    "Comparison operators will return a `bool` type with a value of either `True` or `False`."
   ]
  },
  {
   "cell_type": "markdown",
   "metadata": {
    "slideshow": {
     "slide_type": "subslide"
    }
   },
   "source": [
    "### you can use `bool()` to convert another type into a `bool` type\n"
   ]
  },
  {
   "cell_type": "code",
   "execution_count": 26,
   "metadata": {
    "slideshow": {
     "slide_type": "-"
    }
   },
   "outputs": [
    {
     "name": "stdout",
     "output_type": "stream",
     "text": [
      "True\n",
      "True\n",
      "False\n",
      "True\n",
      "True\n",
      "False\n"
     ]
    }
   ],
   "source": [
    "print(bool(10))\n",
    "print(bool(-1))\n",
    "print(bool(0))\n",
    "print(bool('False'))\n",
    "print(bool('True'))\n",
    "print(bool(''))"
   ]
  },
  {
   "cell_type": "markdown",
   "metadata": {
    "slideshow": {
     "slide_type": "-"
    }
   },
   "source": [
    "The last one three might be a bit confusing, but any string will evaluate to `True` no matter the contents but an empty string will evaluate to `False`"
   ]
  },
  {
   "cell_type": "markdown",
   "metadata": {
    "slideshow": {
     "slide_type": "slide"
    }
   },
   "source": [
    "## Comparison Operators\n",
    "\n",
    "| Comparison Operator | Example | Meaning |\n",
    "| :-----------------: | ------- | ------- |\n",
    "| `>`                 | `A > B` | is `A` greater than `B` |\n",
    "| `<`                 | `A < B` | is `A` less than `B` |\n",
    "| `>=`                | `A >= B`| is `A` greater than or equal to `B` |\n",
    "| `<=`                | `A <= B`| is `A` less than or equal to `B` |\n",
    "| `==`                | `A == B`| is `A` equal to `B` |\n",
    "| `!=`                | `A != B`| is `A` not equal to `B` |"
   ]
  },
  {
   "cell_type": "markdown",
   "metadata": {
    "slideshow": {
     "slide_type": "slide"
    }
   },
   "source": [
    "## Some Examples\n",
    "\n",
    "Here are some examples of how comparison operators evaluate different values.  To do this, let's create a function that will print out all combinations of comparisons for variables `A` and `B`."
   ]
  },
  {
   "cell_type": "code",
   "execution_count": 1,
   "metadata": {
    "slideshow": {
     "slide_type": "-"
    }
   },
   "outputs": [],
   "source": [
    "def print_comparisons(A, B):\n",
    "    print(f'{A} >  {B}: {A > B}')\n",
    "    print(f'{A} <  {B}: {A < B}')\n",
    "    print(f'{A} >= {B}: {A >= B}')\n",
    "    print(f'{A} <= {B}: {A <= B}')\n",
    "    print(f'{A} == {B}: {A == B}')\n",
    "    print(f'{A} != {B}: {A != B}')"
   ]
  },
  {
   "cell_type": "code",
   "execution_count": 2,
   "metadata": {
    "slideshow": {
     "slide_type": "subslide"
    }
   },
   "outputs": [
    {
     "name": "stdout",
     "output_type": "stream",
     "text": [
      "10 >  5: True\n",
      "10 <  5: False\n",
      "10 >= 5: True\n",
      "10 <= 5: False\n",
      "10 == 5: False\n",
      "10 != 5: True\n"
     ]
    }
   ],
   "source": [
    "# Comparing two numbers, where A is greater than B\n",
    "A = 10\n",
    "B = 5\n",
    "print_comparisons(A, B)"
   ]
  },
  {
   "cell_type": "code",
   "execution_count": 3,
   "metadata": {
    "slideshow": {
     "slide_type": "subslide"
    }
   },
   "outputs": [
    {
     "name": "stdout",
     "output_type": "stream",
     "text": [
      "5 >  10: False\n",
      "5 <  10: True\n",
      "5 >= 10: False\n",
      "5 <= 10: True\n",
      "5 == 10: False\n",
      "5 != 10: True\n"
     ]
    }
   ],
   "source": [
    "# Comparing two numbers, where A is less than B\n",
    "A = 5\n",
    "B = 10\n",
    "print_comparisons(A, B)"
   ]
  },
  {
   "cell_type": "code",
   "execution_count": 4,
   "metadata": {
    "slideshow": {
     "slide_type": "subslide"
    }
   },
   "outputs": [
    {
     "name": "stdout",
     "output_type": "stream",
     "text": [
      "10 >  10: False\n",
      "10 <  10: False\n",
      "10 >= 10: True\n",
      "10 <= 10: True\n",
      "10 == 10: True\n",
      "10 != 10: False\n"
     ]
    }
   ],
   "source": [
    "# Comparing two numbers, where A is the same as B\n",
    "A = 10\n",
    "B = 10\n",
    "print_comparisons(A, B)"
   ]
  },
  {
   "cell_type": "code",
   "execution_count": 5,
   "metadata": {
    "slideshow": {
     "slide_type": "subslide"
    }
   },
   "outputs": [
    {
     "name": "stdout",
     "output_type": "stream",
     "text": [
      "a >  b: False\n",
      "a <  b: True\n",
      "a >= b: False\n",
      "a <= b: True\n",
      "a == b: False\n",
      "a != b: True\n"
     ]
    }
   ],
   "source": [
    "# What happens when we compare characters?\n",
    "A = 'a'\n",
    "B = 'b'\n",
    "print_comparisons(A, B)"
   ]
  },
  {
   "cell_type": "markdown",
   "metadata": {
    "slideshow": {
     "slide_type": "subslide"
    }
   },
   "source": [
    "How does this work?  Well characters can be compared by looking up the value of what that character is.  Remember that everything to a computer has to translate to one's and zero's.  This means that every character has a numerical value to it.  We can find that value using `ord()`."
   ]
  },
  {
   "cell_type": "code",
   "execution_count": 6,
   "metadata": {
    "slideshow": {
     "slide_type": "-"
    }
   },
   "outputs": [
    {
     "data": {
      "text/plain": [
       "97"
      ]
     },
     "execution_count": 6,
     "metadata": {},
     "output_type": "execute_result"
    }
   ],
   "source": [
    "ord('a')"
   ]
  },
  {
   "cell_type": "code",
   "execution_count": 7,
   "metadata": {
    "slideshow": {
     "slide_type": "-"
    }
   },
   "outputs": [
    {
     "data": {
      "text/plain": [
       "98"
      ]
     },
     "execution_count": 7,
     "metadata": {},
     "output_type": "execute_result"
    }
   ],
   "source": [
    "ord('b')"
   ]
  },
  {
   "cell_type": "code",
   "execution_count": 8,
   "metadata": {
    "slideshow": {
     "slide_type": "subslide"
    }
   },
   "outputs": [
    {
     "name": "stdout",
     "output_type": "stream",
     "text": [
      "apples >  appricots: False\n",
      "apples <  appricots: True\n",
      "apples >= appricots: False\n",
      "apples <= appricots: True\n",
      "apples == appricots: False\n",
      "apples != appricots: True\n"
     ]
    }
   ],
   "source": [
    "# what about strings (a collection of characters)?\n",
    "A = 'apples'\n",
    "B = 'appricots'\n",
    "print_comparisons(A, B)"
   ]
  },
  {
   "cell_type": "markdown",
   "metadata": {
    "slideshow": {
     "slide_type": "-"
    }
   },
   "source": [
    "So what's happening here?"
   ]
  },
  {
   "cell_type": "markdown",
   "metadata": {
    "slideshow": {
     "slide_type": "subslide"
    }
   },
   "source": [
    "### Comparing Strings is done by iterating over the string characters and comparing their values"
   ]
  },
  {
   "cell_type": "code",
   "execution_count": 9,
   "metadata": {
    "slideshow": {
     "slide_type": "-"
    }
   },
   "outputs": [
    {
     "name": "stdout",
     "output_type": "stream",
     "text": [
      "A ord : B ord\n",
      "97    : 97\n",
      "112   : 112\n",
      "112   : 112\n",
      "108   : 114\n",
      "101   : 105\n",
      "115   : 99\n"
     ]
    }
   ],
   "source": [
    "A = 'apples'\n",
    "B = 'appricots'\n",
    "\n",
    "print('A ord : B ord')\n",
    "\n",
    "for a_char, b_char in zip(A, B):\n",
    "    print(f'{ord(a_char):<6}: {ord(b_char):>}')"
   ]
  },
  {
   "cell_type": "code",
   "execution_count": 10,
   "metadata": {
    "slideshow": {
     "slide_type": "subslide"
    }
   },
   "outputs": [
    {
     "name": "stdout",
     "output_type": "stream",
     "text": [
      "apples >  applesauce: False\n",
      "apples <  applesauce: True\n",
      "apples >= applesauce: False\n",
      "apples <= applesauce: True\n",
      "apples == applesauce: False\n",
      "apples != applesauce: True\n"
     ]
    }
   ],
   "source": [
    "# what if we compare two strings which are identical at first\n",
    "# but then the second string continues\n",
    "A = 'apples'\n",
    "B = 'applesauce'\n",
    "print_comparisons(A, B)"
   ]
  },
  {
   "cell_type": "markdown",
   "metadata": {
    "slideshow": {
     "slide_type": "slide"
    }
   },
   "source": [
    "## In-Class Assignments\n",
    "\n",
    "For the following conditons, determine whether they will evaluate to `True` or `False`\n",
    "\n",
    "- `3 <= 3`\n",
    "- `1 != 3`\n",
    "- `5 != 5`\n",
    "- `\"apples\" > \"appricots\"`\n",
    "- `\"apples\" == \"Apples\"`\n",
    "- `386 == '386'`"
   ]
  },
  {
   "cell_type": "markdown",
   "metadata": {
    "slideshow": {
     "slide_type": "subslide"
    }
   },
   "source": [
    "For each of the following conditions, fill in the blank to complete the expresson so that it will evaluate to `True`:\n",
    "\n",
    "- `10 __ 3`\n",
    "- `5 __ 9`\n",
    "- `5.5 __ 5.9`\n",
    "- `\"apples\" __ \"applesauce\"`\n",
    "- `117 __ '117'`"
   ]
  },
  {
   "cell_type": "markdown",
   "metadata": {
    "slideshow": {
     "slide_type": "slide"
    }
   },
   "source": [
    "## Solutions"
   ]
  },
  {
   "cell_type": "code",
   "execution_count": 11,
   "metadata": {
    "slideshow": {
     "slide_type": "-"
    }
   },
   "outputs": [
    {
     "data": {
      "text/plain": [
       "True"
      ]
     },
     "execution_count": 11,
     "metadata": {},
     "output_type": "execute_result"
    }
   ],
   "source": [
    "3 <= 3"
   ]
  },
  {
   "cell_type": "code",
   "execution_count": 12,
   "metadata": {
    "slideshow": {
     "slide_type": "-"
    }
   },
   "outputs": [
    {
     "data": {
      "text/plain": [
       "True"
      ]
     },
     "execution_count": 12,
     "metadata": {},
     "output_type": "execute_result"
    }
   ],
   "source": [
    "1 != 3"
   ]
  },
  {
   "cell_type": "code",
   "execution_count": 13,
   "metadata": {
    "slideshow": {
     "slide_type": "-"
    }
   },
   "outputs": [
    {
     "data": {
      "text/plain": [
       "False"
      ]
     },
     "execution_count": 13,
     "metadata": {},
     "output_type": "execute_result"
    }
   ],
   "source": [
    "5 != 5"
   ]
  },
  {
   "cell_type": "code",
   "execution_count": 14,
   "metadata": {
    "slideshow": {
     "slide_type": "subslide"
    }
   },
   "outputs": [
    {
     "data": {
      "text/plain": [
       "False"
      ]
     },
     "execution_count": 14,
     "metadata": {},
     "output_type": "execute_result"
    }
   ],
   "source": [
    "\"apples\" > \"appricots\""
   ]
  },
  {
   "cell_type": "code",
   "execution_count": 15,
   "metadata": {
    "slideshow": {
     "slide_type": "-"
    }
   },
   "outputs": [
    {
     "data": {
      "text/plain": [
       "False"
      ]
     },
     "execution_count": 15,
     "metadata": {},
     "output_type": "execute_result"
    }
   ],
   "source": [
    "\"apples\" == \"Apples\""
   ]
  },
  {
   "cell_type": "code",
   "execution_count": 16,
   "metadata": {
    "slideshow": {
     "slide_type": "-"
    }
   },
   "outputs": [
    {
     "data": {
      "text/plain": [
       "False"
      ]
     },
     "execution_count": 16,
     "metadata": {},
     "output_type": "execute_result"
    }
   ],
   "source": [
    "386 == '386'"
   ]
  },
  {
   "cell_type": "code",
   "execution_count": 17,
   "metadata": {
    "slideshow": {
     "slide_type": "subslide"
    }
   },
   "outputs": [
    {
     "data": {
      "text/plain": [
       "True"
      ]
     },
     "execution_count": 17,
     "metadata": {},
     "output_type": "execute_result"
    }
   ],
   "source": [
    "10 > 3"
   ]
  },
  {
   "cell_type": "code",
   "execution_count": 18,
   "metadata": {
    "slideshow": {
     "slide_type": "-"
    }
   },
   "outputs": [
    {
     "data": {
      "text/plain": [
       "True"
      ]
     },
     "execution_count": 18,
     "metadata": {},
     "output_type": "execute_result"
    }
   ],
   "source": [
    "5 < 9"
   ]
  },
  {
   "cell_type": "code",
   "execution_count": 19,
   "metadata": {
    "slideshow": {
     "slide_type": "-"
    }
   },
   "outputs": [
    {
     "data": {
      "text/plain": [
       "True"
      ]
     },
     "execution_count": 19,
     "metadata": {},
     "output_type": "execute_result"
    }
   ],
   "source": [
    "5.5 < 5.9"
   ]
  },
  {
   "cell_type": "code",
   "execution_count": 20,
   "metadata": {
    "slideshow": {
     "slide_type": "subslide"
    }
   },
   "outputs": [
    {
     "data": {
      "text/plain": [
       "True"
      ]
     },
     "execution_count": 20,
     "metadata": {},
     "output_type": "execute_result"
    }
   ],
   "source": [
    "\"apples\" != \"applesauce\""
   ]
  },
  {
   "cell_type": "code",
   "execution_count": 21,
   "metadata": {
    "slideshow": {
     "slide_type": "-"
    }
   },
   "outputs": [
    {
     "data": {
      "text/plain": [
       "True"
      ]
     },
     "execution_count": 21,
     "metadata": {},
     "output_type": "execute_result"
    }
   ],
   "source": [
    "\"apples\" < \"applesauce\""
   ]
  },
  {
   "cell_type": "code",
   "execution_count": 22,
   "metadata": {
    "slideshow": {
     "slide_type": "-"
    }
   },
   "outputs": [
    {
     "data": {
      "text/plain": [
       "True"
      ]
     },
     "execution_count": 22,
     "metadata": {},
     "output_type": "execute_result"
    }
   ],
   "source": [
    "117 != '117'"
   ]
  }
 ],
 "metadata": {
  "celltoolbar": "Slideshow",
  "kernelspec": {
   "display_name": "Python 3",
   "language": "python",
   "name": "python3"
  },
  "language_info": {
   "codemirror_mode": {
    "name": "ipython",
    "version": 3
   },
   "file_extension": ".py",
   "mimetype": "text/x-python",
   "name": "python",
   "nbconvert_exporter": "python",
   "pygments_lexer": "ipython3",
   "version": "3.6.6"
  }
 },
 "nbformat": 4,
 "nbformat_minor": 4
}
