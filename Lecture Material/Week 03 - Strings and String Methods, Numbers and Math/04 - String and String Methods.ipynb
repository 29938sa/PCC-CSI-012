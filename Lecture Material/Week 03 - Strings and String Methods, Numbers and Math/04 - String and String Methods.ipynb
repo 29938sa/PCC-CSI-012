{
 "cells": [
  {
   "cell_type": "code",
   "execution_count": 61,
   "metadata": {
    "slideshow": {
     "slide_type": "skip"
    }
   },
   "outputs": [],
   "source": [
    "def print_str(string, loc=-1):\n",
    "    \"\"\"This is a function to print out a string associated with it's\n",
    "    index location\"\"\"\n",
    "    header = ''.join([f'| {i:02}  ' for i in range(len(string))])\n",
    "    body = ''.join([f'|  {c}  ' for c in string])\n",
    "    footer = ''.join(['| ^^  ' if i==loc else '|     ' for i in range(len(string))])\n",
    "    print(header)\n",
    "    print(body)\n",
    "    print(footer)"
   ]
  },
  {
   "cell_type": "markdown",
   "metadata": {
    "slideshow": {
     "slide_type": "slide"
    }
   },
   "source": [
    "# String and String Methods\n",
    "\n",
    "![](static/python_strings.png)\n"
   ]
  },
  {
   "cell_type": "markdown",
   "metadata": {
    "slideshow": {
     "slide_type": "slide"
    }
   },
   "source": [
    "## What you'll learn in today's lesson (learning goals)\n",
    "\n",
    "1. What is the string data type.\n",
    "1. String properties.\n",
    "1. Immutable data types.\n",
    "1. How you create a string.\n",
    "1. Common special characters.\n",
    "1. String templates.\n",
    "1. f strings\n",
    "1. Common string \"gotchas\""
   ]
  },
  {
   "cell_type": "markdown",
   "metadata": {
    "slideshow": {
     "slide_type": "slide"
    }
   },
   "source": [
    "## What is the String Data Type?"
   ]
  },
  {
   "cell_type": "markdown",
   "metadata": {
    "slideshow": {
     "slide_type": "subslide"
    }
   },
   "source": [
    "- A fundamental Python data type\n",
    "    - Cannot be broken into smaller values of different type\n",
    "- Abbreviated to `str` in Python:"
   ]
  },
  {
   "cell_type": "code",
   "execution_count": 1,
   "metadata": {},
   "outputs": [
    {
     "name": "stdout",
     "output_type": "stream",
     "text": [
      "<class 'str'>\n"
     ]
    }
   ],
   "source": [
    "print(type(\"Hello There\"))"
   ]
  },
  {
   "cell_type": "markdown",
   "metadata": {},
   "source": [
    "![](https://media.giphy.com/media/xTiIzJSKB4l7xTouE8/giphy.gif)"
   ]
  },
  {
   "cell_type": "markdown",
   "metadata": {
    "slideshow": {
     "slide_type": "subslide"
    }
   },
   "source": [
    "- Have a length to them."
   ]
  },
  {
   "cell_type": "code",
   "execution_count": 2,
   "metadata": {},
   "outputs": [
    {
     "data": {
      "text/plain": [
       "11"
      ]
     },
     "execution_count": 2,
     "metadata": {},
     "output_type": "execute_result"
    }
   ],
   "source": [
    "len(\"Hello There\")"
   ]
  },
  {
   "cell_type": "code",
   "execution_count": 3,
   "metadata": {},
   "outputs": [
    {
     "data": {
      "text/plain": [
       "11"
      ]
     },
     "execution_count": 3,
     "metadata": {},
     "output_type": "execute_result"
    }
   ],
   "source": [
    "# Variables that reference a string can be passed into `len` as well:\n",
    "hello = 'Hello There'\n",
    "len(hello)"
   ]
  },
  {
   "cell_type": "markdown",
   "metadata": {
    "slideshow": {
     "slide_type": "subslide"
    }
   },
   "source": [
    "- Contains **characters**: individual letters or symbols.\n",
    "- Characters in a string appear sequentially (they have a specific order to them).\n",
    "    - Character mappings such as [ASCII](https://en.wikipedia.org/wiki/ASCII) and [Unicode](https://en.wikipedia.org/wiki/Unicode) are used to specify what character value translates to a human readable letter, symbol, or command."
   ]
  },
  {
   "cell_type": "code",
   "execution_count": 67,
   "metadata": {},
   "outputs": [
    {
     "name": "stdout",
     "output_type": "stream",
     "text": [
      "\"hello there\"\n",
      "\n",
      "00 -> \"h\"\n",
      "01 -> \"e\"\n",
      "02 -> \"l\"\n",
      "03 -> \"l\"\n",
      "04 -> \"o\"\n",
      "05 -> \" \"\n",
      "06 -> \"t\"\n",
      "07 -> \"h\"\n",
      "08 -> \"e\"\n",
      "09 -> \"r\"\n",
      "10 -> \"e\"\n"
     ]
    }
   ],
   "source": [
    "hello = 'hello there'\n",
    "print(f'\"{hello}\"\\n')\n",
    "\n",
    "# this will print out in a nice way each character of the\n",
    "# string and it's associated index\n",
    "for index, char in enumerate(hello):\n",
    "    print(f'{index:02} -> \"{char}\"')"
   ]
  },
  {
   "cell_type": "markdown",
   "metadata": {
    "slideshow": {
     "slide_type": "subslide"
    }
   },
   "source": [
    "### Creating Strings in Python\n",
    "\n",
    "- **String Literals:** strings that are directly written within your Python code.\n",
    "- Created using various quotation **delimiters** (a sequence of one or more characters specifying a boundary)"
   ]
  },
  {
   "cell_type": "code",
   "execution_count": 5,
   "metadata": {},
   "outputs": [],
   "source": [
    "single_quote = 'Did you ever hear the tradegy of Darth Plageius the Wise?'\n",
    "\n",
    "double_quote = \"I thought not.  It's not a story the Jedi would tell you.\"\n"
   ]
  },
  {
   "cell_type": "code",
   "execution_count": 6,
   "metadata": {
    "slideshow": {
     "slide_type": "subslide"
    }
   },
   "outputs": [],
   "source": [
    "# Once a string delimeter is first seen, other delimeters can be used: \n",
    "\n",
    "vader_quote = '\"I find your lack of faith disturbing.\" — Darth Vader'"
   ]
  },
  {
   "cell_type": "code",
   "execution_count": 7,
   "metadata": {},
   "outputs": [
    {
     "ename": "SyntaxError",
     "evalue": "invalid syntax (<ipython-input-7-27018a635873>, line 2)",
     "output_type": "error",
     "traceback": [
      "\u001b[0;36m  File \u001b[0;32m\"<ipython-input-7-27018a635873>\"\u001b[0;36m, line \u001b[0;32m2\u001b[0m\n\u001b[0;31m    luke_quote = 'I'll never turn to the dark side.'\u001b[0m\n\u001b[0m                     ^\u001b[0m\n\u001b[0;31mSyntaxError\u001b[0m\u001b[0;31m:\u001b[0m invalid syntax\n"
     ]
    }
   ],
   "source": [
    "# But the same delimeter assumes termination of the string:\n",
    "luke_quote = 'I'll never turn to the dark side.'"
   ]
  },
  {
   "cell_type": "markdown",
   "metadata": {
    "slideshow": {
     "slide_type": "subslide"
    }
   },
   "source": [
    "### Multi-Lined Strings"
   ]
  },
  {
   "cell_type": "code",
   "execution_count": null,
   "metadata": {},
   "outputs": [],
   "source": [
    "# you can also use triple single or double quotes to creat a string:\n",
    "triple_single_quote = '''The dark side of the Force is a pathway to many abilities some consider to be unnatural.'''\n",
    "\n",
    "triple_double_quote = \"\"\"The dark side of the Force is a pathway to many abilities some consider to be unnatural.\"\"\""
   ]
  },
  {
   "cell_type": "code",
   "execution_count": null,
   "metadata": {
    "slideshow": {
     "slide_type": "subslide"
    }
   },
   "outputs": [],
   "source": [
    "# Triple quotes can span multiple lines but the newlines\n",
    "# are rendered\n",
    "long_string = \"\"\"The dark side of the Force is a pathway \n",
    "to many abilities some consider to be unnatural.\n",
    "\"\"\"\n",
    "print(long_string)"
   ]
  },
  {
   "cell_type": "code",
   "execution_count": 8,
   "metadata": {
    "slideshow": {
     "slide_type": "subslide"
    }
   },
   "outputs": [
    {
     "name": "stdout",
     "output_type": "stream",
     "text": [
      "The dark side of the Force is a pathway \n",
      "    to many abilities some consider to be unnatural.\n",
      "\n"
     ]
    }
   ],
   "source": [
    "# white spaced is preserved when using triple quotes\n",
    "print(\"\"\"The dark side of the Force is a pathway \n",
    "    to many abilities some consider to be unnatural.\n",
    "\"\"\")"
   ]
  },
  {
   "cell_type": "code",
   "execution_count": 9,
   "metadata": {
    "slideshow": {
     "slide_type": "subslide"
    }
   },
   "outputs": [
    {
     "name": "stdout",
     "output_type": "stream",
     "text": [
      "The dark side of the Force is a pathway to many abilities some consider to be unnatural.\n"
     ]
    }
   ],
   "source": [
    "# If you have a really long string, but don't want newlines the use the\n",
    "# backslash \\\n",
    "print(\"The dark side of the Force is a pathway \\\n",
    "to many abilities some consider to be unnatural.\")"
   ]
  },
  {
   "cell_type": "markdown",
   "metadata": {
    "slideshow": {
     "slide_type": "subslide"
    }
   },
   "source": [
    "### In-Class Exercises:\n",
    "\n",
    "- Print a string that uses double quotation marks **inside** the string.\n",
    "- Print a string that uses an apostrophe **inside** the string.\n",
    "- Print a string that spans multiple lines, with white space preserved.\n",
    "- Print a string that is coded on multiple lines but displays on a single line."
   ]
  },
  {
   "cell_type": "markdown",
   "metadata": {
    "slideshow": {
     "slide_type": "slide"
    }
   },
   "source": [
    "## Working with Strings"
   ]
  },
  {
   "cell_type": "markdown",
   "metadata": {
    "slideshow": {
     "slide_type": "subslide"
    }
   },
   "source": [
    "### Concatenation"
   ]
  },
  {
   "cell_type": "code",
   "execution_count": 10,
   "metadata": {
    "slideshow": {
     "slide_type": "-"
    }
   },
   "outputs": [
    {
     "name": "stdout",
     "output_type": "stream",
     "text": [
      "I love you.I know.\n"
     ]
    }
   ],
   "source": [
    "# You can combine multiple lines together using the + operator\n",
    "leia = \"I love you.\"\n",
    "han = \"I know.\"\n",
    "print(leia + han)"
   ]
  },
  {
   "cell_type": "code",
   "execution_count": 11,
   "metadata": {
    "slideshow": {
     "slide_type": "fragment"
    }
   },
   "outputs": [
    {
     "name": "stdout",
     "output_type": "stream",
     "text": [
      "I love you. I know.\n"
     ]
    }
   ],
   "source": [
    "# the above looks a bit weird, because when concatenating strings\n",
    "# nothing else is added, so we have to manually add a space to it\n",
    "print(leia + ' ' + han)"
   ]
  },
  {
   "cell_type": "markdown",
   "metadata": {
    "slideshow": {
     "slide_type": "-"
    }
   },
   "source": [
    "![](https://media.giphy.com/media/e6e1P3wC6xkYg/giphy.gif)"
   ]
  },
  {
   "cell_type": "markdown",
   "metadata": {
    "slideshow": {
     "slide_type": "subslide"
    }
   },
   "source": [
    "### Indexing & Slicing\n",
    "\n",
    "- strings are sequences which means that they can be indexed and sliced\n",
    "- **string index:** the numerical location of a character within a string\n",
    "    - Indexing with all sequence types in Python starts at 0\n",
    "- **string silce:** a sub-string extracted from a string"
   ]
  },
  {
   "cell_type": "code",
   "execution_count": 12,
   "metadata": {
    "slideshow": {
     "slide_type": "subslide"
    }
   },
   "outputs": [
    {
     "data": {
      "text/plain": [
       "'M'"
      ]
     },
     "execution_count": 12,
     "metadata": {},
     "output_type": "execute_result"
    }
   ],
   "source": [
    "# To view the value of a charater in a string, you must index\n",
    "# into the string using open and close square brackets\n",
    "# following the string or variable\n",
    "ship = \"Mellinnium Falcon\"\n",
    "ship[0]"
   ]
  },
  {
   "cell_type": "code",
   "execution_count": 13,
   "metadata": {},
   "outputs": [
    {
     "data": {
      "text/plain": [
       "'M'"
      ]
     },
     "execution_count": 13,
     "metadata": {},
     "output_type": "execute_result"
    }
   ],
   "source": [
    "\"Mellinnium Falcon\"[0]"
   ]
  },
  {
   "cell_type": "code",
   "execution_count": 14,
   "metadata": {
    "slideshow": {
     "slide_type": "subslide"
    }
   },
   "outputs": [
    {
     "data": {
      "text/plain": [
       "'Mellinnium'"
      ]
     },
     "execution_count": 14,
     "metadata": {},
     "output_type": "execute_result"
    }
   ],
   "source": [
    "# slicing is done by using inserting a colon (:) in between the\n",
    "# start and stop index to extract out the substring.  Notice the\n",
    "# stop index isn't extracted.\n",
    "ship[0:10]"
   ]
  },
  {
   "cell_type": "code",
   "execution_count": 15,
   "metadata": {},
   "outputs": [
    {
     "data": {
      "text/plain": [
       "' '"
      ]
     },
     "execution_count": 15,
     "metadata": {},
     "output_type": "execute_result"
    }
   ],
   "source": [
    "ship[10]"
   ]
  },
  {
   "cell_type": "code",
   "execution_count": 16,
   "metadata": {
    "slideshow": {
     "slide_type": "subslide"
    }
   },
   "outputs": [
    {
     "data": {
      "text/plain": [
       "'Mellinnium'"
      ]
     },
     "execution_count": 16,
     "metadata": {},
     "output_type": "execute_result"
    }
   ],
   "source": [
    "# slicing doesn't need a start and stop.  Empty assume the first\n",
    "# or last index depending on the situation\n",
    "ship[:10]"
   ]
  },
  {
   "cell_type": "code",
   "execution_count": 17,
   "metadata": {},
   "outputs": [
    {
     "data": {
      "text/plain": [
       "' Falcon'"
      ]
     },
     "execution_count": 17,
     "metadata": {},
     "output_type": "execute_result"
    }
   ],
   "source": [
    "ship[10:]"
   ]
  },
  {
   "cell_type": "markdown",
   "metadata": {
    "slideshow": {
     "slide_type": "subslide"
    }
   },
   "source": [
    "### Strings are Immutable\n",
    "\n",
    "- **immutability:** Unable to change the variable's associated value"
   ]
  },
  {
   "cell_type": "code",
   "execution_count": 18,
   "metadata": {},
   "outputs": [
    {
     "data": {
      "text/plain": [
       "'Mellinnium Falcon is the fastest in the galaxy'"
      ]
     },
     "execution_count": 18,
     "metadata": {},
     "output_type": "execute_result"
    }
   ],
   "source": [
    "ship = 'Mellinnium Falcon'\n",
    "ship + ' is the fastest in the galaxy'"
   ]
  },
  {
   "cell_type": "code",
   "execution_count": 19,
   "metadata": {},
   "outputs": [
    {
     "data": {
      "text/plain": [
       "'Mellinnium Falcon'"
      ]
     },
     "execution_count": 19,
     "metadata": {},
     "output_type": "execute_result"
    }
   ],
   "source": [
    "ship"
   ]
  },
  {
   "cell_type": "code",
   "execution_count": 20,
   "metadata": {},
   "outputs": [
    {
     "ename": "TypeError",
     "evalue": "'str' object does not support item assignment",
     "output_type": "error",
     "traceback": [
      "\u001b[0;31m---------------------------------------------------------------------------\u001b[0m",
      "\u001b[0;31mTypeError\u001b[0m                                 Traceback (most recent call last)",
      "\u001b[0;32m<ipython-input-20-9a1fd00430af>\u001b[0m in \u001b[0;36m<module>\u001b[0;34m\u001b[0m\n\u001b[0;32m----> 1\u001b[0;31m \u001b[0mship\u001b[0m\u001b[0;34m[\u001b[0m\u001b[0;36m0\u001b[0m\u001b[0;34m]\u001b[0m \u001b[0;34m=\u001b[0m \u001b[0;34m'S'\u001b[0m\u001b[0;34m\u001b[0m\u001b[0m\n\u001b[0m",
      "\u001b[0;31mTypeError\u001b[0m: 'str' object does not support item assignment"
     ]
    }
   ],
   "source": [
    "ship[0] = 'S'"
   ]
  },
  {
   "cell_type": "markdown",
   "metadata": {},
   "source": [
    "![](https://media.giphy.com/media/3ornjSL2sBcPflIDiU/giphy.gif)"
   ]
  },
  {
   "cell_type": "code",
   "execution_count": null,
   "metadata": {
    "slideshow": {
     "slide_type": "subslide"
    }
   },
   "outputs": [],
   "source": [
    "# you need to create a new variable (or overwrite the previous)\n",
    "new_ship = \"S\" + ship[1:]\n",
    "new_ship"
   ]
  },
  {
   "cell_type": "markdown",
   "metadata": {
    "slideshow": {
     "slide_type": "subslide"
    }
   },
   "source": [
    "### the `in` operator\n",
    "\n",
    "- the `in` operater checks to see if a value on the left is in the sequence on the right\n",
    "- returns `True` or `False`"
   ]
  },
  {
   "cell_type": "code",
   "execution_count": null,
   "metadata": {
    "slideshow": {
     "slide_type": "subslide"
    }
   },
   "outputs": [],
   "source": [
    "jedi_masters = \"Obi-Wan Kenobi, Yoda, Qui-Gon Gin\"\n",
    "'Anakin' in jedi_masters"
   ]
  },
  {
   "cell_type": "markdown",
   "metadata": {},
   "source": [
    "![](https://3.bp.blogspot.com/-BJnqTMTBL6c/VrKYilX6R1I/AAAAAAAABs0/kSJ74wzE9ns/s1600/anakin%2Bcry.gif)"
   ]
  },
  {
   "cell_type": "code",
   "execution_count": null,
   "metadata": {
    "slideshow": {
     "slide_type": "subslide"
    }
   },
   "outputs": [],
   "source": [
    "council_members = \"Anakin, Obi-Wan Kenobi, Yoda, Qui-Gon Gin\"\n",
    "'Anakin' in council_members"
   ]
  },
  {
   "cell_type": "markdown",
   "metadata": {},
   "source": [
    "![](https://i.pinimg.com/originals/e6/74/49/e6744964a17014c19a122fb002d2a2ca.gif)"
   ]
  },
  {
   "cell_type": "markdown",
   "metadata": {
    "slideshow": {
     "slide_type": "subslide"
    }
   },
   "source": [
    "### In-Class Exercise\n",
    "\n",
    "- Create a string and print its length\n",
    "- Create two strings, concatenate them, and print the result\n",
    "- Create two string and use concatentation to add a space in-between them and print the result\n",
    "- Print the sub-string 'nerf' from the string 'nerf herder'"
   ]
  },
  {
   "cell_type": "markdown",
   "metadata": {
    "slideshow": {
     "slide_type": "slide"
    }
   },
   "source": [
    "## String Methods"
   ]
  },
  {
   "cell_type": "markdown",
   "metadata": {
    "slideshow": {
     "slide_type": "subslide"
    }
   },
   "source": [
    "- A **string method** is a collection of special functions used for working with and manipulating strings.\n",
    "- "
   ]
  },
  {
   "cell_type": "markdown",
   "metadata": {
    "slideshow": {
     "slide_type": "subslide"
    }
   },
   "source": [
    "### Changing case"
   ]
  },
  {
   "cell_type": "code",
   "execution_count": 21,
   "metadata": {
    "slideshow": {
     "slide_type": "-"
    }
   },
   "outputs": [
    {
     "data": {
      "text/plain": [
       "'jar jar binks'"
      ]
     },
     "execution_count": 21,
     "metadata": {},
     "output_type": "execute_result"
    }
   ],
   "source": [
    "# You can change the case of all the character in a string by using\n",
    "# the lower and upper methods\n",
    "\n",
    "jar_jar = \"Jar Jar Binks\"\n",
    "jar_jar.lower()"
   ]
  },
  {
   "cell_type": "code",
   "execution_count": 22,
   "metadata": {},
   "outputs": [
    {
     "data": {
      "text/plain": [
       "'JAR JAR BINKS'"
      ]
     },
     "execution_count": 22,
     "metadata": {},
     "output_type": "execute_result"
    }
   ],
   "source": [
    "jar_jar.upper()"
   ]
  },
  {
   "cell_type": "markdown",
   "metadata": {
    "slideshow": {
     "slide_type": "subslide"
    }
   },
   "source": [
    "### Trimming Whitespace"
   ]
  },
  {
   "cell_type": "code",
   "execution_count": 28,
   "metadata": {},
   "outputs": [
    {
     "data": {
      "text/plain": [
       "'NOOOOO OOOOOOOO!'"
      ]
     },
     "execution_count": 28,
     "metadata": {},
     "output_type": "execute_result"
    }
   ],
   "source": [
    "# you can trim whitespaces from the end of a string \n",
    "# by using the string, rstrip, and lstrip methods\n",
    "\"   NOOOOO OOOOOOOO!    \".strip()"
   ]
  },
  {
   "cell_type": "code",
   "execution_count": 25,
   "metadata": {},
   "outputs": [
    {
     "data": {
      "text/plain": [
       "'NOOOOO OOOOOOOO!    '"
      ]
     },
     "execution_count": 25,
     "metadata": {},
     "output_type": "execute_result"
    }
   ],
   "source": [
    "\"   NOOOOO OOOOOOOO!    \".lstrip()"
   ]
  },
  {
   "cell_type": "code",
   "execution_count": 29,
   "metadata": {},
   "outputs": [
    {
     "data": {
      "text/plain": [
       "'   NOOOOOOOOOOOOO!'"
      ]
     },
     "execution_count": 29,
     "metadata": {},
     "output_type": "execute_result"
    }
   ],
   "source": [
    "\"   NOOOOOOOOOOOOO!    \".rstrip()"
   ]
  },
  {
   "cell_type": "markdown",
   "metadata": {
    "slideshow": {
     "slide_type": "subslide"
    }
   },
   "source": [
    "### Finding a sub-string"
   ]
  },
  {
   "cell_type": "code",
   "execution_count": 30,
   "metadata": {},
   "outputs": [],
   "source": [
    "# you can find the starting index of a sub-string by using\n",
    "# the find method\n",
    "who_talks = \"Who talks first? You talk first? I talk first.\""
   ]
  },
  {
   "cell_type": "code",
   "execution_count": 64,
   "metadata": {
    "slideshow": {
     "slide_type": "-"
    }
   },
   "outputs": [
    {
     "data": {
      "text/plain": [
       "4"
      ]
     },
     "execution_count": 64,
     "metadata": {},
     "output_type": "execute_result"
    }
   ],
   "source": [
    "# notice that this only finds the first instance of that\n",
    "# substring\n",
    "talk_location = who_talks.find('talk')\n",
    "talk_location"
   ]
  },
  {
   "cell_type": "code",
   "execution_count": 65,
   "metadata": {},
   "outputs": [
    {
     "name": "stdout",
     "output_type": "stream",
     "text": [
      "Who talks first? You talk first? I talk first.\n",
      "    ^\n"
     ]
    }
   ],
   "source": [
    "print(who_talks)\n",
    "print(' ' * talk_location + '^')"
   ]
  },
  {
   "cell_type": "code",
   "execution_count": 42,
   "metadata": {
    "slideshow": {
     "slide_type": "subslide"
    }
   },
   "outputs": [
    {
     "data": {
      "text/plain": [
       "21"
      ]
     },
     "execution_count": 42,
     "metadata": {},
     "output_type": "execute_result"
    }
   ],
   "source": [
    "# we can find further instances by passing in the\n",
    "# starting position of the string where to start\n",
    "talk_location = who_talks.find('talk', 5)\n",
    "talk_location"
   ]
  },
  {
   "cell_type": "code",
   "execution_count": 43,
   "metadata": {},
   "outputs": [
    {
     "name": "stdout",
     "output_type": "stream",
     "text": [
      "Who talks first? You talk first? I talk first.\n",
      "                     ^\n"
     ]
    }
   ],
   "source": [
    "print(who_talks)\n",
    "print(' ' * talk_location + '^')"
   ]
  },
  {
   "cell_type": "code",
   "execution_count": 44,
   "metadata": {
    "slideshow": {
     "slide_type": "subslide"
    }
   },
   "outputs": [
    {
     "data": {
      "text/plain": [
       "35"
      ]
     },
     "execution_count": 44,
     "metadata": {},
     "output_type": "execute_result"
    }
   ],
   "source": [
    "talk_location = who_talks.find('talk', 22)\n",
    "talk_location"
   ]
  },
  {
   "cell_type": "code",
   "execution_count": 45,
   "metadata": {},
   "outputs": [
    {
     "name": "stdout",
     "output_type": "stream",
     "text": [
      "Who talks first? You talk first? I talk first.\n",
      "                                   ^\n"
     ]
    }
   ],
   "source": [
    "print(who_talks)\n",
    "print(' ' * talk_location + '^')"
   ]
  },
  {
   "cell_type": "code",
   "execution_count": 38,
   "metadata": {
    "slideshow": {
     "slide_type": "subslide"
    }
   },
   "outputs": [
    {
     "data": {
      "text/plain": [
       "-1"
      ]
     },
     "execution_count": 38,
     "metadata": {},
     "output_type": "execute_result"
    }
   ],
   "source": [
    "# until we get to a point where there is no \n",
    "who_talks.find('talk', 36)"
   ]
  },
  {
   "cell_type": "code",
   "execution_count": 47,
   "metadata": {
    "slideshow": {
     "slide_type": "subslide"
    }
   },
   "outputs": [
    {
     "data": {
      "text/plain": [
       "-1"
      ]
     },
     "execution_count": 47,
     "metadata": {},
     "output_type": "execute_result"
    }
   ],
   "source": [
    "# this is also returned when the sub-string isn't found\n",
    "# in the string at all\n",
    "who_talks.find('meh')"
   ]
  },
  {
   "cell_type": "markdown",
   "metadata": {},
   "source": [
    "### Replacing sub-strings"
   ]
  },
  {
   "cell_type": "code",
   "execution_count": 48,
   "metadata": {},
   "outputs": [
    {
     "data": {
      "text/plain": [
       "'Sidius, Vader'"
      ]
     },
     "execution_count": 48,
     "metadata": {},
     "output_type": "execute_result"
    }
   ],
   "source": [
    "sith_lords = 'Sidius, Duku'\n",
    "sith_lords.replace('Duku', 'Vader')"
   ]
  },
  {
   "cell_type": "code",
   "execution_count": 49,
   "metadata": {},
   "outputs": [
    {
     "data": {
      "text/plain": [
       "'Sidius, Duku'"
      ]
     },
     "execution_count": 49,
     "metadata": {},
     "output_type": "execute_result"
    }
   ],
   "source": [
    "sith_lords"
   ]
  },
  {
   "cell_type": "code",
   "execution_count": 51,
   "metadata": {},
   "outputs": [
    {
     "data": {
      "text/plain": [
       "'Sidius, Vader'"
      ]
     },
     "execution_count": 51,
     "metadata": {},
     "output_type": "execute_result"
    }
   ],
   "source": [
    "sith_lords = sith_lords.replace('Duku', 'Vader')\n",
    "sith_lords"
   ]
  },
  {
   "cell_type": "markdown",
   "metadata": {
    "slideshow": {
     "slide_type": "subslide"
    }
   },
   "source": [
    "### In-Class Exercise\n",
    "\n",
    "- Write a script that converts the following strings to lower case:\n",
    "    - Jalin\n",
    "    - Obi-Wan\n",
    "    - Darth Maul\n",
    "    - Rex\n",
    "- Write a script that converts the previous string to upper case\n",
    "- write a script tha remove whitespace from the following strings:\n",
    "    - \"      Che"
   ]
  },
  {
   "cell_type": "markdown",
   "metadata": {
    "slideshow": {
     "slide_type": "slide"
    }
   },
   "source": [
    "## Format Strings"
   ]
  },
  {
   "cell_type": "code",
   "execution_count": 69,
   "metadata": {},
   "outputs": [],
   "source": [
    "\"The <ship> can fly the <event> in <distance> parsecs\"\n",
    "ship = \"Mellinnium Falcon\"\n",
    "event = \"Kessel Run\"\n",
    "time = 12"
   ]
  },
  {
   "cell_type": "markdown",
   "metadata": {
    "slideshow": {
     "slide_type": "subslide"
    }
   },
   "source": [
    "### percent `%` method"
   ]
  },
  {
   "cell_type": "code",
   "execution_count": 70,
   "metadata": {},
   "outputs": [
    {
     "data": {
      "text/plain": [
       "'The Mellinnium Falcon can fly the Kessel Run in 12 parsecs'"
      ]
     },
     "execution_count": 70,
     "metadata": {},
     "output_type": "execute_result"
    }
   ],
   "source": [
    "\"The %s can fly the %s in %d parsecs\" % (ship, event, time)"
   ]
  },
  {
   "cell_type": "markdown",
   "metadata": {
    "slideshow": {
     "slide_type": "subslide"
    }
   },
   "source": [
    "### `.format` method"
   ]
  },
  {
   "cell_type": "code",
   "execution_count": 71,
   "metadata": {},
   "outputs": [
    {
     "data": {
      "text/plain": [
       "'The Mellinnium Falcon can fly the Kessel Run in 12 parsecs'"
      ]
     },
     "execution_count": 71,
     "metadata": {},
     "output_type": "execute_result"
    }
   ],
   "source": [
    "\"The {} can fly the {} in {} parsecs\".format(ship, event, time)"
   ]
  },
  {
   "cell_type": "markdown",
   "metadata": {
    "slideshow": {
     "slide_type": "subslide"
    }
   },
   "source": [
    "### f strings"
   ]
  },
  {
   "cell_type": "code",
   "execution_count": 72,
   "metadata": {},
   "outputs": [
    {
     "data": {
      "text/plain": [
       "'The Mellinnium Falcon can fly the Kessel Run in 12 parsecs'"
      ]
     },
     "execution_count": 72,
     "metadata": {},
     "output_type": "execute_result"
    }
   ],
   "source": [
    "f'The {ship} can fly the {event} in {time} parsecs'"
   ]
  },
  {
   "cell_type": "markdown",
   "metadata": {},
   "source": [
    "### In-Class Exercise"
   ]
  },
  {
   "cell_type": "code",
   "execution_count": null,
   "metadata": {},
   "outputs": [],
   "source": []
  }
 ],
 "metadata": {
  "celltoolbar": "Slideshow",
  "kernelspec": {
   "display_name": "Python 3",
   "language": "python",
   "name": "python3"
  },
  "language_info": {
   "codemirror_mode": {
    "name": "ipython",
    "version": 3
   },
   "file_extension": ".py",
   "mimetype": "text/x-python",
   "name": "python",
   "nbconvert_exporter": "python",
   "pygments_lexer": "ipython3",
   "version": "3.6.6"
  }
 },
 "nbformat": 4,
 "nbformat_minor": 4
}
