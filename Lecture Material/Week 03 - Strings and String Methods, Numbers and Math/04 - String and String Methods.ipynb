{
  "cells": [
    {
      "metadata": {
        "slideshow": {
          "slide_type": "slide"
        }
      },
      "cell_type": "markdown",
      "source": "# String and String Methods\n\n![](static/python_strings.png)\n"
    },
    {
      "metadata": {
        "slideshow": {
          "slide_type": "slide"
        }
      },
      "cell_type": "markdown",
      "source": "## What you'll learn in today's lesson (learning goals)\n\n1. What is the string data type.\n1. String properties.\n1. Immutable data types.\n1. How you create a string.\n1. Common special characters.\n1. String templates.\n1. f strings\n1. Common string \"gotchas\""
    },
    {
      "metadata": {
        "slideshow": {
          "slide_type": "slide"
        }
      },
      "cell_type": "markdown",
      "source": "## What is the String Data Type?"
    },
    {
      "metadata": {
        "slideshow": {
          "slide_type": "subslide"
        }
      },
      "cell_type": "markdown",
      "source": "### The String Data Type is:\n- A fundamental Python data type\n    - Cannot be broken into smaller values of different type\n- Abbreviated to `str` in Python:"
    },
    {
      "metadata": {
        "trusted": false
      },
      "cell_type": "code",
      "source": "print(type(\"Hello There\"))",
      "execution_count": 1,
      "outputs": [
        {
          "name": "stdout",
          "output_type": "stream",
          "text": "<class 'str'>\n"
        }
      ]
    },
    {
      "metadata": {},
      "cell_type": "markdown",
      "source": "![](https://media.giphy.com/media/xTiIzJSKB4l7xTouE8/giphy.gif)"
    },
    {
      "metadata": {
        "slideshow": {
          "slide_type": "subslide"
        }
      },
      "cell_type": "markdown",
      "source": "### Strings have a length to them"
    },
    {
      "metadata": {
        "trusted": false
      },
      "cell_type": "code",
      "source": "len(\"Hello There\")",
      "execution_count": 2,
      "outputs": [
        {
          "data": {
            "text/plain": "11"
          },
          "execution_count": 2,
          "metadata": {},
          "output_type": "execute_result"
        }
      ]
    },
    {
      "metadata": {
        "trusted": false
      },
      "cell_type": "code",
      "source": "# Variables that reference a string can be passed into `len` as well:\nhello = 'Hello There'\nlen(hello)",
      "execution_count": 3,
      "outputs": [
        {
          "data": {
            "text/plain": "11"
          },
          "execution_count": 3,
          "metadata": {},
          "output_type": "execute_result"
        }
      ]
    },
    {
      "metadata": {
        "slideshow": {
          "slide_type": "subslide"
        }
      },
      "cell_type": "markdown",
      "source": "### Characters 'Strung' together\n- Contains **characters**: individual letters or symbols.\n- Characters in a string appear sequentially (they have a specific order to them).\n    - Character mappings such as [ASCII](https://en.wikipedia.org/wiki/ASCII) and [Unicode](https://en.wikipedia.org/wiki/Unicode) are used to specify what character value translates to a human readable letter, symbol, or command."
    },
    {
      "metadata": {
        "slideshow": {
          "slide_type": "subslide"
        },
        "trusted": false
      },
      "cell_type": "code",
      "source": "hello = 'hello there'\nprint(f'\"{hello}\"\\n')\n\n# this will print out in a nice way each character of the\n# string and it's associated index\nfor index, char in enumerate(hello):\n    print(f'{index:02} -> \"{char}\"')",
      "execution_count": 4,
      "outputs": [
        {
          "name": "stdout",
          "output_type": "stream",
          "text": "\"hello there\"\n\n00 -> \"h\"\n01 -> \"e\"\n02 -> \"l\"\n03 -> \"l\"\n04 -> \"o\"\n05 -> \" \"\n06 -> \"t\"\n07 -> \"h\"\n08 -> \"e\"\n09 -> \"r\"\n10 -> \"e\"\n"
        }
      ]
    },
    {
      "metadata": {
        "slideshow": {
          "slide_type": "subslide"
        }
      },
      "cell_type": "markdown",
      "source": "### Creating Strings in Python\n\n- **String Literals:** strings that are directly written within your Python code.\n- Created using various quotation **delimiters** (a sequence of one or more characters specifying a boundary)"
    },
    {
      "metadata": {
        "trusted": false
      },
      "cell_type": "code",
      "source": "single_quote = 'Did you ever hear the tradegy of Darth Plageius the Wise?'\nprint(single_quote)\ndouble_quote = \"I thought not.  It's not a story the Jedi would tell you.\"\nprint(double_quote)",
      "execution_count": 5,
      "outputs": [
        {
          "name": "stdout",
          "output_type": "stream",
          "text": "Did you ever hear the tradegy of Darth Plageius the Wise?\nI thought not.  It's not a story the Jedi would tell you.\n"
        }
      ]
    },
    {
      "metadata": {
        "slideshow": {
          "slide_type": "subslide"
        },
        "trusted": false
      },
      "cell_type": "code",
      "source": "# Once a string delimeter is first seen, other delimeters can be used: \n\nvader_quote = '\"I find your lack of faith disturbing.\" — Darth Vader'\nprint(vader_quote)",
      "execution_count": 6,
      "outputs": [
        {
          "name": "stdout",
          "output_type": "stream",
          "text": "\"I find your lack of faith disturbing.\" — Darth Vader\n"
        }
      ]
    },
    {
      "metadata": {
        "slideshow": {
          "slide_type": "subslide"
        },
        "trusted": false
      },
      "cell_type": "code",
      "source": "# GOTCHA: Be careful about using the delimeter within the string\n#     you want to create\nluke_quote = 'I'll never turn to the dark side.'",
      "execution_count": 7,
      "outputs": [
        {
          "ename": "SyntaxError",
          "evalue": "invalid syntax (<ipython-input-7-83f91cc87a5e>, line 3)",
          "output_type": "error",
          "traceback": [
            "\u001b[1;36m  File \u001b[1;32m\"<ipython-input-7-83f91cc87a5e>\"\u001b[1;36m, line \u001b[1;32m3\u001b[0m\n\u001b[1;33m    luke_quote = 'I'll never turn to the dark side.'\u001b[0m\n\u001b[1;37m                     ^\u001b[0m\n\u001b[1;31mSyntaxError\u001b[0m\u001b[1;31m:\u001b[0m invalid syntax\n"
          ]
        }
      ]
    },
    {
      "metadata": {
        "slideshow": {
          "slide_type": "subslide"
        }
      },
      "cell_type": "markdown",
      "source": "### Multi-Lined Strings"
    },
    {
      "metadata": {
        "trusted": false
      },
      "cell_type": "code",
      "source": "# you can use triple single or double quotes to creat a string:\ntriple_single_quote = '''The dark side of the Force is a pathway to many abilities some consider to be unnatural.'''\nprint(triple_single_quote)\ntriple_double_quote = \"\"\"The dark side of the Force is a pathway to many abilities some consider to be unnatural.\"\"\"\nprint(triple_double_quote)",
      "execution_count": 8,
      "outputs": [
        {
          "name": "stdout",
          "output_type": "stream",
          "text": "The dark side of the Force is a pathway to many abilities some consider to be unnatural.\nThe dark side of the Force is a pathway to many abilities some consider to be unnatural.\n"
        }
      ]
    },
    {
      "metadata": {
        "slideshow": {
          "slide_type": "subslide"
        },
        "trusted": false
      },
      "cell_type": "code",
      "source": "# Triple quotes can span multiple lines but the newlines\n# are rendered\nlong_string = \"\"\"The dark side of the Force is a pathway \nto many abilities some consider to be unnatural.\n\"\"\"\nprint(long_string)",
      "execution_count": 9,
      "outputs": [
        {
          "name": "stdout",
          "output_type": "stream",
          "text": "The dark side of the Force is a pathway \nto many abilities some consider to be unnatural.\n\n"
        }
      ]
    },
    {
      "metadata": {
        "slideshow": {
          "slide_type": "subslide"
        },
        "trusted": false
      },
      "cell_type": "code",
      "source": "# white spaced is preserved when using triple quotes\nprint(\"\"\"The dark side of the Force is a pathway \n    to many abilities some consider to be unnatural.\n\"\"\")",
      "execution_count": 10,
      "outputs": [
        {
          "name": "stdout",
          "output_type": "stream",
          "text": "The dark side of the Force is a pathway \n    to many abilities some consider to be unnatural.\n\n"
        }
      ]
    },
    {
      "metadata": {
        "slideshow": {
          "slide_type": "subslide"
        },
        "trusted": false
      },
      "cell_type": "code",
      "source": "# If you have a really long string, but don't want newlines the use the\n# backslash \\\nprint(\"The dark side of the Force is a pathway \\\nto many abilities some consider to be unnatural.\")",
      "execution_count": 11,
      "outputs": [
        {
          "name": "stdout",
          "output_type": "stream",
          "text": "The dark side of the Force is a pathway to many abilities some consider to be unnatural.\n"
        }
      ]
    },
    {
      "metadata": {
        "slideshow": {
          "slide_type": "subslide"
        },
        "trusted": false
      },
      "cell_type": "code",
      "source": "# GOTCHA: Make sure there isn't ANYTHING (including comments) \n#     after the backslash as that will cause an error\nprint(\"The dark side of the Force is a pathway \\ \nto many ablities some consider to be unnatural\")",
      "execution_count": 12,
      "outputs": [
        {
          "ename": "SyntaxError",
          "evalue": "EOL while scanning string literal (<ipython-input-12-6f9de0d79e5a>, line 3)",
          "output_type": "error",
          "traceback": [
            "\u001b[1;36m  File \u001b[1;32m\"<ipython-input-12-6f9de0d79e5a>\"\u001b[1;36m, line \u001b[1;32m3\u001b[0m\n\u001b[1;33m    print(\"The dark side of the Force is a pathway \\\u001b[0m\n\u001b[1;37m                                                     ^\u001b[0m\n\u001b[1;31mSyntaxError\u001b[0m\u001b[1;31m:\u001b[0m EOL while scanning string literal\n"
          ]
        }
      ]
    },
    {
      "metadata": {
        "slideshow": {
          "slide_type": "subslide"
        }
      },
      "cell_type": "markdown",
      "source": "### In-Class Exercises:\n\n- Print a string that uses double quotation marks **inside** the string.\n- Print a string that uses an apostrophe **inside** the string.\n- Print a string that spans multiple lines, with white space preserved.\n- Print a string that is coded on multiple lines but displays on a single line."
    },
    {
      "metadata": {
        "slideshow": {
          "slide_type": "slide"
        }
      },
      "cell_type": "markdown",
      "source": "## Working with Strings\n\nNow that we've learned how to create strings, lets examine some of the more common things we can do with them.\n\n- Concatenation\n- Indexing & Slicing\n- String Immutability\n- Checking if a string is within another string"
    },
    {
      "metadata": {
        "slideshow": {
          "slide_type": "subslide"
        }
      },
      "cell_type": "markdown",
      "source": "### Concatenation"
    },
    {
      "metadata": {
        "slideshow": {
          "slide_type": "-"
        },
        "trusted": false
      },
      "cell_type": "code",
      "source": "# You can concatenate (combine) multiple lines together using the + operator\nleia = \"I love you.\"\nhan = \"I know.\"\nprint(leia + han)",
      "execution_count": 13,
      "outputs": [
        {
          "name": "stdout",
          "output_type": "stream",
          "text": "I love you.I know.\n"
        }
      ]
    },
    {
      "metadata": {
        "slideshow": {
          "slide_type": "subslide"
        },
        "trusted": false
      },
      "cell_type": "code",
      "source": "# the previous example looks a bit weird, because when concatenating strings\n# nothing else is added, so we have to manually add a space to it\nprint(leia + ' ' + han)",
      "execution_count": 14,
      "outputs": [
        {
          "name": "stdout",
          "output_type": "stream",
          "text": "I love you. I know.\n"
        }
      ]
    },
    {
      "metadata": {
        "slideshow": {
          "slide_type": "-"
        }
      },
      "cell_type": "markdown",
      "source": "![](https://media.giphy.com/media/e6e1P3wC6xkYg/giphy.gif)"
    },
    {
      "metadata": {
        "slideshow": {
          "slide_type": "subslide"
        }
      },
      "cell_type": "markdown",
      "source": "### Indexing & Slicing\n\n- strings are sequences which means that they can be indexed and sliced\n- **string index:** the numerical location of a character within a string\n    - Indexing with all sequence types in Python starts at 0\n- **string silce:** a sub-string extracted from a string"
    },
    {
      "metadata": {
        "slideshow": {
          "slide_type": "subslide"
        },
        "trusted": false
      },
      "cell_type": "code",
      "source": "# To view the value of a charater in a string, you must index\n# into the string using open and close square brackets\n# following the string or variable\nship = \"Mellinnium Falcon\"\nprint(ship[0])\nprint(\"Mellinnium Falcon\"[0])",
      "execution_count": 15,
      "outputs": [
        {
          "name": "stdout",
          "output_type": "stream",
          "text": "M\nM\n"
        }
      ]
    },
    {
      "metadata": {
        "slideshow": {
          "slide_type": "subslide"
        },
        "trusted": false
      },
      "cell_type": "code",
      "source": "# slicing is done by using inserting a colon (:) in between the\n# start and stop index to extract out the substring.  Notice the\n# stop index isn't extracted.\nprint(ship[0:10])\nship[10]",
      "execution_count": 16,
      "outputs": [
        {
          "name": "stdout",
          "output_type": "stream",
          "text": "Mellinnium\n"
        },
        {
          "data": {
            "text/plain": "' '"
          },
          "execution_count": 16,
          "metadata": {},
          "output_type": "execute_result"
        }
      ]
    },
    {
      "metadata": {
        "slideshow": {
          "slide_type": "subslide"
        },
        "trusted": false
      },
      "cell_type": "code",
      "source": "# slicing doesn't need a start and stop.  Empty assume the first\n# or last index depending on the situation\nprint(ship[:10])",
      "execution_count": 17,
      "outputs": [
        {
          "name": "stdout",
          "output_type": "stream",
          "text": "Mellinnium\n"
        }
      ]
    },
    {
      "metadata": {
        "trusted": false
      },
      "cell_type": "code",
      "source": "ship[10:]",
      "execution_count": 18,
      "outputs": [
        {
          "data": {
            "text/plain": "' Falcon'"
          },
          "execution_count": 18,
          "metadata": {},
          "output_type": "execute_result"
        }
      ]
    },
    {
      "metadata": {
        "slideshow": {
          "slide_type": "subslide"
        }
      },
      "cell_type": "markdown",
      "source": "### Strings are Immutable\n\n- **immutability:** Unable to change the variable's associated value"
    },
    {
      "metadata": {
        "trusted": false
      },
      "cell_type": "code",
      "source": "ship = 'Mellinnium Falcon'\nship + ' is the fastest in the galaxy'",
      "execution_count": 19,
      "outputs": [
        {
          "data": {
            "text/plain": "'Mellinnium Falcon is the fastest in the galaxy'"
          },
          "execution_count": 19,
          "metadata": {},
          "output_type": "execute_result"
        }
      ]
    },
    {
      "metadata": {
        "trusted": false
      },
      "cell_type": "code",
      "source": "ship",
      "execution_count": 20,
      "outputs": [
        {
          "data": {
            "text/plain": "'Mellinnium Falcon'"
          },
          "execution_count": 20,
          "metadata": {},
          "output_type": "execute_result"
        }
      ]
    },
    {
      "metadata": {
        "slideshow": {
          "slide_type": "subslide"
        },
        "trusted": false
      },
      "cell_type": "code",
      "source": "# You also can't change individual values of the string\nship[0] = 'S'",
      "execution_count": 21,
      "outputs": [
        {
          "ename": "TypeError",
          "evalue": "'str' object does not support item assignment",
          "output_type": "error",
          "traceback": [
            "\u001b[1;31m---------------------------------------------------------------------------\u001b[0m",
            "\u001b[1;31mTypeError\u001b[0m                                 Traceback (most recent call last)",
            "\u001b[1;32m<ipython-input-21-f9684aeae416>\u001b[0m in \u001b[0;36m<module>\u001b[1;34m\u001b[0m\n\u001b[0;32m      1\u001b[0m \u001b[1;31m# You also can't change individual values of the string\u001b[0m\u001b[1;33m\u001b[0m\u001b[1;33m\u001b[0m\u001b[0m\n\u001b[1;32m----> 2\u001b[1;33m \u001b[0mship\u001b[0m\u001b[1;33m[\u001b[0m\u001b[1;36m0\u001b[0m\u001b[1;33m]\u001b[0m \u001b[1;33m=\u001b[0m \u001b[1;34m'S'\u001b[0m\u001b[1;33m\u001b[0m\u001b[0m\n\u001b[0m",
            "\u001b[1;31mTypeError\u001b[0m: 'str' object does not support item assignment"
          ]
        }
      ]
    },
    {
      "metadata": {},
      "cell_type": "markdown",
      "source": "![](https://media.giphy.com/media/3ornjSL2sBcPflIDiU/giphy.gif)"
    },
    {
      "metadata": {
        "slideshow": {
          "slide_type": "subslide"
        },
        "trusted": false
      },
      "cell_type": "code",
      "source": "# you need to create a new variable (or overwrite the previous)\nnew_ship = \"S\" + ship[1:]\nnew_ship",
      "execution_count": 22,
      "outputs": [
        {
          "data": {
            "text/plain": "'Sellinnium Falcon'"
          },
          "execution_count": 22,
          "metadata": {},
          "output_type": "execute_result"
        }
      ]
    },
    {
      "metadata": {
        "slideshow": {
          "slide_type": "subslide"
        }
      },
      "cell_type": "markdown",
      "source": "### the `in` operator\n\n- the `in` operater checks to see if a value on the left is in the sequence on the right\n- returns `True` or `False`"
    },
    {
      "metadata": {
        "slideshow": {
          "slide_type": "subslide"
        },
        "trusted": false
      },
      "cell_type": "code",
      "source": "jedi_masters = \"Obi-Wan Kenobi, Yoda, Qui-Gon Gin\"\n'Anakin' in jedi_masters",
      "execution_count": 23,
      "outputs": [
        {
          "data": {
            "text/plain": "False"
          },
          "execution_count": 23,
          "metadata": {},
          "output_type": "execute_result"
        }
      ]
    },
    {
      "metadata": {},
      "cell_type": "markdown",
      "source": "![](https://3.bp.blogspot.com/-BJnqTMTBL6c/VrKYilX6R1I/AAAAAAAABs0/kSJ74wzE9ns/s1600/anakin%2Bcry.gif)"
    },
    {
      "metadata": {
        "slideshow": {
          "slide_type": "subslide"
        },
        "trusted": false
      },
      "cell_type": "code",
      "source": "council_members = \"Anakin, Obi-Wan Kenobi, Yoda, Qui-Gon Gin\"\n'Anakin' in council_members",
      "execution_count": 24,
      "outputs": [
        {
          "data": {
            "text/plain": "True"
          },
          "execution_count": 24,
          "metadata": {},
          "output_type": "execute_result"
        }
      ]
    },
    {
      "metadata": {},
      "cell_type": "markdown",
      "source": "![](https://i.pinimg.com/originals/e6/74/49/e6744964a17014c19a122fb002d2a2ca.gif)"
    },
    {
      "metadata": {
        "slideshow": {
          "slide_type": "subslide"
        }
      },
      "cell_type": "markdown",
      "source": "### In-Class Exercise\n\n- Create a string and print its length\n- Create two strings, concatenate them, and print the result\n- Create two string and use concatentation to add a space in-between them and print the result\n- Print the sub-string 'nerf' from the string 'nerf herder'"
    },
    {
      "metadata": {
        "slideshow": {
          "slide_type": "slide"
        }
      },
      "cell_type": "markdown",
      "source": "## String Methods\n\nStrings are objects and as such have a collection of special functions called **string methods** that are used for working with and manipulating strings.  With these methods, we can:\n\n- Changing the strings case\n- Trim trailing and leading whitespace\n- Find the location of a substring\n- Replace sub-strings within a string"
    },
    {
      "metadata": {
        "slideshow": {
          "slide_type": "subslide"
        }
      },
      "cell_type": "markdown",
      "source": "### Changing case"
    },
    {
      "metadata": {
        "slideshow": {
          "slide_type": "-"
        },
        "trusted": false
      },
      "cell_type": "code",
      "source": "# You can change the case of all the character in a string by using\n# the lower and upper methods\n\njar_jar = \"Jar Jar Binks\"\nprint(jar_jar.lower())",
      "execution_count": 25,
      "outputs": [
        {
          "name": "stdout",
          "output_type": "stream",
          "text": "jar jar binks\n"
        }
      ]
    },
    {
      "metadata": {},
      "cell_type": "markdown",
      "source": "<img src=\"https://www.washingtonpost.com/resizer/H-GULNtP2kkg_tlUMfsmUzGhNLU=/1484x0/arc-anglerfish-washpost-prod-washpost.s3.amazonaws.com/public/CKVFFZE5IU3H3BHCABPAB4AQ5I.jpg\" width=\"400\" />"
    },
    {
      "metadata": {
        "slideshow": {
          "slide_type": "subslide"
        },
        "trusted": false
      },
      "cell_type": "code",
      "source": "print(jar_jar.upper())",
      "execution_count": 26,
      "outputs": [
        {
          "name": "stdout",
          "output_type": "stream",
          "text": "JAR JAR BINKS\n"
        }
      ]
    },
    {
      "metadata": {},
      "cell_type": "markdown",
      "source": "<img src=https://static.independent.co.uk/s3fs-public/thumbnails/image/2015/10/26/12/Jar-Jar-Star-Wars.jpg?w968 width=\"400\" />"
    },
    {
      "metadata": {
        "slideshow": {
          "slide_type": "subslide"
        }
      },
      "cell_type": "markdown",
      "source": "### Trimming Leading and Trailing Whitespace\n\nTrimming whitespace means removing spacing characters from either the front or the back of the string.  This can be done using one of three methods."
    },
    {
      "metadata": {
        "trusted": false
      },
      "cell_type": "code",
      "source": "# you can trim whitespaces from the end of a string \n# by using the string, rstrip, and lstrip methods\nprint(\"   NOOOOO OOOOOOOO!    \".strip())",
      "execution_count": 27,
      "outputs": [
        {
          "name": "stdout",
          "output_type": "stream",
          "text": "NOOOOO OOOOOOOO!\n"
        }
      ]
    },
    {
      "metadata": {
        "trusted": true
      },
      "cell_type": "code",
      "source": "\"   NOOOOO OOOOOOOO!    \".lstrip()",
      "execution_count": 1,
      "outputs": [
        {
          "output_type": "execute_result",
          "execution_count": 1,
          "data": {
            "text/plain": "'NOOOOO OOOOOOOO!    '"
          },
          "metadata": {}
        }
      ]
    },
    {
      "metadata": {
        "trusted": true
      },
      "cell_type": "code",
      "source": "\"   NOOOOOOOOOOOOO!    \".rstrip()",
      "execution_count": 2,
      "outputs": [
        {
          "output_type": "execute_result",
          "execution_count": 2,
          "data": {
            "text/plain": "'   NOOOOOOOOOOOOO!'"
          },
          "metadata": {}
        }
      ]
    },
    {
      "metadata": {
        "slideshow": {
          "slide_type": "subslide"
        }
      },
      "cell_type": "markdown",
      "source": "### Finding a sub-string"
    },
    {
      "metadata": {
        "trusted": false
      },
      "cell_type": "code",
      "source": "# you can find the starting index of a sub-string by using\n# the find method\nwho_talks = \"Who talks first? You talk first? I talk first.\"",
      "execution_count": 30,
      "outputs": []
    },
    {
      "metadata": {
        "slideshow": {
          "slide_type": "-"
        },
        "trusted": false
      },
      "cell_type": "code",
      "source": "# notice that this only finds the first instance of that\n# substring\ntalk_location = who_talks.find('talk')\nprint(talk_location)",
      "execution_count": 31,
      "outputs": [
        {
          "name": "stdout",
          "output_type": "stream",
          "text": "4\n"
        }
      ]
    },
    {
      "metadata": {
        "trusted": false
      },
      "cell_type": "code",
      "source": "print(who_talks)\n\n# this will print a carrot directly underneath the selected string character\n# location found from .find\nprint(' ' * talk_location + '^')",
      "execution_count": 32,
      "outputs": [
        {
          "name": "stdout",
          "output_type": "stream",
          "text": "Who talks first? You talk first? I talk first.\n    ^\n"
        }
      ]
    },
    {
      "metadata": {
        "slideshow": {
          "slide_type": "subslide"
        },
        "trusted": false
      },
      "cell_type": "code",
      "source": "# we can find further instances by passing in the\n# starting position of the string where to start\ntalk_location = who_talks.find('talk', 5)\nprint(talk_location)",
      "execution_count": 33,
      "outputs": [
        {
          "name": "stdout",
          "output_type": "stream",
          "text": "21\n"
        }
      ]
    },
    {
      "metadata": {
        "trusted": false
      },
      "cell_type": "code",
      "source": "print(who_talks)\nprint(' ' * talk_location + '^')",
      "execution_count": 34,
      "outputs": [
        {
          "name": "stdout",
          "output_type": "stream",
          "text": "Who talks first? You talk first? I talk first.\n                     ^\n"
        }
      ]
    },
    {
      "metadata": {
        "slideshow": {
          "slide_type": "subslide"
        },
        "trusted": false
      },
      "cell_type": "code",
      "source": "talk_location = who_talks.find('talk', 22)\nprint(talk_location)",
      "execution_count": 35,
      "outputs": [
        {
          "name": "stdout",
          "output_type": "stream",
          "text": "35\n"
        }
      ]
    },
    {
      "metadata": {
        "trusted": false
      },
      "cell_type": "code",
      "source": "print(who_talks)\nprint(' ' * talk_location + '^')",
      "execution_count": 36,
      "outputs": [
        {
          "name": "stdout",
          "output_type": "stream",
          "text": "Who talks first? You talk first? I talk first.\n                                   ^\n"
        }
      ]
    },
    {
      "metadata": {
        "slideshow": {
          "slide_type": "subslide"
        },
        "trusted": false
      },
      "cell_type": "code",
      "source": "# until we get to a point where there is no \nprint(who_talks.find('talk', 36))",
      "execution_count": 37,
      "outputs": [
        {
          "name": "stdout",
          "output_type": "stream",
          "text": "-1\n"
        }
      ]
    },
    {
      "metadata": {
        "slideshow": {
          "slide_type": "-"
        },
        "trusted": false
      },
      "cell_type": "code",
      "source": "# this is also returned when the sub-string isn't found\n# in the string at all\nprint(who_talks.find('meh'))",
      "execution_count": 38,
      "outputs": [
        {
          "name": "stdout",
          "output_type": "stream",
          "text": "-1\n"
        }
      ]
    },
    {
      "metadata": {
        "slideshow": {
          "slide_type": "subslide"
        }
      },
      "cell_type": "markdown",
      "source": "### Replacing sub-strings"
    },
    {
      "metadata": {
        "trusted": false
      },
      "cell_type": "code",
      "source": "sith_lords = 'Sidius, Duku'\nprint(sith_lords.replace('Duku', 'Vader'))",
      "execution_count": 39,
      "outputs": [
        {
          "name": "stdout",
          "output_type": "stream",
          "text": "Sidius, Vader\n"
        }
      ]
    },
    {
      "metadata": {
        "trusted": false
      },
      "cell_type": "code",
      "source": "print(sith_lords)",
      "execution_count": 40,
      "outputs": [
        {
          "name": "stdout",
          "output_type": "stream",
          "text": "Sidius, Duku\n"
        }
      ]
    },
    {
      "metadata": {
        "slideshow": {
          "slide_type": "subslide"
        },
        "trusted": false
      },
      "cell_type": "code",
      "source": "sith_lords = sith_lords.replace('Duku', 'Vader')\nprint(sith_lords)",
      "execution_count": 41,
      "outputs": [
        {
          "name": "stdout",
          "output_type": "stream",
          "text": "Sidius, Vader\n"
        }
      ]
    },
    {
      "metadata": {
        "slideshow": {
          "slide_type": "subslide"
        },
        "trusted": false
      },
      "cell_type": "code",
      "source": "# replace can be used to 'remove' substrings\ntroubled_anakin = \"Not just the men; but the women and children too!\"\nprint(troubled_anakin.replace('men', ''))",
      "execution_count": 66,
      "outputs": [
        {
          "name": "stdout",
          "output_type": "stream",
          "text": "Not just the ; but the wo and children too!\n"
        }
      ]
    },
    {
      "metadata": {
        "slideshow": {
          "slide_type": "-"
        },
        "trusted": false
      },
      "cell_type": "code",
      "source": "# You can actually chain these as well\nprint(troubled_anakin.replace('women', '').replace('men', '').replace('children', ''))",
      "execution_count": 68,
      "outputs": [
        {
          "name": "stdout",
          "output_type": "stream",
          "text": "Not just the ; but the  and  too!\n"
        }
      ]
    },
    {
      "metadata": {
        "trusted": false
      },
      "cell_type": "code",
      "source": "# GOTCHA: Beware of order of replacement too\nprint(troubled_anakin.replace('men', '').replace('women', '').replace('children', ''))",
      "execution_count": 69,
      "outputs": [
        {
          "name": "stdout",
          "output_type": "stream",
          "text": "Not just the ; but the wo and  too!\n"
        }
      ]
    },
    {
      "metadata": {
        "slideshow": {
          "slide_type": "subslide"
        }
      },
      "cell_type": "markdown",
      "source": "### In-Class Exercise\n\n- Write a script that converts the following strings to lower case:\n    - Jalin\n    - Obi-Wan\n    - Darth Maul\n    - Rex\n- Write a script that converts the previous string to upper case\n- Write a script that remove whitespace from the following strings:\n    - `\"      Ezra Bridger is my apprentice!     \"`\n- Write a script that replaces 'Han' with 'Ben', and 'shot' with 'stabbed' in the following string:\n    - `\"Han Solo shot first\"`\n- Write a script that finds the location of the string 'Night' within the following string.  Then print out the start and end index of that string along with the actual substring:\n    - `\"Dathomir is the home planet of the Night Sisters\"`"
    },
    {
      "metadata": {
        "slideshow": {
          "slide_type": "slide"
        }
      },
      "cell_type": "markdown",
      "source": "## Formatting String\n\nFormatting strings allows us to create strings in such a way where we 'insert' variable into the string.  For example, let's say that I wanted to log R2-D2's status like this:\n\n```text\n0001 - Task 1 - Start - Initiate Connection to Computer\n0002 - Task 2 - Complete - Set urgency level - High\n0006 - Task 1 - Complete - Connection to computer established\n0006 - Task 3 - Start - Initiate shutdown of garbage compactor\n0020 - Task 3 - Complete - Garbage compactor shutdown\n```"
    },
    {
      "metadata": {
        "slideshow": {
          "slide_type": "subslide"
        },
        "trusted": false
      },
      "cell_type": "code",
      "source": "# printing this out is laborious\nprint(\"0001 - Task 1 - Start - Initiate Connection to Computer\")\nprint(\"0002 - Task 2 - Complete - Set urgency level - High\")\nprint(\"0006 - Task 1 - Complete - Connection to computer established\")\nprint(\"0006 - Task 3 - Start - Initiate shutdown of garbage compactor\")\nprint(\"0020 - Task 3 - Complete - Garbage compactor shutdown\")",
      "execution_count": 42,
      "outputs": [
        {
          "name": "stdout",
          "output_type": "stream",
          "text": "0001 - Task 1 - Start - Initiate Connection to Computer\n0002 - Task 2 - Complete - Set urgency level - High\n0006 - Task 1 - Complete - Connection to computer established\n0006 - Task 3 - Start - Initiate shutdown of garbage compactor\n0020 - Task 3 - Complete - Garbage compactor shutdown\n"
        }
      ]
    },
    {
      "metadata": {
        "slideshow": {
          "slide_type": "subslide"
        }
      },
      "cell_type": "markdown",
      "source": "Printing out each line become very laborious AND most likely we're using variable such as `time`, `task_num`, `task_status`, and `message`.  Let's break down the message formatting (*wink, wink*):\n\n```text\n<Time> - Task <Task Num> - <Task Status> - <message>\n```\n\nLet's examine the different methods of doing this with these specific variable/value pairs:"
    },
    {
      "metadata": {
        "trusted": false
      },
      "cell_type": "code",
      "source": "time = 0\ntask_num = 1\ntask_status = \"Started\"\nmessage = \"Initiate Connection to Computer\"",
      "execution_count": 56,
      "outputs": []
    },
    {
      "metadata": {
        "slideshow": {
          "slide_type": "subslide"
        }
      },
      "cell_type": "markdown",
      "source": "### percent/modulo `%` method\n\nDon't use this method, but I'm putting it down here for historical background."
    },
    {
      "metadata": {
        "trusted": false
      },
      "cell_type": "code",
      "source": "# the % operator basically \"unpacks\" a tuple of values from the right side\n# into the string on the left side.  Note: this is very printf`y which is how\n# other languages like C do string formatting.\nprint(\"%d - Task %d - %s - %s\" % (time, task_num, task_status, message))",
      "execution_count": 57,
      "outputs": [
        {
          "name": "stdout",
          "output_type": "stream",
          "text": "0 - Task 1 - Started - Initiate Connection to Computer\n"
        }
      ]
    },
    {
      "metadata": {
        "slideshow": {
          "slide_type": "subslide"
        }
      },
      "cell_type": "markdown",
      "source": "A 'type' reference is required within the string to unpack that value.  Keep on eye on the types that your passing in.  The most common ones are:\n\n| symbol | type reference |\n| ------ | -------------- |\n| d      | integer        |\n| f      | float          |\n| s      | string         |\n| x      | hex            |"
    },
    {
      "metadata": {
        "trusted": false
      },
      "cell_type": "code",
      "source": "print('%d - Task %d - %d - %d' % (time, task_num, task_status, message))",
      "execution_count": 58,
      "outputs": [
        {
          "ename": "TypeError",
          "evalue": "%d format: a number is required, not str",
          "output_type": "error",
          "traceback": [
            "\u001b[1;31m---------------------------------------------------------------------------\u001b[0m",
            "\u001b[1;31mTypeError\u001b[0m                                 Traceback (most recent call last)",
            "\u001b[1;32m<ipython-input-58-e487ca74790c>\u001b[0m in \u001b[0;36m<module>\u001b[1;34m\u001b[0m\n\u001b[1;32m----> 1\u001b[1;33m \u001b[0mprint\u001b[0m\u001b[1;33m(\u001b[0m\u001b[1;34m'%d - Task %d - %d - %d'\u001b[0m \u001b[1;33m%\u001b[0m \u001b[1;33m(\u001b[0m\u001b[0mtime\u001b[0m\u001b[1;33m,\u001b[0m \u001b[0mtask_num\u001b[0m\u001b[1;33m,\u001b[0m \u001b[0mtask_status\u001b[0m\u001b[1;33m,\u001b[0m \u001b[0mmessage\u001b[0m\u001b[1;33m)\u001b[0m\u001b[1;33m)\u001b[0m\u001b[1;33m\u001b[0m\u001b[0m\n\u001b[0m",
            "\u001b[1;31mTypeError\u001b[0m: %d format: a number is required, not str"
          ]
        }
      ]
    },
    {
      "metadata": {
        "slideshow": {
          "slide_type": "subslide"
        },
        "trusted": false
      },
      "cell_type": "code",
      "source": "# the formatting previously isn't quite what we wanted though so we need to \n# make one more adjustment\nprint(\"%04d - Task %d - %s - %s\" % (time, task_num, task_status, message))",
      "execution_count": 59,
      "outputs": [
        {
          "name": "stdout",
          "output_type": "stream",
          "text": "0000 - Task 1 - Started - Initiate Connection to Computer\n"
        }
      ]
    },
    {
      "metadata": {},
      "cell_type": "markdown",
      "source": "The `%04d` means to unpack an integer value (`d`) with a max string length of 4 character wide and filler character of 0 (`04`)."
    },
    {
      "metadata": {
        "slideshow": {
          "slide_type": "subslide"
        }
      },
      "cell_type": "markdown",
      "source": "### `.format` method\n\nThe format method builds on the `%` method to make things a little more clearer to the reader what was going on.  In stead of `%<type>` you simply use open close curly brackets (`{}`) to indicate location of variable insertion.  Use this method over using `%` method."
    },
    {
      "metadata": {
        "trusted": false
      },
      "cell_type": "code",
      "source": "print(\"{:04} - Task {} - {} - {}\".format(time, task_num, task_status, message))",
      "execution_count": 60,
      "outputs": [
        {
          "name": "stdout",
          "output_type": "stream",
          "text": "0000 - Task 1 - Started - Initiate Connection to Computer\n"
        }
      ]
    },
    {
      "metadata": {
        "trusted": false
      },
      "cell_type": "code",
      "source": "# you can assign names to the string locations and reference them in the\n# .format method\nprint(\"{time:04} - Task {num} - {status} - {message}\".format(\n    time=time,\n    status=task_status,\n    num=task_num,\n    message=message\n))",
      "execution_count": 61,
      "outputs": [
        {
          "name": "stdout",
          "output_type": "stream",
          "text": "0000 - Task 1 - Started - Initiate Connection to Computer\n"
        }
      ]
    },
    {
      "metadata": {
        "trusted": false
      },
      "cell_type": "code",
      "source": "# one advantage of this, is if you're using the same string format over and\n# over, then you can save the string as a variable and format it later\nr2_log_entry = \"{time:04} - Task {num} - {status} - {message}\"\nprint(r2_log_entry.format(\n    time=time,\n    status=task_status,\n    num=task_num,\n    message=message\n))",
      "execution_count": 62,
      "outputs": [
        {
          "name": "stdout",
          "output_type": "stream",
          "text": "0000 - Task 1 - Started - Initiate Connection to Computer\n"
        }
      ]
    },
    {
      "metadata": {
        "slideshow": {
          "slide_type": "subslide"
        }
      },
      "cell_type": "markdown",
      "source": "### f strings\n\nf strings are new to Python (3.6+) and therefore not available on all systems.  However, this one build on the `.format` method and removes the need to call `.format` with named locations and instead uses current variable in use:"
    },
    {
      "metadata": {
        "trusted": false
      },
      "cell_type": "code",
      "source": "print(f'{time:04} - Task {task_num} - {task_status} - {message}')",
      "execution_count": 63,
      "outputs": [
        {
          "name": "stdout",
          "output_type": "stream",
          "text": "0000 - Task 1 - Started - Initiate Connection to Computer\n"
        }
      ]
    },
    {
      "metadata": {
        "slideshow": {
          "slide_type": "subslide"
        },
        "trusted": false
      },
      "cell_type": "code",
      "source": "# updating variables to show the changes\ntime = 2\ntask_status = 'Complete'\ntask_num = 2\nmessage = 'Set urgency level - High'\nprint(f'{time:04} - Task {task_num} - {task_status} - {message}')",
      "execution_count": 65,
      "outputs": [
        {
          "name": "stdout",
          "output_type": "stream",
          "text": "0002 - Task 2 - Complete - Set urgency level - High\n"
        }
      ]
    },
    {
      "metadata": {
        "slideshow": {
          "slide_type": "subslide"
        }
      },
      "cell_type": "markdown",
      "source": "### In-Class Exercise\n\n- Using the a formatted string, create the following template and store it in a variable\n    - `\"The <ship> can make the Kessel Run in less than <distance> parsecs\"`\n- Using the variable storing the formatted string and the `.format` method, insert the ship name \"Mellinnium Falcon\" and distance of 12\n- Using an fstring and the same template above, insert the ship name \"Ghost\" and distance of 20"
    }
  ],
  "metadata": {
    "celltoolbar": "Slideshow",
    "kernelspec": {
      "name": "python3",
      "display_name": "Python 3",
      "language": "python"
    },
    "language_info": {
      "mimetype": "text/x-python",
      "nbconvert_exporter": "python",
      "name": "python",
      "pygments_lexer": "ipython3",
      "version": "3.5.4",
      "file_extension": ".py",
      "codemirror_mode": {
        "version": 3,
        "name": "ipython"
      }
    }
  },
  "nbformat": 4,
  "nbformat_minor": 4
}