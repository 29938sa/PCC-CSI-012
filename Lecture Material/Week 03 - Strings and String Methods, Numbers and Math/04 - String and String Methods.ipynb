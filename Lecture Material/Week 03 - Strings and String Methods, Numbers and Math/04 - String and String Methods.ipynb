{
 "cells": [
  {
   "cell_type": "markdown",
   "metadata": {
    "slideshow": {
     "slide_type": "slide"
    }
   },
   "source": [
    "# String and String Methods\n",
    "\n",
    "![](static/python_strings.png)\n"
   ]
  },
  {
   "cell_type": "markdown",
   "metadata": {
    "slideshow": {
     "slide_type": "slide"
    }
   },
   "source": [
    "## What you'll learn in today's lesson (learning goals)\n",
    "\n",
    "1. What is the string data type.\n",
    "1. String properties.\n",
    "1. Immutable data types.\n",
    "1. How you create a string.\n",
    "1. Common special characters.\n",
    "1. String templates.\n",
    "1. f strings\n",
    "1. Common string \"gotchas\""
   ]
  },
  {
   "cell_type": "markdown",
   "metadata": {
    "slideshow": {
     "slide_type": "slide"
    }
   },
   "source": [
    "## What is the String Data Type?"
   ]
  },
  {
   "cell_type": "markdown",
   "metadata": {
    "slideshow": {
     "slide_type": "subslide"
    }
   },
   "source": [
    "### The String Data Type is:\n",
    "- A fundamental Python data type\n",
    "    - Cannot be broken into smaller values of different type\n",
    "- Abbreviated to `str` in Python:"
   ]
  },
  {
   "cell_type": "code",
   "execution_count": 1,
   "metadata": {},
   "outputs": [
    {
     "name": "stdout",
     "output_type": "stream",
     "text": [
      "<class 'str'>\n"
     ]
    }
   ],
   "source": [
    "print(type(\"Hello There\"))"
   ]
  },
  {
   "cell_type": "markdown",
   "metadata": {},
   "source": [
    "![](https://media.giphy.com/media/xTiIzJSKB4l7xTouE8/giphy.gif)"
   ]
  },
  {
   "cell_type": "markdown",
   "metadata": {
    "slideshow": {
     "slide_type": "subslide"
    }
   },
   "source": [
    "### Strings have a length to them"
   ]
  },
  {
   "cell_type": "code",
   "execution_count": 2,
   "metadata": {},
   "outputs": [
    {
     "data": {
      "text/plain": [
       "11"
      ]
     },
     "execution_count": 2,
     "metadata": {},
     "output_type": "execute_result"
    }
   ],
   "source": [
    "len(\"Hello There\")"
   ]
  },
  {
   "cell_type": "code",
   "execution_count": 3,
   "metadata": {},
   "outputs": [
    {
     "data": {
      "text/plain": [
       "11"
      ]
     },
     "execution_count": 3,
     "metadata": {},
     "output_type": "execute_result"
    }
   ],
   "source": [
    "# Variables that reference a string can be passed into `len` as well:\n",
    "hello = 'Hello There'\n",
    "len(hello)"
   ]
  },
  {
   "cell_type": "markdown",
   "metadata": {
    "slideshow": {
     "slide_type": "subslide"
    }
   },
   "source": [
    "### Characters 'Strung' together\n",
    "- Contains **characters**: individual letters or symbols.\n",
    "- Characters in a string appear sequentially (they have a specific order to them).\n",
    "    - Character mappings such as [ASCII](https://en.wikipedia.org/wiki/ASCII) and [Unicode](https://en.wikipedia.org/wiki/Unicode) are used to specify what character value translates to a human readable letter, symbol, or command."
   ]
  },
  {
   "cell_type": "code",
   "execution_count": 4,
   "metadata": {
    "slideshow": {
     "slide_type": "subslide"
    }
   },
   "outputs": [
    {
     "name": "stdout",
     "output_type": "stream",
     "text": [
      "\"hello there\"\n",
      "\n",
      "00 -> \"h\"\n",
      "01 -> \"e\"\n",
      "02 -> \"l\"\n",
      "03 -> \"l\"\n",
      "04 -> \"o\"\n",
      "05 -> \" \"\n",
      "06 -> \"t\"\n",
      "07 -> \"h\"\n",
      "08 -> \"e\"\n",
      "09 -> \"r\"\n",
      "10 -> \"e\"\n"
     ]
    }
   ],
   "source": [
    "hello = 'hello there'\n",
    "print(f'\"{hello}\"\\n')\n",
    "\n",
    "# this will print out in a nice way each character of the\n",
    "# string and it's associated index\n",
    "for index, char in enumerate(hello):\n",
    "    print(f'{index:02} -> \"{char}\"')"
   ]
  },
  {
   "cell_type": "markdown",
   "metadata": {
    "slideshow": {
     "slide_type": "subslide"
    }
   },
   "source": [
    "### Creating Strings in Python\n",
    "\n",
    "- **String Literals:** strings that are directly written within your Python code.\n",
    "- Created using various quotation **delimiters** (a sequence of one or more characters specifying a boundary)"
   ]
  },
  {
   "cell_type": "code",
   "execution_count": 5,
   "metadata": {},
   "outputs": [
    {
     "name": "stdout",
     "output_type": "stream",
     "text": [
      "Did you ever hear the tradegy of Darth Plageius the Wise?\n",
      "I thought not.  It's not a story the Jedi would tell you.\n"
     ]
    }
   ],
   "source": [
    "single_quote = 'Did you ever hear the tradegy of Darth Plageius the Wise?'\n",
    "print(single_quote)\n",
    "double_quote = \"I thought not.  It's not a story the Jedi would tell you.\"\n",
    "print(double_quote)"
   ]
  },
  {
   "cell_type": "code",
   "execution_count": 6,
   "metadata": {
    "slideshow": {
     "slide_type": "subslide"
    }
   },
   "outputs": [
    {
     "name": "stdout",
     "output_type": "stream",
     "text": [
      "\"I find your lack of faith disturbing.\" — Darth Vader\n"
     ]
    }
   ],
   "source": [
    "# Once a string delimeter is first seen, other delimeters can be used: \n",
    "\n",
    "vader_quote = '\"I find your lack of faith disturbing.\" — Darth Vader'\n",
    "print(vader_quote)"
   ]
  },
  {
   "cell_type": "code",
   "execution_count": 7,
   "metadata": {
    "slideshow": {
     "slide_type": "subslide"
    }
   },
   "outputs": [
    {
     "ename": "SyntaxError",
     "evalue": "invalid syntax (<ipython-input-7-83f91cc87a5e>, line 3)",
     "output_type": "error",
     "traceback": [
      "\u001b[1;36m  File \u001b[1;32m\"<ipython-input-7-83f91cc87a5e>\"\u001b[1;36m, line \u001b[1;32m3\u001b[0m\n\u001b[1;33m    luke_quote = 'I'll never turn to the dark side.'\u001b[0m\n\u001b[1;37m                     ^\u001b[0m\n\u001b[1;31mSyntaxError\u001b[0m\u001b[1;31m:\u001b[0m invalid syntax\n"
     ]
    }
   ],
   "source": [
    "# GOTCHA: Be careful about using the delimeter within the string\n",
    "#     you want to create\n",
    "luke_quote = 'I'll never turn to the dark side.'"
   ]
  },
  {
   "cell_type": "markdown",
   "metadata": {
    "slideshow": {
     "slide_type": "subslide"
    }
   },
   "source": [
    "### Multi-Lined Strings"
   ]
  },
  {
   "cell_type": "code",
   "execution_count": 8,
   "metadata": {},
   "outputs": [
    {
     "name": "stdout",
     "output_type": "stream",
     "text": [
      "The dark side of the Force is a pathway to many abilities some consider to be unnatural.\n",
      "The dark side of the Force is a pathway to many abilities some consider to be unnatural.\n"
     ]
    }
   ],
   "source": [
    "# you can use triple single or double quotes to creat a string:\n",
    "triple_single_quote = '''The dark side of the Force is a pathway to many abilities some consider to be unnatural.'''\n",
    "print(triple_single_quote)\n",
    "triple_double_quote = \"\"\"The dark side of the Force is a pathway to many abilities some consider to be unnatural.\"\"\"\n",
    "print(triple_double_quote)"
   ]
  },
  {
   "cell_type": "code",
   "execution_count": 9,
   "metadata": {
    "slideshow": {
     "slide_type": "subslide"
    }
   },
   "outputs": [
    {
     "name": "stdout",
     "output_type": "stream",
     "text": [
      "The dark side of the Force is a pathway \n",
      "to many abilities some consider to be unnatural.\n",
      "\n"
     ]
    }
   ],
   "source": [
    "# Triple quotes can span multiple lines but the newlines\n",
    "# are rendered\n",
    "long_string = \"\"\"The dark side of the Force is a pathway \n",
    "to many abilities some consider to be unnatural.\n",
    "\"\"\"\n",
    "print(long_string)"
   ]
  },
  {
   "cell_type": "code",
   "execution_count": 10,
   "metadata": {
    "slideshow": {
     "slide_type": "subslide"
    }
   },
   "outputs": [
    {
     "name": "stdout",
     "output_type": "stream",
     "text": [
      "The dark side of the Force is a pathway \n",
      "    to many abilities some consider to be unnatural.\n",
      "\n"
     ]
    }
   ],
   "source": [
    "# white spaced is preserved when using triple quotes\n",
    "print(\"\"\"The dark side of the Force is a pathway \n",
    "    to many abilities some consider to be unnatural.\n",
    "\"\"\")"
   ]
  },
  {
   "cell_type": "code",
   "execution_count": 11,
   "metadata": {
    "slideshow": {
     "slide_type": "subslide"
    }
   },
   "outputs": [
    {
     "name": "stdout",
     "output_type": "stream",
     "text": [
      "The dark side of the Force is a pathway to many abilities some consider to be unnatural.\n"
     ]
    }
   ],
   "source": [
    "# If you have a really long string, but don't want newlines the use the\n",
    "# backslash \\\n",
    "print(\"The dark side of the Force is a pathway \\\n",
    "to many abilities some consider to be unnatural.\")"
   ]
  },
  {
   "cell_type": "code",
   "execution_count": 12,
   "metadata": {
    "slideshow": {
     "slide_type": "subslide"
    }
   },
   "outputs": [
    {
     "ename": "SyntaxError",
     "evalue": "EOL while scanning string literal (<ipython-input-12-6f9de0d79e5a>, line 3)",
     "output_type": "error",
     "traceback": [
      "\u001b[1;36m  File \u001b[1;32m\"<ipython-input-12-6f9de0d79e5a>\"\u001b[1;36m, line \u001b[1;32m3\u001b[0m\n\u001b[1;33m    print(\"The dark side of the Force is a pathway \\\u001b[0m\n\u001b[1;37m                                                     ^\u001b[0m\n\u001b[1;31mSyntaxError\u001b[0m\u001b[1;31m:\u001b[0m EOL while scanning string literal\n"
     ]
    }
   ],
   "source": [
    "# GOTCHA: Make sure there isn't ANYTHING (including comments) \n",
    "#     after the backslash as that will cause an error\n",
    "print(\"The dark side of the Force is a pathway \\ \n",
    "to many ablities some consider to be unnatural\")"
   ]
  },
  {
   "cell_type": "markdown",
   "metadata": {
    "slideshow": {
     "slide_type": "subslide"
    }
   },
   "source": [
    "### In-Class Exercises:\n",
    "\n",
    "- Print a string that uses double quotation marks **inside** the string.\n",
    "- Print a string that uses an apostrophe **inside** the string.\n",
    "- Print a string that spans multiple lines, with white space preserved.\n",
    "- Print a string that is coded on multiple lines but displays on a single line."
   ]
  },
  {
   "cell_type": "markdown",
   "metadata": {
    "slideshow": {
     "slide_type": "slide"
    }
   },
   "source": [
    "## Working with Strings\n",
    "\n",
    "Now that we've learned how to create strings, lets examine some of the more common things we can do with them.\n",
    "\n",
    "- Concatenation\n",
    "- Indexing & Slicing\n",
    "- String Immutability\n",
    "- Checking if a string is within another string"
   ]
  },
  {
   "cell_type": "markdown",
   "metadata": {
    "slideshow": {
     "slide_type": "subslide"
    }
   },
   "source": [
    "### Concatenation"
   ]
  },
  {
   "cell_type": "code",
   "execution_count": 13,
   "metadata": {
    "slideshow": {
     "slide_type": "-"
    }
   },
   "outputs": [
    {
     "name": "stdout",
     "output_type": "stream",
     "text": [
      "I love you.I know.\n"
     ]
    }
   ],
   "source": [
    "# You can concatenate (combine) multiple lines together using the + operator\n",
    "leia = \"I love you.\"\n",
    "han = \"I know.\"\n",
    "print(leia + han)"
   ]
  },
  {
   "cell_type": "code",
   "execution_count": 14,
   "metadata": {
    "slideshow": {
     "slide_type": "subslide"
    }
   },
   "outputs": [
    {
     "name": "stdout",
     "output_type": "stream",
     "text": [
      "I love you. I know.\n"
     ]
    }
   ],
   "source": [
    "# the previous example looks a bit weird, because when concatenating strings\n",
    "# nothing else is added, so we have to manually add a space to it\n",
    "print(leia + ' ' + han)"
   ]
  },
  {
   "cell_type": "markdown",
   "metadata": {
    "slideshow": {
     "slide_type": "-"
    }
   },
   "source": [
    "![](https://media.giphy.com/media/e6e1P3wC6xkYg/giphy.gif)"
   ]
  },
  {
   "cell_type": "markdown",
   "metadata": {
    "slideshow": {
     "slide_type": "subslide"
    }
   },
   "source": [
    "### Indexing & Slicing\n",
    "\n",
    "- strings are sequences which means that they can be indexed and sliced\n",
    "- **string index:** the numerical location of a character within a string\n",
    "    - Indexing with all sequence types in Python starts at 0\n",
    "- **string silce:** a sub-string extracted from a string"
   ]
  },
  {
   "cell_type": "code",
   "execution_count": 15,
   "metadata": {
    "slideshow": {
     "slide_type": "subslide"
    }
   },
   "outputs": [
    {
     "name": "stdout",
     "output_type": "stream",
     "text": [
      "M\n",
      "M\n"
     ]
    }
   ],
   "source": [
    "# To view the value of a charater in a string, you must index\n",
    "# into the string using open and close square brackets\n",
    "# following the string or variable\n",
    "ship = \"Mellinnium Falcon\"\n",
    "print(ship[0])\n",
    "print(\"Mellinnium Falcon\"[0])"
   ]
  },
  {
   "cell_type": "code",
   "execution_count": 16,
   "metadata": {
    "slideshow": {
     "slide_type": "subslide"
    }
   },
   "outputs": [
    {
     "name": "stdout",
     "output_type": "stream",
     "text": [
      "Mellinnium\n"
     ]
    },
    {
     "data": {
      "text/plain": [
       "' '"
      ]
     },
     "execution_count": 16,
     "metadata": {},
     "output_type": "execute_result"
    }
   ],
   "source": [
    "# slicing is done by using inserting a colon (:) in between the\n",
    "# start and stop index to extract out the substring.  Notice the\n",
    "# stop index isn't extracted.\n",
    "print(ship[0:10])\n",
    "ship[10]"
   ]
  },
  {
   "cell_type": "code",
   "execution_count": 17,
   "metadata": {
    "slideshow": {
     "slide_type": "subslide"
    }
   },
   "outputs": [
    {
     "name": "stdout",
     "output_type": "stream",
     "text": [
      "Mellinnium\n"
     ]
    }
   ],
   "source": [
    "# slicing doesn't need a start and stop.  Empty assume the first\n",
    "# or last index depending on the situation\n",
    "print(ship[:10])"
   ]
  },
  {
   "cell_type": "code",
   "execution_count": 18,
   "metadata": {},
   "outputs": [
    {
     "data": {
      "text/plain": [
       "' Falcon'"
      ]
     },
     "execution_count": 18,
     "metadata": {},
     "output_type": "execute_result"
    }
   ],
   "source": [
    "ship[10:]"
   ]
  },
  {
   "cell_type": "markdown",
   "metadata": {
    "slideshow": {
     "slide_type": "subslide"
    }
   },
   "source": [
    "### Strings are Immutable\n",
    "\n",
    "- **immutability:** Unable to change the variable's associated value"
   ]
  },
  {
   "cell_type": "code",
   "execution_count": 19,
   "metadata": {},
   "outputs": [
    {
     "data": {
      "text/plain": [
       "'Mellinnium Falcon is the fastest in the galaxy'"
      ]
     },
     "execution_count": 19,
     "metadata": {},
     "output_type": "execute_result"
    }
   ],
   "source": [
    "ship = 'Mellinnium Falcon'\n",
    "ship + ' is the fastest in the galaxy'"
   ]
  },
  {
   "cell_type": "code",
   "execution_count": 20,
   "metadata": {},
   "outputs": [
    {
     "data": {
      "text/plain": [
       "'Mellinnium Falcon'"
      ]
     },
     "execution_count": 20,
     "metadata": {},
     "output_type": "execute_result"
    }
   ],
   "source": [
    "ship"
   ]
  },
  {
   "cell_type": "code",
   "execution_count": 21,
   "metadata": {
    "slideshow": {
     "slide_type": "subslide"
    }
   },
   "outputs": [
    {
     "ename": "TypeError",
     "evalue": "'str' object does not support item assignment",
     "output_type": "error",
     "traceback": [
      "\u001b[1;31m---------------------------------------------------------------------------\u001b[0m",
      "\u001b[1;31mTypeError\u001b[0m                                 Traceback (most recent call last)",
      "\u001b[1;32m<ipython-input-21-f9684aeae416>\u001b[0m in \u001b[0;36m<module>\u001b[1;34m\u001b[0m\n\u001b[0;32m      1\u001b[0m \u001b[1;31m# You also can't change individual values of the string\u001b[0m\u001b[1;33m\u001b[0m\u001b[1;33m\u001b[0m\u001b[0m\n\u001b[1;32m----> 2\u001b[1;33m \u001b[0mship\u001b[0m\u001b[1;33m[\u001b[0m\u001b[1;36m0\u001b[0m\u001b[1;33m]\u001b[0m \u001b[1;33m=\u001b[0m \u001b[1;34m'S'\u001b[0m\u001b[1;33m\u001b[0m\u001b[0m\n\u001b[0m",
      "\u001b[1;31mTypeError\u001b[0m: 'str' object does not support item assignment"
     ]
    }
   ],
   "source": [
    "# You also can't change individual values of the string\n",
    "ship[0] = 'S'"
   ]
  },
  {
   "cell_type": "markdown",
   "metadata": {},
   "source": [
    "![](https://media.giphy.com/media/3ornjSL2sBcPflIDiU/giphy.gif)"
   ]
  },
  {
   "cell_type": "code",
   "execution_count": 22,
   "metadata": {
    "slideshow": {
     "slide_type": "subslide"
    }
   },
   "outputs": [
    {
     "data": {
      "text/plain": [
       "'Sellinnium Falcon'"
      ]
     },
     "execution_count": 22,
     "metadata": {},
     "output_type": "execute_result"
    }
   ],
   "source": [
    "# you need to create a new variable (or overwrite the previous)\n",
    "new_ship = \"S\" + ship[1:]\n",
    "new_ship"
   ]
  },
  {
   "cell_type": "markdown",
   "metadata": {
    "slideshow": {
     "slide_type": "subslide"
    }
   },
   "source": [
    "### the `in` operator\n",
    "\n",
    "- the `in` operater checks to see if a value on the left is in the sequence on the right\n",
    "- returns `True` or `False`"
   ]
  },
  {
   "cell_type": "code",
   "execution_count": 23,
   "metadata": {
    "slideshow": {
     "slide_type": "subslide"
    }
   },
   "outputs": [
    {
     "data": {
      "text/plain": [
       "False"
      ]
     },
     "execution_count": 23,
     "metadata": {},
     "output_type": "execute_result"
    }
   ],
   "source": [
    "jedi_masters = \"Obi-Wan Kenobi, Yoda, Qui-Gon Gin\"\n",
    "'Anakin' in jedi_masters"
   ]
  },
  {
   "cell_type": "markdown",
   "metadata": {},
   "source": [
    "![](https://3.bp.blogspot.com/-BJnqTMTBL6c/VrKYilX6R1I/AAAAAAAABs0/kSJ74wzE9ns/s1600/anakin%2Bcry.gif)"
   ]
  },
  {
   "cell_type": "code",
   "execution_count": 24,
   "metadata": {
    "slideshow": {
     "slide_type": "subslide"
    }
   },
   "outputs": [
    {
     "data": {
      "text/plain": [
       "True"
      ]
     },
     "execution_count": 24,
     "metadata": {},
     "output_type": "execute_result"
    }
   ],
   "source": [
    "council_members = \"Anakin, Obi-Wan Kenobi, Yoda, Qui-Gon Gin\"\n",
    "'Anakin' in council_members"
   ]
  },
  {
   "cell_type": "markdown",
   "metadata": {},
   "source": [
    "![](https://i.pinimg.com/originals/e6/74/49/e6744964a17014c19a122fb002d2a2ca.gif)"
   ]
  },
  {
   "cell_type": "markdown",
   "metadata": {
    "slideshow": {
     "slide_type": "subslide"
    }
   },
   "source": [
    "### In-Class Exercise\n",
    "\n",
    "- Create a string and print its length\n",
    "- Create two strings, concatenate them, and print the result\n",
    "- Create two string and use concatentation to add a space in-between them and print the result\n",
    "- Print the sub-string 'nerf' from the string 'nerf herder'"
   ]
  },
  {
   "cell_type": "markdown",
   "metadata": {
    "slideshow": {
     "slide_type": "slide"
    }
   },
   "source": [
    "## String Methods\n",
    "\n",
    "Strings are objects and as such have a collection of special functions called **string methods** that are used for working with and manipulating strings.  With these methods, we can:\n",
    "\n",
    "- Changing the strings case\n",
    "- Trim trailing and leading whitespace\n",
    "- Find the location of a substring\n",
    "- Replace sub-strings within a string"
   ]
  },
  {
   "cell_type": "markdown",
   "metadata": {
    "slideshow": {
     "slide_type": "subslide"
    }
   },
   "source": [
    "### Changing case"
   ]
  },
  {
   "cell_type": "code",
   "execution_count": 25,
   "metadata": {
    "slideshow": {
     "slide_type": "-"
    }
   },
   "outputs": [
    {
     "name": "stdout",
     "output_type": "stream",
     "text": [
      "jar jar binks\n"
     ]
    }
   ],
   "source": [
    "# You can change the case of all the character in a string by using\n",
    "# the lower and upper methods\n",
    "\n",
    "jar_jar = \"Jar Jar Binks\"\n",
    "print(jar_jar.lower())"
   ]
  },
  {
   "cell_type": "markdown",
   "metadata": {},
   "source": [
    "<img src=\"https://www.washingtonpost.com/resizer/H-GULNtP2kkg_tlUMfsmUzGhNLU=/1484x0/arc-anglerfish-washpost-prod-washpost.s3.amazonaws.com/public/CKVFFZE5IU3H3BHCABPAB4AQ5I.jpg\" width=\"400\" />"
   ]
  },
  {
   "cell_type": "code",
   "execution_count": 26,
   "metadata": {
    "slideshow": {
     "slide_type": "subslide"
    }
   },
   "outputs": [
    {
     "name": "stdout",
     "output_type": "stream",
     "text": [
      "JAR JAR BINKS\n"
     ]
    }
   ],
   "source": [
    "print(jar_jar.upper())"
   ]
  },
  {
   "cell_type": "markdown",
   "metadata": {},
   "source": [
    "<img src=https://static.independent.co.uk/s3fs-public/thumbnails/image/2015/10/26/12/Jar-Jar-Star-Wars.jpg?w968 width=\"400\" />"
   ]
  },
  {
   "cell_type": "markdown",
   "metadata": {
    "slideshow": {
     "slide_type": "subslide"
    }
   },
   "source": [
    "### Trimming Leading and Trailing Whitespace\n",
    "\n",
    "Trimming whitespace means removing spacing characters from either the front or the back of the string.  This can be done using one of three methods."
   ]
  },
  {
   "cell_type": "code",
   "execution_count": 27,
   "metadata": {},
   "outputs": [
    {
     "name": "stdout",
     "output_type": "stream",
     "text": [
      "NOOOOO OOOOOOOO!\n"
     ]
    }
   ],
   "source": [
    "# you can trim whitespaces from the end of a string \n",
    "# by using the string, rstrip, and lstrip methods\n",
    "print(\"   NOOOOO OOOOOOOO!    \".strip())"
   ]
  },
  {
   "cell_type": "code",
   "execution_count": 28,
   "metadata": {},
   "outputs": [
    {
     "name": "stdout",
     "output_type": "stream",
     "text": [
      "NOOOOO OOOOOOOO!    \n"
     ]
    }
   ],
   "source": [
    "print(\"   NOOOOO OOOOOOOO!    \".lstrip())"
   ]
  },
  {
   "cell_type": "code",
   "execution_count": 29,
   "metadata": {},
   "outputs": [
    {
     "name": "stdout",
     "output_type": "stream",
     "text": [
      "   NOOOOOOOOOOOOO!\n"
     ]
    }
   ],
   "source": [
    "print(\"   NOOOOOOOOOOOOO!    \".rstrip())"
   ]
  },
  {
   "cell_type": "markdown",
   "metadata": {
    "slideshow": {
     "slide_type": "subslide"
    }
   },
   "source": [
    "### Finding a sub-string"
   ]
  },
  {
   "cell_type": "code",
   "execution_count": 30,
   "metadata": {},
   "outputs": [],
   "source": [
    "# you can find the starting index of a sub-string by using\n",
    "# the find method\n",
    "who_talks = \"Who talks first? You talk first? I talk first.\""
   ]
  },
  {
   "cell_type": "code",
   "execution_count": 31,
   "metadata": {
    "slideshow": {
     "slide_type": "-"
    }
   },
   "outputs": [
    {
     "name": "stdout",
     "output_type": "stream",
     "text": [
      "4\n"
     ]
    }
   ],
   "source": [
    "# notice that this only finds the first instance of that\n",
    "# substring\n",
    "talk_location = who_talks.find('talk')\n",
    "print(talk_location)"
   ]
  },
  {
   "cell_type": "code",
   "execution_count": 32,
   "metadata": {},
   "outputs": [
    {
     "name": "stdout",
     "output_type": "stream",
     "text": [
      "Who talks first? You talk first? I talk first.\n",
      "    ^\n"
     ]
    }
   ],
   "source": [
    "print(who_talks)\n",
    "\n",
    "# this will print a carrot directly underneath the selected string character\n",
    "# location found from .find\n",
    "print(' ' * talk_location + '^')"
   ]
  },
  {
   "cell_type": "code",
   "execution_count": 33,
   "metadata": {
    "slideshow": {
     "slide_type": "subslide"
    }
   },
   "outputs": [
    {
     "name": "stdout",
     "output_type": "stream",
     "text": [
      "21\n"
     ]
    }
   ],
   "source": [
    "# we can find further instances by passing in the\n",
    "# starting position of the string where to start\n",
    "talk_location = who_talks.find('talk', 5)\n",
    "print(talk_location)"
   ]
  },
  {
   "cell_type": "code",
   "execution_count": 34,
   "metadata": {},
   "outputs": [
    {
     "name": "stdout",
     "output_type": "stream",
     "text": [
      "Who talks first? You talk first? I talk first.\n",
      "                     ^\n"
     ]
    }
   ],
   "source": [
    "print(who_talks)\n",
    "print(' ' * talk_location + '^')"
   ]
  },
  {
   "cell_type": "code",
   "execution_count": 35,
   "metadata": {
    "slideshow": {
     "slide_type": "subslide"
    }
   },
   "outputs": [
    {
     "name": "stdout",
     "output_type": "stream",
     "text": [
      "35\n"
     ]
    }
   ],
   "source": [
    "talk_location = who_talks.find('talk', 22)\n",
    "print(talk_location)"
   ]
  },
  {
   "cell_type": "code",
   "execution_count": 36,
   "metadata": {},
   "outputs": [
    {
     "name": "stdout",
     "output_type": "stream",
     "text": [
      "Who talks first? You talk first? I talk first.\n",
      "                                   ^\n"
     ]
    }
   ],
   "source": [
    "print(who_talks)\n",
    "print(' ' * talk_location + '^')"
   ]
  },
  {
   "cell_type": "code",
   "execution_count": 37,
   "metadata": {
    "slideshow": {
     "slide_type": "subslide"
    }
   },
   "outputs": [
    {
     "name": "stdout",
     "output_type": "stream",
     "text": [
      "-1\n"
     ]
    }
   ],
   "source": [
    "# until we get to a point where there is no \n",
    "print(who_talks.find('talk', 36))"
   ]
  },
  {
   "cell_type": "code",
   "execution_count": 38,
   "metadata": {
    "slideshow": {
     "slide_type": "-"
    }
   },
   "outputs": [
    {
     "name": "stdout",
     "output_type": "stream",
     "text": [
      "-1\n"
     ]
    }
   ],
   "source": [
    "# this is also returned when the sub-string isn't found\n",
    "# in the string at all\n",
    "print(who_talks.find('meh'))"
   ]
  },
  {
   "cell_type": "markdown",
   "metadata": {
    "slideshow": {
     "slide_type": "subslide"
    }
   },
   "source": [
    "### Replacing sub-strings"
   ]
  },
  {
   "cell_type": "code",
   "execution_count": 39,
   "metadata": {},
   "outputs": [
    {
     "name": "stdout",
     "output_type": "stream",
     "text": [
      "Sidius, Vader\n"
     ]
    }
   ],
   "source": [
    "sith_lords = 'Sidius, Duku'\n",
    "print(sith_lords.replace('Duku', 'Vader'))"
   ]
  },
  {
   "cell_type": "code",
   "execution_count": 40,
   "metadata": {},
   "outputs": [
    {
     "name": "stdout",
     "output_type": "stream",
     "text": [
      "Sidius, Duku\n"
     ]
    }
   ],
   "source": [
    "print(sith_lords)"
   ]
  },
  {
   "cell_type": "code",
   "execution_count": 41,
   "metadata": {},
   "outputs": [
    {
     "name": "stdout",
     "output_type": "stream",
     "text": [
      "Sidius, Vader\n"
     ]
    }
   ],
   "source": [
    "sith_lords = sith_lords.replace('Duku', 'Vader')\n",
    "print(sith_lords)"
   ]
  },
  {
   "cell_type": "code",
   "execution_count": 66,
   "metadata": {},
   "outputs": [
    {
     "name": "stdout",
     "output_type": "stream",
     "text": [
      "Not just the ; but the wo and children too!\n"
     ]
    }
   ],
   "source": [
    "# replace can be used to 'remove' substrings\n",
    "troubled_anakin = \"Not just the men; but the women and children too!\"\n",
    "print(troubled_anakin.replace('men', ''))"
   ]
  },
  {
   "cell_type": "code",
   "execution_count": 68,
   "metadata": {},
   "outputs": [
    {
     "name": "stdout",
     "output_type": "stream",
     "text": [
      "Not just the ; but the  and  too!\n"
     ]
    }
   ],
   "source": [
    "# You can actually chain these as well\n",
    "print(troubled_anakin.replace('women', '').replace('men', '').replace('children', ''))"
   ]
  },
  {
   "cell_type": "code",
   "execution_count": 69,
   "metadata": {},
   "outputs": [
    {
     "name": "stdout",
     "output_type": "stream",
     "text": [
      "Not just the ; but the wo and  too!\n"
     ]
    }
   ],
   "source": [
    "# GOTCHA: Beware of order of replacement too\n",
    "print(troubled_anakin.replace('men', '').replace('women', '').replace('children', ''))"
   ]
  },
  {
   "cell_type": "markdown",
   "metadata": {
    "slideshow": {
     "slide_type": "subslide"
    }
   },
   "source": [
    "### In-Class Exercise\n",
    "\n",
    "- Write a script that converts the following strings to lower case:\n",
    "    - Jalin\n",
    "    - Obi-Wan\n",
    "    - Darth Maul\n",
    "    - Rex\n",
    "- Write a script that converts the previous string to upper case\n",
    "- Write a script that remove whitespace from the following strings:\n",
    "    - `\"      Ezra Bridger is my apprentice!     \"`\n",
    "- Write a script that replaces 'Han' with 'Ben', and 'shot' with 'stabbed' in the following string:\n",
    "    - `\"Han Solo shot first\"`\n",
    "- Write a script that finds the location of the string 'Night' within the following string.  Then print out the start and end index of that string along with the actual substring:\n",
    "    - `\"Dathomir is the home planet of the Night Sisters\"`"
   ]
  },
  {
   "cell_type": "markdown",
   "metadata": {
    "slideshow": {
     "slide_type": "slide"
    }
   },
   "source": [
    "## Formatting String\n",
    "\n",
    "Formatting strings allows us to create strings in such a way where we 'insert' variable into the string.  For example, let's say that I wanted to log R2-D2's status like this:\n",
    "\n",
    "```text\n",
    "0001 - Task 1 - Start - Initiate Connection to Computer\n",
    "0002 - Task 2 - Complete - Set urgency level - High\n",
    "0006 - Task 1 - Complete - Connection to computer established\n",
    "0006 - Task 3 - Start - Initiate shutdown of garbage compactor\n",
    "0020 - Task 3 - Complete - Garbage compactor shutdown\n",
    "```"
   ]
  },
  {
   "cell_type": "code",
   "execution_count": 42,
   "metadata": {
    "slideshow": {
     "slide_type": "subslide"
    }
   },
   "outputs": [
    {
     "name": "stdout",
     "output_type": "stream",
     "text": [
      "0001 - Task 1 - Start - Initiate Connection to Computer\n",
      "0002 - Task 2 - Complete - Set urgency level - High\n",
      "0006 - Task 1 - Complete - Connection to computer established\n",
      "0006 - Task 3 - Start - Initiate shutdown of garbage compactor\n",
      "0020 - Task 3 - Complete - Garbage compactor shutdown\n"
     ]
    }
   ],
   "source": [
    "# printing this out is laborious\n",
    "print(\"0001 - Task 1 - Start - Initiate Connection to Computer\")\n",
    "print(\"0002 - Task 2 - Complete - Set urgency level - High\")\n",
    "print(\"0006 - Task 1 - Complete - Connection to computer established\")\n",
    "print(\"0006 - Task 3 - Start - Initiate shutdown of garbage compactor\")\n",
    "print(\"0020 - Task 3 - Complete - Garbage compactor shutdown\")"
   ]
  },
  {
   "cell_type": "markdown",
   "metadata": {
    "slideshow": {
     "slide_type": "subslide"
    }
   },
   "source": [
    "Printing out each line become very laborious AND most likely we're using variable such as `time`, `task_num`, `task_status`, and `message`.  Let's break down the message formatting (*wink, wink*):\n",
    "\n",
    "```text\n",
    "<Time> - Task <Task Num> - <Task Status> - <message>\n",
    "```\n",
    "\n",
    "Let's examine the different methods of doing this with these specific variable/value pairs:"
   ]
  },
  {
   "cell_type": "code",
   "execution_count": 56,
   "metadata": {},
   "outputs": [],
   "source": [
    "time = 0\n",
    "task_num = 1\n",
    "task_status = \"Started\"\n",
    "message = \"Initiate Connection to Computer\""
   ]
  },
  {
   "cell_type": "markdown",
   "metadata": {
    "slideshow": {
     "slide_type": "subslide"
    }
   },
   "source": [
    "### percent/modulo `%` method\n",
    "\n",
    "Don't use this method, but I'm putting it down here for historical background."
   ]
  },
  {
   "cell_type": "code",
   "execution_count": 57,
   "metadata": {},
   "outputs": [
    {
     "name": "stdout",
     "output_type": "stream",
     "text": [
      "0 - Task 1 - Started - Initiate Connection to Computer\n"
     ]
    }
   ],
   "source": [
    "# the % operator basically \"unpacks\" a tuple of values from the right side\n",
    "# into the string on the left side.  Note: this is very printf`y which is how\n",
    "# other languages like C do string formatting.\n",
    "print(\"%d - Task %d - %s - %s\" % (time, task_num, task_status, message))"
   ]
  },
  {
   "cell_type": "markdown",
   "metadata": {
    "slideshow": {
     "slide_type": "subslide"
    }
   },
   "source": [
    "A 'type' reference is required within the string to unpack that value.  Keep on eye on the types that your passing in.  The most common ones are:\n",
    "\n",
    "| symbol | type reference |\n",
    "| ------ | -------------- |\n",
    "| d      | integer        |\n",
    "| f      | float          |\n",
    "| s      | string         |\n",
    "| x      | hex            |"
   ]
  },
  {
   "cell_type": "code",
   "execution_count": 58,
   "metadata": {},
   "outputs": [
    {
     "ename": "TypeError",
     "evalue": "%d format: a number is required, not str",
     "output_type": "error",
     "traceback": [
      "\u001b[1;31m---------------------------------------------------------------------------\u001b[0m",
      "\u001b[1;31mTypeError\u001b[0m                                 Traceback (most recent call last)",
      "\u001b[1;32m<ipython-input-58-e487ca74790c>\u001b[0m in \u001b[0;36m<module>\u001b[1;34m\u001b[0m\n\u001b[1;32m----> 1\u001b[1;33m \u001b[0mprint\u001b[0m\u001b[1;33m(\u001b[0m\u001b[1;34m'%d - Task %d - %d - %d'\u001b[0m \u001b[1;33m%\u001b[0m \u001b[1;33m(\u001b[0m\u001b[0mtime\u001b[0m\u001b[1;33m,\u001b[0m \u001b[0mtask_num\u001b[0m\u001b[1;33m,\u001b[0m \u001b[0mtask_status\u001b[0m\u001b[1;33m,\u001b[0m \u001b[0mmessage\u001b[0m\u001b[1;33m)\u001b[0m\u001b[1;33m)\u001b[0m\u001b[1;33m\u001b[0m\u001b[0m\n\u001b[0m",
      "\u001b[1;31mTypeError\u001b[0m: %d format: a number is required, not str"
     ]
    }
   ],
   "source": [
    "print('%d - Task %d - %d - %d' % (time, task_num, task_status, message))"
   ]
  },
  {
   "cell_type": "code",
   "execution_count": 59,
   "metadata": {
    "slideshow": {
     "slide_type": "subslide"
    }
   },
   "outputs": [
    {
     "name": "stdout",
     "output_type": "stream",
     "text": [
      "0000 - Task 1 - Started - Initiate Connection to Computer\n"
     ]
    }
   ],
   "source": [
    "# the formatting previously isn't quite what we wanted though so we need to \n",
    "# make one more adjustment\n",
    "print(\"%04d - Task %d - %s - %s\" % (time, task_num, task_status, message))"
   ]
  },
  {
   "cell_type": "markdown",
   "metadata": {},
   "source": [
    "The `%04d` means to unpack an integer value (`d`) with a max string length of 4 character wide and filler character of 0 (`04`)."
   ]
  },
  {
   "cell_type": "markdown",
   "metadata": {
    "slideshow": {
     "slide_type": "subslide"
    }
   },
   "source": [
    "### `.format` method\n",
    "\n",
    "The format method builds on the `%` method to make things a little more clearer to the reader what was going on.  In stead of `%<type>` you simply use open close curly brackets (`{}`) to indicate location of variable insertion.  Use this method over using `%` method."
   ]
  },
  {
   "cell_type": "code",
   "execution_count": 60,
   "metadata": {},
   "outputs": [
    {
     "name": "stdout",
     "output_type": "stream",
     "text": [
      "0000 - Task 1 - Started - Initiate Connection to Computer\n"
     ]
    }
   ],
   "source": [
    "print(\"{:04} - Task {} - {} - {}\".format(time, task_num, task_status, message))"
   ]
  },
  {
   "cell_type": "code",
   "execution_count": 61,
   "metadata": {},
   "outputs": [
    {
     "name": "stdout",
     "output_type": "stream",
     "text": [
      "0000 - Task 1 - Started - Initiate Connection to Computer\n"
     ]
    }
   ],
   "source": [
    "# you can assign names to the string locations and reference them in the\n",
    "# .format method\n",
    "print(\"{time:04} - Task {num} - {status} - {message}\".format(\n",
    "    time=time,\n",
    "    status=task_status,\n",
    "    num=task_num,\n",
    "    message=message\n",
    "))"
   ]
  },
  {
   "cell_type": "code",
   "execution_count": 62,
   "metadata": {},
   "outputs": [
    {
     "name": "stdout",
     "output_type": "stream",
     "text": [
      "0000 - Task 1 - Started - Initiate Connection to Computer\n"
     ]
    }
   ],
   "source": [
    "# one advantage of this, is if you're using the same string format over and\n",
    "# over, then you can save the string as a variable and format it later\n",
    "r2_log_entry = \"{time:04} - Task {num} - {status} - {message}\"\n",
    "print(r2_log_entry.format(\n",
    "    time=time,\n",
    "    status=task_status,\n",
    "    num=task_num,\n",
    "    message=message\n",
    "))"
   ]
  },
  {
   "cell_type": "markdown",
   "metadata": {
    "slideshow": {
     "slide_type": "subslide"
    }
   },
   "source": [
    "### f strings\n",
    "\n",
    "f strings are new to Python (3.6+) and therefore not available on all systems.  However, this one build on the `.format` method and removes the need to call `.format` with named locations and instead uses current variable in use:"
   ]
  },
  {
   "cell_type": "code",
   "execution_count": 63,
   "metadata": {},
   "outputs": [
    {
     "name": "stdout",
     "output_type": "stream",
     "text": [
      "0000 - Task 1 - Started - Initiate Connection to Computer\n"
     ]
    }
   ],
   "source": [
    "print(f'{time:04} - Task {task_num} - {task_status} - {message}')"
   ]
  },
  {
   "cell_type": "code",
   "execution_count": 65,
   "metadata": {
    "slideshow": {
     "slide_type": "subslide"
    }
   },
   "outputs": [
    {
     "name": "stdout",
     "output_type": "stream",
     "text": [
      "0002 - Task 2 - Complete - Set urgency level - High\n"
     ]
    }
   ],
   "source": [
    "# updating variables to show the changes\n",
    "time = 2\n",
    "task_status = 'Complete'\n",
    "task_num = 2\n",
    "message = 'Set urgency level - High'\n",
    "print(f'{time:04} - Task {task_num} - {task_status} - {message}')"
   ]
  },
  {
   "cell_type": "markdown",
   "metadata": {
    "slideshow": {
     "slide_type": "subslide"
    }
   },
   "source": [
    "### In-Class Exercise\n",
    "\n",
    "- Using the a formatted string, create the following template and store it in a variable\n",
    "    - `\"The <ship> can make the Kessel Run in less than <distance> parsecs\"`\n",
    "- Using the variable storing the formatted string and the `.format` method, insert the ship name \"Mellinnium Falcon\" and distance of 12\n",
    "- Using an fstring and the same template above, insert the ship name \"Ghost\" and distance of 20"
   ]
  }
 ],
 "metadata": {
  "celltoolbar": "Slideshow",
  "kernelspec": {
   "display_name": "Python 3",
   "language": "python",
   "name": "python3"
  },
  "language_info": {
   "codemirror_mode": {
    "name": "ipython",
    "version": 3
   },
   "file_extension": ".py",
   "mimetype": "text/x-python",
   "name": "python",
   "nbconvert_exporter": "python",
   "pygments_lexer": "ipython3",
   "version": "3.7.4"
  }
 },
 "nbformat": 4,
 "nbformat_minor": 4
}
