{
 "cells": [
  {
   "cell_type": "markdown",
   "metadata": {
    "slideshow": {
     "slide_type": "slide"
    }
   },
   "source": [
    "# String and String Methods\n",
    "\n",
    "![](static/python_strings.png)\n"
   ]
  },
  {
   "cell_type": "markdown",
   "metadata": {
    "slideshow": {
     "slide_type": "slide"
    }
   },
   "source": [
    "## What you'll learn in today's lesson (learning goals)\n",
    "\n",
    "1. What is the string data type.\n",
    "1. String properties.\n",
    "1. Immutable data types.\n",
    "1. How you create a string.\n",
    "1. Common special characters.\n",
    "1. String templates.\n",
    "1. f strings\n",
    "1. Common string \"gotchas\""
   ]
  },
  {
   "cell_type": "markdown",
   "metadata": {
    "slideshow": {
     "slide_type": "slide"
    }
   },
   "source": [
    "## What is the String Data Type?"
   ]
  },
  {
   "cell_type": "markdown",
   "metadata": {
    "slideshow": {
     "slide_type": "subslide"
    }
   },
   "source": [
    "- A fundamental Python data type\n",
    "    - Cannot be broken into smaller values of different type\n",
    "- Abbreviated to `str` in Python:"
   ]
  },
  {
   "cell_type": "code",
   "execution_count": 2,
   "metadata": {},
   "outputs": [
    {
     "name": "stdout",
     "output_type": "stream",
     "text": [
      "<class 'str'>\n"
     ]
    }
   ],
   "source": [
    "print(type(\"Hello World\"))"
   ]
  },
  {
   "cell_type": "markdown",
   "metadata": {
    "slideshow": {
     "slide_type": "subslide"
    }
   },
   "source": [
    "\n",
    "- Have a length to them."
   ]
  },
  {
   "cell_type": "code",
   "execution_count": 9,
   "metadata": {},
   "outputs": [
    {
     "data": {
      "text/plain": [
       "11"
      ]
     },
     "execution_count": 9,
     "metadata": {},
     "output_type": "execute_result"
    }
   ],
   "source": [
    "len(\"hello world\")"
   ]
  },
  {
   "cell_type": "code",
   "execution_count": 11,
   "metadata": {},
   "outputs": [
    {
     "data": {
      "text/plain": [
       "11"
      ]
     },
     "execution_count": 11,
     "metadata": {},
     "output_type": "execute_result"
    }
   ],
   "source": [
    "# Variables that reference a string can be passed into `len` as well:\n",
    "hello = 'Hello world'\n",
    "len(hello)"
   ]
  },
  {
   "cell_type": "markdown",
   "metadata": {
    "slideshow": {
     "slide_type": "subslide"
    }
   },
   "source": [
    "- Contains **characters**: individual letters or symbols.\n",
    "- Characters in a string appear sequentially (they have a specific order to them).\n",
    "    - Character mappings such as [ASCII](https://en.wikipedia.org/wiki/ASCII) and [Unicode](https://en.wikipedia.org/wiki/Unicode) are used to specify what character value translates to a human readable letter, symbol, or command."
   ]
  },
  {
   "cell_type": "code",
   "execution_count": 28,
   "metadata": {},
   "outputs": [
    {
     "name": "stdout",
     "output_type": "stream",
     "text": [
      "\"hello world\"\n",
      "\n",
      "00 -> \"h\"\n",
      "01 -> \"e\"\n",
      "02 -> \"l\"\n",
      "03 -> \"l\"\n",
      "04 -> \"o\"\n",
      "05 -> \" \"\n",
      "06 -> \"w\"\n",
      "07 -> \"o\"\n",
      "08 -> \"r\"\n",
      "09 -> \"l\"\n",
      "10 -> \"d\"\n"
     ]
    }
   ],
   "source": [
    "hello = 'hello world'\n",
    "print(f'\"{hello}\"\\n')\n",
    "for index, char in enumerate(hello):\n",
    "    print(f'{index:02} -> \"{char}\"')"
   ]
  },
  {
   "cell_type": "markdown",
   "metadata": {
    "slideshow": {
     "slide_type": "subslide"
    }
   },
   "source": [
    "### Creating Strings in Python\n",
    "\n",
    "- **String Literals:** strings that are directly written within your Python code.\n",
    "- Created using various quotation **delimiters** (a sequence of one or more characters specifying a boundary)"
   ]
  },
  {
   "cell_type": "code",
   "execution_count": 3,
   "metadata": {},
   "outputs": [],
   "source": [
    "single_quote = 'this is a string using a single quote char'\n",
    "\n",
    "double_quote = \"this is a string using a double quote char\"\n"
   ]
  },
  {
   "cell_type": "code",
   "execution_count": 7,
   "metadata": {
    "slideshow": {
     "slide_type": "subslide"
    }
   },
   "outputs": [],
   "source": [
    "# Once a string delimeter is first seen, other delimeters can be used: \n",
    "she_said_source = 'The beetles wrote \"She Said She Said\" in 1966'"
   ]
  },
  {
   "cell_type": "code",
   "execution_count": 8,
   "metadata": {},
   "outputs": [
    {
     "ename": "SyntaxError",
     "evalue": "invalid syntax (<ipython-input-8-ca1bb0d75374>, line 2)",
     "output_type": "error",
     "traceback": [
      "\u001b[1;36m  File \u001b[1;32m\"<ipython-input-8-ca1bb0d75374>\"\u001b[1;36m, line \u001b[1;32m2\u001b[0m\n\u001b[1;33m    she_said_beetles = 'She said, \"You don't understand what I've said.\"'\u001b[0m\n\u001b[1;37m                                           ^\u001b[0m\n\u001b[1;31mSyntaxError\u001b[0m\u001b[1;31m:\u001b[0m invalid syntax\n"
     ]
    }
   ],
   "source": [
    "# But the same delimeter assumes termination of the string:\n",
    "she_said_beetles = 'She said, \"You don't understand what I've said.\"'"
   ]
  },
  {
   "cell_type": "markdown",
   "metadata": {},
   "source": [
    "### Multi-Lined Strings"
   ]
  },
  {
   "cell_type": "code",
   "execution_count": 30,
   "metadata": {},
   "outputs": [],
   "source": [
    "# you can also use triple single or double quotes to creat a string:\n",
    "triple_single_quote = '''this is a string using a triple single quote char'''\n",
    "\n",
    "triple_double_quote = \"\"\"this is a string using a triple double qoute char\"\"\""
   ]
  },
  {
   "cell_type": "code",
   "execution_count": 5,
   "metadata": {
    "slideshow": {
     "slide_type": "subslide"
    }
   },
   "outputs": [],
   "source": [
    "# Triple quotes can span multiple lines\n",
    "long_string = \"\"\"\n",
    "This is a long string that spans\n",
    "multiple lines without causing error\n",
    "\"\"\""
   ]
  },
  {
   "cell_type": "code",
   "execution_count": 31,
   "metadata": {
    "slideshow": {
     "slide_type": "subslide"
    }
   },
   "outputs": [
    {
     "name": "stdout",
     "output_type": "stream",
     "text": [
      "\n",
      "this is a long string that spans\n",
      "    multiple lines and uses identation\n",
      "    as well that is preserved.\n",
      "\n"
     ]
    }
   ],
   "source": [
    "# white spaced is preserved when using triple quotes\n",
    "print(\"\"\"\n",
    "this is a long string that spans\n",
    "    multiple lines and uses identation\n",
    "    as well that is preserved.\n",
    "\"\"\")"
   ]
  },
  {
   "cell_type": "code",
   "execution_count": 33,
   "metadata": {},
   "outputs": [
    {
     "name": "stdout",
     "output_type": "stream",
     "text": [
      "This is a really long string that spans multiple lines but doesn't preserve the newlines.\n"
     ]
    }
   ],
   "source": [
    "# If you have a really long string, but don't want newlines the use the\n",
    "# backslash \\\n",
    "print(\"This is a really long string that spans \\\n",
    "multiple lines but doesn't preserve the newlines.\")"
   ]
  },
  {
   "cell_type": "markdown",
   "metadata": {},
   "source": [
    "### In-Class Exercises:\n",
    "\n",
    "- Print a string that uses double quotation marks **inside** the string.\n",
    "- Print a string that uses an apostrophe **inside** the string.\n",
    "- Print a string that spans multiple lines, with white space preserved.\n",
    "- Print a string that is coded on multiple lines but displays on a single line."
   ]
  },
  {
   "cell_type": "markdown",
   "metadata": {
    "slideshow": {
     "slide_type": "slide"
    }
   },
   "source": [
    "## Working with Strings"
   ]
  },
  {
   "cell_type": "markdown",
   "metadata": {
    "slideshow": {
     "slide_type": "subslide"
    }
   },
   "source": [
    "### Concatenation"
   ]
  },
  {
   "cell_type": "code",
   "execution_count": 34,
   "metadata": {
    "slideshow": {
     "slide_type": "-"
    }
   },
   "outputs": [
    {
     "name": "stdout",
     "output_type": "stream",
     "text": [
      "Remember Me!Remember Me!\n"
     ]
    }
   ],
   "source": [
    "# You can combine multiple lines together using the + operator\n",
    "remember_me = \"Remember Me!\"\n",
    "bender_quote = remember_me + remember_me\n",
    "print(bender_quote)"
   ]
  },
  {
   "cell_type": "code",
   "execution_count": 36,
   "metadata": {
    "slideshow": {
     "slide_type": "fragment"
    }
   },
   "outputs": [
    {
     "name": "stdout",
     "output_type": "stream",
     "text": [
      "Remember Me! Remember Me!\n"
     ]
    }
   ],
   "source": [
    "bender_quote = remember_me + ' ' + remember_me\n",
    "print(bender_quote)"
   ]
  },
  {
   "cell_type": "code",
   "execution_count": null,
   "metadata": {},
   "outputs": [],
   "source": []
  }
 ],
 "metadata": {
  "celltoolbar": "Slideshow",
  "kernelspec": {
   "display_name": "Python 3",
   "language": "python",
   "name": "python3"
  },
  "language_info": {
   "codemirror_mode": {
    "name": "ipython",
    "version": 3
   },
   "file_extension": ".py",
   "mimetype": "text/x-python",
   "name": "python",
   "nbconvert_exporter": "python",
   "pygments_lexer": "ipython3",
   "version": "3.6.6"
  }
 },
 "nbformat": 4,
 "nbformat_minor": 4
}
