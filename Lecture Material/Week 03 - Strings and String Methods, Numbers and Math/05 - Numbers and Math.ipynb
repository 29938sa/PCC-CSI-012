{
  "cells": [
    {
      "metadata": {
        "slideshow": {
          "slide_type": "slide"
        }
      },
      "cell_type": "markdown",
      "source": "# Numbers and Math\n\n![](https://gifimage.net/wp-content/uploads/2017/10/calculations-gif-6.gif)"
    },
    {
      "metadata": {
        "slideshow": {
          "slide_type": "slide"
        }
      },
      "cell_type": "markdown",
      "source": "## What you'll learn in today's lesson\n\n- Built in numbers integers, floats, and complex numbers\n- Rounding numbers\n- e notation\n- Arithmetic Operators and Expressions\n- Common mathematical functions\n- Printing numbers with specific formatting"
    },
    {
      "metadata": {
        "slideshow": {
          "slide_type": "slide"
        }
      },
      "cell_type": "markdown",
      "source": "## Integers, Floating-Point, and Complex (Imaginary) Numbers\n\n- **Integer:** A number that can be written with no fractional components (no decimals).\n    - One advantage of using integers is speed.  Computers LOVE integers because there's no additional calculations to do the operations.  When working with really big numbers, integers will work a LOT faster than floats.\n    - Another advantage is exact operation math.  When using only integers, the mathematical operations will be exact without any calculative errors.\n    - One disadvantage is that integers cannot do decimal math, which in real life isn't really practical.\n- **Floating Point:** A number that uses a decimal.\n    - One disadvantage is lack of speed; multiple operations will take longer to complete.\n    - One disadvantage is mathematical error in the operations.\n    - Can represent very large and very small numbers.\n- **Complex:** A number type used to represent real and imaginary number combinations."
    },
    {
      "metadata": {
        "slideshow": {
          "slide_type": "subslide"
        },
        "trusted": false
      },
      "cell_type": "code",
      "source": "# We've already previously discussed briefly integers and floats but let's\n# go over the basicis again.  Creating an integer is as simple as setting its\n# value\n\nage = 32\nprint(age)\nprint(type(age))",
      "execution_count": 2,
      "outputs": [
        {
          "name": "stdout",
          "output_type": "stream",
          "text": "32\n<class 'int'>\n"
        }
      ]
    },
    {
      "metadata": {
        "slideshow": {
          "slide_type": "subslide"
        },
        "trusted": false
      },
      "cell_type": "code",
      "source": "# Additionally we can create an integer from a string using the `int` built-in\nage_str = '32'\nage = int(age_str)\nprint(age)\nprint(type(age))",
      "execution_count": 3,
      "outputs": [
        {
          "name": "stdout",
          "output_type": "stream",
          "text": "32\n<class 'int'>\n"
        }
      ]
    },
    {
      "metadata": {
        "slideshow": {
          "slide_type": "subslide"
        },
        "trusted": false
      },
      "cell_type": "code",
      "source": "# We can also create integers from strings that represent a binary number\nage_bin_str = '100000'\nage = int(age_bin_str, 2)\nprint(age)\n\n# or a hexadecimal number\nage_hex_str = '20'\nage = int(age_hex_str, 16)\nprint(age)",
      "execution_count": 57,
      "outputs": [
        {
          "name": "stdout",
          "output_type": "stream",
          "text": "32\n32\n"
        }
      ]
    },
    {
      "metadata": {
        "slideshow": {
          "slide_type": "subslide"
        },
        "trusted": false
      },
      "cell_type": "code",
      "source": "# you can use underscores to make larger integers look cleaner\none_billion = 1_000_000_000\nprint(one_billion)",
      "execution_count": 9,
      "outputs": [
        {
          "name": "stdout",
          "output_type": "stream",
          "text": "1000000000\n"
        }
      ]
    },
    {
      "metadata": {
        "trusted": false
      },
      "cell_type": "code",
      "source": "# but NOT commas.  This is because commas are used to create another data type\n# called a tuple that will be covered in another section\none_billion = 1,000,000\nprint(one_billion)",
      "execution_count": 10,
      "outputs": [
        {
          "name": "stdout",
          "output_type": "stream",
          "text": "(1, 0, 0)\n"
        }
      ]
    },
    {
      "metadata": {
        "slideshow": {
          "slide_type": "subslide"
        }
      },
      "cell_type": "markdown",
      "source": "### The Floating-Point Number in Computers\n\nA 32-bit float uses the following bit assignments to represent a decimal number:\n \n![](https://upload.wikimedia.org/wikipedia/commons/thumb/d/d2/Float_example.svg/1280px-Float_example.svg.png)\n \nThe following algorithm is then used to calculate the value:\n \n![](https://wikimedia.org/api/rest_v1/media/math/render/svg/15f92e12d6d0a7c02be4f12c83007940c432ba87)"
    },
    {
      "metadata": {
        "slideshow": {
          "slide_type": "subslide"
        },
        "trusted": false
      },
      "cell_type": "code",
      "source": "# Floats are created in the exact same way as integers\nage = 32.3\nprint(age)\nprint(type(age))",
      "execution_count": 11,
      "outputs": [
        {
          "name": "stdout",
          "output_type": "stream",
          "text": "32.3\n<class 'float'>\n"
        }
      ]
    },
    {
      "metadata": {
        "slideshow": {
          "slide_type": "subslide"
        },
        "trusted": false
      },
      "cell_type": "code",
      "source": "age = float('32.3')\nprint(age)",
      "execution_count": 55,
      "outputs": [
        {
          "name": "stdout",
          "output_type": "stream",
          "text": "32.3\n"
        }
      ]
    },
    {
      "metadata": {
        "trusted": false
      },
      "cell_type": "code",
      "source": "",
      "execution_count": null,
      "outputs": []
    },
    {
      "metadata": {
        "slideshow": {
          "slide_type": "-"
        },
        "trusted": false
      },
      "cell_type": "code",
      "source": "# You can also use underscores to clear up longer numbers\nprint(1_000_000.0)",
      "execution_count": 15,
      "outputs": [
        {
          "name": "stdout",
          "output_type": "stream",
          "text": "1000000.0\n"
        }
      ]
    },
    {
      "metadata": {
        "slideshow": {
          "slide_type": "subslide"
        },
        "trusted": false
      },
      "cell_type": "code",
      "source": "# Very large and small numbers can be created using the 'e' notation\n# this is the equivalent of <num left> * 10 ^ <num right>\nprint(1e6)\nprint(2.7e-3)",
      "execution_count": 17,
      "outputs": [
        {
          "name": "stdout",
          "output_type": "stream",
          "text": "1000000.0\n0.0027\n"
        }
      ]
    },
    {
      "metadata": {
        "slideshow": {
          "slide_type": "subslide"
        },
        "trusted": false
      },
      "cell_type": "code",
      "source": "# Python has the concept of infinity, which is a value that is beyond the\n# maximum or minimum allowed floating point number for your system.\nprint(2e400)\nprint(-2e400)",
      "execution_count": 21,
      "outputs": [
        {
          "name": "stdout",
          "output_type": "stream",
          "text": "inf\n-inf\n"
        }
      ]
    },
    {
      "metadata": {
        "trusted": false
      },
      "cell_type": "code",
      "source": "# GOTCHA: Rememebr that floatation math is complicated and will lead to\n# mathematical errors\nprint(.1 + .1 + .1)",
      "execution_count": 32,
      "outputs": [
        {
          "name": "stdout",
          "output_type": "stream",
          "text": "0.30000000000000004\n"
        }
      ]
    },
    {
      "metadata": {
        "slideshow": {
          "slide_type": "slide"
        }
      },
      "cell_type": "markdown",
      "source": "### Complex Numbers"
    },
    {
      "metadata": {
        "trusted": false
      },
      "cell_type": "code",
      "source": "# I'm not going to go into too much detail, but wanted to show you how complex\n# numbers are created in Python\n\nmy_num = 2 + 3j\nprint(my_num)\nprint(my_num.real)\nprint(my_num.imag)\nprint(my_num.conjugate())",
      "execution_count": 48,
      "outputs": [
        {
          "name": "stdout",
          "output_type": "stream",
          "text": "(2+3j)\n2.0\n3.0\n(2-3j)\n"
        }
      ]
    },
    {
      "metadata": {
        "slideshow": {
          "slide_type": "slide"
        }
      },
      "cell_type": "markdown",
      "source": "## Mathematical Operations\n\n![](https://media.giphy.com/media/ccQ8MSKkjHE2c/giphy.gif)"
    },
    {
      "metadata": {
        "slideshow": {
          "slide_type": "subslide"
        }
      },
      "cell_type": "markdown",
      "source": "The following operators are used for mathematical operations:\n\n| Operator          | Meaning             |\n| :------:          | --------            |\n| `+`               | addition            |\n| `-`               | subtraction         |\n| `/`               | division            |\n| `*`               | multiplication      |\n| `//`              | integer division    |\n| `%`               | modulus (remainder) |\n| `**`, `pow()`     | exponentiation      |"
    },
    {
      "metadata": {
        "trusted": false
      },
      "cell_type": "code",
      "source": "# Addition\nprint(3 + 9)\nprint(-3 + 4.0)",
      "execution_count": 3,
      "outputs": [
        {
          "name": "stdout",
          "output_type": "stream",
          "text": "12\n1\n"
        }
      ]
    },
    {
      "metadata": {
        "slideshow": {
          "slide_type": "subslide"
        },
        "trusted": false
      },
      "cell_type": "code",
      "source": "# Substration\nprint(9 - 3)\nprint(-10.0 - 4)",
      "execution_count": 7,
      "outputs": [
        {
          "name": "stdout",
          "output_type": "stream",
          "text": "6\n-14.0\n"
        }
      ]
    },
    {
      "metadata": {
        "slideshow": {
          "slide_type": "subslide"
        },
        "trusted": false
      },
      "cell_type": "code",
      "source": "# Multiplication\nprint(4 * 3)\nprint(6 * -2.0)",
      "execution_count": 6,
      "outputs": [
        {
          "name": "stdout",
          "output_type": "stream",
          "text": "12\n-12.0\n"
        }
      ]
    },
    {
      "metadata": {
        "slideshow": {
          "slide_type": "subslide"
        },
        "trusted": false
      },
      "cell_type": "code",
      "source": "# Division\nprint(4 / 2)\nprint(8 / 3.0)",
      "execution_count": 8,
      "outputs": [
        {
          "name": "stdout",
          "output_type": "stream",
          "text": "2.0\n2.6666666666666665\n"
        }
      ]
    },
    {
      "metadata": {
        "slideshow": {
          "slide_type": "subslide"
        },
        "trusted": false
      },
      "cell_type": "code",
      "source": "# Integer Division (Floor Division)\nprint(5 // 2)\n\n# even though its call Integer division, you can use floats with this operator\n# and you'll be given the floored division (rounded down)\nprint(5.2 // 2.5)",
      "execution_count": 15,
      "outputs": [
        {
          "name": "stdout",
          "output_type": "stream",
          "text": "2\n2.0\n"
        }
      ]
    },
    {
      "metadata": {
        "slideshow": {
          "slide_type": "subslide"
        },
        "trusted": false
      },
      "cell_type": "code",
      "source": "## Modulus\nprint(5 % 2)\n\n# this works for floats as well!\nprint(5.2 % 2.5)",
      "execution_count": 18,
      "outputs": [
        {
          "name": "stdout",
          "output_type": "stream",
          "text": "1\n0.20000000000000018\n"
        }
      ]
    },
    {
      "metadata": {
        "slideshow": {
          "slide_type": "subslide"
        },
        "trusted": false
      },
      "cell_type": "code",
      "source": "# GOTCHA: Beware that a division by 0 whether by regular, integer, or modulus\n# division, will return an error:\n\n5 / 0",
      "execution_count": 21,
      "outputs": [
        {
          "ename": "ZeroDivisionError",
          "evalue": "division by zero",
          "output_type": "error",
          "traceback": [
            "\u001b[0;31m---------------------------------------------------------------------------\u001b[0m",
            "\u001b[0;31mZeroDivisionError\u001b[0m                         Traceback (most recent call last)",
            "\u001b[0;32m<ipython-input-21-866c970da5b1>\u001b[0m in \u001b[0;36m<module>\u001b[0;34m\u001b[0m\n\u001b[1;32m      2\u001b[0m \u001b[0;31m# division, will return an error:\u001b[0m\u001b[0;34m\u001b[0m\u001b[0;34m\u001b[0m\u001b[0m\n\u001b[1;32m      3\u001b[0m \u001b[0;34m\u001b[0m\u001b[0m\n\u001b[0;32m----> 4\u001b[0;31m \u001b[0;36m5\u001b[0m \u001b[0;34m/\u001b[0m \u001b[0;36m0\u001b[0m\u001b[0;34m\u001b[0m\u001b[0m\n\u001b[0m",
            "\u001b[0;31mZeroDivisionError\u001b[0m: division by zero"
          ]
        }
      ]
    },
    {
      "metadata": {
        "slideshow": {
          "slide_type": "subslide"
        },
        "trusted": false
      },
      "cell_type": "code",
      "source": "# Exponents can be used with integers and floats\nprint(2 ** 2)\nprint(3 ** 1.5)\nprint(9 ** 0.5)\nprint(2 ** -2)",
      "execution_count": 27,
      "outputs": [
        {
          "name": "stdout",
          "output_type": "stream",
          "text": "4\n5.196152422706632\n3.0\n0.25\n"
        }
      ]
    },
    {
      "metadata": {
        "slideshow": {
          "slide_type": "subslide"
        }
      },
      "cell_type": "markdown",
      "source": "Order also matters, so here is the precedence from highest to lowest:\n\n| Precedence | Operators            |\n| :--------: | -------------------- |\n| 1          | contents within `()` |\n| 2          | `*`, `/`, `//`, `%`  |\n| 3          | `+`, `-`             |"
    },
    {
      "metadata": {
        "slideshow": {
          "slide_type": "subslide"
        },
        "trusted": false
      },
      "cell_type": "code",
      "source": "value = 2 * 3 - 1\nprint(value)",
      "execution_count": 29,
      "outputs": [
        {
          "name": "stdout",
          "output_type": "stream",
          "text": "5\n"
        }
      ]
    },
    {
      "metadata": {
        "slideshow": {
          "slide_type": "-"
        },
        "trusted": false
      },
      "cell_type": "code",
      "source": "value = 4/2 + 2**3\nprint(value)",
      "execution_count": 30,
      "outputs": [
        {
          "name": "stdout",
          "output_type": "stream",
          "text": "10.0\n"
        }
      ]
    },
    {
      "metadata": {
        "slideshow": {
          "slide_type": "-"
        },
        "trusted": false
      },
      "cell_type": "code",
      "source": "value = -1 + (-3*2 + 4)\nprint(value)",
      "execution_count": 31,
      "outputs": [
        {
          "name": "stdout",
          "output_type": "stream",
          "text": "-3\n"
        }
      ]
    },
    {
      "metadata": {
        "slideshow": {
          "slide_type": "subslide"
        }
      },
      "cell_type": "markdown",
      "source": "### In-Class exercise\n- Write a script that creates two variables.  Both should have the same value of 25,000,000 but one uses underscores and the other doesn't.\n- Write a script that assigns the floating-point value of 175000.0 to a variable using exponential (e) notation and then prints the value to the terminal.\n- Write a script that prompts the user to enter a base and then an exponent.  Print out to the user the following:\n    - `<base> to the power of <exponent> = <value>` where `<base>` is the user input for the base, `<exponent>` is the user input for the exponent, and `<value>` is the calculated value"
    },
    {
      "metadata": {
        "slideshow": {
          "slide_type": "slide"
        }
      },
      "cell_type": "markdown",
      "source": "## Math Functions and Number Methods\n\n![](https://media.giphy.com/media/3o6Mbqy2ZURv6JU7KM/giphy.gif)"
    },
    {
      "metadata": {
        "slideshow": {
          "slide_type": "subslide"
        }
      },
      "cell_type": "markdown",
      "source": "### Rounding\n\nThis is the action of changing the number to a value that is approximately the same."
    },
    {
      "metadata": {
        "slideshow": {
          "slide_type": "subslide"
        },
        "trusted": false
      },
      "cell_type": "code",
      "source": "# Rounding is done by using the `round()` function\nprint(round(3.4))\nprint(round(4.6))",
      "execution_count": 67,
      "outputs": [
        {
          "name": "stdout",
          "output_type": "stream",
          "text": "3\n5\n"
        }
      ]
    },
    {
      "metadata": {
        "slideshow": {
          "slide_type": "subslide"
        },
        "trusted": false
      },
      "cell_type": "code",
      "source": "# Ties in rounding are rounded to the nearest even number\nprint(round(2.5))\nprint(round(1.5))",
      "execution_count": 65,
      "outputs": [
        {
          "name": "stdout",
          "output_type": "stream",
          "text": "2\n2\n"
        }
      ]
    },
    {
      "metadata": {
        "slideshow": {
          "slide_type": "subslide"
        },
        "trusted": false
      },
      "cell_type": "code",
      "source": "# round can have a second parameter passed into it to set the amount of \n# decimal places:\nprint(round(3.14159, 2))",
      "execution_count": 42,
      "outputs": [
        {
          "name": "stdout",
          "output_type": "stream",
          "text": "3.14\n"
        }
      ]
    },
    {
      "metadata": {
        "slideshow": {
          "slide_type": "subslide"
        }
      },
      "cell_type": "markdown",
      "source": "### Absolute Value\n\nThis is the action of finding the positive value of a number."
    },
    {
      "metadata": {
        "trusted": false
      },
      "cell_type": "code",
      "source": "print(abs(-5))\nprint(abs(-3.2343))\nprint(abs(898234.93741))",
      "execution_count": 43,
      "outputs": [
        {
          "name": "stdout",
          "output_type": "stream",
          "text": "5\n3.2343\n898234.93741\n"
        }
      ]
    },
    {
      "metadata": {
        "slideshow": {
          "slide_type": "subslide"
        }
      },
      "cell_type": "markdown",
      "source": "###  The `math` package\n\nThe `math` package provides additional functions that you can use.  A **package** is a collection of classes, functions, and variables that you can use.  Access to these packages is done using the `import` keyword in Python.  You can use the `dir` function to see what the packages directory (contents) contains."
    },
    {
      "metadata": {
        "trusted": false
      },
      "cell_type": "code",
      "source": "import math\nprint(dir(math))",
      "execution_count": 34,
      "outputs": [
        {
          "name": "stdout",
          "output_type": "stream",
          "text": "['__doc__', '__file__', '__loader__', '__name__', '__package__', '__spec__', 'acos', 'acosh', 'asin', 'asinh', 'atan', 'atan2', 'atanh', 'ceil', 'copysign', 'cos', 'cosh', 'degrees', 'e', 'erf', 'erfc', 'exp', 'expm1', 'fabs', 'factorial', 'floor', 'fmod', 'frexp', 'fsum', 'gamma', 'gcd', 'hypot', 'inf', 'isclose', 'isfinite', 'isinf', 'isnan', 'ldexp', 'lgamma', 'log', 'log10', 'log1p', 'log2', 'modf', 'nan', 'pi', 'pow', 'radians', 'sin', 'sinh', 'sqrt', 'tan', 'tanh', 'tau', 'trunc']\n"
        }
      ]
    },
    {
      "metadata": {
        "slideshow": {
          "slide_type": "subslide"
        },
        "trusted": false
      },
      "cell_type": "code",
      "source": "# If you don't know what a package, class, or function is, try using the\n# `help` function to view it's documentation\nhelp(math.sinh)",
      "execution_count": 71,
      "outputs": [
        {
          "name": "stdout",
          "output_type": "stream",
          "text": "Help on built-in function sinh in module math:\n\nsinh(...)\n    sinh(x)\n    \n    Return the hyperbolic sine of x.\n\n"
        }
      ]
    },
    {
      "metadata": {
        "slideshow": {
          "slide_type": "subslide"
        },
        "trusted": false
      },
      "cell_type": "code",
      "source": "# the math package has a pi representation\nmath.pi",
      "execution_count": 35,
      "outputs": [
        {
          "data": {
            "text/plain": "3.141592653589793"
          },
          "execution_count": 35,
          "metadata": {},
          "output_type": "execute_result"
        }
      ]
    },
    {
      "metadata": {
        "slideshow": {
          "slide_type": "subslide"
        },
        "trusted": false
      },
      "cell_type": "code",
      "source": "# you can use the ininf() function to see if a float is inifinte\nmath.isinf(float('inf'))",
      "execution_count": 36,
      "outputs": [
        {
          "data": {
            "text/plain": "True"
          },
          "execution_count": 36,
          "metadata": {},
          "output_type": "execute_result"
        }
      ]
    },
    {
      "metadata": {
        "slideshow": {
          "slide_type": "subslide"
        },
        "trusted": false
      },
      "cell_type": "code",
      "source": "# geometric operations such as sine, cosine, and tangent (and their inverse)\n# can also be found.  These functions assume radians\nradians = 0.7\nmath.sin(radians)",
      "execution_count": 68,
      "outputs": [
        {
          "data": {
            "text/plain": "0.644217687237691"
          },
          "execution_count": 68,
          "metadata": {},
          "output_type": "execute_result"
        }
      ]
    }
  ],
  "metadata": {
    "celltoolbar": "Slideshow",
    "kernelspec": {
      "name": "python3",
      "display_name": "Python 3",
      "language": "python"
    },
    "language_info": {
      "mimetype": "text/x-python",
      "nbconvert_exporter": "python",
      "name": "python",
      "pygments_lexer": "ipython3",
      "version": "3.5.4",
      "file_extension": ".py",
      "codemirror_mode": {
        "version": 3,
        "name": "ipython"
      }
    }
  },
  "nbformat": 4,
  "nbformat_minor": 4
}