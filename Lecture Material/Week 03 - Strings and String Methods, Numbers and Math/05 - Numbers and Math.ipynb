{
 "cells": [
  {
   "cell_type": "markdown",
   "metadata": {
    "slideshow": {
     "slide_type": "slide"
    }
   },
   "source": [
    "# Numbers and Math\n",
    "\n",
    "![](https://gifimage.net/wp-content/uploads/2017/10/calculations-gif-6.gif)"
   ]
  },
  {
   "cell_type": "markdown",
   "metadata": {
    "slideshow": {
     "slide_type": "slide"
    }
   },
   "source": [
    "## What you'll learn in today's lesson\n",
    "\n",
    "- Built in numbers integers, floats, and complex numbers\n",
    "- Rounding numbers\n",
    "- e notation\n",
    "- Arithmetic Operators and Expressions\n",
    "- Common mathematical functions\n",
    "- Printing numbers with specific formatting"
   ]
  },
  {
   "cell_type": "markdown",
   "metadata": {
    "slideshow": {
     "slide_type": "slide"
    }
   },
   "source": [
    "## Integers and Floating-Point Numbers\n",
    "\n",
    "- **Integer:** A number that can be written with no fractional components (no decimals).\n",
    "    - One advantage of using integers is speed.  Computers LOVE integers because there's no additional calculations to do the operations.  When working with really big numbers, integers will work a LOT faster than floats.\n",
    "    - Another advantage is exact operation math.  When using only integers, the mathematical operations will be exact without any calculative errors.\n",
    "    - One disadvantage is that integers cannot do decimal math, which in real life isn't really practical.\n",
    "- **Floating Point:** A number that uses a decimal.\n",
    "    - One disadvantage is lack of speed; multiple operations will take longer to complete.\n",
    "    - One disadvantage is mathematical error in the operations."
   ]
  },
  {
   "cell_type": "markdown",
   "metadata": {
    "slideshow": {
     "slide_type": "subslide"
    }
   },
   "source": [
    "### The Floating-Point Number in Computers\n",
    "\n",
    "A 32-bit float uses the following bit assignments to represent a decimal number:\n",
    " \n",
    "![](https://upload.wikimedia.org/wikipedia/commons/thumb/d/d2/Float_example.svg/1280px-Float_example.svg.png)\n",
    " \n",
    "The following algorithm is then used to calculate the value:\n",
    " \n",
    "![](https://wikimedia.org/api/rest_v1/media/math/render/svg/15f92e12d6d0a7c02be4f12c83007940c432ba87)"
   ]
  },
  {
   "cell_type": "code",
   "execution_count": null,
   "metadata": {},
   "outputs": [],
   "source": [
    "# We've already previously discussed briefly integers and floats"
   ]
  },
  {
   "cell_type": "code",
   "execution_count": null,
   "metadata": {},
   "outputs": [],
   "source": []
  }
 ],
 "metadata": {
  "celltoolbar": "Slideshow",
  "kernelspec": {
   "display_name": "Python 3",
   "language": "python",
   "name": "python3"
  },
  "language_info": {
   "codemirror_mode": {
    "name": "ipython",
    "version": 3
   },
   "file_extension": ".py",
   "mimetype": "text/x-python",
   "name": "python",
   "nbconvert_exporter": "python",
   "pygments_lexer": "ipython3",
   "version": "3.7.4"
  }
 },
 "nbformat": 4,
 "nbformat_minor": 4
}
