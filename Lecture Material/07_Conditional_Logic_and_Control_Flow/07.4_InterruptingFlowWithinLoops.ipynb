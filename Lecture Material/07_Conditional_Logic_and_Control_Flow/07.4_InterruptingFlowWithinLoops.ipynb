{
 "cells": [
  {
   "cell_type": "markdown",
   "metadata": {
    "slideshow": {
     "slide_type": "slide"
    }
   },
   "source": [
    "# Interrupting Flow Within Loops\n",
    "\n",
    "So far we've learned how to control the flow of execution using if/elif/else statements.  There's an additional set of flow changes that we can use within the `for` and `while` loops with the `break` and `continue` statements.\n",
    "\n",
    "- **break:** stops the execution of the loop and breaks out as if the loop completed all looping actions.\n",
    "- **continue:** stops the execution of just the current loop and continues as if that single loop completed execution.\n"
   ]
  },
  {
   "cell_type": "markdown",
   "metadata": {
    "slideshow": {
     "slide_type": "slide"
    }
   },
   "source": [
    "## The `break` Statement\n",
    "\n",
    "You use the `break` statement to \"break\" out of the loop that currently executing entirely.  This means that if there would have normally been more loops normally, they wouldn't have been executed.  This is typically used within `while` loops but can be used in `for` loops just the same.  Think of this as a \"stop\" or \"halt\"."
   ]
  },
  {
   "cell_type": "code",
   "execution_count": 1,
   "metadata": {
    "slideshow": {
     "slide_type": "subslide"
    }
   },
   "outputs": [
    {
     "name": "stdout",
     "output_type": "stream",
     "text": [
      "3\n",
      "1\n",
      "5\n"
     ]
    }
   ],
   "source": [
    "import random\n",
    "\n",
    "roll = random.randint(1, 6)\n",
    "while True:\n",
    "    print(roll)\n",
    "    if roll == 4 or roll == 5:\n",
    "        break\n",
    "    roll = random.randint(1, 6)"
   ]
  },
  {
   "cell_type": "markdown",
   "metadata": {
    "slideshow": {
     "slide_type": "slide"
    }
   },
   "source": [
    "## The `continue` Statement\n",
    "\n",
    "You use the `continue` statement to \"skip\" an iteration of the loop.  This means that if there's code after the `continue` statement that would nominally be executed with the loop, that will be skipped but the next iteration will \"continue\"."
   ]
  },
  {
   "cell_type": "code",
   "execution_count": 3,
   "metadata": {
    "slideshow": {
     "slide_type": "subslide"
    }
   },
   "outputs": [
    {
     "name": "stdout",
     "output_type": "stream",
     "text": [
      "1\n",
      "2\n",
      "3\n",
      "6\n"
     ]
    }
   ],
   "source": [
    "for i in range(1, 7):\n",
    "    if i == 4 or i == 5:\n",
    "        continue\n",
    "    print(i)"
   ]
  },
  {
   "cell_type": "markdown",
   "metadata": {
    "slideshow": {
     "slide_type": "slide"
    }
   },
   "source": [
    "## Using `else` with Loops\n",
    "\n",
    "The `else` statement can be used following the `for`/`while` loop constructs.  This will be executed if the loop completed successfully *without* breaking out of the loop."
   ]
  },
  {
   "cell_type": "code",
   "execution_count": 8,
   "metadata": {
    "slideshow": {
     "slide_type": "subslide"
    }
   },
   "outputs": [
    {
     "name": "stdout",
     "output_type": "stream",
     "text": [
      "apples\n",
      "cherries\n",
      "blueberries\n"
     ]
    }
   ],
   "source": [
    "# remeber that .split() splits the string into a list with each\n",
    "# word in the list\n",
    "fruits = 'apples cherries blueberries peaches blackberries'.split()\n",
    "\n",
    "# let's print all the fruits until we see peaches\n",
    "# and then stop all together\n",
    "for fruit in fruits:\n",
    "    if 'peach' in fruit:\n",
    "        break\n",
    "    print(fruit)\n",
    "else:\n",
    "    print(\"peach wasn't found in the fruits\")"
   ]
  },
  {
   "cell_type": "code",
   "execution_count": 9,
   "metadata": {
    "slideshow": {
     "slide_type": "subslide"
    }
   },
   "outputs": [
    {
     "name": "stdout",
     "output_type": "stream",
     "text": [
      "apples\n",
      "cherries\n",
      "blueberries\n",
      "blackberries\n",
      "peach wasn't found in the fruits\n"
     ]
    }
   ],
   "source": [
    "# remeber that .split() splits the string into a list with each\n",
    "# word in the list\n",
    "fruits = 'apples cherries blueberries blackberries'.split()\n",
    "\n",
    "# Let's see what happens if peach isn't in the list\n",
    "for fruit in fruits:\n",
    "    if 'peach' in fruit:\n",
    "        break\n",
    "    print(fruit)\n",
    "else:\n",
    "    print(\"peach wasn't found in the fruits\")"
   ]
  },
  {
   "cell_type": "code",
   "execution_count": 14,
   "metadata": {
    "slideshow": {
     "slide_type": "subslide"
    }
   },
   "outputs": [
    {
     "name": "stdout",
     "output_type": "stream",
     "text": [
      "Enter your guess: larry\n",
      "Enter your guess: bob\n",
      "Enter your guess: joe\n",
      "You lose\n",
      "Game Over\n"
     ]
    }
   ],
   "source": [
    "# Let's make a guessing game that checks to see if the user\n",
    "# guesses the right word.  Here's a case where they fail\n",
    "max_guesses = 3\n",
    "guess = 0\n",
    "val_check = 'kronos'\n",
    "\n",
    "while guess < max_guesses:\n",
    "    val = input('Enter your guess: ')\n",
    "    if val == val_check:\n",
    "        print('You win!')\n",
    "        break\n",
    "        \n",
    "    guess += 1\n",
    "        \n",
    "else:\n",
    "    print('You lose')\n",
    "    \n",
    "print('Game Over')"
   ]
  },
  {
   "cell_type": "code",
   "execution_count": 15,
   "metadata": {
    "slideshow": {
     "slide_type": "subslide"
    }
   },
   "outputs": [
    {
     "name": "stdout",
     "output_type": "stream",
     "text": [
      "Enter your guess: larry\n",
      "Enter your guess: joe\n",
      "Enter your guess: kronos\n",
      "You win!\n",
      "Game Over\n"
     ]
    }
   ],
   "source": [
    "# Let's make a guessing game that checks to see if the user\n",
    "# guesses the right word.  Here's a case where they succeed\n",
    "\n",
    "max_guesses = 3\n",
    "guess = 0\n",
    "val_check = 'kronos'\n",
    "\n",
    "while guess < max_guesses:\n",
    "    val = input('Enter your guess: ')\n",
    "    if val == val_check:\n",
    "        print('You win!')\n",
    "        break\n",
    "        \n",
    "    guess += 1\n",
    "        \n",
    "else:\n",
    "    print('You lose')\n",
    "    \n",
    "print('Game Over')"
   ]
  },
  {
   "cell_type": "markdown",
   "metadata": {
    "slideshow": {
     "slide_type": "slide"
    }
   },
   "source": [
    "## In-Class Assignments\n",
    "\n",
    "- Using `break`, create a program that will prompt the user for 1 of 3 commands:\n",
    "    - `'quote'`: the program will then print the following string \"Blackmail is such an ugly word. I prefer extortion. The x makes it sound cool\"\n",
    "    - `'roll'`: the program will then print out a random number from 1 to 6\n",
    "    - `'quit'`: the program will then print \"goodbye\" and terminate\n",
    "    \n",
    "- Using `continue`, write a program that loops over the numbers 1 to 100 and prints all numbers that are multiples of 7"
   ]
  },
  {
   "cell_type": "markdown",
   "metadata": {
    "slideshow": {
     "slide_type": "slide"
    }
   },
   "source": [
    "## Solutions"
   ]
  },
  {
   "cell_type": "code",
   "execution_count": 17,
   "metadata": {
    "slideshow": {
     "slide_type": "subslide"
    }
   },
   "outputs": [
    {
     "name": "stdout",
     "output_type": "stream",
     "text": [
      "Please enter a command (quote, roll, quit): meh\n",
      "Invalid command\n",
      "Please enter a command (quote, roll, quit): roll\n",
      "3\n",
      "Please enter a command (quote, roll, quit): quote\n",
      "Blackmail is such an ugly word. I prefer extortion. The x makes it sound cool\n",
      "Please enter a command (quote, roll, quit): quit\n",
      "goodbye\n"
     ]
    }
   ],
   "source": [
    "import random\n",
    "\n",
    "while True:\n",
    "    command = input('Please enter a command (quote, roll, quit): ')\n",
    "    if command == 'quote':\n",
    "        print(\"Blackmail is such an ugly word. I prefer extortion. The x makes it sound cool\")\n",
    "    elif command == 'roll':\n",
    "        print(random.randint(1, 6))\n",
    "    elif command == 'quit':\n",
    "        print('goodbye')\n",
    "        break\n",
    "    else:\n",
    "        print('Invalid command')"
   ]
  },
  {
   "cell_type": "code",
   "execution_count": 18,
   "metadata": {
    "slideshow": {
     "slide_type": "subslide"
    }
   },
   "outputs": [
    {
     "name": "stdout",
     "output_type": "stream",
     "text": [
      "0\n",
      "7\n",
      "14\n",
      "21\n",
      "28\n",
      "35\n",
      "42\n",
      "49\n",
      "56\n",
      "63\n",
      "70\n",
      "77\n",
      "84\n",
      "91\n",
      "98\n"
     ]
    }
   ],
   "source": [
    "for i in range(101):\n",
    "    if i % 7 != 0:\n",
    "        continue\n",
    "    print(i)"
   ]
  }
 ],
 "metadata": {
  "celltoolbar": "Slideshow",
  "kernelspec": {
   "display_name": "Python 3",
   "language": "python",
   "name": "python3"
  },
  "language_info": {
   "codemirror_mode": {
    "name": "ipython",
    "version": 3
   },
   "file_extension": ".py",
   "mimetype": "text/x-python",
   "name": "python",
   "nbconvert_exporter": "python",
   "pygments_lexer": "ipython3",
   "version": "3.6.6"
  }
 },
 "nbformat": 4,
 "nbformat_minor": 4
}
