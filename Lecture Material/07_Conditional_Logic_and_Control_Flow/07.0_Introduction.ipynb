{
 "cells": [
  {
   "cell_type": "markdown",
   "metadata": {
    "slideshow": {
     "slide_type": "slide"
    }
   },
   "source": [
    "# Conditional Logic and Control Flow\n",
    "\n",
    "Hello everyone, in this module you're going to learn about conditional logic and how to control the flow of your code based on this logic.  I like to call functions the bread and butter of programming.  To me, conditional logic and control flow is the peanut butter and jelly.  Once you understand these concepts, you'll be able to solve most problems faced by developers.  \n",
    "\n",
    "Conditional logic can sometimes feel like a puzzle, so have fun trying to figure out how all the pieces that come together.  Don't get discouraged if things don't make sense right away either, just like any puzzle that you face everything won't feel like they fit together but as you analyze it over time things will start to make sense."
   ]
  },
  {
   "cell_type": "markdown",
   "metadata": {
    "slideshow": {
     "slide_type": "slide"
    }
   },
   "source": [
    "## Learning Goals (What you'll learn in this module)\n",
    "\n",
    "- What Boolean Expressions are\n",
    "- Common comparison operators\n",
    "- What Logical Operators are\n",
    "- Conditional Execution/Control Flow using if, elif, and else statements\n",
    "- Nested conditionals\n",
    "- Understanding of what short-circuit evaluations are\n",
    "- Truth Tables and how to use them\n",
    "- Break and continue statements\n",
    "- Exception handling using try/except!"
   ]
  },
  {
   "cell_type": "markdown",
   "metadata": {
    "slideshow": {
     "slide_type": "slide"
    }
   },
   "source": [
    "## Module Outline\n",
    "\n",
    "1. Using Boolean Logic to Compare Things\n",
    "1. Logical Operations and Truth Tables\n",
    "1. Controlling Flow with Conditional Statements\n",
    "1. Interrupting Flow within Loops\n",
    "1. Exception Handling Basics"
   ]
  }
 ],
 "metadata": {
  "celltoolbar": "Slideshow",
  "kernelspec": {
   "display_name": "Python 3",
   "language": "python",
   "name": "python3"
  },
  "language_info": {
   "codemirror_mode": {
    "name": "ipython",
    "version": 3
   },
   "file_extension": ".py",
   "mimetype": "text/x-python",
   "name": "python",
   "nbconvert_exporter": "python",
   "pygments_lexer": "ipython3",
   "version": "3.6.6"
  }
 },
 "nbformat": 4,
 "nbformat_minor": 4
}
