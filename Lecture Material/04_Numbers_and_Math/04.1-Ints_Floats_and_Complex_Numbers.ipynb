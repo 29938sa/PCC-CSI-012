{
 "cells": [
  {
   "cell_type": "markdown",
   "metadata": {
    "slideshow": {
     "slide_type": "slide"
    }
   },
   "source": [
    "## Integers, Floating-Point, and Complex (Imaginary) Numbers\n",
    "\n",
    "- **Integer:** A number that can be written with no fractional components (no decimals).\n",
    "    - One advantage of using integers is speed.  Computers LOVE integers because there's no additional calculations to do the operations.  When working with really big numbers, integers will work a LOT faster than floats.\n",
    "    - Another advantage is exact operation math.  When using only integers, the mathematical operations will be exact without any calculative errors.\n",
    "    - One disadvantage is that integers cannot do decimal math, which in real life isn't really practical.\n",
    "- **Floating Point:** A number that uses a decimal.\n",
    "    - One disadvantage is lack of speed; multiple operations will take longer to complete.\n",
    "    - One disadvantage is mathematical error in the operations.\n",
    "    - Can represent very large and very small numbers.\n",
    "- **Complex:** A number type used to represent real and imaginary number combinations."
   ]
  },
  {
   "cell_type": "code",
   "execution_count": 2,
   "metadata": {
    "slideshow": {
     "slide_type": "subslide"
    }
   },
   "outputs": [
    {
     "name": "stdout",
     "output_type": "stream",
     "text": [
      "32\n",
      "<class 'int'>\n"
     ]
    }
   ],
   "source": [
    "# We've already previously discussed briefly integers and floats but let's\n",
    "# go over the basicis again.  Creating an integer is as simple as setting its\n",
    "# value\n",
    "\n",
    "age = 32\n",
    "print(age)\n",
    "print(type(age))"
   ]
  },
  {
   "cell_type": "code",
   "execution_count": 3,
   "metadata": {
    "slideshow": {
     "slide_type": "subslide"
    }
   },
   "outputs": [
    {
     "name": "stdout",
     "output_type": "stream",
     "text": [
      "32\n",
      "<class 'int'>\n"
     ]
    }
   ],
   "source": [
    "# Additionally we can create an integer from a string using the `int` built-in\n",
    "age_str = '32'\n",
    "age = int(age_str)\n",
    "print(age)\n",
    "print(type(age))"
   ]
  },
  {
   "cell_type": "code",
   "execution_count": 57,
   "metadata": {
    "slideshow": {
     "slide_type": "subslide"
    }
   },
   "outputs": [
    {
     "name": "stdout",
     "output_type": "stream",
     "text": [
      "32\n",
      "32\n"
     ]
    }
   ],
   "source": [
    "# We can also create integers from strings that represent a binary number\n",
    "age_bin_str = '100000'\n",
    "age = int(age_bin_str, 2)\n",
    "print(age)\n",
    "\n",
    "# or a hexadecimal number\n",
    "age_hex_str = '20'\n",
    "age = int(age_hex_str, 16)\n",
    "print(age)"
   ]
  },
  {
   "cell_type": "code",
   "execution_count": 9,
   "metadata": {
    "slideshow": {
     "slide_type": "subslide"
    }
   },
   "outputs": [
    {
     "name": "stdout",
     "output_type": "stream",
     "text": [
      "1000000000\n"
     ]
    }
   ],
   "source": [
    "# you can use underscores to make larger integers look cleaner\n",
    "one_billion = 1_000_000_000\n",
    "print(one_billion)"
   ]
  },
  {
   "cell_type": "code",
   "execution_count": 10,
   "metadata": {},
   "outputs": [
    {
     "name": "stdout",
     "output_type": "stream",
     "text": [
      "(1, 0, 0)\n"
     ]
    }
   ],
   "source": [
    "# but NOT commas.  This is because commas are used to create another data type\n",
    "# called a tuple that will be covered in another section\n",
    "one_billion = 1,000,000\n",
    "print(one_billion)"
   ]
  },
  {
   "cell_type": "markdown",
   "metadata": {
    "slideshow": {
     "slide_type": "subslide"
    }
   },
   "source": [
    "### The Floating-Point Number in Computers\n",
    "\n",
    "A 32-bit float uses the following bit assignments to represent a decimal number:\n",
    " \n",
    "![](https://upload.wikimedia.org/wikipedia/commons/thumb/d/d2/Float_example.svg/1280px-Float_example.svg.png)\n",
    " \n",
    "The following algorithm is then used to calculate the value:\n",
    " \n",
    "![](https://wikimedia.org/api/rest_v1/media/math/render/svg/15f92e12d6d0a7c02be4f12c83007940c432ba87)"
   ]
  },
  {
   "cell_type": "code",
   "execution_count": 11,
   "metadata": {
    "slideshow": {
     "slide_type": "subslide"
    }
   },
   "outputs": [
    {
     "name": "stdout",
     "output_type": "stream",
     "text": [
      "32.3\n",
      "<class 'float'>\n"
     ]
    }
   ],
   "source": [
    "# Floats are created in the exact same way as integers\n",
    "age = 32.3\n",
    "print(age)\n",
    "print(type(age))"
   ]
  },
  {
   "cell_type": "code",
   "execution_count": 55,
   "metadata": {
    "slideshow": {
     "slide_type": "subslide"
    }
   },
   "outputs": [
    {
     "name": "stdout",
     "output_type": "stream",
     "text": [
      "32.3\n"
     ]
    }
   ],
   "source": [
    "age = float('32.3')\n",
    "print(age)"
   ]
  },
  {
   "cell_type": "code",
   "execution_count": null,
   "metadata": {},
   "outputs": [],
   "source": []
  },
  {
   "cell_type": "code",
   "execution_count": 15,
   "metadata": {
    "slideshow": {
     "slide_type": "-"
    }
   },
   "outputs": [
    {
     "name": "stdout",
     "output_type": "stream",
     "text": [
      "1000000.0\n"
     ]
    }
   ],
   "source": [
    "# You can also use underscores to clear up longer numbers\n",
    "print(1_000_000.0)"
   ]
  },
  {
   "cell_type": "code",
   "execution_count": 17,
   "metadata": {
    "slideshow": {
     "slide_type": "subslide"
    }
   },
   "outputs": [
    {
     "name": "stdout",
     "output_type": "stream",
     "text": [
      "1000000.0\n",
      "0.0027\n"
     ]
    }
   ],
   "source": [
    "# Very large and small numbers can be created using the 'e' notation\n",
    "# this is the equivalent of <num left> * 10 ^ <num right>\n",
    "print(1e6)\n",
    "print(2.7e-3)"
   ]
  },
  {
   "cell_type": "code",
   "execution_count": 21,
   "metadata": {
    "slideshow": {
     "slide_type": "subslide"
    }
   },
   "outputs": [
    {
     "name": "stdout",
     "output_type": "stream",
     "text": [
      "inf\n",
      "-inf\n"
     ]
    }
   ],
   "source": [
    "# Python has the concept of infinity, which is a value that is beyond the\n",
    "# maximum or minimum allowed floating point number for your system.\n",
    "print(2e400)\n",
    "print(-2e400)"
   ]
  },
  {
   "cell_type": "code",
   "execution_count": 32,
   "metadata": {},
   "outputs": [
    {
     "name": "stdout",
     "output_type": "stream",
     "text": [
      "0.30000000000000004\n"
     ]
    }
   ],
   "source": [
    "# GOTCHA: Rememebr that floatation math is complicated and will lead to\n",
    "# mathematical errors\n",
    "print(.1 + .1 + .1)"
   ]
  },
  {
   "cell_type": "markdown",
   "metadata": {
    "slideshow": {
     "slide_type": "slide"
    }
   },
   "source": [
    "### Complex Numbers"
   ]
  },
  {
   "cell_type": "code",
   "execution_count": 48,
   "metadata": {},
   "outputs": [
    {
     "name": "stdout",
     "output_type": "stream",
     "text": [
      "(2+3j)\n",
      "2.0\n",
      "3.0\n",
      "(2-3j)\n"
     ]
    }
   ],
   "source": [
    "# I'm not going to go into too much detail, but wanted to show you how complex\n",
    "# numbers are created in Python\n",
    "\n",
    "my_num = 2 + 3j\n",
    "print(my_num)\n",
    "print(my_num.real)\n",
    "print(my_num.imag)\n",
    "print(my_num.conjugate())"
   ]
  },
  {
   "cell_type": "code",
   "execution_count": null,
   "metadata": {},
   "outputs": [],
   "source": []
  }
 ],
 "metadata": {
  "kernelspec": {
   "display_name": "Python 3",
   "language": "python",
   "name": "python3"
  },
  "language_info": {
   "codemirror_mode": {
    "name": "ipython",
    "version": 3
   },
   "file_extension": ".py",
   "mimetype": "text/x-python",
   "name": "python",
   "nbconvert_exporter": "python",
   "pygments_lexer": "ipython3",
   "version": "3.6.6"
  }
 },
 "nbformat": 4,
 "nbformat_minor": 4
}
