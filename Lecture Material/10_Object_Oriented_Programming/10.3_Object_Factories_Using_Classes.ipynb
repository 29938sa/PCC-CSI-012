{
 "cells": [
  {
   "cell_type": "markdown",
   "metadata": {},
   "source": [
    "1. Object Factories using classes\n",
    "    - This is the meat of the module\n",
    "    - How to create a class\n",
    "    - A basic class with the lifecycles shown\n",
    "    - Creating our first Pokemon class\n",
    "    - multiple instances\n",
    "        - show that changes to one instances don't affect the other\n",
    "        - https://stackoverflow.com/questions/1680528/how-to-avoid-having-class-data-shared-among-instances\n",
    "    - Classes vs. instances\n",
    "        - class is a \"blueprint\" and an instance is an object created from that blue print\n",
    "    - printing a custom object\n",
    "    - dunder methods (`__str__`)\n",
    "    - class vs. instance attributes\n",
    "        - You should use class attributes whenever a property should have the same initial value for all instances\n",
    "        \n",
    "    - The parts of defining a class\n",
    "        - `class`, name, `(<Parent Class>):` then followed by code\n",
    "        - instance methods are created like functions with the `def` keyword, but have a first argument called `self`\n",
    "        - class methods are created like a function with the `def` keyword, but have a first arugment called `cls`\n",
    "        - attributes are like variables and can be accessed via `self.<attribute>` within the class definition or `object.<attribute>` outside the class definition\n",
    "        \n",
    "    - one advantage of using classes/objects is a for garaunteed set of attributes and methods"
   ]
  },
  {
   "cell_type": "code",
   "execution_count": null,
   "metadata": {},
   "outputs": [],
   "source": []
  }
 ],
 "metadata": {
  "kernelspec": {
   "display_name": "Python 3",
   "language": "python",
   "name": "python3"
  },
  "language_info": {
   "codemirror_mode": {
    "name": "ipython",
    "version": 3
   },
   "file_extension": ".py",
   "mimetype": "text/x-python",
   "name": "python",
   "nbconvert_exporter": "python",
   "pygments_lexer": "ipython3",
   "version": "3.6.6"
  }
 },
 "nbformat": 4,
 "nbformat_minor": 4
}
