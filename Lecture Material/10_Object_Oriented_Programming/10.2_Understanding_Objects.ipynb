{
 "cells": [
  {
   "cell_type": "markdown",
   "metadata": {},
   "source": [
    "# Understanding Objects\n",
    "\n"
   ]
  },
  {
   "cell_type": "markdown",
   "metadata": {},
   "source": [
    "1. Understanding Objects\n",
    "    - Objects are instances of classes\n",
    "    - we've actually been working with objects already!\n",
    "        - string methods\n",
    "        - int methods\n",
    "        - list methods (`sort`, `append`, `__getitem__`)\n",
    "    - everything in Python is an object\n",
    "    - We can find the \"type\" of an object or it's class using `type`\n",
    "    - objects have properties (values) and methods (functions)\n",
    "        - methods = functions for an class/object\n",
    "        - attributes = data items for the class/object\n",
    "    - objects are created by instantiating a class\n",
    "        - Again, we've seen this already (int, str, float, list, etc)\n",
    "    - object lifecycle\n",
    "        - Definition\n",
    "        - Initialization\n",
    "        - Access and Manipulation\n",
    "        - Destruction\n",
    "    - access instance/class attributes/methods using the dot notation\n",
    "\n",
    "- one advantage of using classes/objects is a for garaunteed set of attributes and methods"
   ]
  }
 ],
 "metadata": {
  "celltoolbar": "Slideshow",
  "kernelspec": {
   "display_name": "Python 3",
   "language": "python",
   "name": "python3"
  },
  "language_info": {
   "codemirror_mode": {
    "name": "ipython",
    "version": 3
   },
   "file_extension": ".py",
   "mimetype": "text/x-python",
   "name": "python",
   "nbconvert_exporter": "python",
   "pygments_lexer": "ipython3",
   "version": "3.7.6"
  }
 },
 "nbformat": 4,
 "nbformat_minor": 4
}
