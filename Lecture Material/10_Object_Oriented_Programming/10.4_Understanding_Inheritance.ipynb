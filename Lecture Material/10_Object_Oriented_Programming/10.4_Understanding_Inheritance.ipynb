{
 "cells": [
  {
   "cell_type": "markdown",
   "metadata": {
    "slideshow": {
     "slide_type": "slide"
    }
   },
   "source": [
    "# Understanding Inheritance\n",
    "\n",
    "![Character Selection](https://media.giphy.com/media/xUPGcm1iiAwBrxcgxO/giphy.gif)"
   ]
  },
  {
   "cell_type": "markdown",
   "metadata": {
    "slideshow": {
     "slide_type": "slide"
    }
   },
   "source": [
    "## Inheritance is like Genetics\n",
    "\n",
    "- Just like you \"inherited\" traits from you biological parents, classes in Python can inherit from other classes\n",
    "- Classes that pass on the \"genes\" (attributes/methods) are called parents\n",
    "- Classes that recieve the \"genes\" (attributes/methods) are called children\n",
    "- **Parent Class:** A class that is used to contribute all it's attributes and methods to a child class.\n",
    "- **Child Class:** A class that is used to extend another parent class by inheriting all the parents attributes and methods."
   ]
  },
  {
   "cell_type": "code",
   "execution_count": null,
   "metadata": {
    "slideshow": {
     "slide_type": "subslide"
    }
   },
   "outputs": [],
   "source": [
    "class Pokemon():\n",
    "    generation = 'Base'\n",
    "    \n",
    "    def __init__(self, name, level, start_hp, energy_type, moves):\n",
    "        self.name = name\n",
    "        self.level = level\n",
    "        self.hp = start_hp\n",
    "        self.energy_type = energy_type\n",
    "        self.moves = moves\n",
    "        \n",
    "    def __str__(self):\n",
    "        return f'Pokemon: {self.name} with {self.hp} HP left'\n",
    "    "
   ]
  },
  {
   "cell_type": "code",
   "execution_count": 34,
   "metadata": {
    "slideshow": {
     "slide_type": "subslide"
    }
   },
   "outputs": [
    {
     "name": "stdout",
     "output_type": "stream",
     "text": [
      "energy_type\n",
      "generation\n",
      "hp\n",
      "level\n",
      "moves\n",
      "name\n"
     ]
    }
   ],
   "source": [
    "def print_non_dunder(obj):\n",
    "    for item in dir(obj):\n",
    "        if not item.startswith('__'):\n",
    "            print(item)\n",
    "            \n",
    "print_non_dunder(Pokemon('Starmie', 28, 90, 'water', [('Star Freeze', 30)]))"
   ]
  },
  {
   "cell_type": "code",
   "execution_count": 35,
   "metadata": {
    "slideshow": {
     "slide_type": "-"
    }
   },
   "outputs": [
    {
     "name": "stdout",
     "output_type": "stream",
     "text": [
      "energy_type\n",
      "generation\n",
      "hp\n",
      "level\n",
      "moves\n",
      "name\n"
     ]
    }
   ],
   "source": [
    "class SubPokemon(Pokemon):\n",
    "    pass\n",
    "print_non_dunder(SubPokemon('Starmie', 28, 90, 'water', [('Star Freeze', 30)]))"
   ]
  },
  {
   "cell_type": "markdown",
   "metadata": {
    "slideshow": {
     "slide_type": "slide"
    }
   },
   "source": [
    "## Using `super` to Extend Parent Classes\n",
    "\n",
    "`super` is another special function that is used to use a Parent's attribute/method.  It enables the developers to call an overridden method such as `__init__`"
   ]
  },
  {
   "cell_type": "code",
   "execution_count": 36,
   "metadata": {
    "slideshow": {
     "slide_type": "subslide"
    }
   },
   "outputs": [],
   "source": [
    "class WaterPokemon(Pokemon):\n",
    "    def __init__(self, name, level, start_hp, moves):  # Notice that energy types isn't here\n",
    "        super().__init__(name, level, start_hp, 'water', moves)\n",
    "        self.weakness = 'electric'\n",
    "        \n",
    "class GrassPokemon(Pokemon):\n",
    "    def __init__(self, name, level, start_hp, moves):\n",
    "        super().__init__(name, level, start_hp, 'grass', moves)\n",
    "        self.weakness = 'fire'"
   ]
  },
  {
   "cell_type": "code",
   "execution_count": 22,
   "metadata": {},
   "outputs": [
    {
     "data": {
      "text/plain": [
       "'water'"
      ]
     },
     "execution_count": 22,
     "metadata": {},
     "output_type": "execute_result"
    }
   ],
   "source": [
    "starmie = WaterPokemon('starmie', 28, 90, [('Star Freeze', 30)])\n",
    "starmie.energy_type"
   ]
  },
  {
   "cell_type": "code",
   "execution_count": 23,
   "metadata": {},
   "outputs": [
    {
     "data": {
      "text/plain": [
       "'fire'"
      ]
     },
     "execution_count": 23,
     "metadata": {},
     "output_type": "execute_result"
    }
   ],
   "source": [
    "caterpie = FirePokemon('caterpie', 13, 40, [('String Shot', 10)])\n",
    "caterpie.energy_type"
   ]
  },
  {
   "cell_type": "code",
   "execution_count": 25,
   "metadata": {},
   "outputs": [
    {
     "name": "stdout",
     "output_type": "stream",
     "text": [
      "electric\n",
      "water\n"
     ]
    }
   ],
   "source": [
    "print(starmie.weakness)\n",
    "print(caterpie.weakness)"
   ]
  }
 ],
 "metadata": {
  "celltoolbar": "Slideshow",
  "kernelspec": {
   "display_name": "Python 3",
   "language": "python",
   "name": "python3"
  },
  "language_info": {
   "codemirror_mode": {
    "name": "ipython",
    "version": 3
   },
   "file_extension": ".py",
   "mimetype": "text/x-python",
   "name": "python",
   "nbconvert_exporter": "python",
   "pygments_lexer": "ipython3",
   "version": "3.6.6"
  }
 },
 "nbformat": 4,
 "nbformat_minor": 4
}
