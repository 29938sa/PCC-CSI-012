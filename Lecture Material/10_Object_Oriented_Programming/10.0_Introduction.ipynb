{
 "cells": [
  {
   "cell_type": "markdown",
   "metadata": {},
   "source": [
    "# Object Oriented Programming (OOP)\n",
    "\n",
    "Object Oriented Programming (OOP) is a powerful tool to help you as a developer organize your code and projects.  It's also a topic and concept that can be challenging to pickup and understand.  "
   ]
  },
  {
   "cell_type": "markdown",
   "metadata": {},
   "source": [
    "## Learning Objectives\n",
    "\n",
    "After completing this module you'll learn:\n",
    "\n",
    "- What an object is.\n",
    "- How to create an instance of an object.\n",
    "- Understanding the \"type\" of an object.\n",
    "- The object lifecycle.\n",
    "- What a class is.\n",
    "- How to create you own objects using custom classes.\n",
    "- Class properties and methods.\n",
    "- The differences between class and instance properties.\n",
    "- Creating multiple instances of a class.\n",
    "- Class inheritance.\n",
    "- The difference between a Parent and a Child class."
   ]
  },
  {
   "cell_type": "markdown",
   "metadata": {},
   "source": [
    "## Module Outline\n",
    "\n",
    "1. The need for Object Oriented Programming\n",
    "1. Understanding Objects\n",
    "1. Object factories using classes\n",
    "1. Working with custom classes\n",
    "1. Understanding Inheritance"
   ]
  }
 ],
 "metadata": {
  "kernelspec": {
   "display_name": "Python 3",
   "language": "python",
   "name": "python3"
  },
  "language_info": {
   "codemirror_mode": {
    "name": "ipython",
    "version": 3
   },
   "file_extension": ".py",
   "mimetype": "text/x-python",
   "name": "python",
   "nbconvert_exporter": "python",
   "pygments_lexer": "ipython3",
   "version": "3.6.6"
  }
 },
 "nbformat": 4,
 "nbformat_minor": 4
}
