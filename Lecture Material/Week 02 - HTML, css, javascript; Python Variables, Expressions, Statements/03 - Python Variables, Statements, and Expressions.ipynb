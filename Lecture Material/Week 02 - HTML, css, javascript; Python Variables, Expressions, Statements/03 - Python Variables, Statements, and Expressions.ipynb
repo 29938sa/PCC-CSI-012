{
 "cells": [
  {
   "cell_type": "markdown",
   "metadata": {
    "slideshow": {
     "slide_type": "slide"
    }
   },
   "source": [
    "# Python Variables, Statements, and Operators"
   ]
  },
  {
   "cell_type": "markdown",
   "metadata": {
    "slideshow": {
     "slide_type": "slide"
    }
   },
   "source": [
    "## What you'll learn in today's lesson (learning goals)\n",
    "\n",
    "1. What are variables.\n",
    "1. How to create a variable in Python.\n",
    "1. Naming your variables carefully and clearly.\n",
    "1. Keywords in Python.\n",
    "1. Basic Python Data Types.\n",
    "1. Determining the type of a variable.\n",
    "1. What are operators.\n",
    "1. What is a statement.\n",
    "1. Order of Operations.\n",
    "1. Commenting Code.\n",
    "1. Debugging using the `print` function (not statement)"
   ]
  },
  {
   "cell_type": "markdown",
   "metadata": {
    "slideshow": {
     "slide_type": "slide"
    }
   },
   "source": [
    "## Variables\n",
    "\n"
   ]
  },
  {
   "cell_type": "markdown",
   "metadata": {},
   "source": [
    "### Variables Are:\n",
    "\n",
    "- Assignment of a value to a name.\n",
    "- Used for access and storage.\n",
    "- Created using the \"assignment\" operator `=`."
   ]
  },
  {
   "cell_type": "markdown",
   "metadata": {},
   "source": [
    "### Variable Name Rules:\n",
    "\n",
    "- Can be any length"
   ]
  },
  {
   "cell_type": "markdown",
   "metadata": {},
   "source": [
    "### Writing Good Variable Names:"
   ]
  },
  {
   "cell_type": "code",
   "execution_count": 1,
   "metadata": {},
   "outputs": [
    {
     "data": {
      "text/plain": [
       "{'__name__': '__main__',\n",
       " '__doc__': 'Automatically created module for IPython interactive environment',\n",
       " '__package__': None,\n",
       " '__loader__': None,\n",
       " '__spec__': None,\n",
       " '__builtin__': <module 'builtins' (built-in)>,\n",
       " '__builtins__': <module 'builtins' (built-in)>,\n",
       " '_ih': ['', \"username = 'Kronos'\\nlocals()\"],\n",
       " '_oh': {},\n",
       " '_dh': ['/Users/mertz/Repos/pcc-cis-012-intro-to-programming-python/Lecture Material/Week 02 - HTML, css, javascript; Python Variables, Expressions, Statements'],\n",
       " 'In': ['', \"username = 'Kronos'\\nlocals()\"],\n",
       " 'Out': {},\n",
       " 'get_ipython': <bound method InteractiveShell.get_ipython of <ipykernel.zmqshell.ZMQInteractiveShell object at 0x104103c88>>,\n",
       " 'exit': <IPython.core.autocall.ZMQExitAutocall at 0x10415aac8>,\n",
       " 'quit': <IPython.core.autocall.ZMQExitAutocall at 0x10415aac8>,\n",
       " '_': '',\n",
       " '__': '',\n",
       " '___': '',\n",
       " '_i': '',\n",
       " '_ii': '',\n",
       " '_iii': '',\n",
       " '_i1': \"username = 'Kronos'\\nlocals()\",\n",
       " 'username': 'Kronos'}"
      ]
     },
     "execution_count": 1,
     "metadata": {},
     "output_type": "execute_result"
    }
   ],
   "source": [
    "username = 'Kronos'\n",
    "locals()"
   ]
  },
  {
   "cell_type": "code",
   "execution_count": 7,
   "metadata": {},
   "outputs": [
    {
     "name": "stdout",
     "output_type": "stream",
     "text": [
      "['False', 'None', 'True', 'and', 'as', 'assert', 'async', 'await', 'break', 'class', 'continue', 'def', 'del', 'elif', 'else', 'except', 'finally', 'for', 'from', 'global', 'if', 'import', 'in', 'is', 'lambda', 'nonlocal', 'not', 'or', 'pass', 'raise', 'return', 'try', 'while', 'with', 'yield']\n"
     ]
    }
   ],
   "source": [
    "import keyword\n",
    "print(keyword.kwlist)"
   ]
  },
  {
   "cell_type": "markdown",
   "metadata": {
    "slideshow": {
     "slide_type": "slide"
    }
   },
   "source": [
    "## Data Types"
   ]
  },
  {
   "cell_type": "markdown",
   "metadata": {
    "slideshow": {
     "slide_type": "slide"
    }
   },
   "source": [
    "## Operators"
   ]
  },
  {
   "cell_type": "markdown",
   "metadata": {},
   "source": [
    "## Commenting Code"
   ]
  },
  {
   "cell_type": "markdown",
   "metadata": {},
   "source": [
    "## Today's Debugging: Using the `print` function"
   ]
  }
 ],
 "metadata": {
  "celltoolbar": "Slideshow",
  "kernelspec": {
   "display_name": "Python 3",
   "language": "python",
   "name": "python3"
  },
  "language_info": {
   "codemirror_mode": {
    "name": "ipython",
    "version": 3
   },
   "file_extension": ".py",
   "mimetype": "text/x-python",
   "name": "python",
   "nbconvert_exporter": "python",
   "pygments_lexer": "ipython3",
   "version": "3.6.6"
  }
 },
 "nbformat": 4,
 "nbformat_minor": 4
}
