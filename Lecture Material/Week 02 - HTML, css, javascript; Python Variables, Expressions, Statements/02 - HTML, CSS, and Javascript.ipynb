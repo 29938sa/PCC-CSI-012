{
 "cells": [
  {
   "cell_type": "markdown",
   "metadata": {
    "slideshow": {
     "slide_type": "slide"
    }
   },
   "source": [
    "# HTML, CSS, and Javascript\n"
   ]
  },
  {
   "cell_type": "markdown",
   "metadata": {
    "slideshow": {
     "slide_type": "slide"
    }
   },
   "source": [
    "## What you'll learn in today's lesson (learning goals)\n",
    "\n",
    "1. The definition of HTML, CSS, and Javascript.\n",
    "1. HTML basic tags and how to use them.\n",
    "1. How to create a basic webpage with body, paragraph, and link tags.\n",
    "1. How to create a basic style for websites using css.\n",
    "1. How to add programmatic behavior to your website using javascript.\n",
    "1. Forms and the process of \"submission\".<sup>*</sup>\n",
    "1. Common website vulnerabilities.<sup>*</sup>\n",
    "\n",
    "<sup>* We may or may not get to these topics depending on time spent on the other topics.  These topics will not be tested for understanding in quizzes or exams</sup>"
   ]
  },
  {
   "cell_type": "markdown",
   "metadata": {
    "slideshow": {
     "slide_type": "slide"
    }
   },
   "source": [
    "## What is HTML, CSS, and Javascript?\n",
    "\n",
    "- **HyperText Markup Language (HTML):** The static structure or layout.\n",
    "    - Not a programming language.\n",
    "- **Cascading Style Sheets (CSS):** The static style for the HTML.\n",
    "    - Not a programming language.\n",
    "- **Javascript (js):** The dynamic changes.  Can alter the static content and many other things.\n",
    "    - Is a programming language.\n",
    "\n"
   ]
  },
  {
   "cell_type": "markdown",
   "metadata": {
    "slideshow": {
     "slide_type": "slide"
    }
   },
   "source": [
    "### HTML\n",
    "\n",
    "![](static/morty_html.jpg)"
   ]
  },
  {
   "cell_type": "markdown",
   "metadata": {
    "slideshow": {
     "slide_type": "subslide"
    }
   },
   "source": [
    "### HTML\n",
    "\n",
    "- **Markup Language:** A language used for annotating a document for later stylistic display.\n",
    "    - Another common markup language is 'markdown'.\n",
    "- Consists of elements that are _marked_ with 'tags'.\n",
    "\n",
    "**Example:**"
   ]
  },
  {
   "cell_type": "code",
   "execution_count": 16,
   "metadata": {},
   "outputs": [
    {
     "data": {
      "text/html": [
       "\n",
       "<body>\n",
       "<h1>Mantra</h1>\n",
       "<p><blockquote>There are no winners or losers in the race of life; <br>\n",
       "only finishers and quitters</blockquote></p>\n"
      ],
      "text/plain": [
       "<IPython.core.display.HTML object>"
      ]
     },
     "metadata": {},
     "output_type": "display_data"
    }
   ],
   "source": [
    "%%html\n",
    "\n",
    "<body>\n",
    "<h1>Mantra</h1>\n",
    "<p><blockquote>There are no winners or losers in the race of life; <br>\n",
    "only finishers and quitters</blockquote></p>"
   ]
  },
  {
   "cell_type": "markdown",
   "metadata": {
    "slideshow": {
     "slide_type": "subslide"
    }
   },
   "source": [
    "### HTML Elements Structure\n",
    "\n",
    "<p>\n",
    "<figure class=\"image\">\n",
    "    <img src=\"https://media.prod.mdn.mozit.cloud/attachments/2014/11/14/9347/c07aa313dbdd667585430f4eca354dbd/grumpy-cat-small.png\" alt=\"HTML Element Structure\">\n",
    "    <center><figcaption><i><b>Source:</b> MDN web docs by Mozilla</i></figcaption></center>\n",
    "</figure>\n",
    "</p>\n",
    "\n",
    "- **Opening Tag:** the name of the element (often times abbreviations) wrapped in opening and closed angle brackets.\n",
    "- **Closing Tag:** the name of the element (same as closing) wrapped in opening and closed angle brackets but a forward slash in between the opening angle bracket and element name.\n",
    "- **Content:** The content of the element (most time text)."
   ]
  },
  {
   "cell_type": "markdown",
   "metadata": {
    "slideshow": {
     "slide_type": "subslide"
    }
   },
   "source": [
    "### Common Element Tags \n",
    "\n",
    "| Element Tag | Description                                                                 |\n",
    "| :---------- | :-------------------------------------------------------------------------- |\n",
    "| `title`     | Defines the document's title that is shown in the browser's title bar.      |\n",
    "| `body`      | The content of the document.  Can only be one.                              |\n",
    "| `h1` - `h6` | Multi-level heading for a section of a document.                            |\n",
    "| `main`      | The dominant content of the `body` element of the document.                 |\n",
    "| `div`       | Generic container for flow of content.                                      |\n",
    "| `a`         | An anchor element (commonly used with the `href` attr to create hyperlinks. |\n",
    "| `em`        | Marks text as emphasis.                                                     |\n",
    "| `i`         | Marks text as different (italics).                                          |\n",
    "| `b`         | Marks test as bold.                                                         |\n",
    "| `img`       | Embed an image.                                                             |\n",
    "\n",
    "See also: https://developer.mozilla.org/en-US/docs/Web/HTML/Element"
   ]
  },
  {
   "cell_type": "markdown",
   "metadata": {
    "slideshow": {
     "slide_type": "subslide"
    }
   },
   "source": [
    "## Combining Tags To Make a Web Page\n",
    "\n"
   ]
  },
  {
   "cell_type": "markdown",
   "metadata": {
    "slideshow": {
     "slide_type": "slide"
    }
   },
   "source": [
    "## Styling Using CSS"
   ]
  },
  {
   "cell_type": "markdown",
   "metadata": {
    "slideshow": {
     "slide_type": "slide"
    }
   },
   "source": [
    "## Programmatic Behavior Using Javascript"
   ]
  },
  {
   "cell_type": "markdown",
   "metadata": {
    "slideshow": {
     "slide_type": "slide"
    }
   },
   "source": [
    "## HTML Form and Submitting Data<sup>*</sup>"
   ]
  },
  {
   "cell_type": "markdown",
   "metadata": {
    "slideshow": {
     "slide_type": "slide"
    }
   },
   "source": [
    "## Common Website Vulnerabilities<sup>*</sup>"
   ]
  },
  {
   "cell_type": "markdown",
   "metadata": {
    "slideshow": {
     "slide_type": "slide"
    }
   },
   "source": [
    "## In Class Assignment\n",
    "\n",
    "You're going to create a web page about yourself with the following elements:\n",
    "\n",
    "- At least 5 pages with some sort of navigation to and from each page\n",
    "- Usage of at least the following tags:\n",
    "    - `<a>`\n",
    "    - `<p>`\n",
    "    - `<body>`\n",
    "- At least one link to another external website\n",
    "- Try to use as many different tags as you can (shoot for at least 20)"
   ]
  },
  {
   "cell_type": "markdown",
   "metadata": {},
   "source": [
    "# References\n",
    "\n",
    "- https://developer.mozilla.org/en-US/docs/Learn/Getting_started_with_the_web/HTML_basics\n",
    "- "
   ]
  }
 ],
 "metadata": {
  "celltoolbar": "Slideshow",
  "kernelspec": {
   "display_name": "Python 3",
   "language": "python",
   "name": "python3"
  },
  "language_info": {
   "codemirror_mode": {
    "name": "ipython",
    "version": 3
   },
   "file_extension": ".py",
   "mimetype": "text/x-python",
   "name": "python",
   "nbconvert_exporter": "python",
   "pygments_lexer": "ipython3",
   "version": "3.7.4"
  }
 },
 "nbformat": 4,
 "nbformat_minor": 4
}
