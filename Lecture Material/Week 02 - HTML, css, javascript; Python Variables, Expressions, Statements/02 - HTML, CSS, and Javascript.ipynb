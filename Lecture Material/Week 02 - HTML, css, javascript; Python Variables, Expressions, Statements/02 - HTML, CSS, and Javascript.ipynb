{
 "cells": [
  {
   "cell_type": "markdown",
   "metadata": {
    "slideshow": {
     "slide_type": "slide"
    }
   },
   "source": [
    "# HTML, CSS, and Javascript\n"
   ]
  },
  {
   "cell_type": "markdown",
   "metadata": {
    "slideshow": {
     "slide_type": "slide"
    }
   },
   "source": [
    "## What you'll learn in today's lesson (learning goals)\n",
    "\n",
    "1. The definition of HTML, CSS, and Javascript.\n",
    "1. HTML basic tags and how to use them.\n",
    "1. How to create a basic webpage with body, paragraph, and link tags.\n",
    "1. How to create a basic style for websites using css.\n",
    "1. How to add programmatic behavior to your website using javascript.\n",
    "1. Forms and the process of \"submission\".<sup>*</sup>\n",
    "1. Common website vulnerabilities.<sup>*</sup>\n",
    "\n",
    "<sup>* We may or may not get to these topics depending on time spent on the other topics.  These topics will not be tested for understanding in quizzes or exams</sup>"
   ]
  },
  {
   "cell_type": "markdown",
   "metadata": {
    "slideshow": {
     "slide_type": "slide"
    }
   },
   "source": [
    "## What is HTML, CSS, and Javascript?"
   ]
  },
  {
   "cell_type": "markdown",
   "metadata": {
    "slideshow": {
     "slide_type": "slide"
    }
   },
   "source": [
    "## HTML Tags"
   ]
  },
  {
   "cell_type": "markdown",
   "metadata": {
    "slideshow": {
     "slide_type": "slide"
    }
   },
   "source": [
    "## Combining Tags To Make a Web Page"
   ]
  },
  {
   "cell_type": "markdown",
   "metadata": {
    "slideshow": {
     "slide_type": "slide"
    }
   },
   "source": [
    "## Styling Using CSS"
   ]
  },
  {
   "cell_type": "markdown",
   "metadata": {
    "slideshow": {
     "slide_type": "slide"
    }
   },
   "source": [
    "## Programmatic Behavior Using Javascript"
   ]
  },
  {
   "cell_type": "markdown",
   "metadata": {
    "slideshow": {
     "slide_type": "slide"
    }
   },
   "source": [
    "## HTML Form and Submitting Data<sup>*</sup>"
   ]
  },
  {
   "cell_type": "markdown",
   "metadata": {
    "slideshow": {
     "slide_type": "slide"
    }
   },
   "source": [
    "## Common Website Vulnerabilities<sup>*</sup>"
   ]
  },
  {
   "cell_type": "markdown",
   "metadata": {
    "slideshow": {
     "slide_type": "slide"
    }
   },
   "source": [
    "## In Class Assignment\n",
    "\n",
    "You're going to create a web page about yourself with the following elements:\n",
    "\n",
    "- At least 5 pages with some sort of navigation to and from each page\n",
    "- Usage of at least the following tags:\n",
    "    - `<a>`\n",
    "    - `<p>`\n",
    "    - `<body>`\n",
    "- At least one link to another external website\n",
    "- Try to use as many different tags as you can (shoot for at least 20)"
   ]
  }
 ],
 "metadata": {
  "celltoolbar": "Slideshow",
  "kernelspec": {
   "display_name": "Python 3",
   "language": "python",
   "name": "python3"
  },
  "language_info": {
   "codemirror_mode": {
    "name": "ipython",
    "version": 3
   },
   "file_extension": ".py",
   "mimetype": "text/x-python",
   "name": "python",
   "nbconvert_exporter": "python",
   "pygments_lexer": "ipython3",
   "version": "3.8.1"
  }
 },
 "nbformat": 4,
 "nbformat_minor": 4
}
