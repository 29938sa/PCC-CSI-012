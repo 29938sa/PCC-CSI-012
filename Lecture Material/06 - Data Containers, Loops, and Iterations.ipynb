{
 "cells": [
  {
   "cell_type": "markdown",
   "metadata": {
    "slideshow": {
     "slide_type": "slide"
    }
   },
   "source": [
    "# Data Containers, Lists, and Iterations\n",
    "\n",
    "![](https://media.giphy.com/media/oaEFALSfxeso/giphy.gif)"
   ]
  },
  {
   "cell_type": "markdown",
   "metadata": {
    "slideshow": {
     "slide_type": "slide"
    }
   },
   "source": [
    "## What you'll learn in this week's lesson (Learning Goals)\n",
    "\n",
    "- What a data structure is.\n",
    "- What is a Tuple, List, and Dictionary, their differences, and when to use them.\n",
    "- Mutability vs. Immutability.\n",
    "- Looping and Iterating using For and While Loops.\n",
    "- Finding items within a Data Structure.\n",
    "- Indexing and slicing.\n",
    "- Adding and removing elements.\n",
    "- Nesting, Copying, and Sorting elements."
   ]
  },
  {
   "cell_type": "markdown",
   "metadata": {
    "slideshow": {
     "slide_type": "slide"
    }
   },
   "source": [
    "## Tuples\n",
    "\n",
    "- **Tuple:** A finite _ordered_ sequence of values.\n",
    "    - Order is based on \"insertion\" (the order in which is was declared).\n",
    "    - A comma (,) separated set of values.\n",
    "    - Can contain any type of element (int, str, float, any objects)\n",
    "    - Immutable.  Order cannot change and elements cannot be added.\n",
    "    - Strings are basically tuples but specifically for only characters.\n",
    "    - **Iterable:** Capable of being iterated (looped) over."
   ]
  },
  {
   "cell_type": "code",
   "execution_count": 1,
   "metadata": {
    "slideshow": {
     "slide_type": "subslide"
    }
   },
   "outputs": [
    {
     "name": "stdout",
     "output_type": "stream",
     "text": [
      "(1, '2', 3.0)\n"
     ]
    }
   ],
   "source": [
    "# You create a tuple using comma separate elements\n",
    "first_tuple = 1,'2', 3.0\n",
    "print(first_tuple)"
   ]
  },
  {
   "cell_type": "code",
   "execution_count": 2,
   "metadata": {
    "slideshow": {
     "slide_type": "subslide"
    }
   },
   "outputs": [
    {
     "name": "stdout",
     "output_type": "stream",
     "text": [
      "(1, '2', 3.0)\n"
     ]
    }
   ],
   "source": [
    "# It's common practice to surround the separated elements\n",
    "# with ()\n",
    "first_tuple = (1, '2', 3.0)\n",
    "print(first_tuple)"
   ]
  },
  {
   "cell_type": "code",
   "execution_count": 3,
   "metadata": {
    "slideshow": {
     "slide_type": "subslide"
    }
   },
   "outputs": [
    {
     "name": "stdout",
     "output_type": "stream",
     "text": [
      "()\n",
      "<class 'tuple'>\n"
     ]
    }
   ],
   "source": [
    "# You can create an empty tuple, though this isn't very useful\n",
    "empty_tuple = ()\n",
    "print(empty_tuple)\n",
    "print(type(empty_tuple))"
   ]
  },
  {
   "cell_type": "code",
   "execution_count": 4,
   "metadata": {
    "slideshow": {
     "slide_type": "subslide"
    }
   },
   "outputs": [
    {
     "name": "stdout",
     "output_type": "stream",
     "text": [
      "1\n",
      "<class 'int'>\n"
     ]
    }
   ],
   "source": [
    "# creating a single item tuple is a bit quirky. Remember that parenthesis\n",
    "# DOES NOT create a tuple (except empty ones), but rather the comma.\n",
    "single_item_tuple = (1)\n",
    "print(single_item_tuple)\n",
    "print(type(single_item_tuple))"
   ]
  },
  {
   "cell_type": "code",
   "execution_count": 5,
   "metadata": {
    "slideshow": {
     "slide_type": "subslide"
    }
   },
   "outputs": [
    {
     "name": "stdout",
     "output_type": "stream",
     "text": [
      "(1,)\n",
      "<class 'tuple'>\n"
     ]
    }
   ],
   "source": [
    "# Here is the proper way to create a tuple.\n",
    "single_item_tuple = (1,)\n",
    "print(single_item_tuple)\n",
    "print(type(single_item_tuple))"
   ]
  },
  {
   "cell_type": "code",
   "execution_count": 6,
   "metadata": {
    "slideshow": {
     "slide_type": "subslide"
    }
   },
   "outputs": [
    {
     "name": "stdout",
     "output_type": "stream",
     "text": [
      "('H', 'e', 'l', 'l', 'o', ' ', 'W', 'o', 'r', 'l', 'd')\n"
     ]
    }
   ],
   "source": [
    "# Like int, str, and float, tuple have a constructor:\n",
    "hello_tuple = tuple(\"Hello World\")\n",
    "print(hello_tuple)"
   ]
  },
  {
   "cell_type": "code",
   "execution_count": 7,
   "metadata": {
    "slideshow": {
     "slide_type": "subslide"
    }
   },
   "outputs": [
    {
     "name": "stdout",
     "output_type": "stream",
     "text": [
      "(1, 2, 3, 4, 5)\n",
      "5\n"
     ]
    }
   ],
   "source": [
    "# Similar to string, tuples have a length to them.\n",
    "values = (1, 2, 3, 4, 5)\n",
    "print(values)\n",
    "print(len(values))"
   ]
  },
  {
   "cell_type": "code",
   "execution_count": 8,
   "metadata": {
    "slideshow": {
     "slide_type": "subslide"
    }
   },
   "outputs": [
    {
     "name": "stdout",
     "output_type": "stream",
     "text": [
      "(3, 4)\n",
      "2\n"
     ]
    }
   ],
   "source": [
    "# And you can also index and slice into them\n",
    "print(values[2:4])\n",
    "print(values[1])"
   ]
  },
  {
   "cell_type": "code",
   "execution_count": 9,
   "metadata": {
    "slideshow": {
     "slide_type": "subslide"
    }
   },
   "outputs": [
    {
     "ename": "TypeError",
     "evalue": "'tuple' object does not support item assignment",
     "output_type": "error",
     "traceback": [
      "\u001b[1;31m---------------------------------------------------------------------------\u001b[0m",
      "\u001b[1;31mTypeError\u001b[0m                                 Traceback (most recent call last)",
      "\u001b[1;32m<ipython-input-9-a874a5c6d364>\u001b[0m in \u001b[0;36m<module>\u001b[1;34m\u001b[0m\n\u001b[0;32m      1\u001b[0m \u001b[1;31m# They're also immutable like strings as well\u001b[0m\u001b[1;33m\u001b[0m\u001b[1;33m\u001b[0m\u001b[0m\n\u001b[1;32m----> 2\u001b[1;33m \u001b[0mvalues\u001b[0m\u001b[1;33m[\u001b[0m\u001b[1;36m2\u001b[0m\u001b[1;33m]\u001b[0m \u001b[1;33m=\u001b[0m \u001b[1;36m6\u001b[0m\u001b[1;33m\u001b[0m\u001b[0m\n\u001b[0m",
      "\u001b[1;31mTypeError\u001b[0m: 'tuple' object does not support item assignment"
     ]
    }
   ],
   "source": [
    "# They're also immutable like strings as well\n",
    "values[2] = 6"
   ]
  },
  {
   "cell_type": "code",
   "execution_count": null,
   "metadata": {
    "slideshow": {
     "slide_type": "subslide"
    }
   },
   "outputs": [],
   "source": [
    "# You can \"unpack\" tuples as well.\n",
    "values = (1, '2', 3.0)\n",
    "one, two, three = values\n",
    "print(values)\n",
    "print(one)\n",
    "print(two)\n",
    "print(three)"
   ]
  },
  {
   "cell_type": "code",
   "execution_count": null,
   "metadata": {
    "slideshow": {
     "slide_type": "subslide"
    }
   },
   "outputs": [],
   "source": [
    "# You can check to see if a value is in a tuple.\n",
    "3.0 in values"
   ]
  },
  {
   "cell_type": "code",
   "execution_count": null,
   "metadata": {
    "slideshow": {
     "slide_type": "subslide"
    }
   },
   "outputs": [],
   "source": [
    "# you can find the first location of a value in the tuple using\n",
    "# index\n",
    "values.index(3.0)"
   ]
  },
  {
   "cell_type": "code",
   "execution_count": null,
   "metadata": {
    "slideshow": {
     "slide_type": "subslide"
    }
   },
   "outputs": [],
   "source": [
    "# Finally, you can iterate over tuples\n",
    "vowels = ('a', 'e', 'i', 'o', 'u')\n",
    "for vowel in vowels:\n",
    "    print(vowel)"
   ]
  },
  {
   "cell_type": "markdown",
   "metadata": {
    "slideshow": {
     "slide_type": "slide"
    }
   },
   "source": [
    "## Loops\n",
    "\n",
    "![](https://i.giphy.com/Amkz0FYje7yUw.gif)\n",
    "\n",
    "- **Loop:** A repeatable set of actions with a set of defined starting and closing actions.\n",
    "- **For Loop:** A type of loop that iterates over a sequence of objects.\n",
    "- **While Loop:** A type of loop that continually loops until a specific exit criteria is met."
   ]
  },
  {
   "cell_type": "markdown",
   "metadata": {
    "slideshow": {
     "slide_type": "subslide"
    }
   },
   "source": [
    "### While Loops\n",
    "\n",
    "- Uses the `while` keyword, followed by a test condition, ends with the colon (`:`).\n",
    "- Loop body contains the code to be repeated.  This is indented by one indentation level.\n",
    "- Should be used when the sequences, or the number of loop operations isn't finite or known.\n",
    "- Infinite loops (no stopping) can be created."
   ]
  },
  {
   "cell_type": "code",
   "execution_count": null,
   "metadata": {
    "slideshow": {
     "slide_type": "subslide"
    }
   },
   "outputs": [],
   "source": [
    "i = 0\n",
    "while i < len(vowels):\n",
    "    print(vowels[i])\n",
    "    i += 1\n"
   ]
  },
  {
   "cell_type": "markdown",
   "metadata": {
    "slideshow": {
     "slide_type": "subslide"
    }
   },
   "source": [
    "### Side-bar: Tabs vs. Spaces:\n",
    "\n",
    "![](https://media.giphy.com/media/LROKNqr26NG48/giphy.gif)"
   ]
  },
  {
   "cell_type": "markdown",
   "metadata": {},
   "source": [
    "- tabs or spaces can be used to mark indentation levels.\n",
    "- Python 3 will **not** allow mixture of the two.\n",
    "- PEP 8 (Python Standard guide) suggests 4 spaces (or tabs that render at 4 spaces)"
   ]
  },
  {
   "cell_type": "markdown",
   "metadata": {
    "slideshow": {
     "slide_type": "subslide"
    }
   },
   "source": [
    "### Most Importantly, Don't let it ruin relationships:"
   ]
  },
  {
   "cell_type": "code",
   "execution_count": null,
   "metadata": {
    "slideshow": {
     "slide_type": "-"
    }
   },
   "outputs": [],
   "source": [
    "from IPython.display import YouTubeVideo\n",
    "\n",
    "YouTubeVideo('SsoOG6ZeyUI', width=800, height=400)"
   ]
  },
  {
   "cell_type": "markdown",
   "metadata": {
    "slideshow": {
     "slide_type": "subslide"
    }
   },
   "source": [
    "### The For Loop\n",
    "\n",
    "![](static/for_loop_structure.png)\n",
    "\n",
    "- Uses the `for` keyword followed an element var name, the keyword `in`, the sequence to be iterated, and then finally the colon (`:`).\n",
    "- The loop body contains the code to be repeated. This is indented by one indentation level.\n",
    "- Should be used when iterating over known, finite sequences."
   ]
  },
  {
   "cell_type": "code",
   "execution_count": null,
   "metadata": {
    "slideshow": {
     "slide_type": "subslide"
    }
   },
   "outputs": [],
   "source": [
    "# To use the for loop\n",
    "print(vowels)\n",
    "for letter in vowels:\n",
    "    print(letter)"
   ]
  },
  {
   "cell_type": "code",
   "execution_count": null,
   "metadata": {
    "slideshow": {
     "slide_type": "subslide"
    }
   },
   "outputs": [],
   "source": [
    "# the range built-in is a function that will return x sequential values\n",
    "# where x is the max - 1 value you want starting at 0.\n",
    "for i in range(10):\n",
    "    print(i)"
   ]
  },
  {
   "cell_type": "code",
   "execution_count": null,
   "metadata": {
    "slideshow": {
     "slide_type": "subslide"
    }
   },
   "outputs": [],
   "source": [
    "# you can pass in two arguments where the first is the starting number,\n",
    "# and the second is the max - 1 value you want.\n",
    "for i in range(3, 10):\n",
    "    print(i)"
   ]
  },
  {
   "cell_type": "code",
   "execution_count": null,
   "metadata": {
    "slideshow": {
     "slide_type": "subslide"
    }
   },
   "outputs": [],
   "source": [
    "# finally you can pass in three arguments where the first is the starting\n",
    "# number, the second is the max - 1 value you want, and the third is the \n",
    "# steps to take.\n",
    "for i in range(2, 20, 2):\n",
    "    print(i)"
   ]
  },
  {
   "cell_type": "code",
   "execution_count": null,
   "metadata": {
    "slideshow": {
     "slide_type": "subslide"
    }
   },
   "outputs": [],
   "source": [
    "# here's another example\n",
    "for i in range(0, 100, 10):\n",
    "    print(i)"
   ]
  },
  {
   "cell_type": "markdown",
   "metadata": {
    "slideshow": {
     "slide_type": "subslide"
    }
   },
   "source": [
    "### Nested Loops\n",
    "\n",
    "- You have the ability to nest loops within loops.\n",
    "- indentation is key here\n",
    "- Use caution when using nested loops, and try to limit them to as few as possible."
   ]
  },
  {
   "cell_type": "code",
   "execution_count": null,
   "metadata": {
    "slideshow": {
     "slide_type": "subslide"
    }
   },
   "outputs": [],
   "source": [
    "for i in range(5):\n",
    "    for j in range(5, 8):\n",
    "        print(f'i = {i}; j = {j}')\n",
    "        \n",
    "    print('break!')"
   ]
  },
  {
   "cell_type": "markdown",
   "metadata": {
    "slideshow": {
     "slide_type": "subslide"
    }
   },
   "source": [
    "### In-Class Exercise\n",
    "\n",
    "1. Create a tuple named `pokemon` that holds the strings `'picachu'`, `'charmander'`, and `'bulbasaur'`.\n",
    "1. Using index notation, `print()` the string that located at index 1 in `pokemon`\n",
    "1. Unpack the values of `pokemon` into the following three new variables with names `starter1`, `starter2`, `starter3`.\n",
    "1. Create a tuple using the `tuple()` built-in, that contains the letters of your name.\n",
    "1. Check whether the character `i` is in your tuple representation of your name.\n",
    "1. Write a `for` loop that prints out the integers 2 through 10, each on a new line, by using the `range()` function.\n",
    "1. Use a `while` loop that prints out the integers 2 through 10.\n",
    "1. Write a `for` loop that iterates over the string `'This is a simple string'` and prints each character.\n",
    "1. Using a nested for loop, iterate over the following set `('this', 'is', 'a', 'simple', 'set')` and print each word, three times."
   ]
  },
  {
   "cell_type": "markdown",
   "metadata": {
    "slideshow": {
     "slide_type": "slide"
    }
   },
   "source": [
    "## Lists\n",
    "\n",
    "![](https://media.giphy.com/media/F0QWePzwQRewM/giphy.gif)"
   ]
  },
  {
   "cell_type": "markdown",
   "metadata": {
    "slideshow": {
     "slide_type": "subslide"
    }
   },
   "source": [
    "## Lists\n",
    "\n",
    "- Is a sequence, just like a string or set.\n",
    "- created using square brackets and commas.\n",
    "- **mutable:** in place order and values can be changed."
   ]
  },
  {
   "cell_type": "code",
   "execution_count": 10,
   "metadata": {
    "slideshow": {
     "slide_type": "subslide"
    }
   },
   "outputs": [
    {
     "name": "stdout",
     "output_type": "stream",
     "text": [
      "['red', 'yellow', 'green', 'blue']\n",
      "<class 'list'>\n"
     ]
    }
   ],
   "source": [
    "# lists are created simply by wrapping muliple, comma separated objects with\n",
    "# square brackets.\n",
    "colors = ['red', 'yellow', 'green', 'blue']\n",
    "print(colors)\n",
    "print(type(colors))"
   ]
  },
  {
   "cell_type": "code",
   "execution_count": 11,
   "metadata": {
    "slideshow": {
     "slide_type": "subslide"
    }
   },
   "outputs": [
    {
     "name": "stdout",
     "output_type": "stream",
     "text": [
      "['h', 'e', 'l', 'l', 'o']\n"
     ]
    }
   ],
   "source": [
    "# you can also use the list() builin on a string (or any other sequence)\n",
    "# to create a list.\n",
    "hello_list = list('hello')\n",
    "print(hello_list)"
   ]
  },
  {
   "cell_type": "code",
   "execution_count": 12,
   "metadata": {
    "slideshow": {
     "slide_type": "subslide"
    }
   },
   "outputs": [
    {
     "name": "stdout",
     "output_type": "stream",
     "text": [
      "['hello', 1337, ['sub', 'list']]\n"
     ]
    }
   ],
   "source": [
    "# lists (like tuples), can have any type in object within, even other lists\n",
    "random_list = ['hello', 1337, ['sub', 'list']]\n",
    "print(random_list)"
   ]
  },
  {
   "cell_type": "code",
   "execution_count": 13,
   "metadata": {
    "slideshow": {
     "slide_type": "subslide"
    }
   },
   "outputs": [
    {
     "name": "stdout",
     "output_type": "stream",
     "text": [
      "hello\n",
      "1337\n",
      "['sub', 'list']\n"
     ]
    }
   ],
   "source": [
    "# Lists are iterable, meaning they can be looped over using a for loop\n",
    "for element in random_list:\n",
    "    print(element)"
   ]
  },
  {
   "cell_type": "code",
   "execution_count": 14,
   "metadata": {
    "slideshow": {
     "slide_type": "subslide"
    }
   },
   "outputs": [
    {
     "name": "stdout",
     "output_type": "stream",
     "text": [
      "['hello', 1337, ['sub', 'list']]\n",
      "['hello', 1337, 'sublist']\n"
     ]
    }
   ],
   "source": [
    "# They're also mutable, meaning that changes can be made in-place\n",
    "print(random_list)\n",
    "random_list[2] = 'sublist'\n",
    "print(random_list)"
   ]
  },
  {
   "cell_type": "code",
   "execution_count": 15,
   "metadata": {
    "slideshow": {
     "slide_type": "subslide"
    }
   },
   "outputs": [
    {
     "name": "stdout",
     "output_type": "stream",
     "text": [
      "[3, 1, 19, -234]\n",
      "[-234, 1, 3, 19]\n"
     ]
    }
   ],
   "source": [
    "# lists can be sorted in place (be careful of mixing types with the list)\n",
    "numbers = [3, 1, 19, -234]\n",
    "print(numbers)\n",
    "numbers.sort()\n",
    "print(numbers)"
   ]
  },
  {
   "cell_type": "code",
   "execution_count": 16,
   "metadata": {
    "slideshow": {
     "slide_type": "subslide"
    }
   },
   "outputs": [
    {
     "name": "stdout",
     "output_type": "stream",
     "text": [
      "[0, 1, 4, 9, 16]\n"
     ]
    }
   ],
   "source": [
    "# They can also be changed by adding elements to the list\n",
    "numbers = []\n",
    "for i in range(5):\n",
    "    numbers.append(i ** 2)\n",
    "    \n",
    "print(numbers)"
   ]
  },
  {
   "cell_type": "code",
   "execution_count": 17,
   "metadata": {
    "slideshow": {
     "slide_type": "subslide"
    }
   },
   "outputs": [
    {
     "name": "stdout",
     "output_type": "stream",
     "text": [
      "16\n",
      "[0, 1, 4, 9]\n"
     ]
    }
   ],
   "source": [
    "# Elements within the list can be removed\n",
    "num = numbers.pop()\n",
    "print(num)\n",
    "print(numbers)"
   ]
  },
  {
   "cell_type": "code",
   "execution_count": 18,
   "metadata": {
    "slideshow": {
     "slide_type": "subslide"
    }
   },
   "outputs": [
    {
     "name": "stdout",
     "output_type": "stream",
     "text": [
      "16\n",
      "[0, 1, 4, 9, 16]\n"
     ]
    }
   ],
   "source": [
    "# and put right back in\n",
    "numbers.append(num)\n",
    "print(num)\n",
    "print(numbers)"
   ]
  },
  {
   "cell_type": "code",
   "execution_count": 19,
   "metadata": {
    "slideshow": {
     "slide_type": "subslide"
    }
   },
   "outputs": [
    {
     "name": "stdout",
     "output_type": "stream",
     "text": [
      "[0, 1, 4, 9, 16, 16]\n"
     ]
    }
   ],
   "source": [
    "# and again\n",
    "numbers.append(num)\n",
    "print(numbers)"
   ]
  },
  {
   "cell_type": "code",
   "execution_count": 20,
   "metadata": {
    "slideshow": {
     "slide_type": "subslide"
    }
   },
   "outputs": [
    {
     "name": "stdout",
     "output_type": "stream",
     "text": [
      "[0, 1, 2]\n",
      "[3, 4, 5]\n",
      "[0, 1, 2, 3, 4, 5]\n"
     ]
    }
   ],
   "source": [
    "# lists can be combined together using the + operator\n",
    "list_one = list(range(3))\n",
    "list_two = list(range(3, 6))\n",
    "combo_list = list_one + list_two\n",
    "print(list_one)\n",
    "print(list_two)\n",
    "print(combo_list)"
   ]
  },
  {
   "cell_type": "code",
   "execution_count": 21,
   "metadata": {
    "slideshow": {
     "slide_type": "subslide"
    }
   },
   "outputs": [
    {
     "name": "stdout",
     "output_type": "stream",
     "text": [
      "[0, 1, 2, 3, 4, 5]\n",
      "[0, 1, 2, 3, 4, 5, 10, 11, 12]\n"
     ]
    }
   ],
   "source": [
    "# or one list can be combined with another list using the extend() method\n",
    "print(combo_list)\n",
    "combo_list.extend([10, 11, 12])\n",
    "print(combo_list)"
   ]
  },
  {
   "cell_type": "code",
   "execution_count": 22,
   "metadata": {
    "slideshow": {
     "slide_type": "subslide"
    }
   },
   "outputs": [
    {
     "name": "stdout",
     "output_type": "stream",
     "text": [
      "[0, 1, 2, 3, 4, 5, 6, 7, 8, 9]\n",
      "8\n",
      "[2, 3, 4]\n"
     ]
    }
   ],
   "source": [
    "# lists can be indexed and sliced\n",
    "numbers = list(range(10))\n",
    "print(numbers)\n",
    "print(numbers[8])\n",
    "print(numbers[2:5])"
   ]
  },
  {
   "cell_type": "code",
   "execution_count": 23,
   "metadata": {
    "slideshow": {
     "slide_type": "subslide"
    }
   },
   "outputs": [
    {
     "data": {
      "text/plain": [
       "10"
      ]
     },
     "execution_count": 23,
     "metadata": {},
     "output_type": "execute_result"
    }
   ],
   "source": [
    "# you calculate the length of the list using len()\n",
    "len(numbers)"
   ]
  },
  {
   "cell_type": "code",
   "execution_count": 24,
   "metadata": {
    "slideshow": {
     "slide_type": "subslide"
    }
   },
   "outputs": [
    {
     "data": {
      "text/plain": [
       "9"
      ]
     },
     "execution_count": 24,
     "metadata": {},
     "output_type": "execute_result"
    }
   ],
   "source": [
    "# you can find the max value of in a list using max()\n",
    "max(numbers)"
   ]
  },
  {
   "cell_type": "code",
   "execution_count": 25,
   "metadata": {
    "slideshow": {
     "slide_type": "subslide"
    }
   },
   "outputs": [
    {
     "data": {
      "text/plain": [
       "0"
      ]
     },
     "execution_count": 25,
     "metadata": {},
     "output_type": "execute_result"
    }
   ],
   "source": [
    "# you can find the minimum value in a list using min()\n",
    "min(numbers)"
   ]
  },
  {
   "cell_type": "code",
   "execution_count": 26,
   "metadata": {
    "slideshow": {
     "slide_type": "subslide"
    }
   },
   "outputs": [
    {
     "data": {
      "text/plain": [
       "45"
      ]
     },
     "execution_count": 26,
     "metadata": {},
     "output_type": "execute_result"
    }
   ],
   "source": [
    "# you can also take the sum of all the elements in the list using sum()\n",
    "sum(numbers)"
   ]
  },
  {
   "cell_type": "code",
   "execution_count": 27,
   "metadata": {
    "slideshow": {
     "slide_type": "subslide"
    }
   },
   "outputs": [
    {
     "name": "stdout",
     "output_type": "stream",
     "text": [
      "Enter a number: 12\n",
      "Enter a number: 23\n",
      "Enter a number: -43\n",
      "Enter a number: 78\n",
      "Enter a number: done\n",
      "Average: 17.5\n"
     ]
    }
   ],
   "source": [
    "# here's a small example of what you can do with a while loop and some\n",
    "# of these previously mentioned builtins.\n",
    "\n",
    "numlist = []\n",
    "while True:\n",
    "    inp = input('Enter a number: ')\n",
    "    \n",
    "    # We haven't covered conditional statements yet,\n",
    "    # but this basically states that if the user enters\n",
    "    # `done` as the input, then stop the loop\n",
    "    if inp == 'done':\n",
    "        break\n",
    "    value = float(inp)\n",
    "    numlist.append(value)\n",
    "    \n",
    "average = sum(numlist) / len(numlist)\n",
    "print(f'Average: {average}')"
   ]
  },
  {
   "cell_type": "code",
   "execution_count": 28,
   "metadata": {
    "slideshow": {
     "slide_type": "subslide"
    }
   },
   "outputs": [
    {
     "name": "stdout",
     "output_type": "stream",
     "text": [
      "picachu,bulbasaur,charmander\n",
      "<class 'str'>\n"
     ]
    }
   ],
   "source": [
    "# Let's say you have a comma separated list of elements in a string\n",
    "pokemon = ('picachu,bulbasaur,charmander')\n",
    "print(pokemon)\n",
    "print(type(pokemon))"
   ]
  },
  {
   "cell_type": "code",
   "execution_count": 29,
   "metadata": {
    "slideshow": {
     "slide_type": "subslide"
    }
   },
   "outputs": [
    {
     "name": "stdout",
     "output_type": "stream",
     "text": [
      "['picachu', 'bulbasaur', 'charmander']\n",
      "<class 'list'>\n"
     ]
    }
   ],
   "source": [
    "# you can convert that string into an actual Python list using the split()\n",
    "# method.  \n",
    "my_pokemon = pokemon.split(',')\n",
    "print(my_pokemon)\n",
    "print(type(my_pokemon))"
   ]
  },
  {
   "cell_type": "code",
   "execution_count": 30,
   "metadata": {},
   "outputs": [
    {
     "name": "stdout",
     "output_type": "stream",
     "text": [
      "['picachu', 'bulbasaur', 'charmander']\n"
     ]
    }
   ],
   "source": [
    "# By default, split() assumes spaces as the delimeter\n",
    "print(\"picachu bulbasaur charmander\".split())"
   ]
  },
  {
   "cell_type": "code",
   "execution_count": 31,
   "metadata": {
    "slideshow": {
     "slide_type": "subslide"
    }
   },
   "outputs": [
    {
     "name": "stdout",
     "output_type": "stream",
     "text": [
      "['picachu', 'bulbasaur', 'charmander']\n",
      "True\n"
     ]
    }
   ],
   "source": [
    "# you can check if a specific element is in a list.\n",
    "print(my_pokemon)\n",
    "print('charmander' in my_pokemon)"
   ]
  },
  {
   "cell_type": "code",
   "execution_count": 32,
   "metadata": {
    "slideshow": {
     "slide_type": "subslide"
    }
   },
   "outputs": [
    {
     "name": "stdout",
     "output_type": "stream",
     "text": [
      "picachu\n",
      "bulbasaur\n",
      "charmander\n"
     ]
    }
   ],
   "source": [
    "# iterating over a list can easily be done using the for loop.\n",
    "for monster in my_pokemon:\n",
    "    print(monster)"
   ]
  },
  {
   "cell_type": "markdown",
   "metadata": {},
   "source": [
    "### Copying Lists"
   ]
  },
  {
   "cell_type": "code",
   "execution_count": 33,
   "metadata": {},
   "outputs": [
    {
     "name": "stdout",
     "output_type": "stream",
     "text": [
      "['picachu', 'bulbasaur', 'charmander']\n",
      "['picachu', 'bulbasaur', 'charmander']\n"
     ]
    }
   ],
   "source": [
    "print(my_pokemon)\n",
    "pokedex = my_pokemon\n",
    "print(pokedex)"
   ]
  },
  {
   "cell_type": "code",
   "execution_count": 34,
   "metadata": {},
   "outputs": [
    {
     "name": "stdout",
     "output_type": "stream",
     "text": [
      "['picachu', 'bulbasaur', 'charmander', 'mew']\n"
     ]
    }
   ],
   "source": [
    "pokedex.append('mew')\n",
    "print(pokedex)"
   ]
  },
  {
   "cell_type": "code",
   "execution_count": 35,
   "metadata": {},
   "outputs": [
    {
     "name": "stdout",
     "output_type": "stream",
     "text": [
      "['picachu', 'bulbasaur', 'charmander', 'mew']\n"
     ]
    }
   ],
   "source": [
    "print(my_pokemon)"
   ]
  },
  {
   "cell_type": "markdown",
   "metadata": {},
   "source": [
    "![](https://media.giphy.com/media/Pok6284jGzyGA/giphy.gif)"
   ]
  },
  {
   "cell_type": "code",
   "execution_count": 36,
   "metadata": {},
   "outputs": [
    {
     "name": "stdout",
     "output_type": "stream",
     "text": [
      "['picachu', 'bulbasaur', 'charmander']\n"
     ]
    }
   ],
   "source": [
    "my_pokemon = \"picachu bulbasaur charmander\".split()\n",
    "print(my_pokemon)"
   ]
  },
  {
   "cell_type": "code",
   "execution_count": 37,
   "metadata": {},
   "outputs": [
    {
     "name": "stdout",
     "output_type": "stream",
     "text": [
      "['picachu', 'bulbasaur', 'charmander']\n"
     ]
    }
   ],
   "source": [
    "pokedex = my_pokemon[:]\n",
    "print(pokedex)"
   ]
  },
  {
   "cell_type": "code",
   "execution_count": 38,
   "metadata": {},
   "outputs": [
    {
     "name": "stdout",
     "output_type": "stream",
     "text": [
      "['picachu', 'bulbasaur', 'charmander', 'mew']\n",
      "['picachu', 'bulbasaur', 'charmander']\n"
     ]
    }
   ],
   "source": [
    "pokedex.append('mew')\n",
    "print(pokedex)\n",
    "print(my_pokemon)"
   ]
  },
  {
   "cell_type": "markdown",
   "metadata": {
    "slideshow": {
     "slide_type": "subslide"
    }
   },
   "source": [
    "### In-Class Exercises\n",
    "1. Create a list named `food` with two elements `'rice'` and `'beans'`.\n",
    "1. Append the string `'broccoli'` to `food` using `.append()`.\n",
    "1. Add the strings `'bread'` and `'pizza'` to `food` using `.extend()`.\n",
    "1. Print the first two item in the `food` list using `print()` and slicing notation.\n",
    "1. Print the last item in food using `print()` and index notation.\n",
    "1. Create a list called `breakfast` from the string `\"eggs,fruit,orange juice\"` using the `split()` method.\n",
    "1. Verify that `breakfast` has 3 elements using the `len` built-in.\n",
    "1. Write a script that prompts the user for a floating point value until they enter `stop`.  Store their entries in a list, and then find the average, min, and max of their entries and print them those values."
   ]
  },
  {
   "cell_type": "markdown",
   "metadata": {
    "slideshow": {
     "slide_type": "slide"
    }
   },
   "source": [
    "## Dictionaries\n",
    "\n",
    "![](https://media.giphy.com/media/l2Je66zG6mAAZxgqI/giphy.gif)"
   ]
  },
  {
   "cell_type": "markdown",
   "metadata": {
    "slideshow": {
     "slide_type": "subslide"
    }
   },
   "source": [
    "## Dictionaries\n",
    "\n",
    "- Another storage container similar to lists and tuples.\n",
    "- Values are as key:value pairs.\n",
    "- Are created using the curly brackets or `dict` constructor.\n",
    "- Dictionaries are mutable.\n",
    "- Dictionary keys MUST be immutable (int, float, str, bool, tuple).\n",
    "- Order is NOT guaranteed (especially older Python versions). "
   ]
  },
  {
   "cell_type": "code",
   "execution_count": 39,
   "metadata": {
    "slideshow": {
     "slide_type": "subslide"
    }
   },
   "outputs": [
    {
     "name": "stdout",
     "output_type": "stream",
     "text": [
      "{'Pikachu': 'electric', 'Bulbasaur': 'grass', 'Charmander': 'fire'}\n"
     ]
    }
   ],
   "source": [
    "pokemon_types = {\n",
    "    # notice the colon that separates the key (California) to the\n",
    "    # value (Sacramento)\n",
    "    'Pikachu': 'electric',\n",
    "    'Bulbasaur': 'grass',\n",
    "    'Charmander': 'fire'\n",
    "}\n",
    "print(pokemon_types)"
   ]
  },
  {
   "cell_type": "code",
   "execution_count": 40,
   "metadata": {
    "slideshow": {
     "slide_type": "subslide"
    }
   },
   "outputs": [
    {
     "name": "stdout",
     "output_type": "stream",
     "text": [
      "{'Pikachu': 'electric', 'Bulbasaur': 'grass', 'Charmander': 'fire'}\n"
     ]
    }
   ],
   "source": [
    "pokemon_type_pairs = (\n",
    "    ('Pikachu', 'electric'),\n",
    "    ('Bulbasaur', 'grass'),\n",
    "    ('Charmander', 'fire')\n",
    ")\n",
    "pokemon_types = dict(pokemon_type_pairs)\n",
    "print(pokemon_types)"
   ]
  },
  {
   "cell_type": "code",
   "execution_count": 41,
   "metadata": {
    "slideshow": {
     "slide_type": "subslide"
    }
   },
   "outputs": [
    {
     "name": "stdout",
     "output_type": "stream",
     "text": [
      "electric\n"
     ]
    }
   ],
   "source": [
    "print(pokemon_types['Pikachu'])"
   ]
  },
  {
   "cell_type": "code",
   "execution_count": 42,
   "metadata": {
    "slideshow": {
     "slide_type": "subslide"
    }
   },
   "outputs": [
    {
     "name": "stdout",
     "output_type": "stream",
     "text": [
      "fire\n"
     ]
    }
   ],
   "source": [
    "print(pokemon_types.get('Charmander'))"
   ]
  },
  {
   "cell_type": "code",
   "execution_count": 43,
   "metadata": {
    "slideshow": {
     "slide_type": "subslide"
    }
   },
   "outputs": [
    {
     "ename": "KeyError",
     "evalue": "'Mew'",
     "output_type": "error",
     "traceback": [
      "\u001b[1;31m---------------------------------------------------------------------------\u001b[0m",
      "\u001b[1;31mKeyError\u001b[0m                                  Traceback (most recent call last)",
      "\u001b[1;32m<ipython-input-43-0f84952f052e>\u001b[0m in \u001b[0;36m<module>\u001b[1;34m\u001b[0m\n\u001b[1;32m----> 1\u001b[1;33m \u001b[0mprint\u001b[0m\u001b[1;33m(\u001b[0m\u001b[0mpokemon_types\u001b[0m\u001b[1;33m[\u001b[0m\u001b[1;34m'Mew'\u001b[0m\u001b[1;33m]\u001b[0m\u001b[1;33m)\u001b[0m\u001b[1;33m\u001b[0m\u001b[0m\n\u001b[0m",
      "\u001b[1;31mKeyError\u001b[0m: 'Mew'"
     ]
    }
   ],
   "source": [
    "print(pokemon_types['Mew'])"
   ]
  },
  {
   "cell_type": "code",
   "execution_count": 44,
   "metadata": {
    "slideshow": {
     "slide_type": "subslide"
    }
   },
   "outputs": [
    {
     "name": "stdout",
     "output_type": "stream",
     "text": [
      "False\n"
     ]
    }
   ],
   "source": [
    "print('Mew' in pokemon_types)"
   ]
  },
  {
   "cell_type": "code",
   "execution_count": 45,
   "metadata": {
    "slideshow": {
     "slide_type": "subslide"
    }
   },
   "outputs": [
    {
     "name": "stdout",
     "output_type": "stream",
     "text": [
      "None\n"
     ]
    }
   ],
   "source": [
    "print(pokemon_types.get('Mew'))"
   ]
  },
  {
   "cell_type": "markdown",
   "metadata": {
    "slideshow": {
     "slide_type": "subslide"
    }
   },
   "source": [
    "### Sidebar: The `None` constant\n",
    "\n",
    "\"None is frequently used to represent the absence of a value, as when default arguments are not passed to a function.\""
   ]
  },
  {
   "cell_type": "code",
   "execution_count": 46,
   "metadata": {
    "slideshow": {
     "slide_type": "-"
    }
   },
   "outputs": [
    {
     "data": {
      "text/plain": [
       "NoneType"
      ]
     },
     "execution_count": 46,
     "metadata": {},
     "output_type": "execute_result"
    }
   ],
   "source": [
    "type(None)"
   ]
  },
  {
   "cell_type": "code",
   "execution_count": 47,
   "metadata": {
    "slideshow": {
     "slide_type": "-"
    }
   },
   "outputs": [
    {
     "name": "stdout",
     "output_type": "stream",
     "text": [
      "None\n"
     ]
    }
   ],
   "source": [
    "print(None)"
   ]
  },
  {
   "cell_type": "code",
   "execution_count": 48,
   "metadata": {
    "slideshow": {
     "slide_type": "subslide"
    }
   },
   "outputs": [
    {
     "name": "stdout",
     "output_type": "stream",
     "text": [
      "Unknown\n"
     ]
    }
   ],
   "source": [
    "print(pokemon_types.get('Mew', 'Unknown'))"
   ]
  },
  {
   "cell_type": "code",
   "execution_count": 49,
   "metadata": {
    "slideshow": {
     "slide_type": "subslide"
    }
   },
   "outputs": [
    {
     "name": "stdout",
     "output_type": "stream",
     "text": [
      "{'Pikachu': 'electric', 'Bulbasaur': 'grass', 'Charmander': 'fire', 'Mew': 'mystery'}\n"
     ]
    }
   ],
   "source": [
    "pokemon_types['Mew'] = 'mystery'\n",
    "print(pokemon_types)"
   ]
  },
  {
   "cell_type": "code",
   "execution_count": 50,
   "metadata": {
    "slideshow": {
     "slide_type": "subslide"
    }
   },
   "outputs": [
    {
     "name": "stdout",
     "output_type": "stream",
     "text": [
      "{'Pikachu': 'electric', 'Bulbasaur': 'grass', 'Charmander': 'fire', 'Mew': 'psychic'}\n"
     ]
    }
   ],
   "source": [
    "pokemon_types['Mew'] = 'psychic'\n",
    "print(pokemon_types)"
   ]
  },
  {
   "cell_type": "code",
   "execution_count": 51,
   "metadata": {
    "slideshow": {
     "slide_type": "subslide"
    }
   },
   "outputs": [
    {
     "name": "stdout",
     "output_type": "stream",
     "text": [
      "{'Pikachu': 'electric', 'Bulbasaur': 'grass', 'Charmander': 'fire', 'Mew': 'psychic', 'squirtel': 'water'}\n"
     ]
    }
   ],
   "source": [
    "pokemon_types['squirtel'] = 'water'\n",
    "print(pokemon_types)"
   ]
  },
  {
   "cell_type": "code",
   "execution_count": 52,
   "metadata": {
    "slideshow": {
     "slide_type": "subslide"
    }
   },
   "outputs": [
    {
     "name": "stdout",
     "output_type": "stream",
     "text": [
      "{'Pikachu': 'electric', 'Bulbasaur': 'grass', 'Charmander': 'fire', 'Mew': 'psychic', 'squirtel': None}\n"
     ]
    }
   ],
   "source": [
    "pokemon_types['squirtel'] = None\n",
    "print(pokemon_types)"
   ]
  },
  {
   "cell_type": "code",
   "execution_count": 53,
   "metadata": {
    "slideshow": {
     "slide_type": "subslide"
    }
   },
   "outputs": [
    {
     "name": "stdout",
     "output_type": "stream",
     "text": [
      "{'Pikachu': 'electric', 'Bulbasaur': 'grass', 'Charmander': 'fire', 'Mew': 'psychic'}\n"
     ]
    }
   ],
   "source": [
    "del pokemon_types['squirtel']\n",
    "print(pokemon_types)"
   ]
  },
  {
   "cell_type": "code",
   "execution_count": 54,
   "metadata": {
    "slideshow": {
     "slide_type": "subslide"
    }
   },
   "outputs": [
    {
     "name": "stdout",
     "output_type": "stream",
     "text": [
      "{'Pikachu': 'electric', 'Bulbasaur': 'grass', 'Charmander': 'fire', 'Mew': 'psychic', 'Squirtle': 'water'}\n"
     ]
    }
   ],
   "source": [
    "pokemon_types['Squirtle'] = 'water'\n",
    "print(pokemon_types)"
   ]
  },
  {
   "cell_type": "code",
   "execution_count": 55,
   "metadata": {
    "slideshow": {
     "slide_type": "subslide"
    }
   },
   "outputs": [
    {
     "name": "stdout",
     "output_type": "stream",
     "text": [
      "Pikachu\n",
      "Bulbasaur\n",
      "Charmander\n",
      "Mew\n",
      "Squirtle\n"
     ]
    }
   ],
   "source": [
    "for key in pokemon_types:\n",
    "    print(key)"
   ]
  },
  {
   "cell_type": "code",
   "execution_count": 56,
   "metadata": {
    "slideshow": {
     "slide_type": "subslide"
    }
   },
   "outputs": [
    {
     "name": "stdout",
     "output_type": "stream",
     "text": [
      "Pikachu is of type electric\n",
      "Bulbasaur is of type grass\n",
      "Charmander is of type fire\n",
      "Mew is of type psychic\n",
      "Squirtle is of type water\n"
     ]
    }
   ],
   "source": [
    "for monster in pokemon_types:\n",
    "    poke_type = pokemon_types[monster]\n",
    "    print(f'{monster} is of type {poke_type}')"
   ]
  },
  {
   "cell_type": "code",
   "execution_count": 57,
   "metadata": {
    "slideshow": {
     "slide_type": "subslide"
    }
   },
   "outputs": [
    {
     "name": "stdout",
     "output_type": "stream",
     "text": [
      "Pikachu is of type electric\n",
      "Bulbasaur is of type grass\n",
      "Charmander is of type fire\n",
      "Mew is of type psychic\n",
      "Squirtle is of type water\n"
     ]
    }
   ],
   "source": [
    "for monster, poke_type in pokemon_types.items():\n",
    "    print(f'{monster} is of type {poke_type}')"
   ]
  },
  {
   "cell_type": "code",
   "execution_count": 58,
   "metadata": {
    "slideshow": {
     "slide_type": "subslide"
    }
   },
   "outputs": [
    {
     "name": "stdout",
     "output_type": "stream",
     "text": [
      "{25: {'name': 'Pikachu', 'type': 'electric'}, 1: {'name': 'Bulbasaur', 'type': 'grass'}, 4: {'name': 'Charmander', 'type': 'fire'}}\n"
     ]
    }
   ],
   "source": [
    "pokedex = {\n",
    "    25: {\n",
    "        'name': 'Pikachu',\n",
    "        'type': 'electric'\n",
    "    },\n",
    "    1: {\n",
    "        'name': 'Bulbasaur',\n",
    "        'type': 'grass'\n",
    "    },\n",
    "    4: {\n",
    "        'name': 'Charmander',\n",
    "        'type': 'fire'\n",
    "    } \n",
    "}\n",
    "print(pokedex)"
   ]
  },
  {
   "cell_type": "code",
   "execution_count": 60,
   "metadata": {
    "slideshow": {
     "slide_type": "subslide"
    }
   },
   "outputs": [
    {
     "data": {
      "text/plain": [
       "'Pikachu'"
      ]
     },
     "execution_count": 60,
     "metadata": {},
     "output_type": "execute_result"
    }
   ],
   "source": [
    "pokedex[25]['name']"
   ]
  },
  {
   "cell_type": "markdown",
   "metadata": {},
   "source": [
    "### In-Class Exercises"
   ]
  }
 ],
 "metadata": {
  "celltoolbar": "Slideshow",
  "kernelspec": {
   "display_name": "Python 3",
   "language": "python",
   "name": "python3"
  },
  "language_info": {
   "codemirror_mode": {
    "name": "ipython",
    "version": 3
   },
   "file_extension": ".py",
   "mimetype": "text/x-python",
   "name": "python",
   "nbconvert_exporter": "python",
   "pygments_lexer": "ipython3",
   "version": "3.6.6"
  }
 },
 "nbformat": 4,
 "nbformat_minor": 2
}
