{
 "cells": [
  {
   "cell_type": "markdown",
   "metadata": {
    "slideshow": {
     "slide_type": "slide"
    }
   },
   "source": [
    "## String Methods\n",
    "\n",
    "Strings are objects and as such have a collection of special functions called **string methods** that are used for working with and manipulating strings.  With these methods, we can:\n",
    "\n",
    "- Changing the strings case\n",
    "- Trim trailing and leading whitespace\n",
    "- Find the location of a substring\n",
    "- Replace sub-strings within a string"
   ]
  },
  {
   "cell_type": "markdown",
   "metadata": {
    "slideshow": {
     "slide_type": "subslide"
    }
   },
   "source": [
    "### Changing case"
   ]
  },
  {
   "cell_type": "code",
   "execution_count": 25,
   "metadata": {
    "slideshow": {
     "slide_type": "-"
    }
   },
   "outputs": [
    {
     "name": "stdout",
     "output_type": "stream",
     "text": [
      "jar jar binks\n"
     ]
    }
   ],
   "source": [
    "# You can change the case of all the character in a string by using\n",
    "# the lower and upper methods\n",
    "\n",
    "jar_jar = \"Jar Jar Binks\"\n",
    "print(jar_jar.lower())"
   ]
  },
  {
   "cell_type": "markdown",
   "metadata": {},
   "source": [
    "<img src=\"https://www.washingtonpost.com/resizer/H-GULNtP2kkg_tlUMfsmUzGhNLU=/1484x0/arc-anglerfish-washpost-prod-washpost.s3.amazonaws.com/public/CKVFFZE5IU3H3BHCABPAB4AQ5I.jpg\" width=\"400\" />"
   ]
  },
  {
   "cell_type": "code",
   "execution_count": 26,
   "metadata": {
    "slideshow": {
     "slide_type": "subslide"
    }
   },
   "outputs": [
    {
     "name": "stdout",
     "output_type": "stream",
     "text": [
      "JAR JAR BINKS\n"
     ]
    }
   ],
   "source": [
    "print(jar_jar.upper())"
   ]
  },
  {
   "cell_type": "markdown",
   "metadata": {},
   "source": [
    "<img src=https://static.independent.co.uk/s3fs-public/thumbnails/image/2015/10/26/12/Jar-Jar-Star-Wars.jpg?w968 width=\"400\" />"
   ]
  },
  {
   "cell_type": "markdown",
   "metadata": {
    "slideshow": {
     "slide_type": "subslide"
    }
   },
   "source": [
    "### Trimming Leading and Trailing Whitespace\n",
    "\n",
    "Trimming whitespace means removing spacing characters from either the front or the back of the string.  This can be done using one of three methods."
   ]
  },
  {
   "cell_type": "code",
   "execution_count": 27,
   "metadata": {},
   "outputs": [
    {
     "name": "stdout",
     "output_type": "stream",
     "text": [
      "NOOOOO OOOOOOOO!\n"
     ]
    }
   ],
   "source": [
    "# you can trim whitespaces from the end of a string \n",
    "# by using the string, rstrip, and lstrip methods\n",
    "print(\"   NOOOOO OOOOOOOO!    \".strip())"
   ]
  },
  {
   "cell_type": "code",
   "execution_count": 1,
   "metadata": {},
   "outputs": [
    {
     "data": {
      "text/plain": [
       "'NOOOOO OOOOOOOO!    '"
      ]
     },
     "execution_count": 1,
     "metadata": {},
     "output_type": "execute_result"
    }
   ],
   "source": [
    "\"   NOOOOO OOOOOOOO!    \".lstrip()"
   ]
  },
  {
   "cell_type": "code",
   "execution_count": 2,
   "metadata": {},
   "outputs": [
    {
     "data": {
      "text/plain": [
       "'   NOOOOOOOOOOOOO!'"
      ]
     },
     "execution_count": 2,
     "metadata": {},
     "output_type": "execute_result"
    }
   ],
   "source": [
    "\"   NOOOOOOOOOOOOO!    \".rstrip()"
   ]
  },
  {
   "cell_type": "markdown",
   "metadata": {
    "slideshow": {
     "slide_type": "subslide"
    }
   },
   "source": [
    "### Finding a sub-string"
   ]
  },
  {
   "cell_type": "code",
   "execution_count": 30,
   "metadata": {},
   "outputs": [],
   "source": [
    "# you can find the starting index of a sub-string by using\n",
    "# the find method\n",
    "who_talks = \"Who talks first? You talk first? I talk first.\""
   ]
  },
  {
   "cell_type": "code",
   "execution_count": 31,
   "metadata": {
    "slideshow": {
     "slide_type": "-"
    }
   },
   "outputs": [
    {
     "name": "stdout",
     "output_type": "stream",
     "text": [
      "4\n"
     ]
    }
   ],
   "source": [
    "# notice that this only finds the first instance of that\n",
    "# substring\n",
    "talk_location = who_talks.find('talk')\n",
    "print(talk_location)"
   ]
  },
  {
   "cell_type": "code",
   "execution_count": 32,
   "metadata": {},
   "outputs": [
    {
     "name": "stdout",
     "output_type": "stream",
     "text": [
      "Who talks first? You talk first? I talk first.\n",
      "    ^\n"
     ]
    }
   ],
   "source": [
    "print(who_talks)\n",
    "\n",
    "# this will print a carrot directly underneath the selected string character\n",
    "# location found from .find\n",
    "print(' ' * talk_location + '^')"
   ]
  },
  {
   "cell_type": "code",
   "execution_count": 33,
   "metadata": {
    "slideshow": {
     "slide_type": "subslide"
    }
   },
   "outputs": [
    {
     "name": "stdout",
     "output_type": "stream",
     "text": [
      "21\n"
     ]
    }
   ],
   "source": [
    "# we can find further instances by passing in the\n",
    "# starting position of the string where to start\n",
    "talk_location = who_talks.find('talk', 5)\n",
    "print(talk_location)"
   ]
  },
  {
   "cell_type": "code",
   "execution_count": 34,
   "metadata": {},
   "outputs": [
    {
     "name": "stdout",
     "output_type": "stream",
     "text": [
      "Who talks first? You talk first? I talk first.\n",
      "                     ^\n"
     ]
    }
   ],
   "source": [
    "print(who_talks)\n",
    "print(' ' * talk_location + '^')"
   ]
  },
  {
   "cell_type": "code",
   "execution_count": 35,
   "metadata": {
    "slideshow": {
     "slide_type": "subslide"
    }
   },
   "outputs": [
    {
     "name": "stdout",
     "output_type": "stream",
     "text": [
      "35\n"
     ]
    }
   ],
   "source": [
    "talk_location = who_talks.find('talk', 22)\n",
    "print(talk_location)"
   ]
  },
  {
   "cell_type": "code",
   "execution_count": 36,
   "metadata": {},
   "outputs": [
    {
     "name": "stdout",
     "output_type": "stream",
     "text": [
      "Who talks first? You talk first? I talk first.\n",
      "                                   ^\n"
     ]
    }
   ],
   "source": [
    "print(who_talks)\n",
    "print(' ' * talk_location + '^')"
   ]
  },
  {
   "cell_type": "code",
   "execution_count": 37,
   "metadata": {
    "slideshow": {
     "slide_type": "subslide"
    }
   },
   "outputs": [
    {
     "name": "stdout",
     "output_type": "stream",
     "text": [
      "-1\n"
     ]
    }
   ],
   "source": [
    "# until we get to a point where there is no \n",
    "print(who_talks.find('talk', 36))"
   ]
  },
  {
   "cell_type": "code",
   "execution_count": 38,
   "metadata": {
    "slideshow": {
     "slide_type": "-"
    }
   },
   "outputs": [
    {
     "name": "stdout",
     "output_type": "stream",
     "text": [
      "-1\n"
     ]
    }
   ],
   "source": [
    "# this is also returned when the sub-string isn't found\n",
    "# in the string at all\n",
    "print(who_talks.find('meh'))"
   ]
  },
  {
   "cell_type": "markdown",
   "metadata": {
    "slideshow": {
     "slide_type": "subslide"
    }
   },
   "source": [
    "### Replacing sub-strings"
   ]
  },
  {
   "cell_type": "code",
   "execution_count": 39,
   "metadata": {},
   "outputs": [
    {
     "name": "stdout",
     "output_type": "stream",
     "text": [
      "Sidius, Vader\n"
     ]
    }
   ],
   "source": [
    "sith_lords = 'Sidius, Duku'\n",
    "print(sith_lords.replace('Duku', 'Vader'))"
   ]
  },
  {
   "cell_type": "code",
   "execution_count": 40,
   "metadata": {},
   "outputs": [
    {
     "name": "stdout",
     "output_type": "stream",
     "text": [
      "Sidius, Duku\n"
     ]
    }
   ],
   "source": [
    "print(sith_lords)"
   ]
  },
  {
   "cell_type": "code",
   "execution_count": 41,
   "metadata": {
    "slideshow": {
     "slide_type": "subslide"
    }
   },
   "outputs": [
    {
     "name": "stdout",
     "output_type": "stream",
     "text": [
      "Sidius, Vader\n"
     ]
    }
   ],
   "source": [
    "sith_lords = sith_lords.replace('Duku', 'Vader')\n",
    "print(sith_lords)"
   ]
  },
  {
   "cell_type": "code",
   "execution_count": 66,
   "metadata": {
    "slideshow": {
     "slide_type": "subslide"
    }
   },
   "outputs": [
    {
     "name": "stdout",
     "output_type": "stream",
     "text": [
      "Not just the ; but the wo and children too!\n"
     ]
    }
   ],
   "source": [
    "# replace can be used to 'remove' substrings\n",
    "troubled_anakin = \"Not just the men; but the women and children too!\"\n",
    "print(troubled_anakin.replace('men', ''))"
   ]
  },
  {
   "cell_type": "code",
   "execution_count": 68,
   "metadata": {
    "slideshow": {
     "slide_type": "-"
    }
   },
   "outputs": [
    {
     "name": "stdout",
     "output_type": "stream",
     "text": [
      "Not just the ; but the  and  too!\n"
     ]
    }
   ],
   "source": [
    "# You can actually chain these as well\n",
    "print(troubled_anakin.replace('women', '').replace('men', '').replace('children', ''))"
   ]
  },
  {
   "cell_type": "code",
   "execution_count": 69,
   "metadata": {
    "scrolled": false
   },
   "outputs": [
    {
     "name": "stdout",
     "output_type": "stream",
     "text": [
      "Not just the ; but the wo and  too!\n"
     ]
    }
   ],
   "source": [
    "# GOTCHA: Beware of order of replacement too\n",
    "print(troubled_anakin.replace('men', '').replace('women', '').replace('children', ''))"
   ]
  }
 ],
 "metadata": {
  "kernelspec": {
   "display_name": "Python 3",
   "language": "python",
   "name": "python3"
  },
  "language_info": {
   "codemirror_mode": {
    "name": "ipython",
    "version": 3
   },
   "file_extension": ".py",
   "mimetype": "text/x-python",
   "name": "python",
   "nbconvert_exporter": "python",
   "pygments_lexer": "ipython3",
   "version": "3.8.3"
  }
 },
 "nbformat": 4,
 "nbformat_minor": 4
}
