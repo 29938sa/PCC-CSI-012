{
 "cells": [
  {
   "cell_type": "markdown",
   "metadata": {
    "slideshow": {
     "slide_type": "slide"
    }
   },
   "source": [
    "## Formatting String\n",
    "\n",
    "Formatting strings allows us to create strings in such a way where we 'insert' variable into the string.  For example, let's say that I wanted to log R2-D2's status like this:\n",
    "\n",
    "```text\n",
    "0001 - Task 1 - Start - Initiate Connection to Computer\n",
    "0002 - Task 2 - Complete - Set urgency level - High\n",
    "0006 - Task 1 - Complete - Connection to computer established\n",
    "0006 - Task 3 - Start - Initiate shutdown of garbage compactor\n",
    "0020 - Task 3 - Complete - Garbage compactor shutdown\n",
    "```"
   ]
  },
  {
   "cell_type": "code",
   "execution_count": 42,
   "metadata": {
    "slideshow": {
     "slide_type": "subslide"
    }
   },
   "outputs": [
    {
     "name": "stdout",
     "output_type": "stream",
     "text": [
      "0001 - Task 1 - Start - Initiate Connection to Computer\n",
      "0002 - Task 2 - Complete - Set urgency level - High\n",
      "0006 - Task 1 - Complete - Connection to computer established\n",
      "0006 - Task 3 - Start - Initiate shutdown of garbage compactor\n",
      "0020 - Task 3 - Complete - Garbage compactor shutdown\n"
     ]
    }
   ],
   "source": [
    "# printing this out is laborious\n",
    "print(\"0001 - Task 1 - Start - Initiate Connection to Computer\")\n",
    "print(\"0002 - Task 2 - Complete - Set urgency level - High\")\n",
    "print(\"0006 - Task 1 - Complete - Connection to computer established\")\n",
    "print(\"0006 - Task 3 - Start - Initiate shutdown of garbage compactor\")\n",
    "print(\"0020 - Task 3 - Complete - Garbage compactor shutdown\")"
   ]
  },
  {
   "cell_type": "markdown",
   "metadata": {
    "slideshow": {
     "slide_type": "subslide"
    }
   },
   "source": [
    "Printing out each line become very laborious AND most likely we're using variable such as `time`, `task_num`, `task_status`, and `message`.  Let's break down the message formatting (*wink, wink*):\n",
    "\n",
    "```text\n",
    "<Time> - Task <Task Num> - <Task Status> - <message>\n",
    "```\n",
    "\n",
    "Let's examine the different methods of doing this with these specific variable/value pairs:"
   ]
  },
  {
   "cell_type": "code",
   "execution_count": 56,
   "metadata": {},
   "outputs": [],
   "source": [
    "time = 0\n",
    "task_num = 1\n",
    "task_status = \"Started\"\n",
    "message = \"Initiate Connection to Computer\""
   ]
  },
  {
   "cell_type": "markdown",
   "metadata": {
    "slideshow": {
     "slide_type": "subslide"
    }
   },
   "source": [
    "### percent/modulo `%` method\n",
    "\n",
    "Don't use this method, but I'm putting it down here for historical background."
   ]
  },
  {
   "cell_type": "code",
   "execution_count": 57,
   "metadata": {},
   "outputs": [
    {
     "name": "stdout",
     "output_type": "stream",
     "text": [
      "0 - Task 1 - Started - Initiate Connection to Computer\n"
     ]
    }
   ],
   "source": [
    "# the % operator basically \"unpacks\" a tuple of values from the right side\n",
    "# into the string on the left side.  Note: this is very printf`y which is how\n",
    "# other languages like C do string formatting.\n",
    "print(\"%d - Task %d - %s - %s\" % (time, task_num, task_status, message))"
   ]
  },
  {
   "cell_type": "markdown",
   "metadata": {
    "slideshow": {
     "slide_type": "subslide"
    }
   },
   "source": [
    "A 'type' reference is required within the string to unpack that value.  Keep on eye on the types that your passing in.  The most common ones are:\n",
    "\n",
    "| symbol | type reference |\n",
    "| ------ | -------------- |\n",
    "| d      | integer        |\n",
    "| f      | float          |\n",
    "| s      | string         |\n",
    "| x      | hex            |"
   ]
  },
  {
   "cell_type": "code",
   "execution_count": 58,
   "metadata": {},
   "outputs": [
    {
     "ename": "TypeError",
     "evalue": "%d format: a number is required, not str",
     "output_type": "error",
     "traceback": [
      "\u001b[1;31m---------------------------------------------------------------------------\u001b[0m",
      "\u001b[1;31mTypeError\u001b[0m                                 Traceback (most recent call last)",
      "\u001b[1;32m<ipython-input-58-e487ca74790c>\u001b[0m in \u001b[0;36m<module>\u001b[1;34m\u001b[0m\n\u001b[1;32m----> 1\u001b[1;33m \u001b[0mprint\u001b[0m\u001b[1;33m(\u001b[0m\u001b[1;34m'%d - Task %d - %d - %d'\u001b[0m \u001b[1;33m%\u001b[0m \u001b[1;33m(\u001b[0m\u001b[0mtime\u001b[0m\u001b[1;33m,\u001b[0m \u001b[0mtask_num\u001b[0m\u001b[1;33m,\u001b[0m \u001b[0mtask_status\u001b[0m\u001b[1;33m,\u001b[0m \u001b[0mmessage\u001b[0m\u001b[1;33m)\u001b[0m\u001b[1;33m)\u001b[0m\u001b[1;33m\u001b[0m\u001b[0m\n\u001b[0m",
      "\u001b[1;31mTypeError\u001b[0m: %d format: a number is required, not str"
     ]
    }
   ],
   "source": [
    "print('%d - Task %d - %d - %d' % (time, task_num, task_status, message))"
   ]
  },
  {
   "cell_type": "code",
   "execution_count": 59,
   "metadata": {
    "slideshow": {
     "slide_type": "subslide"
    }
   },
   "outputs": [
    {
     "name": "stdout",
     "output_type": "stream",
     "text": [
      "0000 - Task 1 - Started - Initiate Connection to Computer\n"
     ]
    }
   ],
   "source": [
    "# the formatting previously isn't quite what we wanted though so we need to \n",
    "# make one more adjustment\n",
    "print(\"%04d - Task %d - %s - %s\" % (time, task_num, task_status, message))"
   ]
  },
  {
   "cell_type": "markdown",
   "metadata": {},
   "source": [
    "The `%04d` means to unpack an integer value (`d`) with a max string length of 4 character wide and filler character of 0 (`04`)."
   ]
  },
  {
   "cell_type": "markdown",
   "metadata": {
    "slideshow": {
     "slide_type": "subslide"
    }
   },
   "source": [
    "### `.format` method\n",
    "\n",
    "The format method builds on the `%` method to make things a little more clearer to the reader what was going on.  In stead of `%<type>` you simply use open close curly brackets (`{}`) to indicate location of variable insertion.  Use this method over using `%` method."
   ]
  },
  {
   "cell_type": "code",
   "execution_count": 60,
   "metadata": {},
   "outputs": [
    {
     "name": "stdout",
     "output_type": "stream",
     "text": [
      "0000 - Task 1 - Started - Initiate Connection to Computer\n"
     ]
    }
   ],
   "source": [
    "print(\"{:04} - Task {} - {} - {}\".format(time, task_num, task_status, message))"
   ]
  },
  {
   "cell_type": "code",
   "execution_count": 61,
   "metadata": {},
   "outputs": [
    {
     "name": "stdout",
     "output_type": "stream",
     "text": [
      "0000 - Task 1 - Started - Initiate Connection to Computer\n"
     ]
    }
   ],
   "source": [
    "# you can assign names to the string locations and reference them in the\n",
    "# .format method\n",
    "print(\"{time:04} - Task {num} - {status} - {message}\".format(\n",
    "    time=time,\n",
    "    status=task_status,\n",
    "    num=task_num,\n",
    "    message=message\n",
    "))"
   ]
  },
  {
   "cell_type": "code",
   "execution_count": 62,
   "metadata": {},
   "outputs": [
    {
     "name": "stdout",
     "output_type": "stream",
     "text": [
      "0000 - Task 1 - Started - Initiate Connection to Computer\n"
     ]
    }
   ],
   "source": [
    "# one advantage of this, is if you're using the same string format over and\n",
    "# over, then you can save the string as a variable and format it later\n",
    "r2_log_entry = \"{time:04} - Task {num} - {status} - {message}\"\n",
    "print(r2_log_entry.format(\n",
    "    time=time,\n",
    "    status=task_status,\n",
    "    num=task_num,\n",
    "    message=message\n",
    "))"
   ]
  },
  {
   "cell_type": "markdown",
   "metadata": {
    "slideshow": {
     "slide_type": "subslide"
    }
   },
   "source": [
    "### f strings\n",
    "\n",
    "f strings are new to Python (3.6+) and therefore not available on all systems.  However, this one build on the `.format` method and removes the need to call `.format` with named locations and instead uses current variable in use:"
   ]
  },
  {
   "cell_type": "code",
   "execution_count": 63,
   "metadata": {},
   "outputs": [
    {
     "name": "stdout",
     "output_type": "stream",
     "text": [
      "0000 - Task 1 - Started - Initiate Connection to Computer\n"
     ]
    }
   ],
   "source": [
    "print(f'{time:04} - Task {task_num} - {task_status} - {message}')"
   ]
  },
  {
   "cell_type": "code",
   "execution_count": 65,
   "metadata": {
    "slideshow": {
     "slide_type": "subslide"
    }
   },
   "outputs": [
    {
     "name": "stdout",
     "output_type": "stream",
     "text": [
      "0002 - Task 2 - Complete - Set urgency level - High\n"
     ]
    }
   ],
   "source": [
    "# updating variables to show the changes\n",
    "time = 2\n",
    "task_status = 'Complete'\n",
    "task_num = 2\n",
    "message = 'Set urgency level - High'\n",
    "print(f'{time:04} - Task {task_num} - {task_status} - {message}')"
   ]
  }
 ],
 "metadata": {
  "kernelspec": {
   "display_name": "Python 3",
   "language": "python",
   "name": "python3"
  },
  "language_info": {
   "codemirror_mode": {
    "name": "ipython",
    "version": 3
   },
   "file_extension": ".py",
   "mimetype": "text/x-python",
   "name": "python",
   "nbconvert_exporter": "python",
   "pygments_lexer": "ipython3",
   "version": "3.8.3"
  }
 },
 "nbformat": 4,
 "nbformat_minor": 4
}
