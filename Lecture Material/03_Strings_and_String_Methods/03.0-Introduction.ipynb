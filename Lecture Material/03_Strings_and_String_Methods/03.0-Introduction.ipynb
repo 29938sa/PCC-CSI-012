{
 "cells": [
  {
   "cell_type": "markdown",
   "metadata": {},
   "source": [
    "# Module 3.0: Strings and String Methods\n",
    "\n",
    "Strings are a common data type among all programming languages.  They're the data types that's used most to interact with and communicate with the user so it's really important that we spend a little bit of time here learning all about this data type."
   ]
  },
  {
   "cell_type": "markdown",
   "metadata": {
    "slideshow": {
     "slide_type": "slide"
    }
   },
   "source": [
    "## What you'll learn in today's lesson (learning goals)\n",
    "\n",
    "1. What is the string data type.\n",
    "1. String properties.\n",
    "1. Immutable data types.\n",
    "1. How you create a string.\n",
    "1. Common special characters.\n",
    "1. String templates.\n",
    "1. f strings\n",
    "1. Common string \"gotchas\""
   ]
  },
  {
   "cell_type": "markdown",
   "metadata": {},
   "source": [
    "## Module Outline\n",
    "1. What is the `string` Data Type?\n",
    "1. Working with Strings.\n",
    "1. String Methods.\n",
    "1. Formating Strings."
   ]
  }
 ],
 "metadata": {
  "kernelspec": {
   "display_name": "Python 3",
   "language": "python",
   "name": "python3"
  },
  "language_info": {
   "codemirror_mode": {
    "name": "ipython",
    "version": 3
   },
   "file_extension": ".py",
   "mimetype": "text/x-python",
   "name": "python",
   "nbconvert_exporter": "python",
   "pygments_lexer": "ipython3",
   "version": "3.8.3"
  }
 },
 "nbformat": 4,
 "nbformat_minor": 4
}
