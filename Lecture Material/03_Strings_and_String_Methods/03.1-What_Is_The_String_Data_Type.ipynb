{
 "cells": [
  {
   "cell_type": "markdown",
   "metadata": {
    "slideshow": {
     "slide_type": "slide"
    }
   },
   "source": [
    "## What is the String Data Type?"
   ]
  },
  {
   "cell_type": "markdown",
   "metadata": {
    "slideshow": {
     "slide_type": "subslide"
    }
   },
   "source": [
    "### The String Data Type is:\n",
    "- A fundamental Python data type\n",
    "    - Cannot be broken into smaller values of different type\n",
    "- Abbreviated to `str` in Python:"
   ]
  },
  {
   "cell_type": "code",
   "execution_count": 1,
   "metadata": {},
   "outputs": [
    {
     "name": "stdout",
     "output_type": "stream",
     "text": [
      "<class 'str'>\n"
     ]
    }
   ],
   "source": [
    "print(type(\"Hello There\"))"
   ]
  },
  {
   "cell_type": "markdown",
   "metadata": {},
   "source": [
    "![](https://media.giphy.com/media/xTiIzJSKB4l7xTouE8/giphy.gif)"
   ]
  },
  {
   "cell_type": "markdown",
   "metadata": {
    "slideshow": {
     "slide_type": "subslide"
    }
   },
   "source": [
    "### Strings have a length to them"
   ]
  },
  {
   "cell_type": "code",
   "execution_count": 2,
   "metadata": {},
   "outputs": [
    {
     "data": {
      "text/plain": [
       "11"
      ]
     },
     "execution_count": 2,
     "metadata": {},
     "output_type": "execute_result"
    }
   ],
   "source": [
    "len(\"Hello There\")"
   ]
  },
  {
   "cell_type": "code",
   "execution_count": 3,
   "metadata": {},
   "outputs": [
    {
     "data": {
      "text/plain": [
       "11"
      ]
     },
     "execution_count": 3,
     "metadata": {},
     "output_type": "execute_result"
    }
   ],
   "source": [
    "# Variables that reference a string can be passed into `len` as well:\n",
    "hello = 'Hello There'\n",
    "len(hello)"
   ]
  },
  {
   "cell_type": "markdown",
   "metadata": {
    "slideshow": {
     "slide_type": "subslide"
    }
   },
   "source": [
    "### Characters 'Strung' together\n",
    "- Contains **characters**: individual letters or symbols.\n",
    "- Characters in a string appear sequentially (they have a specific order to them).\n",
    "    - Character mappings such as [ASCII](https://en.wikipedia.org/wiki/ASCII) and [Unicode](https://en.wikipedia.org/wiki/Unicode) are used to specify what character value translates to a human readable letter, symbol, or command."
   ]
  },
  {
   "cell_type": "code",
   "execution_count": 4,
   "metadata": {
    "slideshow": {
     "slide_type": "subslide"
    }
   },
   "outputs": [
    {
     "name": "stdout",
     "output_type": "stream",
     "text": [
      "\"hello there\"\n",
      "\n",
      "00 -> \"h\"\n",
      "01 -> \"e\"\n",
      "02 -> \"l\"\n",
      "03 -> \"l\"\n",
      "04 -> \"o\"\n",
      "05 -> \" \"\n",
      "06 -> \"t\"\n",
      "07 -> \"h\"\n",
      "08 -> \"e\"\n",
      "09 -> \"r\"\n",
      "10 -> \"e\"\n"
     ]
    }
   ],
   "source": [
    "hello = 'hello there'\n",
    "print(f'\"{hello}\"\\n')\n",
    "\n",
    "# this will print out in a nice way each character of the\n",
    "# string and it's associated index\n",
    "for index, char in enumerate(hello):\n",
    "    print(f'{index:02} -> \"{char}\"')"
   ]
  },
  {
   "cell_type": "markdown",
   "metadata": {
    "slideshow": {
     "slide_type": "subslide"
    }
   },
   "source": [
    "### Creating Strings in Python\n",
    "\n",
    "- **String Literals:** strings that are directly written within your Python code.\n",
    "- Created using various quotation **delimiters** (a sequence of one or more characters specifying a boundary)"
   ]
  },
  {
   "cell_type": "code",
   "execution_count": 5,
   "metadata": {},
   "outputs": [
    {
     "name": "stdout",
     "output_type": "stream",
     "text": [
      "Did you ever hear the tradegy of Darth Plageius the Wise?\n",
      "I thought not.  It's not a story the Jedi would tell you.\n"
     ]
    }
   ],
   "source": [
    "single_quote = 'Did you ever hear the tradegy of Darth Plageius the Wise?'\n",
    "print(single_quote)\n",
    "double_quote = \"I thought not.  It's not a story the Jedi would tell you.\"\n",
    "print(double_quote)"
   ]
  },
  {
   "cell_type": "code",
   "execution_count": 6,
   "metadata": {
    "slideshow": {
     "slide_type": "subslide"
    }
   },
   "outputs": [
    {
     "name": "stdout",
     "output_type": "stream",
     "text": [
      "\"I find your lack of faith disturbing.\" — Darth Vader\n"
     ]
    }
   ],
   "source": [
    "# Once a string delimeter is first seen, other delimeters can be used: \n",
    "\n",
    "vader_quote = '\"I find your lack of faith disturbing.\" — Darth Vader'\n",
    "print(vader_quote)"
   ]
  },
  {
   "cell_type": "code",
   "execution_count": 7,
   "metadata": {
    "slideshow": {
     "slide_type": "subslide"
    }
   },
   "outputs": [
    {
     "ename": "SyntaxError",
     "evalue": "invalid syntax (<ipython-input-7-83f91cc87a5e>, line 3)",
     "output_type": "error",
     "traceback": [
      "\u001b[1;36m  File \u001b[1;32m\"<ipython-input-7-83f91cc87a5e>\"\u001b[1;36m, line \u001b[1;32m3\u001b[0m\n\u001b[1;33m    luke_quote = 'I'll never turn to the dark side.'\u001b[0m\n\u001b[1;37m                     ^\u001b[0m\n\u001b[1;31mSyntaxError\u001b[0m\u001b[1;31m:\u001b[0m invalid syntax\n"
     ]
    }
   ],
   "source": [
    "# GOTCHA: Be careful about using the delimeter within the string\n",
    "#     you want to create\n",
    "luke_quote = 'I'll never turn to the dark side.'"
   ]
  },
  {
   "cell_type": "markdown",
   "metadata": {
    "slideshow": {
     "slide_type": "subslide"
    }
   },
   "source": [
    "### Multi-Lined Strings"
   ]
  },
  {
   "cell_type": "code",
   "execution_count": 8,
   "metadata": {},
   "outputs": [
    {
     "name": "stdout",
     "output_type": "stream",
     "text": [
      "The dark side of the Force is a pathway to many abilities some consider to be unnatural.\n",
      "The dark side of the Force is a pathway to many abilities some consider to be unnatural.\n"
     ]
    }
   ],
   "source": [
    "# you can use triple single or double quotes to creat a string:\n",
    "triple_single_quote = '''The dark side of the Force is a pathway to many abilities some consider to be unnatural.'''\n",
    "print(triple_single_quote)\n",
    "triple_double_quote = \"\"\"The dark side of the Force is a pathway to many abilities some consider to be unnatural.\"\"\"\n",
    "print(triple_double_quote)"
   ]
  },
  {
   "cell_type": "code",
   "execution_count": 9,
   "metadata": {
    "slideshow": {
     "slide_type": "subslide"
    }
   },
   "outputs": [
    {
     "name": "stdout",
     "output_type": "stream",
     "text": [
      "The dark side of the Force is a pathway \n",
      "to many abilities some consider to be unnatural.\n",
      "\n"
     ]
    }
   ],
   "source": [
    "# Triple quotes can span multiple lines but the newlines\n",
    "# are rendered\n",
    "long_string = \"\"\"The dark side of the Force is a pathway \n",
    "to many abilities some consider to be unnatural.\n",
    "\"\"\"\n",
    "print(long_string)"
   ]
  },
  {
   "cell_type": "code",
   "execution_count": 10,
   "metadata": {
    "slideshow": {
     "slide_type": "subslide"
    }
   },
   "outputs": [
    {
     "name": "stdout",
     "output_type": "stream",
     "text": [
      "The dark side of the Force is a pathway \n",
      "    to many abilities some consider to be unnatural.\n",
      "\n"
     ]
    }
   ],
   "source": [
    "# white spaced is preserved when using triple quotes\n",
    "print(\"\"\"The dark side of the Force is a pathway \n",
    "    to many abilities some consider to be unnatural.\n",
    "\"\"\")"
   ]
  },
  {
   "cell_type": "code",
   "execution_count": 11,
   "metadata": {
    "slideshow": {
     "slide_type": "subslide"
    }
   },
   "outputs": [
    {
     "name": "stdout",
     "output_type": "stream",
     "text": [
      "The dark side of the Force is a pathway to many abilities some consider to be unnatural.\n"
     ]
    }
   ],
   "source": [
    "# If you have a really long string, but don't want newlines the use the\n",
    "# backslash \\\n",
    "print(\"The dark side of the Force is a pathway \\\n",
    "to many abilities some consider to be unnatural.\")"
   ]
  },
  {
   "cell_type": "code",
   "execution_count": 12,
   "metadata": {
    "scrolled": true,
    "slideshow": {
     "slide_type": "subslide"
    }
   },
   "outputs": [
    {
     "ename": "SyntaxError",
     "evalue": "EOL while scanning string literal (<ipython-input-12-6f9de0d79e5a>, line 3)",
     "output_type": "error",
     "traceback": [
      "\u001b[1;36m  File \u001b[1;32m\"<ipython-input-12-6f9de0d79e5a>\"\u001b[1;36m, line \u001b[1;32m3\u001b[0m\n\u001b[1;33m    print(\"The dark side of the Force is a pathway \\\u001b[0m\n\u001b[1;37m                                                     ^\u001b[0m\n\u001b[1;31mSyntaxError\u001b[0m\u001b[1;31m:\u001b[0m EOL while scanning string literal\n"
     ]
    }
   ],
   "source": [
    "# GOTCHA: Make sure there isn't ANYTHING (including comments) \n",
    "#     after the backslash as that will cause an error\n",
    "print(\"The dark side of the Force is a pathway \\ \n",
    "to many ablities some consider to be unnatural\")"
   ]
  },
  {
   "cell_type": "code",
   "execution_count": null,
   "metadata": {},
   "outputs": [],
   "source": []
  }
 ],
 "metadata": {
  "kernelspec": {
   "display_name": "Python 3",
   "language": "python",
   "name": "python3"
  },
  "language_info": {
   "codemirror_mode": {
    "name": "ipython",
    "version": 3
   },
   "file_extension": ".py",
   "mimetype": "text/x-python",
   "name": "python",
   "nbconvert_exporter": "python",
   "pygments_lexer": "ipython3",
   "version": "3.8.3"
  }
 },
 "nbformat": 4,
 "nbformat_minor": 4
}
