{
 "cells": [
  {
   "cell_type": "markdown",
   "metadata": {},
   "source": [
    "# Module 9.0: File Input/Output (IO)\n",
    "\n",
    "Hello everyone, up to this point we've been working with programs that after completion of execution it's state is lost.  Often times as programmers we want to save certain things that the software has calculated.  There are many ways that this can be done such as databases, stored files, and even network transmissions.  In this module we're going to learn about how to work with files "
   ]
  },
  {
   "cell_type": "markdown",
   "metadata": {},
   "source": [
    "## Learning Goals:\n",
    "\n",
    "After completing this module you'll learn:\n",
    "\n",
    "- What a file is.\n",
    "- Where files are stored on the computing device.\n",
    "- What are file paths and the differences between absolute and relative paths.\n",
    "- Line ending and why they matter.\n",
    "- How to open and close a file properly.\n",
    "- How to read and write opened files.\n",
    "- Some common scenarios for file IO such as:\n",
    "    - Iteratting over lines in a file.\n",
    "    - Searching within a file.\n",
    "    - Appending to a file.\n",
    "    - Working with two files at the same time.\n",
    "- What a binary file is and how to work with them.\n",
    "- Reading the CSV and JSON file formats."
   ]
  },
  {
   "cell_type": "markdown",
   "metadata": {},
   "source": [
    "## Module Outline\n",
    "\n",
    "1. Files "
   ]
  }
 ],
 "metadata": {
  "kernelspec": {
   "display_name": "Python 3",
   "language": "python",
   "name": "python3"
  },
  "language_info": {
   "codemirror_mode": {
    "name": "ipython",
    "version": 3
   },
   "file_extension": ".py",
   "mimetype": "text/x-python",
   "name": "python",
   "nbconvert_exporter": "python",
   "pygments_lexer": "ipython3",
   "version": "3.6.6"
  }
 },
 "nbformat": 4,
 "nbformat_minor": 4
}
