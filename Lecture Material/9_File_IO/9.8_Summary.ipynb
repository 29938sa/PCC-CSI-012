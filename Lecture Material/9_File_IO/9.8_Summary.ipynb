{
 "cells": [
  {
   "cell_type": "markdown",
   "metadata": {},
   "source": [
    "# 9.8 Summary\n",
    "\n",
    "Congrats!  You've completed this module.  In this module you learned:\n",
    "\n",
    "- What a file is.\n",
    "- Where files are stored on the computing device.\n",
    "- What are file paths and the differences between absolute and relative paths.\n",
    "- Line ending and why they matter.\n",
    "- The `pathlib` library and its basic usage.\n",
    "- How to open and close a file properly.\n",
    "- How to read and write opened files.\n",
    "- Some common scenarios for file IO such as:\n",
    "    - Iteratting over lines in a file.\n",
    "    - Searching within a file.\n",
    "    - Appending to a file.\n",
    "    - Working with two files at the same time.\n",
    "- What a binary file is and how to work with them.\n",
    "- Reading the CSV and JSON file formats.\n",
    "\n",
    "Keep up the good work and see you soon."
   ]
  }
 ],
 "metadata": {
  "kernelspec": {
   "display_name": "Python 3",
   "language": "python",
   "name": "python3"
  },
  "language_info": {
   "codemirror_mode": {
    "name": "ipython",
    "version": 3
   },
   "file_extension": ".py",
   "mimetype": "text/x-python",
   "name": "python",
   "nbconvert_exporter": "python",
   "pygments_lexer": "ipython3",
   "version": "3.6.6"
  }
 },
 "nbformat": 4,
 "nbformat_minor": 4
}
