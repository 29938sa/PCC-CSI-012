{
 "cells": [
  {
   "cell_type": "markdown",
   "metadata": {},
   "source": [
    "# 9.3 Opening and Closing a File"
   ]
  },
  {
   "cell_type": "markdown",
   "metadata": {},
   "source": [
    "## Outline\n",
    "\n",
    "- use the `open()` built-in to open a file\n",
    "    - returns a File Handler\n",
    "        - A special object that allows for: open, close, read, write\n",
    "    - Make sure to always close your open files!\n",
    "    - Invalid file paths will raise a `FileNotFoundError`\n",
    "    - checking to see if a file exists \n",
    "- There are two approaches to closing a file:\n",
    "    - `<handler>.close()`\n",
    "    - Context manager using `with` (preferred method)\n",
    "- `open` function:\n",
    "    - file path\n",
    "    - file mode `'r'`, `'w'`, `'rb'`, or `'wb'`\n",
    "\n",
    "\n",
    "<div class=\"alert alert-warning\">\n",
    "Blah blah blah\n",
    "</div>"
   ]
  },
  {
   "cell_type": "code",
   "execution_count": null,
   "metadata": {},
   "outputs": [],
   "source": []
  }
 ],
 "metadata": {
  "kernelspec": {
   "display_name": "Python 3",
   "language": "python",
   "name": "python3"
  },
  "language_info": {
   "codemirror_mode": {
    "name": "ipython",
    "version": 3
   },
   "file_extension": ".py",
   "mimetype": "text/x-python",
   "name": "python",
   "nbconvert_exporter": "python",
   "pygments_lexer": "ipython3",
   "version": "3.6.6"
  }
 },
 "nbformat": 4,
 "nbformat_minor": 4
}
