{
 "cells": [
  {
   "cell_type": "markdown",
   "metadata": {
    "slideshow": {
     "slide_type": "slide"
    }
   },
   "source": [
    "# 9.6 Working with Different File Types\n",
    "\n",
    "While working with text files is great, there are hundreds of other types of files out there that we may need to work with.  In this lesson we're going to go over how to interact with two major ones: `csv` and `json`.  "
   ]
  },
  {
   "attachments": {
    "image.png": {
     "image/png": "[encoded data removed]"
    }
   },
   "cell_type": "markdown",
   "metadata": {
    "slideshow": {
     "slide_type": "slide"
    }
   },
   "source": [
    "## Working with `csv` files\n",
    "\n",
    "Comma Separated Value files are files are files structured like a table, where each line is a row and within each line each column entry is delimited by a comma (`,`).\n",
    "\n",
    "![image.png](attachment:image.png)"
   ]
  },
  {
   "cell_type": "code",
   "execution_count": 3,
   "metadata": {
    "slideshow": {
     "slide_type": "subslide"
    }
   },
   "outputs": [
    {
     "name": "stdout",
     "output_type": "stream",
     "text": [
      "﻿id,name,type\r",
      "\r\n",
      "1,bulbasaur,grass\r",
      "\r\n",
      "4,charmander,fire\r",
      "\r\n",
      "25,picachu,electric"
     ]
    }
   ],
   "source": [
    "%cat resources/pokemon_sm.csv"
   ]
  },
  {
   "cell_type": "code",
   "execution_count": 6,
   "metadata": {
    "slideshow": {
     "slide_type": "-"
    }
   },
   "outputs": [
    {
     "name": "stdout",
     "output_type": "stream",
     "text": [
      "['id', 'name', 'type']\n",
      "['1', 'bulbasaur', 'grass']\n",
      "['4', 'charmander', 'fire']\n",
      "['25', 'picachu', 'electric']\n"
     ]
    }
   ],
   "source": [
    "import csv\n",
    "with open('resources/pokemon_sm.csv', encoding='utf-8-sig') as reader:\n",
    "    csv_reader = csv.reader(reader)\n",
    "    for row in csv_reader:\n",
    "        print(row)"
   ]
  },
  {
   "cell_type": "code",
   "execution_count": 12,
   "metadata": {
    "slideshow": {
     "slide_type": "subslide"
    }
   },
   "outputs": [
    {
     "name": "stdout",
     "output_type": "stream",
     "text": [
      "OrderedDict([('id', '1'), ('name', 'bulbasaur'), ('type', 'grass')])\n",
      "Pokemon with ID: 1 is called bulbasaur and is the grass type\n",
      "\n",
      "OrderedDict([('id', '4'), ('name', 'charmander'), ('type', 'fire')])\n",
      "Pokemon with ID: 4 is called charmander and is the fire type\n",
      "\n",
      "OrderedDict([('id', '25'), ('name', 'picachu'), ('type', 'electric')])\n",
      "Pokemon with ID: 25 is called picachu and is the electric type\n",
      "\n"
     ]
    }
   ],
   "source": [
    "with open('resources/pokemon_sm.csv', encoding='utf-8-sig') as reader:\n",
    "    csv_reader = csv.DictReader(reader)\n",
    "    for row in csv_reader:\n",
    "        print(row)\n",
    "        print(f\"Pokemon with ID: {row['id']} is called {row['name']} and is the {row['type']} type\")\n",
    "        print()"
   ]
  },
  {
   "cell_type": "markdown",
   "metadata": {
    "slideshow": {
     "slide_type": "slide"
    }
   },
   "source": [
    "## Working with `json` files\n",
    "\n",
    "JavaScript Object Notation (JSON) is a file format that is used for data serialization.  **Serialization** is the process of converting data structures or object state into a static file.  JSON is very common especially with web page communications.  Let's take a look at what a json file looks like:"
   ]
  },
  {
   "cell_type": "code",
   "execution_count": 22,
   "metadata": {
    "slideshow": {
     "slide_type": "-"
    }
   },
   "outputs": [
    {
     "name": "stdout",
     "output_type": "stream",
     "text": [
      "[{\"id\": \"1\", \"name\": \"bulbasaur\", \"type\": \"grass\"}, {\"id\": \"4\", \"name\": \"charmander\", \"type\": \"fire\"}, {\"id\": \"25\", \"name\": \"picachu\", \"type\": \"electric\"}]"
     ]
    }
   ],
   "source": [
    "%cat resources/pokemon_sm.json"
   ]
  },
  {
   "cell_type": "code",
   "execution_count": 21,
   "metadata": {
    "slideshow": {
     "slide_type": "subslide"
    }
   },
   "outputs": [
    {
     "name": "stdout",
     "output_type": "stream",
     "text": [
      "[{'id': '1', 'name': 'bulbasaur', 'type': 'grass'}, {'id': '4', 'name': 'charmander', 'type': 'fire'}, {'id': '25', 'name': 'picachu', 'type': 'electric'}]\n"
     ]
    }
   ],
   "source": [
    "import json\n",
    "\n",
    "with open('resources/pokemon_sm.json') as reader:\n",
    "    pokemon = json.load(reader)\n",
    "    \n",
    "print(pokemon)"
   ]
  },
  {
   "cell_type": "code",
   "execution_count": 23,
   "metadata": {
    "slideshow": {
     "slide_type": "-"
    }
   },
   "outputs": [
    {
     "name": "stdout",
     "output_type": "stream",
     "text": [
      "Pokemon with ID: 1 is called bulbasaur and is the grass type\n",
      "Pokemon with ID: 4 is called charmander and is the fire type\n",
      "Pokemon with ID: 25 is called picachu and is the electric type\n"
     ]
    }
   ],
   "source": [
    "for monster in pokemon:\n",
    "    print(f\"Pokemon with ID: {monster['id']} is called {monster['name']} and is the {monster['type']} type\")"
   ]
  },
  {
   "cell_type": "markdown",
   "metadata": {
    "slideshow": {
     "slide_type": "slide"
    }
   },
   "source": [
    "## In-Class Assignment\n",
    "\n",
    "1. Open the file 'resources/bulbasaur.json' and print out the following attributes of the pokemon:\n",
    "    - id,\n",
    "    - weight,\n",
    "    - height\n",
    "1. With that same file, determine the number of moves bulbasaur has.\n",
    "1. With that same file, test if the pokemon is of the type 'water'."
   ]
  },
  {
   "cell_type": "code",
   "execution_count": 4,
   "metadata": {
    "slideshow": {
     "slide_type": "subslide"
    }
   },
   "outputs": [
    {
     "name": "stdout",
     "output_type": "stream",
     "text": [
      "Bulbasaur has the id of 1, a weight of 69, and a height of 7\n",
      "Bulbasaur has 39 moves\n",
      "Bulbasaur is not of type water\n"
     ]
    }
   ],
   "source": [
    "import json\n",
    "\n",
    "with open('resources/bulbasaur.json') as reader:\n",
    "    pokemon = json.load(reader)\n",
    "    \n",
    "print(f\"Bulbasaur has the id of {pokemon['id']}, a weight of {pokemon['weight']}, and a height of {pokemon['height']}\")\n",
    "print(f\"Bulbasaur has {len(pokemon['moves'])} moves\")\n",
    "\n",
    "if 'water' in pokemon['types']:\n",
    "    print('Bulbasaur is of type water')\n",
    "else:\n",
    "    print('Bulbasaur is not of type water')"
   ]
  }
 ],
 "metadata": {
  "celltoolbar": "Slideshow",
  "kernelspec": {
   "display_name": "Python 3",
   "language": "python",
   "name": "python3"
  },
  "language_info": {
   "codemirror_mode": {
    "name": "ipython",
    "version": 3
   },
   "file_extension": ".py",
   "mimetype": "text/x-python",
   "name": "python",
   "nbconvert_exporter": "python",
   "pygments_lexer": "ipython3",
   "version": "3.6.6"
  }
 },
 "nbformat": 4,
 "nbformat_minor": 4
}
