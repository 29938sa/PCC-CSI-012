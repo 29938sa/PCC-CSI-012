{
 "cells": [
  {
   "cell_type": "markdown",
   "metadata": {
    "slideshow": {
     "slide_type": "slide"
    }
   },
   "source": [
    "# 9.2 `pathlib` Basics\n",
    "\n",
    "Now that we've covered what a file is and how to get to them using a path, let's talk about a really neat module in Python 3.4+ call `pathlib`.  In this lesson, we're going to go over the basics of `pathlib` including how to:\n",
    "\n",
    "- Create paths using `pathlib`.\n",
    "- What the `cwd` and `home` paths are.\n",
    "- Iterating over parent directories.\n",
    "- Iterating over children within a directory.\n",
    "- Creating and deleting a file.\n",
    "\n",
    "We will by no means exhaustively go over all features within the this library.  I reccomend you check out Geir Arne's article [\"Python 3's pathlib Module: Taming the File System\" on Real Python](https://realpython.com/python-pathlib/)."
   ]
  },
  {
   "cell_type": "markdown",
   "metadata": {
    "slideshow": {
     "slide_type": "slide"
    }
   },
   "source": [
    "## Using `pathlib` \n",
    "\n",
    "The first thing you're going to need to do is import the `pathlib` library.  "
   ]
  },
  {
   "cell_type": "code",
   "execution_count": 1,
   "metadata": {
    "slideshow": {
     "slide_type": "-"
    }
   },
   "outputs": [],
   "source": [
    "import pathlib"
   ]
  },
  {
   "cell_type": "markdown",
   "metadata": {
    "slideshow": {
     "slide_type": "-"
    }
   },
   "source": [
    "The main object for working with paths within `pathlib` is the `Path` object."
   ]
  },
  {
   "cell_type": "code",
   "execution_count": 2,
   "metadata": {
    "slideshow": {
     "slide_type": "-"
    }
   },
   "outputs": [
    {
     "data": {
      "text/plain": [
       "PosixPath('path/to/the/file.ext')"
      ]
     },
     "execution_count": 2,
     "metadata": {},
     "output_type": "execute_result"
    }
   ],
   "source": [
    "pathlib.Path('path/to/the/file.ext')"
   ]
  },
  {
   "cell_type": "markdown",
   "metadata": {
    "slideshow": {
     "slide_type": "slide"
    }
   },
   "source": [
    "## The `cwd` and `home` Methods\n",
    "\n",
    "A common term when working with any file system is the current working directory (cwd) and home directory.  The **cwd** is the directory in which your program is currently executing within.  The **home** directory is a central location for the user to store and work with their personal files.  "
   ]
  },
  {
   "cell_type": "code",
   "execution_count": 3,
   "metadata": {
    "slideshow": {
     "slide_type": "-"
    }
   },
   "outputs": [
    {
     "data": {
      "text/plain": [
       "PosixPath('/Users/mertz/Documents/Repos/pcc-cis-012-intro-to-programming-python/Lecture Material/9_File_IO')"
      ]
     },
     "execution_count": 3,
     "metadata": {},
     "output_type": "execute_result"
    }
   ],
   "source": [
    "# you can access the current working directory by using cwd()\n",
    "pathlib.Path.cwd()"
   ]
  },
  {
   "cell_type": "code",
   "execution_count": 4,
   "metadata": {
    "slideshow": {
     "slide_type": "-"
    }
   },
   "outputs": [
    {
     "data": {
      "text/plain": [
       "PosixPath('/Users/mertz')"
      ]
     },
     "execution_count": 4,
     "metadata": {},
     "output_type": "execute_result"
    }
   ],
   "source": [
    "# you can access the users home directory by using home()\n",
    "pathlib.Path.home()"
   ]
  },
  {
   "cell_type": "markdown",
   "metadata": {
    "slideshow": {
     "slide_type": "slide"
    }
   },
   "source": [
    "## Parent Directories\n",
    "\n",
    "Another common term when working with files is parent directories.  A **parent directory** is the directory that is immediately above the current directory/file.  For example, given the path `path/to/this/dir` the parent directory is of `dir` is `path/to/this`.  The parent directory of `this` is `path/to` and so for.  We can iterate over the parents of a path using `pathlib`."
   ]
  },
  {
   "cell_type": "code",
   "execution_count": 5,
   "metadata": {
    "slideshow": {
     "slide_type": "-"
    }
   },
   "outputs": [
    {
     "name": "stdout",
     "output_type": "stream",
     "text": [
      "/Users/mertz/Documents/Repos/pcc-cis-012-intro-to-programming-python/Lecture Material\n",
      "/Users/mertz/Documents/Repos/pcc-cis-012-intro-to-programming-python\n",
      "/Users/mertz/Documents/Repos\n",
      "/Users/mertz/Documents\n",
      "/Users/mertz\n",
      "/Users\n",
      "/\n"
     ]
    }
   ],
   "source": [
    "path = pathlib.Path.cwd()\n",
    "for parent in path.parents:\n",
    "    print(parent)"
   ]
  },
  {
   "cell_type": "markdown",
   "metadata": {
    "slideshow": {
     "slide_type": "slide"
    }
   },
   "source": [
    "## Iterating Over Children of a Path\n",
    "\n",
    "Just as there are parents to a file path, there are also children.  A **child** is a file or folder contained within a directory.  We can use `pathlib` to iterate over the children of a specific folder."
   ]
  },
  {
   "cell_type": "code",
   "execution_count": 6,
   "metadata": {
    "slideshow": {
     "slide_type": "-"
    }
   },
   "outputs": [
    {
     "name": "stdout",
     "output_type": "stream",
     "text": [
      "/Users/mertz/Documents/Repos/pcc-cis-012-intro-to-programming-python/Lecture Material/01_random.txt\n",
      "/Users/mertz/Documents/Repos/pcc-cis-012-intro-to-programming-python/Lecture Material/04 - String and String Methods.ipynb\n",
      "/Users/mertz/Documents/Repos/pcc-cis-012-intro-to-programming-python/Lecture Material/03 - Python Variables, Statements, and Expressions.ipynb\n",
      "/Users/mertz/Documents/Repos/pcc-cis-012-intro-to-programming-python/Lecture Material/9_File_IO\n",
      "/Users/mertz/Documents/Repos/pcc-cis-012-intro-to-programming-python/Lecture Material/01 - Introduction To Programming.ipynb\n",
      "/Users/mertz/Documents/Repos/pcc-cis-012-intro-to-programming-python/Lecture Material/07 - Functions.ipynb\n",
      "/Users/mertz/Documents/Repos/pcc-cis-012-intro-to-programming-python/Lecture Material/8_Conditional_Logic_and_Control_Flow\n",
      "/Users/mertz/Documents/Repos/pcc-cis-012-intro-to-programming-python/Lecture Material/02 - HTML, CSS, and Javascript.ipynb\n",
      "/Users/mertz/Documents/Repos/pcc-cis-012-intro-to-programming-python/Lecture Material/05 - Numbers and Math.ipynb\n",
      "/Users/mertz/Documents/Repos/pcc-cis-012-intro-to-programming-python/Lecture Material/static\n",
      "/Users/mertz/Documents/Repos/pcc-cis-012-intro-to-programming-python/Lecture Material/examples\n",
      "/Users/mertz/Documents/Repos/pcc-cis-012-intro-to-programming-python/Lecture Material/06 - Data Containers, Loops, and Iterations.ipynb\n"
     ]
    }
   ],
   "source": [
    "cwd = pathlib.Path.cwd()\n",
    "\n",
    "# move up one parent directory and print out the contents\n",
    "path = list(cwd.parents)[0]\n",
    "for child in path.iterdir():\n",
    "    print(child)"
   ]
  },
  {
   "cell_type": "markdown",
   "metadata": {
    "slideshow": {
     "slide_type": "slide"
    }
   },
   "source": [
    "## Creating Files and Checking for File Existence\n",
    "\n",
    "`pathlib` makes it very easy to check if a file exists.  We can also use the `/` operator to create a file path from a different `pathlib` file path."
   ]
  },
  {
   "cell_type": "code",
   "execution_count": 7,
   "metadata": {
    "slideshow": {
     "slide_type": "-"
    }
   },
   "outputs": [
    {
     "name": "stdout",
     "output_type": "stream",
     "text": [
      "/Users/mertz/Documents/Repos/pcc-cis-012-intro-to-programming-python/Lecture Material/9_File_IO/test.txt\n"
     ]
    }
   ],
   "source": [
    "new_file_path = pathlib.Path.cwd() / 'test.txt'\n",
    "print(new_file_path)"
   ]
  },
  {
   "cell_type": "markdown",
   "metadata": {
    "slideshow": {
     "slide_type": "-"
    }
   },
   "source": [
    "We can then check to see if that file exists by using the `.exists()` method:"
   ]
  },
  {
   "cell_type": "code",
   "execution_count": 8,
   "metadata": {
    "slideshow": {
     "slide_type": "-"
    }
   },
   "outputs": [
    {
     "data": {
      "text/plain": [
       "False"
      ]
     },
     "execution_count": 8,
     "metadata": {},
     "output_type": "execute_result"
    }
   ],
   "source": [
    "new_file_path.exists()"
   ]
  },
  {
   "cell_type": "markdown",
   "metadata": {
    "slideshow": {
     "slide_type": "subslide"
    }
   },
   "source": [
    "Creating a file is done by using the `.touch()` method.  This method will create an empty file.  "
   ]
  },
  {
   "cell_type": "code",
   "execution_count": 9,
   "metadata": {
    "slideshow": {
     "slide_type": "-"
    }
   },
   "outputs": [
    {
     "data": {
      "text/plain": [
       "True"
      ]
     },
     "execution_count": 9,
     "metadata": {},
     "output_type": "execute_result"
    }
   ],
   "source": [
    "new_file_path.touch()\n",
    "new_file_path.exists()"
   ]
  },
  {
   "cell_type": "markdown",
   "metadata": {
    "slideshow": {
     "slide_type": "-"
    }
   },
   "source": [
    "<div class=\"alert alert-info\">\n",
    "    <b>Note:</b> When creating a file to add contents to it will be covered later.\n",
    "</div>\n",
    "\n",
    "You can then check to see if the file path is a file by using the `.is_file()` method."
   ]
  },
  {
   "cell_type": "code",
   "execution_count": 10,
   "metadata": {
    "slideshow": {
     "slide_type": "-"
    }
   },
   "outputs": [
    {
     "data": {
      "text/plain": [
       "True"
      ]
     },
     "execution_count": 10,
     "metadata": {},
     "output_type": "execute_result"
    }
   ],
   "source": [
    "new_file_path.is_file()"
   ]
  },
  {
   "cell_type": "markdown",
   "metadata": {
    "slideshow": {
     "slide_type": "slide"
    }
   },
   "source": [
    "## Deleting Files\n",
    "\n",
    "You can also delete file and folders using `pathlib`.  This is done by using the `.unlink()` method:"
   ]
  },
  {
   "cell_type": "code",
   "execution_count": 11,
   "metadata": {
    "slideshow": {
     "slide_type": "subslide"
    }
   },
   "outputs": [
    {
     "data": {
      "text/plain": [
       "False"
      ]
     },
     "execution_count": 11,
     "metadata": {},
     "output_type": "execute_result"
    }
   ],
   "source": [
    "new_file_path.unlink()\n",
    "new_file_path.exists()"
   ]
  }
 ],
 "metadata": {
  "celltoolbar": "Slideshow",
  "kernelspec": {
   "display_name": "Python 3",
   "language": "python",
   "name": "python3"
  },
  "language_info": {
   "codemirror_mode": {
    "name": "ipython",
    "version": 3
   },
   "file_extension": ".py",
   "mimetype": "text/x-python",
   "name": "python",
   "nbconvert_exporter": "python",
   "pygments_lexer": "ipython3",
   "version": "3.6.6"
  }
 },
 "nbformat": 4,
 "nbformat_minor": 4
}
