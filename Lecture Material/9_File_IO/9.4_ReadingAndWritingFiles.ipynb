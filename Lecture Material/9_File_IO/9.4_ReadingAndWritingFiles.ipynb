{
 "cells": [
  {
   "cell_type": "markdown",
   "metadata": {},
   "source": [
    "# 9.4 Reading and Writing Files\n",
    "\n",
    "## Outline\n",
    "- The `read()`, `readline()`, and the `readlines()` methods of a file handler.\n",
    "- Iterating over the contents of a file.\n",
    "- The `write()` and `writelines()` methods of a file handler\n",
    "- Working with bytes"
   ]
  },
  {
   "cell_type": "code",
   "execution_count": null,
   "metadata": {},
   "outputs": [],
   "source": []
  }
 ],
 "metadata": {
  "kernelspec": {
   "display_name": "Python 3",
   "language": "python",
   "name": "python3"
  },
  "language_info": {
   "codemirror_mode": {
    "name": "ipython",
    "version": 3
   },
   "file_extension": ".py",
   "mimetype": "text/x-python",
   "name": "python",
   "nbconvert_exporter": "python",
   "pygments_lexer": "ipython3",
   "version": "3.6.6"
  }
 },
 "nbformat": 4,
 "nbformat_minor": 4
}
