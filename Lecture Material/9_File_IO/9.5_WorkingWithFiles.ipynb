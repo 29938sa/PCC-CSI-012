{
 "cells": [
  {
   "cell_type": "markdown",
   "metadata": {
    "slideshow": {
     "slide_type": "slide"
    }
   },
   "source": [
    "# 9.5 Working with Files\n",
    "\n",
    "Now that we've learned about how to open, close, read, and write to/from files, let's examine some common scenarios we'll encounter and how to acheive them in Python.  The scenarios we'll cover are:\n",
    "\n",
    "- File statistics such as file size, number of words in a file, and number of lines.\n",
    "- Searching within a file.\n",
    "- Appending data to a file.\n",
    "- Working with two files at the same time.\n"
   ]
  },
  {
   "cell_type": "markdown",
   "metadata": {
    "slideshow": {
     "slide_type": "slide"
    }
   },
   "source": [
    "## File Statistics\n",
    "\n",
    "There are lots of statistics that we could try to calculate or find for a file, but the most common that I've run into, espcially text based files, are:\n",
    "\n",
    "- File Size\n",
    "- Number of Words\n",
    "- Number of Lines"
   ]
  },
  {
   "cell_type": "markdown",
   "metadata": {
    "slideshow": {
     "slide_type": "subslide"
    }
   },
   "source": [
    "### Getting the File Size\n",
    "\n",
    "Getting the size of a file is actually something that you can do without opening the file.  There are two different ways using either the `os` or the `pathlib` module."
   ]
  },
  {
   "cell_type": "code",
   "execution_count": 1,
   "metadata": {
    "slideshow": {
     "slide_type": "-"
    }
   },
   "outputs": [
    {
     "data": {
      "text/plain": [
       "751"
      ]
     },
     "execution_count": 1,
     "metadata": {},
     "output_type": "execute_result"
    }
   ],
   "source": [
    "import os\n",
    "os.path.getsize('resources/darth_plagueis_tragedy.txt')"
   ]
  },
  {
   "cell_type": "code",
   "execution_count": 2,
   "metadata": {
    "slideshow": {
     "slide_type": "-"
    }
   },
   "outputs": [
    {
     "name": "stdout",
     "output_type": "stream",
     "text": [
      "751\n"
     ]
    }
   ],
   "source": [
    "import pathlib\n",
    "path = pathlib.Path('resources/darth_plagueis_tragedy.txt')\n",
    "print(path.stat().st_size)"
   ]
  },
  {
   "cell_type": "markdown",
   "metadata": {
    "slideshow": {
     "slide_type": "-"
    }
   },
   "source": [
    "<div class=\"alert alert-info\">\n",
    "    <b>Note:</b> <code>pathlib</code> is only available for Python 3.4+.\n",
    "</div>"
   ]
  },
  {
   "cell_type": "markdown",
   "metadata": {
    "slideshow": {
     "slide_type": "subslide"
    }
   },
   "source": [
    "### Getting the number of words of a file"
   ]
  },
  {
   "cell_type": "code",
   "execution_count": 3,
   "metadata": {
    "slideshow": {
     "slide_type": "-"
    }
   },
   "outputs": [
    {
     "name": "stdout",
     "output_type": "stream",
     "text": [
      "138\n"
     ]
    }
   ],
   "source": [
    "path = pathlib.Path('resources/darth_plagueis_tragedy.txt')\n",
    "with open(path) as reader:\n",
    "    num_words = 0\n",
    "    for line in reader:\n",
    "        \n",
    "        # remember that .split() will take a line and turn it into \n",
    "        # a list with each delimited string as an entry.  The\n",
    "        # default delimeter is a space (' ')\n",
    "        num_words += len(line.split())\n",
    "        \n",
    "print(num_words)"
   ]
  },
  {
   "cell_type": "markdown",
   "metadata": {
    "slideshow": {
     "slide_type": "subslide"
    }
   },
   "source": [
    "### Getting the number of lines in a file"
   ]
  },
  {
   "cell_type": "code",
   "execution_count": 4,
   "metadata": {
    "slideshow": {
     "slide_type": "-"
    }
   },
   "outputs": [
    {
     "name": "stdout",
     "output_type": "stream",
     "text": [
      "There are 5 lines in resources/darth_plagueis_tragedy.txt\n"
     ]
    }
   ],
   "source": [
    "path = pathlib.Path('resources/darth_plagueis_tragedy.txt')\n",
    "with open(path) as reader:\n",
    "    \n",
    "    # Remember that .readlines() returns a list of all the lines\n",
    "    num_lines = len(reader.readlines())\n",
    "    print(f'There are {num_lines} lines in {path}')"
   ]
  },
  {
   "cell_type": "markdown",
   "metadata": {
    "slideshow": {
     "slide_type": "slide"
    }
   },
   "source": [
    "## Searching Within a File"
   ]
  },
  {
   "cell_type": "code",
   "execution_count": 5,
   "metadata": {
    "slideshow": {
     "slide_type": "-"
    }
   },
   "outputs": [
    {
     "name": "stdout",
     "output_type": "stream",
     "text": [
      "I thought not. It’s not a story the Jedi would tell you. \n",
      "\n"
     ]
    }
   ],
   "source": [
    "path = pathlib.Path('resources/darth_plagueis_tragedy.txt')\n",
    "\n",
    "with open(path) as reader:\n",
    "    for line in reader:\n",
    "        if line.find('Jedi') >= 0:\n",
    "            print(line)"
   ]
  },
  {
   "cell_type": "markdown",
   "metadata": {
    "slideshow": {
     "slide_type": "-"
    }
   },
   "source": [
    "<div class=\"alert alert-warning\">\n",
    "    <b>Warning:</b> <code>find()</code> is case sensitive which means you'll need to account for that.\n",
    "</div>"
   ]
  },
  {
   "cell_type": "code",
   "execution_count": 6,
   "metadata": {
    "slideshow": {
     "slide_type": "-"
    }
   },
   "outputs": [],
   "source": [
    "path = pathlib.Path('resources/darth_plagueis_tragedy.txt')\n",
    "\n",
    "with open(path) as reader:\n",
    "    for line in reader:\n",
    "        if line.find('jedi') >= 0:\n",
    "            print(line)"
   ]
  },
  {
   "cell_type": "markdown",
   "metadata": {
    "slideshow": {
     "slide_type": "subslide"
    }
   },
   "source": [
    "### Searching for a non-case sensitive string"
   ]
  },
  {
   "cell_type": "code",
   "execution_count": 7,
   "metadata": {
    "slideshow": {
     "slide_type": "-"
    }
   },
   "outputs": [
    {
     "name": "stdout",
     "output_type": "stream",
     "text": [
      "I thought not. It’s not a story the Jedi would tell you. \n",
      "\n",
      "------------------------------------ᐃ\n"
     ]
    }
   ],
   "source": [
    "path = pathlib.Path('resources/darth_plagueis_tragedy.txt')\n",
    "\n",
    "with open(path) as reader:\n",
    "    for line in reader:\n",
    "        \n",
    "        # we take the search string and make sure all characters\n",
    "        # are lower case and then search for the string\n",
    "        location = line.lower().find('jedi')\n",
    "        if location >= 0:\n",
    "            print(line)\n",
    "            print('-' * location + 'ᐃ')"
   ]
  },
  {
   "cell_type": "markdown",
   "metadata": {
    "slideshow": {
     "slide_type": "slide"
    }
   },
   "source": [
    "## Appending Data to a File\n",
    "\n",
    "Appending data to a file is done by passing the `'a'` permission flag into the `open()` function.  Let's start with a `test_data.txt` file that contains some numbers in it:"
   ]
  },
  {
   "cell_type": "code",
   "execution_count": 8,
   "metadata": {
    "slideshow": {
     "slide_type": "-"
    }
   },
   "outputs": [],
   "source": [
    "import random\n",
    "\n",
    "path = pathlib.Path('resources/test_data.txt')\n",
    "with open(path, 'w') as fh:\n",
    "    for _ in range(10):\n",
    "        fh.write(f'{random.randint(0, 100)}|')"
   ]
  },
  {
   "cell_type": "code",
   "execution_count": 9,
   "metadata": {
    "slideshow": {
     "slide_type": "-"
    }
   },
   "outputs": [
    {
     "name": "stdout",
     "output_type": "stream",
     "text": [
      "86|24|74|55|48|59|5|49|11|70|\n"
     ]
    }
   ],
   "source": [
    "with open(path) as reader:\n",
    "    print(reader.read())"
   ]
  },
  {
   "cell_type": "markdown",
   "metadata": {
    "slideshow": {
     "slide_type": "subslide"
    }
   },
   "source": [
    "Next, let's append some more numbers to the file"
   ]
  },
  {
   "cell_type": "code",
   "execution_count": 10,
   "metadata": {
    "slideshow": {
     "slide_type": "-"
    }
   },
   "outputs": [
    {
     "name": "stdout",
     "output_type": "stream",
     "text": [
      "86|24|74|55|48|59|5|49|11|70|56|53|26|21|11|\n"
     ]
    }
   ],
   "source": [
    "with open(path, 'a') as fh:\n",
    "    for _ in range(5):\n",
    "        fh.write(f'{random.randint(0, 100)}|')\n",
    "        \n",
    "with open(path) as reader:\n",
    "    print(reader.read())"
   ]
  },
  {
   "cell_type": "markdown",
   "metadata": {
    "slideshow": {
     "slide_type": "slide"
    }
   },
   "source": [
    "## Working with Two Files at the Same Time\n",
    "\n",
    "`open()` statements can be chained together with the `with` statement to properly open and close two files at the same time."
   ]
  },
  {
   "cell_type": "code",
   "execution_count": 11,
   "metadata": {
    "slideshow": {
     "slide_type": "-"
    }
   },
   "outputs": [
    {
     "name": "stdout",
     "output_type": "stream",
     "text": [
      "\"the\" appears 2 times in line 1\n",
      "\"the\" appears 0 times in line 2\n",
      "\"the\" appears 1 times in line 3\n",
      "\"the\" appears 0 times in line 4\n",
      "\"the\" appears 8 times in line 5\n",
      "\n"
     ]
    }
   ],
   "source": [
    "with open('resources/darth_plagueis_tragedy.txt', 'r') as reader, open('resources/darth_stats.txt', 'w') as writer:\n",
    "    for i, line in enumerate(reader):\n",
    "        words = line.lower().strip().split()\n",
    "        num_entries = words.count('the')\n",
    "        writer.write(f'\"the\" appears {num_entries} times in line {i + 1}\\n')\n",
    "        \n",
    "with open('resources/darth_stats.txt') as fh:\n",
    "    print(fh.read())"
   ]
  },
  {
   "cell_type": "markdown",
   "metadata": {
    "slideshow": {
     "slide_type": "slide"
    }
   },
   "source": [
    "## In-Class Assignments\n",
    "\n",
    "1. Open the file 'resources/darth_plagueis_tragedy.txt' and find which non-case sensitive word is most often used (Hint: look back at module 1).\n",
    "1. Do the same thing but ignoring the following words in your count:\n",
    "    - the,\n",
    "    - of,\n",
    "    - a,\n",
    "    - and"
   ]
  },
  {
   "cell_type": "code",
   "execution_count": 18,
   "metadata": {
    "slideshow": {
     "slide_type": "subslide"
    }
   },
   "outputs": [
    {
     "name": "stdout",
     "output_type": "stream",
     "text": [
      "The most used word is 'the' appearing 11 times.\n"
     ]
    }
   ],
   "source": [
    "with open('resources/darth_plagueis_tragedy.txt') as reader:\n",
    "    counts = dict()\n",
    "    for line in reader:\n",
    "        words = line.lower().split()\n",
    "        for word in words:\n",
    "            counts[word] = counts.get(word, 0) + 1\n",
    "            \n",
    "# Get the max value based on the key's value\n",
    "most_used = max(counts, key=lambda key: counts[key])\n",
    "print(f\"The most used word is '{most_used}' appearing {counts[most_used]} times.\")"
   ]
  },
  {
   "cell_type": "code",
   "execution_count": 20,
   "metadata": {
    "slideshow": {
     "slide_type": "subslide"
    }
   },
   "outputs": [
    {
     "name": "stdout",
     "output_type": "stream",
     "text": [
      "The most used word is 'he' appearing 10 times.\n"
     ]
    }
   ],
   "source": [
    "filtered_words = ['the', 'of', 'a', 'and']\n",
    "\n",
    "with open('resources/darth_plagueis_tragedy.txt') as reader:\n",
    "    counts = dict()\n",
    "    \n",
    "    # iterate through each line\n",
    "    for line in reader:\n",
    "        words = line.lower().split()\n",
    "        \n",
    "        # iterate through each word of the line\n",
    "        for word in words:\n",
    "            \n",
    "            # make sure that the word we have isn't one\n",
    "            # of the ones that should be filtered\n",
    "            if word not in filtered_words:\n",
    "                counts[word] = counts.get(word, 0) + 1\n",
    "            \n",
    "# Get the max value based on the key's value\n",
    "most_used = max(counts, key=lambda key: counts[key])\n",
    "print(f\"The most used word is '{most_used}' appearing {counts[most_used]} times.\")"
   ]
  }
 ],
 "metadata": {
  "celltoolbar": "Slideshow",
  "kernelspec": {
   "display_name": "Python 3",
   "language": "python",
   "name": "python3"
  },
  "language_info": {
   "codemirror_mode": {
    "name": "ipython",
    "version": 3
   },
   "file_extension": ".py",
   "mimetype": "text/x-python",
   "name": "python",
   "nbconvert_exporter": "python",
   "pygments_lexer": "ipython3",
   "version": "3.6.6"
  }
 },
 "nbformat": 4,
 "nbformat_minor": 4
}
