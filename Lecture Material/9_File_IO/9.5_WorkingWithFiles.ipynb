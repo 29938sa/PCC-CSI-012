{
 "cells": [
  {
   "cell_type": "markdown",
   "metadata": {},
   "source": [
    "# 9.5 Working with Files\n",
    "\n",
    "Now that we've learned about how to open, close, read, and write to/from files, let's examine some common scenarios we'll encounter and how to acheive them in Python.  The scenarios we'll cover are:\n",
    "\n",
    "- File statistics such as file size, number of words in a file, and number of lines.\n",
    "- Searching within a file.\n",
    "- Appending data to a file.\n",
    "- Working with two files at the same time.\n"
   ]
  },
  {
   "cell_type": "markdown",
   "metadata": {},
   "source": [
    "## File Statistics"
   ]
  },
  {
   "cell_type": "code",
   "execution_count": 6,
   "metadata": {},
   "outputs": [
    {
     "data": {
      "text/plain": [
       "751"
      ]
     },
     "execution_count": 6,
     "metadata": {},
     "output_type": "execute_result"
    }
   ],
   "source": [
    "import os\n",
    "os.path.getsize('resources/darth_plagueis_tragedy.txt')"
   ]
  },
  {
   "cell_type": "code",
   "execution_count": 4,
   "metadata": {},
   "outputs": [
    {
     "name": "stdout",
     "output_type": "stream",
     "text": [
      "751\n"
     ]
    }
   ],
   "source": [
    "import pathlib\n",
    "path = pathlib.Path('resources/darth_plagueis_tragedy.txt')\n",
    "print(path.stat().st_size)"
   ]
  },
  {
   "cell_type": "code",
   "execution_count": 7,
   "metadata": {},
   "outputs": [
    {
     "name": "stdout",
     "output_type": "stream",
     "text": [
      "138\n"
     ]
    }
   ],
   "source": [
    "path = pathlib.Path('resources/darth_plagueis_tragedy.txt')\n",
    "with open(path) as reader:\n",
    "    num_words = 0\n",
    "    for line in reader:\n",
    "        num_words += len(line.split())\n",
    "        \n",
    "print(num_words)"
   ]
  },
  {
   "cell_type": "markdown",
   "metadata": {},
   "source": [
    "## Searching Within a File\n",
    "\n"
   ]
  },
  {
   "cell_type": "code",
   "execution_count": 9,
   "metadata": {},
   "outputs": [
    {
     "name": "stdout",
     "output_type": "stream",
     "text": [
      "I thought not. It’s not a story the Jedi would tell you. \n",
      "\n"
     ]
    }
   ],
   "source": [
    "path = pathlib.Path('resources/darth_plagueis_tragedy.txt')\n",
    "\n",
    "with open(path) as reader:\n",
    "    for line in reader:\n",
    "        if line.find('Jedi') >= 0:\n",
    "            print(line)"
   ]
  },
  {
   "cell_type": "code",
   "execution_count": 22,
   "metadata": {},
   "outputs": [],
   "source": [
    "path = pathlib.Path('resources/darth_plagueis_tragedy.txt')\n",
    "\n",
    "with open(path) as reader:\n",
    "    for line in reader:\n",
    "        if line.find('jedi') >= 0:\n",
    "            print(line)"
   ]
  },
  {
   "cell_type": "code",
   "execution_count": 20,
   "metadata": {},
   "outputs": [
    {
     "name": "stdout",
     "output_type": "stream",
     "text": [
      "I thought not. It’s not a story the Jedi would tell you. \n",
      "\n",
      "------------------------------------ᐃ\n"
     ]
    }
   ],
   "source": [
    "path = pathlib.Path('resources/darth_plagueis_tragedy.txt')\n",
    "\n",
    "with open(path) as reader:\n",
    "    for line in reader:\n",
    "        location = line.lower().find('jedi')\n",
    "        if location >= 0:\n",
    "            print(line)\n",
    "            print('-' * location + 'ᐃ')"
   ]
  },
  {
   "cell_type": "markdown",
   "metadata": {},
   "source": [
    "## Appending Data to a File\n"
   ]
  },
  {
   "cell_type": "code",
   "execution_count": 28,
   "metadata": {},
   "outputs": [],
   "source": [
    "import random\n",
    "\n",
    "path = pathlib.Path('resources/test_data.txt')\n",
    "with open(path, 'w') as fh:\n",
    "    for _ in range(10):\n",
    "        fh.write(f'{random.randint(0, 100)}|')"
   ]
  },
  {
   "cell_type": "code",
   "execution_count": 29,
   "metadata": {},
   "outputs": [
    {
     "name": "stdout",
     "output_type": "stream",
     "text": [
      "59|75|76|42|8|81|46|75|77|52|\n"
     ]
    }
   ],
   "source": [
    "with open(path) as reader:\n",
    "    print(reader.read())"
   ]
  },
  {
   "cell_type": "code",
   "execution_count": 30,
   "metadata": {},
   "outputs": [
    {
     "name": "stdout",
     "output_type": "stream",
     "text": [
      "59|75|76|42|8|81|46|75|77|52|100|18|40|23|66|\n"
     ]
    }
   ],
   "source": [
    "with open(path, 'a') as fh:\n",
    "    for _ in range(5):\n",
    "        fh.write(f'{random.randint(0, 100)}|')\n",
    "        \n",
    "with open(path) as reader:\n",
    "    print(reader.read())"
   ]
  },
  {
   "cell_type": "markdown",
   "metadata": {},
   "source": [
    "## Working with Two Files at the Same Time\n",
    "\n"
   ]
  },
  {
   "cell_type": "code",
   "execution_count": 32,
   "metadata": {},
   "outputs": [
    {
     "name": "stdout",
     "output_type": "stream",
     "text": [
      "\"the\" appears 2 times in line 1\n",
      "\"the\" appears 0 times in line 2\n",
      "\"the\" appears 1 times in line 3\n",
      "\"the\" appears 0 times in line 4\n",
      "\"the\" appears 8 times in line 5\n",
      "\n"
     ]
    }
   ],
   "source": [
    "with open('resources/darth_plagueis_tragedy.txt', 'r') as reader, open('resources/darth_stats.txt', 'w') as writer:\n",
    "    for i, line in enumerate(reader):\n",
    "        words = line.lower().strip().split()\n",
    "        num_entries = words.count('the')\n",
    "        writer.write(f'\"the\" appears {num_entries} times in line {i + 1}\\n')\n",
    "        \n",
    "with open('resources/darth_stats.txt') as fh:\n",
    "    print(fh.read())"
   ]
  }
 ],
 "metadata": {
  "kernelspec": {
   "display_name": "Python 3",
   "language": "python",
   "name": "python3"
  },
  "language_info": {
   "codemirror_mode": {
    "name": "ipython",
    "version": 3
   },
   "file_extension": ".py",
   "mimetype": "text/x-python",
   "name": "python",
   "nbconvert_exporter": "python",
   "pygments_lexer": "ipython3",
   "version": "3.6.6"
  }
 },
 "nbformat": 4,
 "nbformat_minor": 4
}
