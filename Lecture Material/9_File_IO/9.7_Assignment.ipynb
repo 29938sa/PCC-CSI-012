{
 "cells": [
  {
   "cell_type": "markdown",
   "metadata": {},
   "source": [
    "# 9.7 Assignment\n",
    "\n",
    "Open the file `resources/random_data.txt`.  Each line contains 5 random numbers delimited by a comma.  For each line, determine the sum, average, max, and min of those vaules and in a separate file, write your calculated values delimited by a comma."
   ]
  }
 ],
 "metadata": {
  "kernelspec": {
   "display_name": "Python 3",
   "language": "python",
   "name": "python3"
  },
  "language_info": {
   "codemirror_mode": {
    "name": "ipython",
    "version": 3
   },
   "file_extension": ".py",
   "mimetype": "text/x-python",
   "name": "python",
   "nbconvert_exporter": "python",
   "pygments_lexer": "ipython3",
   "version": "3.6.6"
  }
 },
 "nbformat": 4,
 "nbformat_minor": 4
}
