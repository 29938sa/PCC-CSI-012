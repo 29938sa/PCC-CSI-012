{
 "cells": [
  {
   "cell_type": "markdown",
   "metadata": {
    "slideshow": {
     "slide_type": "slide"
    }
   },
   "source": [
    "## Pass by Value vs. Pass by Reference\n"
   ]
  },
  {
   "cell_type": "code",
   "execution_count": 30,
   "metadata": {
    "slideshow": {
     "slide_type": "subslide"
    }
   },
   "outputs": [
    {
     "data": {
      "text/plain": [
       "(411.75, 457.5)"
      ]
     },
     "execution_count": 30,
     "metadata": {},
     "output_type": "execute_result"
    }
   ],
   "source": [
    "default_hours = 30\n",
    "default_pay = 15.25\n",
    "\n",
    "def calculate_weeks_pay(hours, pay):\n",
    "    gross = hours * pay\n",
    "    net = gross * 0.90\n",
    "    return net, gross\n",
    "\n",
    "calculate_weeks_pay(default_hours, default_pay)"
   ]
  },
  {
   "cell_type": "code",
   "execution_count": 31,
   "metadata": {
    "slideshow": {
     "slide_type": "subslide"
    }
   },
   "outputs": [
    {
     "name": "stdout",
     "output_type": "stream",
     "text": [
      "30\n",
      "40\n"
     ]
    },
    {
     "data": {
      "text/plain": [
       "(411.75, 457.5)"
      ]
     },
     "execution_count": 31,
     "metadata": {},
     "output_type": "execute_result"
    }
   ],
   "source": [
    "default_hours = 30\n",
    "default_pay = 15.25\n",
    "\n",
    "def calculate_weeks_pay(hours, pay):\n",
    "    default_hours = 40\n",
    "    print(default_hours)\n",
    "    gross = hours * pay\n",
    "    net = gross * 0.90\n",
    "    return net, gross\n",
    "\n",
    "print(default_hours)\n",
    "\n",
    "calculate_weeks_pay(default_hours, default_pay)"
   ]
  },
  {
   "cell_type": "code",
   "execution_count": 33,
   "metadata": {
    "slideshow": {
     "slide_type": "subslide"
    }
   },
   "outputs": [
    {
     "name": "stdout",
     "output_type": "stream",
     "text": [
      "['james', 'joe', 'sally']\n",
      "['james', 'joe', 'sally', 'sue']\n"
     ]
    }
   ],
   "source": [
    "students = ['james', 'joe', 'sally']\n",
    "print(students)\n",
    "\n",
    "def append_sue_to_list(my_list):\n",
    "    my_list.append('sue')\n",
    "    \n",
    "append_sue_to_list(students)\n",
    "print(students)"
   ]
  },
  {
   "cell_type": "markdown",
   "metadata": {
    "slideshow": {
     "slide_type": "subslide"
    }
   },
   "source": [
    "### In General:\n",
    "\n",
    "- If the variable being passed into the function is immutable, it's considered \"pass by value\"\n",
    "- If the variable being passed into the function is mutabel, it's considered \"pass by referenc\""
   ]
  },
  {
   "cell_type": "code",
   "execution_count": null,
   "metadata": {},
   "outputs": [],
   "source": []
  }
 ],
 "metadata": {
  "kernelspec": {
   "display_name": "Python 3",
   "language": "python",
   "name": "python3"
  },
  "language_info": {
   "codemirror_mode": {
    "name": "ipython",
    "version": 3
   },
   "file_extension": ".py",
   "mimetype": "text/x-python",
   "name": "python",
   "nbconvert_exporter": "python",
   "pygments_lexer": "ipython3",
   "version": "3.6.6"
  }
 },
 "nbformat": 4,
 "nbformat_minor": 4
}
