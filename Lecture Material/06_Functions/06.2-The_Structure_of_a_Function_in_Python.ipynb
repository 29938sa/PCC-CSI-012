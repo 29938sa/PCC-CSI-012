{
 "cells": [
  {
   "cell_type": "markdown",
   "metadata": {
    "slideshow": {
     "slide_type": "slide"
    }
   },
   "source": [
    "## The Structure of a Function in Python"
   ]
  },
  {
   "cell_type": "markdown",
   "metadata": {
    "slideshow": {
     "slide_type": "subslide"
    }
   },
   "source": [
    "```python\n",
    "def <name> (inputs) :\n",
    "    '''function docstrings'''\n",
    "    <body>\n",
    "    return (outputs)\n",
    "```\n",
    "1. **The def keyword:** starts the definition of the function.\n",
    "1. **Named Positional Arguments:** Named variables that are surronded by parenthesis.\n",
    "1. **Colon:** A delimeter used to indicate the start of the body of a function.\n",
    "1. **Doc Strings:** Triple Quoted string literals used to document the function.\n",
    "1. **Body:** The actual computations/logic of the function.  This is indented by one level.\n",
    "1. **return:** A keyword used to indicate the returning values (outputs) of the function."
   ]
  },
  {
   "cell_type": "code",
   "execution_count": 4,
   "metadata": {
    "slideshow": {
     "slide_type": "subslide"
    }
   },
   "outputs": [],
   "source": [
    "# The function declaration\n",
    "def hello(person):\n",
    "    '''Says hello and returns the greeting\n",
    "    \n",
    "    Parameters\n",
    "    ----------\n",
    "    person : str\n",
    "        the name of the person to say hello to\n",
    "        \n",
    "    Returns\n",
    "    -------\n",
    "    str\n",
    "        the greeting used to say hello'''\n",
    "    \n",
    "    # notice the indentation throughout the body\n",
    "    \n",
    "    # function body\n",
    "    greeting = f'Hello {person}'\n",
    "    print(greeting)\n",
    "    \n",
    "    # returning a value\n",
    "    return greeting"
   ]
  },
  {
   "cell_type": "markdown",
   "metadata": {
    "slideshow": {
     "slide_type": "subslide"
    }
   },
   "source": [
    "There are two types of functions in Python:\n",
    "\n",
    "1. **Value Returning:** sometimes called fruitful, these functions will return a value or multiple values back to the user.\n",
    "1. **Non-Value Returning:** sometimes call void, these functions will return `None` everytime they're executed and are used for returning no values back to the user."
   ]
  },
  {
   "cell_type": "code",
   "execution_count": 5,
   "metadata": {
    "slideshow": {
     "slide_type": "subslide"
    }
   },
   "outputs": [],
   "source": [
    "def value_returning():\n",
    "    return 1"
   ]
  },
  {
   "cell_type": "code",
   "execution_count": 6,
   "metadata": {
    "slideshow": {
     "slide_type": "subslide"
    }
   },
   "outputs": [],
   "source": [
    "def non_value_returning():\n",
    "    print('Hello World')"
   ]
  },
  {
   "cell_type": "code",
   "execution_count": null,
   "metadata": {},
   "outputs": [],
   "source": []
  }
 ],
 "metadata": {
  "kernelspec": {
   "display_name": "Python 3",
   "language": "python",
   "name": "python3"
  },
  "language_info": {
   "codemirror_mode": {
    "name": "ipython",
    "version": 3
   },
   "file_extension": ".py",
   "mimetype": "text/x-python",
   "name": "python",
   "nbconvert_exporter": "python",
   "pygments_lexer": "ipython3",
   "version": "3.8.3"
  }
 },
 "nbformat": 4,
 "nbformat_minor": 4
}
