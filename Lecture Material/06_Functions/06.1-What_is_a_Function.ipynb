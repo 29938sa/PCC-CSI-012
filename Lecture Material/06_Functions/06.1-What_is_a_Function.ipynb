{
 "cells": [
  {
   "cell_type": "markdown",
   "metadata": {
    "slideshow": {
     "slide_type": "slide"
    }
   },
   "source": [
    "## What is a Function?\n",
    "\n"
   ]
  },
  {
   "cell_type": "markdown",
   "metadata": {
    "slideshow": {
     "slide_type": "subslide"
    }
   },
   "source": [
    "You may have heard about functions in Math where a certain output $z$ can be determined through passing in values for $x$ and $y$ such that:\n",
    "\n",
    "$$z = f(x, y)$$\n",
    "\n",
    "Functions in programming are something similar.\n",
    "\n",
    "- **Functions:** A named sequence of statements that perform computation.\n",
    "- Also known as:\n",
    "    - Subroutines,\n",
    "    - Procedures,\n",
    "    - Methods,\n",
    "    - Subprograms"
   ]
  },
  {
   "cell_type": "markdown",
   "metadata": {
    "slideshow": {
     "slide_type": "subslide"
    }
   },
   "source": [
    "### Structure of a Function\n",
    "1. Name\n",
    "1. Input(s)\n",
    "1. Computation\n",
    "1. Output(s)"
   ]
  },
  {
   "cell_type": "markdown",
   "metadata": {
    "slideshow": {
     "slide_type": "subslide"
    }
   },
   "source": [
    "### Functions allow programmers to:\n",
    "\n",
    "- Organize\n",
    "- Reuse\n",
    "- Share\n",
    "- Test"
   ]
  },
  {
   "cell_type": "code",
   "execution_count": 1,
   "metadata": {
    "slideshow": {
     "slide_type": "subslide"
    }
   },
   "outputs": [],
   "source": [
    "# Let's examine this code\n",
    "student_grades = {\n",
    "    'Joe': [90, 95, 87, 99],\n",
    "    'Sally': [97, 92, 90, 100],\n",
    "    'Mark': [80, 83, 72, 89]\n",
    "}\n",
    "\n",
    "student_grades_avg = {}\n",
    "\n",
    "joe_grade_sum = sum(student_grades['Joe'])\n",
    "joe_grade_num_scores = len(student_grades['Joe'])\n",
    "joe_grade_avg = joe_grade_sum / joe_grade_num_scores\n",
    "student_grades_avg['Joe'] = joe_grade_avg\n",
    "\n",
    "sally_grade_sum = sum(student_grades['Sally'])\n",
    "sally_grade_num_scores = len(student_grades['Sally'])\n",
    "sally_grade_avg = sally_grade_sum / sally_grade_num_scores\n",
    "student_grades_avg['Sally'] = sally_grade_avg\n",
    "\n",
    "mark_grade_sum = sum(student_grades['Mark'])\n",
    "mark_grade_num_scores = len(student_grades['Mark'])\n",
    "mark_grade_avg = mark_grade_sum / mark_grade_num_scores\n",
    "student_grades_avg['Mark'] = mark_grade_avg\n",
    "\n",
    "print(student_grades_avg)"
   ]
  },
  {
   "cell_type": "code",
   "execution_count": 2,
   "metadata": {
    "slideshow": {
     "slide_type": "subslide"
    }
   },
   "outputs": [],
   "source": [
    "# we could shorten this up a little using for loops\n",
    "# the we learned last time\n",
    "student_grades = {\n",
    "    'Joe': [90, 95, 87, 99],\n",
    "    'Sally': [97, 92, 90, 100],\n",
    "    'Mark': [80, 83, 72, 89]\n",
    "}\n",
    "\n",
    "student_grades_avg = {}\n",
    "\n",
    "for student, scores in student_grades.items():\n",
    "    avg = sum(scores) / len(scores)\n",
    "    student_grades_avg[student] = avg\n",
    "    \n",
    "print(student_grades_avg)"
   ]
  },
  {
   "cell_type": "code",
   "execution_count": 3,
   "metadata": {
    "slideshow": {
     "slide_type": "subslide"
    }
   },
   "outputs": [],
   "source": [
    "# Let's create a function instead\n",
    "student_grades = {\n",
    "    'Joe': [90, 95, 87, 99],\n",
    "    'Sally': [97, 92, 90, 100],\n",
    "    'Mark': [80, 83, 72, 89]\n",
    "}\n",
    "\n",
    "student_grades_avg = {}\n",
    "\n",
    "def calc_avg(scores):\n",
    "    avg = sum(scores) / len(scores)\n",
    "    return avg\n",
    "\n",
    "for student, scores in student_grades.items():\n",
    "    student_grades_avg[student] = calc_avg(scores)\n",
    "    \n",
    "print(student_grades_avg)"
   ]
  },
  {
   "cell_type": "markdown",
   "metadata": {
    "slideshow": {
     "slide_type": "subslide"
    }
   },
   "source": [
    "### Writing Good Functions\n",
    "- Names should be clear and concise\n",
    "    - Don't be afraid to use longer names as long as they're descriptive and not superfulous"
   ]
  },
  {
   "cell_type": "markdown",
   "metadata": {
    "slideshow": {
     "slide_type": "fragment"
    }
   },
   "source": [
    "- Action Oriented Naming\n",
    "    - Use a verb or verb like phrase\n",
    "- Each word should be separated by an underscore"
   ]
  },
  {
   "cell_type": "markdown",
   "metadata": {
    "slideshow": {
     "slide_type": "fragment"
    }
   },
   "source": [
    "- Should do one thing and only one thing\n",
    "    - Should be well defined and clear on how to do that one thing"
   ]
  },
  {
   "cell_type": "markdown",
   "metadata": {
    "slideshow": {
     "slide_type": "fragment"
    }
   },
   "source": [
    "- Each time you create a function, ask yourself:\n",
    "    - What is this doing?\n",
    "    - What types of inputs do I expect?\n",
    "    - What do I expect in return?"
   ]
  },
  {
   "cell_type": "code",
   "execution_count": null,
   "metadata": {},
   "outputs": [],
   "source": []
  }
 ],
 "metadata": {
  "kernelspec": {
   "display_name": "Python 3",
   "language": "python",
   "name": "python3"
  },
  "language_info": {
   "codemirror_mode": {
    "name": "ipython",
    "version": 3
   },
   "file_extension": ".py",
   "mimetype": "text/x-python",
   "name": "python",
   "nbconvert_exporter": "python",
   "pygments_lexer": "ipython3",
   "version": "3.8.3"
  }
 },
 "nbformat": 4,
 "nbformat_minor": 4
}
