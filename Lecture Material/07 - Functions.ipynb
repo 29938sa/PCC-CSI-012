{
 "cells": [
  {
   "cell_type": "markdown",
   "metadata": {
    "slideshow": {
     "slide_type": "slide"
    }
   },
   "source": [
    "# Functions"
   ]
  },
  {
   "cell_type": "markdown",
   "metadata": {
    "slideshow": {
     "slide_type": "slide"
    }
   },
   "source": [
    "## What you'll learn in today's lesson (learning goals)\n",
    "\n",
    "* The definition of a function.\n",
    "* Creating a function in Python.\n",
    "* Returning value(s) from a function.\n",
    "* Passing variables to a function.\n",
    "* Functions and scope.\n",
    "* Common gotchas with functions.\n",
    "* Common built-in functions.\n",
    "* Importing functions from packages."
   ]
  },
  {
   "cell_type": "markdown",
   "metadata": {
    "slideshow": {
     "slide_type": "slide"
    }
   },
   "source": [
    "## What is a Function?\n",
    "\n"
   ]
  },
  {
   "cell_type": "markdown",
   "metadata": {
    "slideshow": {
     "slide_type": "subslide"
    }
   },
   "source": [
    "You may have heard about functions in Math where a certain output $z$ can be determined through passing in values for $x$ and $y$ such that:\n",
    "\n",
    "$$z = f(x, y)$$\n",
    "\n",
    "Functions in programming are something similar.\n",
    "\n",
    "- **Functions:** A named sequence of statements that perform computation.\n",
    "- Also known as:\n",
    "    - Subroutines,\n",
    "    - Procedures,\n",
    "    - Methods,\n",
    "    - Subprograms"
   ]
  },
  {
   "cell_type": "markdown",
   "metadata": {
    "slideshow": {
     "slide_type": "subslide"
    }
   },
   "source": [
    "### Structure of a Function\n",
    "1. Name\n",
    "1. Input(s)\n",
    "1. Computation\n",
    "1. Output(s)"
   ]
  },
  {
   "cell_type": "markdown",
   "metadata": {
    "slideshow": {
     "slide_type": "subslide"
    }
   },
   "source": [
    "### Functions allow programmers to:\n",
    "\n",
    "- Organize\n",
    "- Reuse\n",
    "- Share\n",
    "- Test"
   ]
  },
  {
   "cell_type": "code",
   "execution_count": 1,
   "metadata": {
    "slideshow": {
     "slide_type": "subslide"
    }
   },
   "outputs": [
    {
     "name": "stdout",
     "output_type": "stream",
     "text": [
      "{'Joe': 92.75, 'Sally': 94.75, 'Mark': 81.0}\n"
     ]
    }
   ],
   "source": [
    "# Let's examine this code\n",
    "student_grades = {\n",
    "    'Joe': [90, 95, 87, 99],\n",
    "    'Sally': [97, 92, 90, 100],\n",
    "    'Mark': [80, 83, 72, 89]\n",
    "}\n",
    "\n",
    "student_grades_avg = {}\n",
    "\n",
    "joe_grade_sum = sum(student_grades['Joe'])\n",
    "joe_grade_num_scores = len(student_grades['Joe'])\n",
    "joe_grade_avg = joe_grade_sum / joe_grade_num_scores\n",
    "student_grades_avg['Joe'] = joe_grade_avg\n",
    "\n",
    "sally_grade_sum = sum(student_grades['Sally'])\n",
    "sally_grade_num_scores = len(student_grades['Sally'])\n",
    "sally_grade_avg = sally_grade_sum / sally_grade_num_scores\n",
    "student_grades_avg['Sally'] = sally_grade_avg\n",
    "\n",
    "mark_grade_sum = sum(student_grades['Mark'])\n",
    "mark_grade_num_scores = len(student_grades['Mark'])\n",
    "mark_grade_avg = mark_grade_sum / mark_grade_num_scores\n",
    "student_grades_avg['Mark'] = mark_grade_avg\n",
    "\n",
    "print(student_grades_avg)"
   ]
  },
  {
   "cell_type": "code",
   "execution_count": 2,
   "metadata": {
    "slideshow": {
     "slide_type": "subslide"
    }
   },
   "outputs": [
    {
     "name": "stdout",
     "output_type": "stream",
     "text": [
      "{'Joe': 92.75, 'Sally': 94.75, 'Mark': 81.0}\n"
     ]
    }
   ],
   "source": [
    "# we could shorten this up a little using for loops\n",
    "# the we learned last time\n",
    "student_grades = {\n",
    "    'Joe': [90, 95, 87, 99],\n",
    "    'Sally': [97, 92, 90, 100],\n",
    "    'Mark': [80, 83, 72, 89]\n",
    "}\n",
    "\n",
    "student_grades_avg = {}\n",
    "\n",
    "for student, scores in student_grades.items():\n",
    "    avg = sum(scores) / len(scores)\n",
    "    student_grades_avg[student] = avg\n",
    "    \n",
    "print(student_grades_avg)"
   ]
  },
  {
   "cell_type": "code",
   "execution_count": 3,
   "metadata": {
    "slideshow": {
     "slide_type": "subslide"
    }
   },
   "outputs": [
    {
     "name": "stdout",
     "output_type": "stream",
     "text": [
      "{'Joe': 92.75, 'Sally': 94.75, 'Mark': 81.0}\n"
     ]
    }
   ],
   "source": [
    "# Let's create a function instead\n",
    "student_grades = {\n",
    "    'Joe': [90, 95, 87, 99],\n",
    "    'Sally': [97, 92, 90, 100],\n",
    "    'Mark': [80, 83, 72, 89]\n",
    "}\n",
    "\n",
    "student_grades_avg = {}\n",
    "\n",
    "def calc_avg(scores):\n",
    "    avg = sum(scores) / len(scores)\n",
    "    return avg\n",
    "\n",
    "for student, scores in student_grades.items():\n",
    "    student_grades_avg[student] = calc_avg(scores)\n",
    "    \n",
    "print(student_grades_avg)"
   ]
  },
  {
   "cell_type": "markdown",
   "metadata": {
    "slideshow": {
     "slide_type": "subslide"
    }
   },
   "source": [
    "### Writing Good Functions\n",
    "- Names should be clear and concise\n",
    "    - Don't be afraid to use longer names as long as they're descriptive and not superfulous"
   ]
  },
  {
   "cell_type": "markdown",
   "metadata": {
    "slideshow": {
     "slide_type": "fragment"
    }
   },
   "source": [
    "- Action Oriented Naming\n",
    "    - Use a verb or verb like phrase\n",
    "- Each word should be separated by an underscore"
   ]
  },
  {
   "cell_type": "markdown",
   "metadata": {
    "slideshow": {
     "slide_type": "fragment"
    }
   },
   "source": [
    "- Should do one thing and only one thing\n",
    "    - Should be well defined and clear on how to do that one thing"
   ]
  },
  {
   "cell_type": "markdown",
   "metadata": {
    "slideshow": {
     "slide_type": "fragment"
    }
   },
   "source": [
    "- Each time you create a function, ask yourself:\n",
    "    - What is this doing?\n",
    "    - What types of inputs do I expect?\n",
    "    - What do I expect in return?"
   ]
  },
  {
   "cell_type": "markdown",
   "metadata": {
    "slideshow": {
     "slide_type": "slide"
    }
   },
   "source": [
    "## The Structure of a Function in Python"
   ]
  },
  {
   "cell_type": "markdown",
   "metadata": {
    "slideshow": {
     "slide_type": "subslide"
    }
   },
   "source": [
    "```python\n",
    "def <name> (inputs) :\n",
    "    '''function docstrings'''\n",
    "    <body>\n",
    "    return (outputs)\n",
    "```\n",
    "1. **The def keyword:** starts the definition of the function.\n",
    "1. **Named Positional Arguments:** Named variables that are surronded by parenthesis.\n",
    "1. **Colon:** A delimeter used to indicate the start of the body of a function.\n",
    "1. **Doc Strings:** Triple Quoted string literals used to document the function.\n",
    "1. **Body:** The actual computations/logic of the function.  This is indented by one level.\n",
    "1. **return:** A keyword used to indicate the returning values (outputs) of the function."
   ]
  },
  {
   "cell_type": "code",
   "execution_count": 4,
   "metadata": {
    "slideshow": {
     "slide_type": "subslide"
    }
   },
   "outputs": [],
   "source": [
    "# The function declaration\n",
    "def hello(person):\n",
    "    '''Says hello and returns the greeting\n",
    "    \n",
    "    Parameters\n",
    "    ----------\n",
    "    person : str\n",
    "        the name of the person to say hello to\n",
    "        \n",
    "    Returns\n",
    "    -------\n",
    "    str\n",
    "        the greeting used to say hello'''\n",
    "    \n",
    "    # notice the indentation throughout the body\n",
    "    \n",
    "    # function body\n",
    "    greeting = f'Hello {person}'\n",
    "    print(greeting)\n",
    "    \n",
    "    # returning a value\n",
    "    return greeting"
   ]
  },
  {
   "cell_type": "markdown",
   "metadata": {
    "slideshow": {
     "slide_type": "subslide"
    }
   },
   "source": [
    "There are two types of functions in Python:\n",
    "\n",
    "1. **Value Returning:** sometimes called fruitful, these functions will return a value or multiple values back to the user.\n",
    "1. **Non-Value Returning:** sometimes call void, these functions will return `None` everytime they're executed and are used for returning no values back to the user."
   ]
  },
  {
   "cell_type": "code",
   "execution_count": 5,
   "metadata": {
    "slideshow": {
     "slide_type": "subslide"
    }
   },
   "outputs": [],
   "source": [
    "def value_returning():\n",
    "    return 1"
   ]
  },
  {
   "cell_type": "code",
   "execution_count": 6,
   "metadata": {
    "slideshow": {
     "slide_type": "subslide"
    }
   },
   "outputs": [],
   "source": [
    "def non_value_returning():\n",
    "    print('Hello World')"
   ]
  },
  {
   "cell_type": "markdown",
   "metadata": {
    "slideshow": {
     "slide_type": "slide"
    }
   },
   "source": [
    "## Working with Functions"
   ]
  },
  {
   "cell_type": "code",
   "execution_count": 7,
   "metadata": {
    "slideshow": {
     "slide_type": "subslide"
    }
   },
   "outputs": [
    {
     "name": "stdout",
     "output_type": "stream",
     "text": [
      "Hello World\n"
     ]
    }
   ],
   "source": [
    "# calling a function is done by using it's name\n",
    "# followed by parenthesis with any inputs within\n",
    "# in fact we've been using functions already such\n",
    "# as print\n",
    "print(\"Hello World\")"
   ]
  },
  {
   "cell_type": "code",
   "execution_count": 8,
   "metadata": {
    "slideshow": {
     "slide_type": "-"
    }
   },
   "outputs": [
    {
     "data": {
      "text/plain": [
       "str"
      ]
     },
     "execution_count": 8,
     "metadata": {},
     "output_type": "execute_result"
    }
   ],
   "source": [
    "# and type\n",
    "type('Hello World')"
   ]
  },
  {
   "cell_type": "markdown",
   "metadata": {
    "slideshow": {
     "slide_type": "subslide"
    }
   },
   "source": [
    "### let's create a simple function by answering the following questions\n",
    "1. What is this doing? \n",
    "    - Calculate my weeks pay based on my hourly pay and number of hours worked and hourly pay\n",
    "2. What type of inputs do I expect?\n",
    "    - hours as a float; \n",
    "    - pay as a float\n",
    "3. What do I expect in return? \n",
    "    - the pay I expect assuming a 10% reduction for taxes as a float"
   ]
  },
  {
   "cell_type": "code",
   "execution_count": 9,
   "metadata": {
    "slideshow": {
     "slide_type": "subslide"
    }
   },
   "outputs": [],
   "source": [
    "def calculate_weeks_pay(hours, pay):\n",
    "    '''calculates the weeks pay\n",
    "    \n",
    "    Assumes that a 10% of the gross pay will be taken\n",
    "    for payment of taxes\n",
    "    \n",
    "    Parameters\n",
    "    ----------\n",
    "    hours : float\n",
    "        the number of hours worked for the week\n",
    "    pay : float\n",
    "        the hourly payment \n",
    "        \n",
    "    Returns\n",
    "    -------\n",
    "    float\n",
    "        the net pay expected'''\n",
    "    gross = hours * pay\n",
    "    net = gross * 0.90\n",
    "    print(f'Your net pay is: ${net:.2f}')"
   ]
  },
  {
   "cell_type": "code",
   "execution_count": 10,
   "metadata": {
    "slideshow": {
     "slide_type": "subslide"
    }
   },
   "outputs": [
    {
     "name": "stdout",
     "output_type": "stream",
     "text": [
      "Your net pay is: $480.38\n"
     ]
    }
   ],
   "source": [
    "# ok let's use this assuming that we worked 35 hours\n",
    "# and make $15.25 an hour\n",
    "calculate_weeks_pay(35, 15.25)"
   ]
  },
  {
   "cell_type": "code",
   "execution_count": 11,
   "metadata": {},
   "outputs": [],
   "source": [
    "def calculate_weeks_pay(hours, pay):\n",
    "    '''calculates the weeks pay\n",
    "    \n",
    "    Assumes that a 10% of the gross pay will be taken\n",
    "    for payment of taxes\n",
    "    \n",
    "    Parameters\n",
    "    ----------\n",
    "    hours : float\n",
    "        the number of hours worked for the week\n",
    "    pay : float\n",
    "        the hourly payment \n",
    "        \n",
    "    Returns\n",
    "    -------\n",
    "    float\n",
    "        the net pay expected'''\n",
    "    gross = hours * pay\n",
    "    net = gross * 0.90\n",
    "    return net"
   ]
  },
  {
   "cell_type": "code",
   "execution_count": 12,
   "metadata": {
    "slideshow": {
     "slide_type": "subslide"
    }
   },
   "outputs": [
    {
     "name": "stdout",
     "output_type": "stream",
     "text": [
      "Your net pay is: $480.38\n"
     ]
    }
   ],
   "source": [
    "# ok let's use this assuming that we worked 35 hours\n",
    "# and make $15.25 an hour\n",
    "net_pay = calculate_weeks_pay(35, 15.25)\n",
    "print(f'Your net pay is: ${net_pay:.2f}')"
   ]
  },
  {
   "cell_type": "markdown",
   "metadata": {
    "slideshow": {
     "slide_type": "subslide"
    }
   },
   "source": [
    "### What if we wanted to return both the gross and net pay?"
   ]
  },
  {
   "cell_type": "code",
   "execution_count": 13,
   "metadata": {
    "slideshow": {
     "slide_type": "-"
    }
   },
   "outputs": [],
   "source": [
    "def calculate_weeks_pay(hours, pay):\n",
    "    '''calculates the weeks pay\n",
    "    \n",
    "    Assumes that a 10% of the gross pay will be taken\n",
    "    for payment of taxes\n",
    "    \n",
    "    Parameters\n",
    "    ----------\n",
    "    hours : float\n",
    "        the number of hours worked for the week\n",
    "    pay : float\n",
    "        the hourly payment \n",
    "        \n",
    "    Returns\n",
    "    -------\n",
    "    float\n",
    "        the net pay expected'''\n",
    "    gross = hours * pay\n",
    "    net = gross * 0.90\n",
    "    return net, gross"
   ]
  },
  {
   "cell_type": "code",
   "execution_count": 14,
   "metadata": {
    "slideshow": {
     "slide_type": "subslide"
    }
   },
   "outputs": [
    {
     "data": {
      "text/plain": [
       "(480.375, 533.75)"
      ]
     },
     "execution_count": 14,
     "metadata": {},
     "output_type": "execute_result"
    }
   ],
   "source": [
    "calculate_weeks_pay(35, 15.25)"
   ]
  },
  {
   "cell_type": "code",
   "execution_count": 15,
   "metadata": {
    "slideshow": {
     "slide_type": "-"
    }
   },
   "outputs": [
    {
     "name": "stdout",
     "output_type": "stream",
     "text": [
      "Your net pay is: $533.75 with a gross of: $480.38\n"
     ]
    }
   ],
   "source": [
    "gross, net = calculate_weeks_pay(35, 15.25)\n",
    "print(f'Your net pay is: ${net:.2f} with a gross of: ${gross:.2f}')"
   ]
  },
  {
   "cell_type": "markdown",
   "metadata": {
    "slideshow": {
     "slide_type": "subslide"
    }
   },
   "source": [
    "### Understanding the \"flow\" of a python program\n",
    "\n",
    "- When a function is called\n",
    "- variable \"scope\"\n",
    "- "
   ]
  },
  {
   "cell_type": "code",
   "execution_count": 17,
   "metadata": {
    "slideshow": {
     "slide_type": "subslide"
    }
   },
   "outputs": [],
   "source": [
    "# functions are only executed when called\n",
    "def calculate_weeks_pay(hours, pay):\n",
    "    gross = hours * pay\n",
    "    print(gross)\n",
    "    net = gross * 0.90\n",
    "    return netpay, grosspay"
   ]
  },
  {
   "cell_type": "code",
   "execution_count": null,
   "metadata": {},
   "outputs": [],
   "source": [
    "# variable 'scope'\n",
    "def calculate_weeks_pay(hours, pay):\n",
    "    gross = hours * pay\n",
    "    print(gross)\n",
    "    net = gross * 0.90\n",
    "    return netpay, grosspay\n",
    "\n",
    "print(grosspay)"
   ]
  },
  {
   "cell_type": "code",
   "execution_count": null,
   "metadata": {
    "slideshow": {
     "slide_type": "subslide"
    }
   },
   "outputs": [],
   "source": [
    "gross = 0\n",
    "print(gross)\n",
    "\n",
    "def calculate_weeks_pay(hours, pay):\n",
    "    gross = hours * pay\n",
    "    print(gross)\n",
    "    net = gross * 0.90\n",
    "    return net, gross\n",
    "\n",
    "_, gross = calculate_weeks_pay(35, 15.25)\n",
    "print(gross)"
   ]
  },
  {
   "cell_type": "code",
   "execution_count": null,
   "metadata": {
    "slideshow": {
     "slide_type": "subslide"
    }
   },
   "outputs": [],
   "source": [
    "gross = 0\n",
    "print(gross)\n",
    "print(id(gross))\n",
    "\n",
    "def calculate_weeks_pay(hours, pay):\n",
    "    gross = hours * pay\n",
    "    print(gross)\n",
    "    print(id(gross))\n",
    "    net = gross * 0.90\n",
    "    return net, gross\n",
    "\n",
    "_, gross = calculate_weeks_pay(35, 15.25)\n",
    "print(gross)\n",
    "print(id(gross))\n",
    "\n",
    "calculate_weeks_pay(10, 10)\n",
    "print(gross)\n",
    "print(id(gross))"
   ]
  },
  {
   "cell_type": "code",
   "execution_count": null,
   "metadata": {},
   "outputs": [],
   "source": []
  }
 ],
 "metadata": {
  "celltoolbar": "Slideshow",
  "kernelspec": {
   "display_name": "Python 3",
   "language": "python",
   "name": "python3"
  },
  "language_info": {
   "codemirror_mode": {
    "name": "ipython",
    "version": 3
   },
   "file_extension": ".py",
   "mimetype": "text/x-python",
   "name": "python",
   "nbconvert_exporter": "python",
   "pygments_lexer": "ipython3",
   "version": "3.6.6"
  }
 },
 "nbformat": 4,
 "nbformat_minor": 4
}
