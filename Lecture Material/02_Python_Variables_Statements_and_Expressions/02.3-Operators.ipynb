{
 "cells": [
  {
   "cell_type": "markdown",
   "metadata": {
    "slideshow": {
     "slide_type": "slide"
    }
   },
   "source": [
    "## Operators"
   ]
  },
  {
   "cell_type": "markdown",
   "metadata": {
    "slideshow": {
     "slide_type": "subslide"
    }
   },
   "source": [
    "### Operators\n",
    "\n",
    "- **Operators:** special symbols that represent computations such as addition and subtraction.\n",
    "    - `+`, `-`, `=`, etc,.\n",
    "- Operators 'operate' on variable types"
   ]
  },
  {
   "cell_type": "markdown",
   "metadata": {
    "slideshow": {
     "slide_type": "subslide"
    }
   },
   "source": [
    "### Common Operators\n",
    "\n",
    "| Symbol | Name | General Purpose |\n",
    "| :----: | ---- | --------------- |\n",
    "| `=` | Assignment | Assigns the value on the right to the left variable |\n",
    "| `+` | Addition | Adds the value on the right to the left value |\n",
    "| `-` | Subtraction | Subtracts the value on the right from the left value |\n",
    "| `/` | Division | Divides the value on the right from the left value |\n",
    "| `//` | integer division | Divides the value on the right from the left value and returns only the quotient |\n",
    "| `%` | Modulo | Divides the value on the right from the left value and returns only the remainder |\n",
    "| `*` | Multiplication | Multiplies the value on the right with the left value |\n",
    "| `**` | Exponentiation | Takes the left value and raises it to the power of the right value |\n",
    "\n",
    "See Also: https://docs.python.org/3.8/library/operator.html#mapping-operators-to-functions"
   ]
  },
  {
   "cell_type": "markdown",
   "metadata": {},
   "source": [
    "We typically think of these operators as mathematical operators, and you'd be right to a degree:"
   ]
  },
  {
   "cell_type": "code",
   "execution_count": 1,
   "metadata": {},
   "outputs": [
    {
     "data": {
      "text/plain": [
       "2"
      ]
     },
     "execution_count": 1,
     "metadata": {},
     "output_type": "execute_result"
    }
   ],
   "source": [
    "1 + 1"
   ]
  },
  {
   "cell_type": "code",
   "execution_count": 2,
   "metadata": {},
   "outputs": [
    {
     "data": {
      "text/plain": [
       "0.6666666666666666"
      ]
     },
     "execution_count": 2,
     "metadata": {},
     "output_type": "execute_result"
    }
   ],
   "source": [
    "2 / 3"
   ]
  },
  {
   "cell_type": "code",
   "execution_count": 3,
   "metadata": {},
   "outputs": [
    {
     "data": {
      "text/plain": [
       "8"
      ]
     },
     "execution_count": 3,
     "metadata": {},
     "output_type": "execute_result"
    }
   ],
   "source": [
    "2 ** 3"
   ]
  },
  {
   "cell_type": "markdown",
   "metadata": {},
   "source": [
    "But in programming, these operators can be used to mean other things to different variable types.  For example, with strings, you can \"add\" them together.  Before I show you, what would you expect to happen if I \"added\" two string together?"
   ]
  },
  {
   "cell_type": "code",
   "execution_count": 4,
   "metadata": {},
   "outputs": [
    {
     "data": {
      "text/plain": [
       "'this is a test'"
      ]
     },
     "execution_count": 4,
     "metadata": {},
     "output_type": "execute_result"
    }
   ],
   "source": [
    "\"this is \" + \"a test\""
   ]
  },
  {
   "cell_type": "markdown",
   "metadata": {},
   "source": [
    "Addition to string is the same thing as contatenation.  The same thing applies to other more complex data types such as lists:"
   ]
  },
  {
   "cell_type": "code",
   "execution_count": 5,
   "metadata": {},
   "outputs": [
    {
     "data": {
      "text/plain": [
       "[1, 'two', 3.0, 4, 'five', 6.0]"
      ]
     },
     "execution_count": 5,
     "metadata": {},
     "output_type": "execute_result"
    }
   ],
   "source": [
    "[1, 'two', 3.0] + [4, 'five', 6.0]"
   ]
  },
  {
   "cell_type": "markdown",
   "metadata": {},
   "source": [
    "Don't worry about knowing the details of all of this just yet, we're going to cover what each of the data types are and how to use operators and their methods later."
   ]
  },
  {
   "cell_type": "markdown",
   "metadata": {},
   "source": [
    "The thing to take away from here, is that operators \"operate\" on variable types and always operate by taking what's on the right of the operator and applying that operation to the left.  "
   ]
  },
  {
   "cell_type": "code",
   "execution_count": null,
   "metadata": {},
   "outputs": [],
   "source": []
  }
 ],
 "metadata": {
  "kernelspec": {
   "display_name": "Python 3",
   "language": "python",
   "name": "python3"
  },
  "language_info": {
   "codemirror_mode": {
    "name": "ipython",
    "version": 3
   },
   "file_extension": ".py",
   "mimetype": "text/x-python",
   "name": "python",
   "nbconvert_exporter": "python",
   "pygments_lexer": "ipython3",
   "version": "3.8.3"
  }
 },
 "nbformat": 4,
 "nbformat_minor": 4
}
