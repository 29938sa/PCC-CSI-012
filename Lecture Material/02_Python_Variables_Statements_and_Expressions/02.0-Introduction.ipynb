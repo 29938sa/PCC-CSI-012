{
 "cells": [
  {
   "cell_type": "markdown",
   "metadata": {},
   "source": [
    "# Module 2.0: Python Variables, Operators, and Statements\n",
    "\n",
    "In any programming language, variables, operators, and statements are the building blocks of programming.  Everything else in programming is centered around these three things, so it's important that we go a little into detail about what these are and how to properly use them."
   ]
  },
  {
   "cell_type": "markdown",
   "metadata": {
    "slideshow": {
     "slide_type": "slide"
    }
   },
   "source": [
    "## What you'll learn in today's lesson (learning goals)\n",
    "\n",
    "1. What are variables.\n",
    "1. How to create a variable in Python.\n",
    "1. Naming your variables carefully and clearly.\n",
    "1. Keywords in Python.\n",
    "1. Basic Python Data Types.\n",
    "1. Determining the type of a variable.\n",
    "1. What are operators.\n",
    "1. What is a statement.\n",
    "1. Order of Operations.\n",
    "1. Commenting Code.\n",
    "1. Debugging using the `print` function (not statement)"
   ]
  },
  {
   "cell_type": "markdown",
   "metadata": {},
   "source": [
    "## Module Outline\n",
    "1. Variables.\n",
    "2. Variable Types.\n",
    "3. Operators.\n",
    "4. Putting it all together with Statements.\n",
    "5. Commenting your code."
   ]
  }
 ],
 "metadata": {
  "kernelspec": {
   "display_name": "Python 3",
   "language": "python",
   "name": "python3"
  },
  "language_info": {
   "codemirror_mode": {
    "name": "ipython",
    "version": 3
   },
   "file_extension": ".py",
   "mimetype": "text/x-python",
   "name": "python",
   "nbconvert_exporter": "python",
   "pygments_lexer": "ipython3",
   "version": "3.8.3"
  }
 },
 "nbformat": 4,
 "nbformat_minor": 4
}
