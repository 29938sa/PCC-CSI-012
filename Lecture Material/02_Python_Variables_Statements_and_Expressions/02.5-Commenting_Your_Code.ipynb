{
 "cells": [
  {
   "cell_type": "markdown",
   "metadata": {
    "slideshow": {
     "slide_type": "slide"
    }
   },
   "source": [
    "## Commenting Code\n",
    "\n",
    ">    “Code tells you how; Comments tell you why.”\n",
    ">\n",
    ">    — Jeff Atwood (aka Coding Horror)\n"
   ]
  },
  {
   "cell_type": "markdown",
   "metadata": {
    "slideshow": {
     "slide_type": "subslide"
    }
   },
   "source": [
    "### Basics of Commenting Code\n",
    "\n",
    "- Created using the `#` (pound/hash) sign.\n",
    "- Should be brief statements no longer than a few sentences.\n",
    "- Should have a maximum length of 72 characters (according to PEP 8).\n",
    "    - If the statement descriptions are longer than 72 chars, split the comment up over multiple lines."
   ]
  },
  {
   "cell_type": "markdown",
   "metadata": {
    "slideshow": {
     "slide_type": "subslide"
    }
   },
   "source": [
    "### Purposes of Comments\n",
    "\n",
    "- Planning and Reviewing\n",
    "        # First step\n",
    "        # Second step\n",
    "        # Third step\n",
    "- Code Description\n",
    "        # Attempt a connection based on previous settings.  If unsuccesful,\n",
    "        # prompt user for new settings.\n",
    "- Algorithmic Description\n",
    "        # Using quick sort for performance gains\n",
    "- Tagging (TODO, BUG, FIXME)\n",
    "        # TODO: Add condition for when val is None"
   ]
  },
  {
   "cell_type": "markdown",
   "metadata": {
    "slideshow": {
     "slide_type": "subslide"
    }
   },
   "source": [
    "### Four Essential Rules for Commenting:\n",
    "\n",
    "1. Keep comments as close to the code being described as possible.\n",
    "1. Don't use complex formatting (such as tables or ASCII figures).\n",
    "1. Don't include redundant information.\n",
    "1. Design your code to comment itself."
   ]
  }
 ],
 "metadata": {
  "kernelspec": {
   "display_name": "Python 3",
   "language": "python",
   "name": "python3"
  },
  "language_info": {
   "codemirror_mode": {
    "name": "ipython",
    "version": 3
   },
   "file_extension": ".py",
   "mimetype": "text/x-python",
   "name": "python",
   "nbconvert_exporter": "python",
   "pygments_lexer": "ipython3",
   "version": "3.8.3"
  }
 },
 "nbformat": 4,
 "nbformat_minor": 4
}
