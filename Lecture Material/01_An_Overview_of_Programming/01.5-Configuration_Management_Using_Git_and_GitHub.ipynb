{
 "cells": [
  {
   "cell_type": "markdown",
   "metadata": {},
   "source": [
    "# Configuration Management Using Git and GitHub\n",
    "\n",
    "Have you ever encountered a time where you worked and worked on a document to only have everything go away because of a computer crash?  Or have you ever made a mistake on a document that you've found yourself having to `ctrl-z` a bunch to get you back to the state you liked?  Do you ever save multiple copies of a document with different changes to see which one you like?  Each of these are rudimentary examples of Configuration management.\n",
    "\n",
    "Developers make mistakes.  They also like to make changes and see what happens and then decide what they want to do"
   ]
  }
 ],
 "metadata": {
  "kernelspec": {
   "display_name": "Python 3",
   "language": "python",
   "name": "python3"
  },
  "language_info": {
   "codemirror_mode": {
    "name": "ipython",
    "version": 3
   },
   "file_extension": ".py",
   "mimetype": "text/x-python",
   "name": "python",
   "nbconvert_exporter": "python",
   "pygments_lexer": "ipython3",
   "version": "3.6.6"
  }
 },
 "nbformat": 4,
 "nbformat_minor": 4
}
