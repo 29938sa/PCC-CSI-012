{
 "cells": [
  {
   "cell_type": "markdown",
   "metadata": {
    "slideshow": {
     "slide_type": "slide"
    }
   },
   "source": [
    "# Creating our first program\n",
    "\n",
    "In this module we're going to learn how to create our first Python script.  Let's start off with something simple:"
   ]
  },
  {
   "cell_type": "code",
   "execution_count": 1,
   "metadata": {
    "slideshow": {
     "slide_type": "subslide"
    }
   },
   "outputs": [
    {
     "name": "stdout",
     "output_type": "stream",
     "text": [
      "Hello Enter your name!\n"
     ]
    }
   ],
   "source": [
    "name = \"Enter your name\"\n",
    "print(f\"Hello {name}!\")"
   ]
  },
  {
   "cell_type": "markdown",
   "metadata": {
    "slideshow": {
     "slide_type": "subslide"
    }
   },
   "source": [
    "Copy the code above into a new Python file called `hello.py` in VS Code and change `Enter your name` to your name.  Then run the script.  What is the output?"
   ]
  },
  {
   "cell_type": "code",
   "execution_count": 1,
   "metadata": {
    "slideshow": {
     "slide_type": "subslide"
    }
   },
   "outputs": [
    {
     "name": "stdout",
     "output_type": "stream",
     "text": [
      "Hello Kronos!\n"
     ]
    }
   ],
   "source": [
    "name = \"Kronos\"\n",
    "print(f\"Hello {name}!\")"
   ]
  },
  {
   "cell_type": "markdown",
   "metadata": {
    "slideshow": {
     "slide_type": "slide"
    }
   },
   "source": [
    "One of the first things you should note is that Python files are executed line by line, even when they've been imported!  This may or may not be the behaviour you want, so let's explore the `main` of a Python file.  This is done by at the end of a file entering this:\n",
    "\n",
    "```\n",
    "\n",
    "if __name__ == '__main__':\n",
    "    # Your executable code here\n",
    "```\n"
   ]
  },
  {
   "cell_type": "markdown",
   "metadata": {
    "slideshow": {
     "slide_type": "subslide"
    }
   },
   "source": [
    "Let's do this for our `hello.py` file:"
   ]
  },
  {
   "cell_type": "code",
   "execution_count": 2,
   "metadata": {
    "slideshow": {
     "slide_type": "-"
    }
   },
   "outputs": [],
   "source": [
    "if __name__ == '__main__':\n",
    "    name = \"Kronos\"\n",
    "    print(f\"Hello {name}\")"
   ]
  },
  {
   "cell_type": "markdown",
   "metadata": {
    "slideshow": {
     "slide_type": "-"
    }
   },
   "source": [
    "Don't worry too much about what this means too much yet, you're going to learn about `if` statements, but you should start creating all of your Python Scripts like this, where the executable code is under the `__main__` statement."
   ]
  },
  {
   "cell_type": "markdown",
   "metadata": {
    "slideshow": {
     "slide_type": "slide"
    }
   },
   "source": [
    "Printing out your name is pretty awesome, but let's do something a little more complicated.  Let's create a word counter that then finds the most used word:"
   ]
  },
  {
   "cell_type": "code",
   "execution_count": 2,
   "metadata": {
    "slideshow": {
     "slide_type": "-"
    }
   },
   "outputs": [
    {
     "name": "stdout",
     "output_type": "stream",
     "text": [
      "The most used word is 'in' appearing 9 times.\n"
     ]
    }
   ],
   "source": [
    "with open('01_random.txt') as reader:\n",
    "    counts = dict()\n",
    "    for line in reader:\n",
    "        words = line.split()\n",
    "        for word in words:\n",
    "            counts[word] = counts.get(word, 0) + 1\n",
    "            \n",
    "# Get the max value based on the key's value\n",
    "most_used = max(counts, key=lambda key: counts[key])\n",
    "print(f\"The most used word is '{most_used}' appearing {counts[most_used]} times.\")"
   ]
  },
  {
   "cell_type": "markdown",
   "metadata": {
    "slideshow": {
     "slide_type": "slide"
    }
   },
   "source": [
    "There is so much more that you can do with programming using Python and other languages.  The world is literally at your fingertips.  Here are just a *few* examples of Notebooks that people have created:\n",
    "\n",
    "https://github.com/jupyter/jupyter/wiki/A-gallery-of-interesting-Jupyter-Notebooks"
   ]
  }
 ],
 "metadata": {
  "celltoolbar": "Slideshow",
  "kernelspec": {
   "display_name": "Python 3",
   "language": "python",
   "name": "python3"
  },
  "language_info": {
   "codemirror_mode": {
    "name": "ipython",
    "version": 3
   },
   "file_extension": ".py",
   "mimetype": "text/x-python",
   "name": "python",
   "nbconvert_exporter": "python",
   "pygments_lexer": "ipython3",
   "version": "3.6.6"
  }
 },
 "nbformat": 4,
 "nbformat_minor": 4
}
