{
 "cells": [
  {
   "cell_type": "markdown",
   "metadata": {
    "slideshow": {
     "slide_type": "slide"
    }
   },
   "source": [
    "# Software Development Lifecycles\n",
    "\n",
    "There are multiple paradigms you can use to develop software.  For this course, we're going to cover three:\n",
    "\n",
    "1. Waterfall and V-Model\n",
    "1. Agile\n",
    "1. Test Driven"
   ]
  },
  {
   "cell_type": "markdown",
   "metadata": {
    "slideshow": {
     "slide_type": "slide"
    }
   },
   "source": [
    "## Waterfall and V-Model\n",
    "\n",
    "The [waterfall model](https://en.wikipedia.org/wiki/Waterfall_model) is based on the fact that there's a downward trend of processes.  The idea is to complete each step of the software development fully before proceeding to each step.  The waterfall model has the following main steps:\n",
    "\n",
    "1. **Requirements:** Define what the software should and shouldn't do.\n",
    "1. **Design:** Design the way in which the software should accomplish the requirements.\n",
    "1. **Implementation:** Create the software based on the requirements and design defined.\n",
    "1. **Verification:** Create tests that verify the software actually accomplishes the requirements.\n",
    "1. **Maintenance:** Make changes to the software as needed based on issues identified"
   ]
  },
  {
   "cell_type": "markdown",
   "metadata": {
    "slideshow": {
     "slide_type": "subslide"
    }
   },
   "source": [
    "<img src=\"https://upload.wikimedia.org/wikipedia/commons/thumb/e/e2/Waterfall_model.svg/1920px-Waterfall_model.svg.png\" alt=\"The waterfall process.  Progress flows from the top to the bottom like a cascading waterfall\" width=400 />"
   ]
  },
  {
   "cell_type": "markdown",
   "metadata": {},
   "source": []
  }
 ],
 "metadata": {
  "celltoolbar": "Slideshow",
  "kernelspec": {
   "display_name": "Python 3",
   "language": "python",
   "name": "python3"
  },
  "language_info": {
   "codemirror_mode": {
    "name": "ipython",
    "version": 3
   },
   "file_extension": ".py",
   "mimetype": "text/x-python",
   "name": "python",
   "nbconvert_exporter": "python",
   "pygments_lexer": "ipython3",
   "version": "3.7.6"
  }
 },
 "nbformat": 4,
 "nbformat_minor": 4
}
