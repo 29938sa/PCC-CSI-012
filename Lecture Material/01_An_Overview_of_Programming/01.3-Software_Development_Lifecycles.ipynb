{
 "cells": [
  {
   "cell_type": "markdown",
   "metadata": {
    "slideshow": {
     "slide_type": "slide"
    }
   },
   "source": [
    "# Software Development Lifecycles\n",
    "\n",
    "Software development and the methodologies involved can be a pretty controversial.  Many developers prefer one type of methodology over others.  Each methodology has it's benefits and it's disadvantages.  For this course, we're going to cover the two major ones that I've encountered in my experience:\n",
    "\n",
    "1. Waterfall and V-Model\n",
    "1. Agile\n",
    "\n",
    "Some other ones may include:\n",
    "\n",
    "- [Continuous Integration](https://en.wikipedia.org/wiki/Continuous_integration)\n",
    "- [Incremental Development](https://en.wikipedia.org/wiki/Iterative_and_incremental_development)\n",
    "- [Rapid Application Development](https://en.wikipedia.org/wiki/Rapid_application_development)\n",
    "- [Spiral Development](https://en.wikipedia.org/wiki/Rapid_application_development)"
   ]
  },
  {
   "cell_type": "markdown",
   "metadata": {
    "slideshow": {
     "slide_type": "slide"
    }
   },
   "source": [
    "## Waterfall and V-Model\n",
    "\n",
    "The [waterfall model](https://en.wikipedia.org/wiki/Waterfall_model) is based on the fact that there's a downward trend of processes.  The idea is to complete each step of the software development fully before proceeding to each step.  The waterfall model has the following main steps:\n",
    "\n",
    "1. **Requirements:** Define what the software should and shouldn't do.\n",
    "1. **Design:** Design the way in which the software should accomplish the requirements.\n",
    "1. **Implementation:** Create the software based on the requirements and design defined.\n",
    "1. **Verification:** Create tests that verify the software actually accomplishes the requirements.\n",
    "1. **Maintenance:** Make changes to the software as needed based on issues identified"
   ]
  },
  {
   "cell_type": "markdown",
   "metadata": {
    "slideshow": {
     "slide_type": "subslide"
    }
   },
   "source": [
    "<img src=\"https://upload.wikimedia.org/wikipedia/commons/thumb/e/e2/Waterfall_model.svg/1920px-Waterfall_model.svg.png\" alt=\"The waterfall process.  Progress flows from the top to the bottom like a cascading waterfall\" width=400 />\n",
    "\n",
    "By Peter Kemp / Paul Smith - Adapted from Paul Smith's work at <a href=\"https://en.wikipedia.org/wiki/File:Waterfall_model.svg\" class=\"extiw\" title=\"en:File:Waterfall model.svg\">wikipedia</a>, <a href=\"https://creativecommons.org/licenses/by/3.0\" title=\"Creative Commons Attribution 3.0\">CC BY 3.0</a>, <a href=\"https://commons.wikimedia.org/w/index.php?curid=10633070\">Link</a>"
   ]
  },
  {
   "cell_type": "markdown",
   "metadata": {
    "slideshow": {
     "slide_type": "subslide"
    }
   },
   "source": [
    "### V-Model\n",
    "\n",
    "The [V-Model](https://en.wikipedia.org/wiki/V-Model_(software_development)) is a modified version of the water fall method that is intended to \"look back\" at certain steps as time progresses.  The steps are broken up into 3 major sections:\n",
    "\n",
    "1. **Requirements and Design:** Define the requirements of the software and design how to implement those requirements.\n",
    "1. **Implementation:** Create the actual software based on the requirements and design.\n",
    "1. **Verification and Validation:** Verify the meets the requirements and design, while also validating the software meets the expected behavior of the user."
   ]
  },
  {
   "cell_type": "markdown",
   "metadata": {
    "slideshow": {
     "slide_type": "subslide"
    }
   },
   "source": [
    "<img src=\"https://upload.wikimedia.org/wikipedia/commons/thumb/e/e8/Systems_Engineering_Process_II.svg/1920px-Systems_Engineering_Process_II.svg.png\" alt=\"The V-Model of the Software Development Process\" width=600 />\n",
    "\n",
    "By Leon Osborne, Jeffrey Brummond, Robert Hart, Mohsen (Moe) Zarean Ph.D., P.E, Steven Conger&nbsp;; Redrawn by <a href=\"//commons.wikimedia.org/wiki/User:Slashme\" title=\"User:Slashme\">User:Slashme</a>. - Image extracted from <a rel=\"nofollow\" class=\"external text\" href=\"http://www.itsdocs.fhwa.dot.gov/jpodocs/repts_te/14158.htm\">Clarus Concept of Operations.</a> Publication No. FHWA-JPO-05-072, Federal Highway Administration (FHWA), 2005, Public Domain, <a href=\"https://commons.wikimedia.org/w/index.php?curid=10275054\">Link</a>"
   ]
  },
  {
   "cell_type": "markdown",
   "metadata": {
    "slideshow": {
     "slide_type": "subslide"
    }
   },
   "source": [
    "### Advantages of the Waterfall/V Models\n",
    "\n",
    "- A well defined system that spans the entire intended operation.\n",
    "- A fully working completed product is delivered.\n",
    "- When done correctly, best for products that only require a single delivery such as spacecraft."
   ]
  },
  {
   "cell_type": "markdown",
   "metadata": {
    "slideshow": {
     "slide_type": "subslide"
    }
   },
   "source": [
    "### Disadvantages of the Waterfall/V Models\n",
    "\n",
    "- Not very flexible.  Changes to previous steps become more costly and impactful after the completion of each step.\n",
    "- Costly. Multiple releases requires going through each step again.\n",
    "- Feedback from the customer/user occurs near the end of the delivery of the product."
   ]
  },
  {
   "cell_type": "markdown",
   "metadata": {
    "slideshow": {
     "slide_type": "slide"
    }
   },
   "source": [
    "## Agile\n",
    "\n",
    "Agile development is actually an encapsulating term.  There are a lot of different Agile methodolgies such as:\n",
    "\n",
    "- Adaptive Software Development\n",
    "- Extreme Programming\n",
    "- Lean startup\n",
    "- Kanban\n",
    "- Scrum\n",
    "\n",
    "Even though each of these are different approaches to Agile devolpment, each of these have common components to them:\n",
    "\n",
    "- **Iterative:** Each release and delivery of the software is done using a cycle, meaning that each of the steps happen over and over again.\n",
    "- **Incremental:** Each release builds on the previous releases.\n",
    "- **User Feedback:** The focuse of Agile development is to get a minimum viable product to the user for them to test and use for feedback to inform the next release."
   ]
  },
  {
   "cell_type": "markdown",
   "metadata": {
    "slideshow": {
     "slide_type": "subslide"
    }
   },
   "source": [
    "<img src=\"https://upload.wikimedia.org/wikipedia/commons/thumb/5/58/Scrum_process.svg/1920px-Scrum_process.svg.png\" alt=\"The Scrum Process, an example Agile process\" width=600 />\n",
    "\n",
    "The Scrum Process which is a common example Agile Process.  By <a href=\"//commons.wikimedia.org/w/index.php?title=User:Lakeworks&amp;action=edit&amp;redlink=1\" class=\"new\" title=\"User:Lakeworks (page does not exist)\">Lakeworks</a> - <span class=\"int-own-work\" lang=\"en\">Own work</span>, <a href=\"https://creativecommons.org/licenses/by-sa/4.0\" title=\"Creative Commons Attribution-Share Alike 4.0\">CC BY-SA 4.0</a>, <a href=\"https://commons.wikimedia.org/w/index.php?curid=3526338\">Link</a>"
   ]
  },
  {
   "cell_type": "markdown",
   "metadata": {
    "slideshow": {
     "slide_type": "subslide"
    }
   },
   "source": [
    "### Advantages of Agile\n",
    "\n",
    "- Small changes mean quick deliveries to the customer which means quick feedback from the customer.\n",
    "- Maintanence, testing, and integration are smaller efforts each iteration.\n",
    "- Adaptable.  Changes to the requirements and design can be more easily flowed into the process.\n",
    "- When done correctly, best for products that may need to change quickly."
   ]
  },
  {
   "cell_type": "markdown",
   "metadata": {
    "slideshow": {
     "slide_type": "subslide"
    }
   },
   "source": [
    "### Disadvantages of Agile\n",
    "\n",
    "- More prone to requirements creep.  This means that the more the customer sees the product, the more they want leading to more work for the future.\n",
    "- Realization of a fully finished product may never occur since changes are constantly being applied."
   ]
  },
  {
   "cell_type": "markdown",
   "metadata": {
    "slideshow": {
     "slide_type": "slide"
    }
   },
   "source": [
    "## Summary\n",
    "\n",
    "In my experience (DOD, subcontractor, and NASA), most software development resides somewhere in the middle of waterfall and agile with a leaning towards one side or the other.  There is no secret weapon for Software development, you need to pick the right one for your situation and more importantly what your peers are willing to do."
   ]
  },
  {
   "cell_type": "markdown",
   "metadata": {
    "slideshow": {
     "slide_type": "skip"
    }
   },
   "source": [
    "## [Next: Writing Your First Python Script](01.4-Writing_Your_First_Python_Script.ipynb)"
   ]
  }
 ],
 "metadata": {
  "celltoolbar": "Slideshow",
  "kernelspec": {
   "display_name": "Python 3",
   "language": "python",
   "name": "python3"
  },
  "language_info": {
   "codemirror_mode": {
    "name": "ipython",
    "version": 3
   },
   "file_extension": ".py",
   "mimetype": "text/x-python",
   "name": "python",
   "nbconvert_exporter": "python",
   "pygments_lexer": "ipython3",
   "version": "3.6.6"
  }
 },
 "nbformat": 4,
 "nbformat_minor": 4
}
