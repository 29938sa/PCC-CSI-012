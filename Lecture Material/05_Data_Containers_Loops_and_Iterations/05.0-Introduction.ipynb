{
 "cells": [
  {
   "cell_type": "markdown",
   "metadata": {
    "slideshow": {
     "slide_type": "slide"
    }
   },
   "source": [
    "# Data Containers, Lists, and Iterations\n",
    "\n",
    "![](https://media.giphy.com/media/oaEFALSfxeso/giphy.gif)"
   ]
  },
  {
   "cell_type": "markdown",
   "metadata": {
    "slideshow": {
     "slide_type": "slide"
    }
   },
   "source": [
    "## What you'll learn in this week's lesson (Learning Goals)\n",
    "\n",
    "- What a data structure is.\n",
    "- What is a Tuple, List, and Dictionary, their differences, and when to use them.\n",
    "- Mutability vs. Immutability.\n",
    "- Looping and Iterating using For and While Loops.\n",
    "- Finding items within a Data Structure.\n",
    "- Indexing and slicing.\n",
    "- Adding and removing elements.\n",
    "- Nesting, Copying, and Sorting elements."
   ]
  },
  {
   "cell_type": "code",
   "execution_count": null,
   "metadata": {},
   "outputs": [],
   "source": []
  }
 ],
 "metadata": {
  "kernelspec": {
   "display_name": "Python 3",
   "language": "python",
   "name": "python3"
  },
  "language_info": {
   "codemirror_mode": {
    "name": "ipython",
    "version": 3
   },
   "file_extension": ".py",
   "mimetype": "text/x-python",
   "name": "python",
   "nbconvert_exporter": "python",
   "pygments_lexer": "ipython3",
   "version": "3.6.6"
  }
 },
 "nbformat": 4,
 "nbformat_minor": 4
}
