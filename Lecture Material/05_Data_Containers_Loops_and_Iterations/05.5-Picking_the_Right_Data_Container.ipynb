{
 "cells": [
  {
   "cell_type": "markdown",
   "metadata": {
    "slideshow": {
     "slide_type": "slide"
    }
   },
   "source": [
    "## Picking the right Data Structure\n",
    "\n",
    "![](https://thumbs.gfycat.com/SandyFinishedHoneycreeper-size_restricted.gif)"
   ]
  },
  {
   "cell_type": "markdown",
   "metadata": {
    "slideshow": {
     "slide_type": "subslide"
    }
   },
   "source": [
    "Use a `list` when:\n",
    "- Data has a natural order to it.\n",
    "- You will need to update or alter the data during the program.\n",
    "- The primary purpose of the data structure is iteration."
   ]
  },
  {
   "cell_type": "markdown",
   "metadata": {
    "slideshow": {
     "slide_type": "subslide"
    }
   },
   "source": [
    "Use a `tuple` when:\n",
    "- Data has a natural order to it.\n",
    "- You **will not** need to update or alter the data during the program.\n",
    "- The primary purpose of the data structure is iteration."
   ]
  },
  {
   "cell_type": "markdown",
   "metadata": {
    "slideshow": {
     "slide_type": "subslide"
    }
   },
   "source": [
    "Use a `dict` when:\n",
    "- The data is unordered, or the order does not matter.\n",
    "- You will need to update or alter the data during the program.\n",
    "- The primary purpose of the data structure is looking up values."
   ]
  },
  {
   "cell_type": "code",
   "execution_count": null,
   "metadata": {},
   "outputs": [],
   "source": []
  }
 ],
 "metadata": {
  "kernelspec": {
   "display_name": "Python 3",
   "language": "python",
   "name": "python3"
  },
  "language_info": {
   "codemirror_mode": {
    "name": "ipython",
    "version": 3
   },
   "file_extension": ".py",
   "mimetype": "text/x-python",
   "name": "python",
   "nbconvert_exporter": "python",
   "pygments_lexer": "ipython3",
   "version": "3.6.6"
  }
 },
 "nbformat": 4,
 "nbformat_minor": 4
}
