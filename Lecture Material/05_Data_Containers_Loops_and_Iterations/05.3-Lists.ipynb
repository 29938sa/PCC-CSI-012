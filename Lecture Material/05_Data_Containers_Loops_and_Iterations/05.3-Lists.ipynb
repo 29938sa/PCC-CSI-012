{
 "cells": [
  {
   "cell_type": "markdown",
   "metadata": {
    "slideshow": {
     "slide_type": "slide"
    }
   },
   "source": [
    "## Lists\n",
    "\n",
    "![](https://media.giphy.com/media/F0QWePzwQRewM/giphy.gif)"
   ]
  },
  {
   "cell_type": "markdown",
   "metadata": {
    "slideshow": {
     "slide_type": "subslide"
    }
   },
   "source": [
    "## Lists\n",
    "\n",
    "- Is a sequence, just like a string or set.\n",
    "- created using square brackets and commas.\n",
    "- **mutable:** in place order and values can be changed."
   ]
  },
  {
   "cell_type": "code",
   "execution_count": 22,
   "metadata": {
    "slideshow": {
     "slide_type": "subslide"
    }
   },
   "outputs": [
    {
     "name": "stdout",
     "output_type": "stream",
     "text": [
      "['red', 'yellow', 'green', 'blue']\n",
      "<class 'list'>\n"
     ]
    }
   ],
   "source": [
    "# lists are created simply by wrapping muliple, comma separated objects with\n",
    "# square brackets.\n",
    "colors = ['red', 'yellow', 'green', 'blue']\n",
    "print(colors)\n",
    "print(type(colors))"
   ]
  },
  {
   "cell_type": "code",
   "execution_count": 23,
   "metadata": {
    "slideshow": {
     "slide_type": "subslide"
    }
   },
   "outputs": [
    {
     "name": "stdout",
     "output_type": "stream",
     "text": [
      "['h', 'e', 'l', 'l', 'o']\n"
     ]
    }
   ],
   "source": [
    "# you can also use the list() builin on a string (or any other sequence)\n",
    "# to create a list.\n",
    "hello_list = list('hello')\n",
    "print(hello_list)"
   ]
  },
  {
   "cell_type": "code",
   "execution_count": 24,
   "metadata": {
    "slideshow": {
     "slide_type": "subslide"
    }
   },
   "outputs": [
    {
     "name": "stdout",
     "output_type": "stream",
     "text": [
      "['hello', 1337, ['sub', 'list']]\n"
     ]
    }
   ],
   "source": [
    "# lists (like tuples), can have any type in object within, even other lists\n",
    "random_list = ['hello', 1337, ['sub', 'list']]\n",
    "print(random_list)"
   ]
  },
  {
   "cell_type": "code",
   "execution_count": 25,
   "metadata": {
    "slideshow": {
     "slide_type": "subslide"
    }
   },
   "outputs": [
    {
     "name": "stdout",
     "output_type": "stream",
     "text": [
      "hello\n",
      "1337\n",
      "['sub', 'list']\n"
     ]
    }
   ],
   "source": [
    "# Lists are iterable, meaning they can be looped over using a for loop\n",
    "for element in random_list:\n",
    "    print(element)"
   ]
  },
  {
   "cell_type": "code",
   "execution_count": 26,
   "metadata": {
    "slideshow": {
     "slide_type": "subslide"
    }
   },
   "outputs": [
    {
     "name": "stdout",
     "output_type": "stream",
     "text": [
      "['hello', 1337, ['sub', 'list']]\n",
      "['hello', 1337, 'sublist']\n"
     ]
    }
   ],
   "source": [
    "# They're also mutable, meaning that changes can be made in-place\n",
    "print(random_list)\n",
    "random_list[2] = 'sublist'\n",
    "print(random_list)"
   ]
  },
  {
   "cell_type": "code",
   "execution_count": 27,
   "metadata": {
    "slideshow": {
     "slide_type": "subslide"
    }
   },
   "outputs": [
    {
     "name": "stdout",
     "output_type": "stream",
     "text": [
      "[3, 1, 19, -234]\n",
      "[-234, 1, 3, 19]\n"
     ]
    }
   ],
   "source": [
    "# lists can be sorted in place (be careful of mixing types with the list)\n",
    "numbers = [3, 1, 19, -234]\n",
    "print(numbers)\n",
    "numbers.sort()\n",
    "print(numbers)"
   ]
  },
  {
   "cell_type": "code",
   "execution_count": 28,
   "metadata": {
    "slideshow": {
     "slide_type": "subslide"
    }
   },
   "outputs": [
    {
     "name": "stdout",
     "output_type": "stream",
     "text": [
      "[0, 1, 4, 9, 16]\n"
     ]
    }
   ],
   "source": [
    "# They can also be changed by adding elements to the list\n",
    "numbers = []\n",
    "for i in range(5):\n",
    "    numbers.append(i ** 2)\n",
    "    \n",
    "print(numbers)"
   ]
  },
  {
   "cell_type": "code",
   "execution_count": 29,
   "metadata": {
    "slideshow": {
     "slide_type": "subslide"
    }
   },
   "outputs": [
    {
     "name": "stdout",
     "output_type": "stream",
     "text": [
      "16\n",
      "[0, 1, 4, 9]\n"
     ]
    }
   ],
   "source": [
    "# Elements within the list can be removed\n",
    "num = numbers.pop()\n",
    "print(num)\n",
    "print(numbers)"
   ]
  },
  {
   "cell_type": "code",
   "execution_count": 30,
   "metadata": {
    "slideshow": {
     "slide_type": "subslide"
    }
   },
   "outputs": [
    {
     "name": "stdout",
     "output_type": "stream",
     "text": [
      "16\n",
      "[0, 1, 4, 9, 16]\n"
     ]
    }
   ],
   "source": [
    "# and put right back in\n",
    "numbers.append(num)\n",
    "print(num)\n",
    "print(numbers)"
   ]
  },
  {
   "cell_type": "code",
   "execution_count": 31,
   "metadata": {
    "slideshow": {
     "slide_type": "subslide"
    }
   },
   "outputs": [
    {
     "name": "stdout",
     "output_type": "stream",
     "text": [
      "[0, 1, 4, 9, 16, 16]\n"
     ]
    }
   ],
   "source": [
    "# and again\n",
    "numbers.append(num)\n",
    "print(numbers)"
   ]
  },
  {
   "cell_type": "code",
   "execution_count": 32,
   "metadata": {
    "slideshow": {
     "slide_type": "subslide"
    }
   },
   "outputs": [
    {
     "name": "stdout",
     "output_type": "stream",
     "text": [
      "[0, 1, 2]\n",
      "[3, 4, 5]\n",
      "[0, 1, 2, 3, 4, 5]\n"
     ]
    }
   ],
   "source": [
    "# lists can be combined together using the + operator\n",
    "list_one = list(range(3))\n",
    "list_two = list(range(3, 6))\n",
    "combo_list = list_one + list_two\n",
    "print(list_one)\n",
    "print(list_two)\n",
    "print(combo_list)"
   ]
  },
  {
   "cell_type": "code",
   "execution_count": 33,
   "metadata": {
    "slideshow": {
     "slide_type": "subslide"
    }
   },
   "outputs": [
    {
     "name": "stdout",
     "output_type": "stream",
     "text": [
      "[0, 1, 2, 3, 4, 5]\n",
      "[0, 1, 2, 3, 4, 5, 10, 11, 12]\n"
     ]
    }
   ],
   "source": [
    "# or one list can be combined with another list using the extend() method\n",
    "print(combo_list)\n",
    "combo_list.extend([10, 11, 12])\n",
    "print(combo_list)"
   ]
  },
  {
   "cell_type": "code",
   "execution_count": 34,
   "metadata": {
    "slideshow": {
     "slide_type": "subslide"
    }
   },
   "outputs": [
    {
     "name": "stdout",
     "output_type": "stream",
     "text": [
      "[0, 1, 2, 3, 4, 5, 6, 7, 8, 9]\n",
      "8\n",
      "[2, 3, 4]\n"
     ]
    }
   ],
   "source": [
    "# lists can be indexed and sliced\n",
    "numbers = list(range(10))\n",
    "print(numbers)\n",
    "print(numbers[8])\n",
    "print(numbers[2:5])"
   ]
  },
  {
   "cell_type": "code",
   "execution_count": 35,
   "metadata": {
    "slideshow": {
     "slide_type": "subslide"
    }
   },
   "outputs": [
    {
     "data": {
      "text/plain": [
       "10"
      ]
     },
     "execution_count": 35,
     "metadata": {},
     "output_type": "execute_result"
    }
   ],
   "source": [
    "# you calculate the length of the list using len()\n",
    "len(numbers)"
   ]
  },
  {
   "cell_type": "code",
   "execution_count": 36,
   "metadata": {
    "slideshow": {
     "slide_type": "subslide"
    }
   },
   "outputs": [
    {
     "data": {
      "text/plain": [
       "9"
      ]
     },
     "execution_count": 36,
     "metadata": {},
     "output_type": "execute_result"
    }
   ],
   "source": [
    "# you can find the max value of in a list using max()\n",
    "max(numbers)"
   ]
  },
  {
   "cell_type": "code",
   "execution_count": 37,
   "metadata": {
    "slideshow": {
     "slide_type": "subslide"
    }
   },
   "outputs": [
    {
     "data": {
      "text/plain": [
       "0"
      ]
     },
     "execution_count": 37,
     "metadata": {},
     "output_type": "execute_result"
    }
   ],
   "source": [
    "# you can find the minimum value in a list using min()\n",
    "min(numbers)"
   ]
  },
  {
   "cell_type": "code",
   "execution_count": 38,
   "metadata": {
    "slideshow": {
     "slide_type": "subslide"
    }
   },
   "outputs": [
    {
     "data": {
      "text/plain": [
       "45"
      ]
     },
     "execution_count": 38,
     "metadata": {},
     "output_type": "execute_result"
    }
   ],
   "source": [
    "# you can also take the sum of all the elements in the list using sum()\n",
    "sum(numbers)"
   ]
  },
  {
   "cell_type": "code",
   "execution_count": 1,
   "metadata": {
    "slideshow": {
     "slide_type": "subslide"
    }
   },
   "outputs": [
    {
     "name": "stdout",
     "output_type": "stream",
     "text": [
      "Enter a number: 123\n",
      "Enter a number: 345\n",
      "Enter a number: -3234\n",
      "Enter a number: 23\n",
      "Enter a number: done\n",
      "Average: -685.75\n"
     ]
    }
   ],
   "source": [
    "# here's a small example of what you can do with a while loop and some\n",
    "# of these previously mentioned builtins.\n",
    "# Question: Why is a while loop the best option here instead of a for\n",
    "# loop?\n",
    "\n",
    "numlist = []\n",
    "while True:\n",
    "    inp = input('Enter a number: ')\n",
    "    \n",
    "    # We haven't covered conditional statements yet,\n",
    "    # but this basically states that if the user enters\n",
    "    # `done` as the input, then stop the loop\n",
    "    if inp == 'done':\n",
    "        break\n",
    "    value = float(inp)\n",
    "    numlist.append(value)\n",
    "    \n",
    "average = sum(numlist) / len(numlist)\n",
    "print(f'Average: {average}')"
   ]
  },
  {
   "cell_type": "code",
   "execution_count": 42,
   "metadata": {
    "slideshow": {
     "slide_type": "subslide"
    }
   },
   "outputs": [
    {
     "name": "stdout",
     "output_type": "stream",
     "text": [
      "picachu,bulbasaur,charmander\n",
      "<class 'str'>\n"
     ]
    }
   ],
   "source": [
    "# Let's say you have a comma separated list of elements in a string\n",
    "pokemon = ('picachu,bulbasaur,charmander')\n",
    "print(pokemon)\n",
    "print(type(pokemon))"
   ]
  },
  {
   "cell_type": "code",
   "execution_count": 43,
   "metadata": {
    "slideshow": {
     "slide_type": "subslide"
    }
   },
   "outputs": [
    {
     "name": "stdout",
     "output_type": "stream",
     "text": [
      "['picachu', 'bulbasaur', 'charmander']\n",
      "<class 'list'>\n"
     ]
    }
   ],
   "source": [
    "# you can convert that string into an actual Python list using the split()\n",
    "# method.  \n",
    "my_pokemon = pokemon.split(',')\n",
    "print(my_pokemon)\n",
    "print(type(my_pokemon))"
   ]
  },
  {
   "cell_type": "code",
   "execution_count": 44,
   "metadata": {
    "slideshow": {
     "slide_type": "subslide"
    }
   },
   "outputs": [
    {
     "name": "stdout",
     "output_type": "stream",
     "text": [
      "['picachu', 'bulbasaur', 'charmander']\n"
     ]
    }
   ],
   "source": [
    "# By default, split() assumes spaces as the delimeter\n",
    "print(\"picachu bulbasaur charmander\".split())"
   ]
  },
  {
   "cell_type": "code",
   "execution_count": 45,
   "metadata": {
    "slideshow": {
     "slide_type": "subslide"
    }
   },
   "outputs": [
    {
     "name": "stdout",
     "output_type": "stream",
     "text": [
      "['picachu', 'bulbasaur', 'charmander']\n",
      "True\n"
     ]
    }
   ],
   "source": [
    "# you can check if a specific element is in a list.\n",
    "print(my_pokemon)\n",
    "print('charmander' in my_pokemon)"
   ]
  },
  {
   "cell_type": "code",
   "execution_count": 46,
   "metadata": {
    "slideshow": {
     "slide_type": "subslide"
    }
   },
   "outputs": [
    {
     "name": "stdout",
     "output_type": "stream",
     "text": [
      "picachu\n",
      "bulbasaur\n",
      "charmander\n"
     ]
    }
   ],
   "source": [
    "# iterating over a list can easily be done using the for loop.\n",
    "for monster in my_pokemon:\n",
    "    print(monster)"
   ]
  },
  {
   "cell_type": "markdown",
   "metadata": {
    "slideshow": {
     "slide_type": "subslide"
    }
   },
   "source": [
    "### Copying Lists"
   ]
  },
  {
   "cell_type": "code",
   "execution_count": 47,
   "metadata": {
    "slideshow": {
     "slide_type": "subslide"
    }
   },
   "outputs": [
    {
     "name": "stdout",
     "output_type": "stream",
     "text": [
      "['picachu', 'bulbasaur', 'charmander']\n",
      "['picachu', 'bulbasaur', 'charmander']\n"
     ]
    }
   ],
   "source": [
    "# Copying a list has some quirky behaviors.\n",
    "# Let's say we have a list of pokemon that we kept\n",
    "# but now we want to keep a list of all the pokemon\n",
    "# we've encountered.  We know that we've encountered\n",
    "# at least the pokemon we've already caught so let's\n",
    "# copy that into the pokedex\n",
    "print(my_pokemon)\n",
    "pokedex = my_pokemon\n",
    "print(pokedex)"
   ]
  },
  {
   "cell_type": "code",
   "execution_count": 48,
   "metadata": {
    "slideshow": {
     "slide_type": "subslide"
    }
   },
   "outputs": [
    {
     "name": "stdout",
     "output_type": "stream",
     "text": [
      "['picachu', 'bulbasaur', 'charmander', 'mew']\n"
     ]
    }
   ],
   "source": [
    "# Now, miraculously we've encountered a mew! but alas, it was\n",
    "# too ellusive and so we didn't catch it.  That's ok, at\n",
    "# least we can add it to our pokedex.\n",
    "pokedex.append('mew')\n",
    "print(pokedex)"
   ]
  },
  {
   "cell_type": "code",
   "execution_count": 49,
   "metadata": {
    "slideshow": {
     "slide_type": "subslide"
    }
   },
   "outputs": [
    {
     "name": "stdout",
     "output_type": "stream",
     "text": [
      "['picachu', 'bulbasaur', 'charmander', 'mew']\n"
     ]
    }
   ],
   "source": [
    "# Now let's examine our captured pokemon\n",
    "print(my_pokemon)"
   ]
  },
  {
   "cell_type": "markdown",
   "metadata": {
    "slideshow": {
     "slide_type": "fragment"
    }
   },
   "source": [
    "![](https://media.giphy.com/media/Pok6284jGzyGA/giphy.gif)"
   ]
  },
  {
   "cell_type": "code",
   "execution_count": 50,
   "metadata": {
    "slideshow": {
     "slide_type": "subslide"
    }
   },
   "outputs": [
    {
     "name": "stdout",
     "output_type": "stream",
     "text": [
      "4348234960\n",
      "4348234960\n"
     ]
    }
   ],
   "source": [
    "# What's going on here?  Rememeber `id` is \n",
    "# returning the location in memory of the object\n",
    "print(id(my_pokemon))\n",
    "print(id(pokedex))\n",
    "\n",
    "# It's the same thing?!?!  Well that's what happens\n",
    "# when you start using mutable objects.  What you're\n",
    "# doing is actually passing a reference of the object\n",
    "# and not an actual copy."
   ]
  },
  {
   "cell_type": "code",
   "execution_count": 51,
   "metadata": {
    "slideshow": {
     "slide_type": "subslide"
    }
   },
   "outputs": [
    {
     "name": "stdout",
     "output_type": "stream",
     "text": [
      "['picachu', 'bulbasaur', 'charmander']\n"
     ]
    }
   ],
   "source": [
    "# ok let's start over here\n",
    "my_pokemon = \"picachu bulbasaur charmander\".split()\n",
    "print(my_pokemon)"
   ]
  },
  {
   "cell_type": "code",
   "execution_count": 52,
   "metadata": {
    "slideshow": {
     "slide_type": "subslide"
    }
   },
   "outputs": [
    {
     "name": "stdout",
     "output_type": "stream",
     "text": [
      "['picachu', 'bulbasaur', 'charmander']\n"
     ]
    }
   ],
   "source": [
    "# To create an actual copy of the list, use this notation.\n",
    "pokedex = my_pokemon[:]\n",
    "print(pokedex)"
   ]
  },
  {
   "cell_type": "code",
   "execution_count": 53,
   "metadata": {
    "slideshow": {
     "slide_type": "subslide"
    }
   },
   "outputs": [
    {
     "name": "stdout",
     "output_type": "stream",
     "text": [
      "['picachu', 'bulbasaur', 'charmander', 'mew']\n",
      "['picachu', 'bulbasaur', 'charmander']\n"
     ]
    }
   ],
   "source": [
    "pokedex.append('mew')\n",
    "print(pokedex)\n",
    "print(my_pokemon)"
   ]
  },
  {
   "cell_type": "markdown",
   "metadata": {
    "slideshow": {
     "slide_type": "subslide"
    }
   },
   "source": [
    "### In-Class Exercises\n",
    "1. Create a list named `food` with two elements `'rice'` and `'beans'`.\n",
    "1. Append the string `'broccoli'` to `food` using `.append()`.\n",
    "1. Add the strings `'bread'` and `'pizza'` to `food` using `.extend()`.\n",
    "1. Print the first two item in the `food` list using `print()` and slicing notation.\n",
    "1. Print the last item in food using `print()` and index notation.\n",
    "1. Create a list called `breakfast` from the string `\"eggs,fruit,orange juice\"` using the `split()` method.\n",
    "1. Verify that `breakfast` has 3 elements using the `len` built-in.\n",
    "1. Write a script that prompts the user for a floating point value until they enter `stop`.  Store their entries in a list, and then find the average, min, and max of their entries and print them those values."
   ]
  },
  {
   "cell_type": "code",
   "execution_count": null,
   "metadata": {},
   "outputs": [],
   "source": []
  }
 ],
 "metadata": {
  "kernelspec": {
   "display_name": "Python 3",
   "language": "python",
   "name": "python3"
  },
  "language_info": {
   "codemirror_mode": {
    "name": "ipython",
    "version": 3
   },
   "file_extension": ".py",
   "mimetype": "text/x-python",
   "name": "python",
   "nbconvert_exporter": "python",
   "pygments_lexer": "ipython3",
   "version": "3.6.6"
  }
 },
 "nbformat": 4,
 "nbformat_minor": 4
}
