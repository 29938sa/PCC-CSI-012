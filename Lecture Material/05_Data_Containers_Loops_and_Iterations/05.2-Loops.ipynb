{
 "cells": [
  {
   "cell_type": "markdown",
   "metadata": {
    "slideshow": {
     "slide_type": "slide"
    }
   },
   "source": [
    "## Loops\n",
    "\n",
    "![](https://i.giphy.com/Amkz0FYje7yUw.gif)\n",
    "\n",
    "- **Loop:** A repeatable set of actions with a set of defined starting and closing actions.\n",
    "- **For Loop:** A type of loop that iterates over a sequence of objects.\n",
    "- **While Loop:** A type of loop that continually loops until a specific exit criteria is met."
   ]
  },
  {
   "cell_type": "markdown",
   "metadata": {
    "slideshow": {
     "slide_type": "subslide"
    }
   },
   "source": [
    "### While Loops\n",
    "\n",
    "- Uses the `while` keyword, followed by a test condition, ends with the colon (`:`).\n",
    "- Loop body contains the code to be repeated.  This is indented by one indentation level.\n",
    "- Should be used when the sequences, or the number of loop operations isn't finite or known.\n",
    "- Infinite loops (no stopping) can be created."
   ]
  },
  {
   "cell_type": "code",
   "execution_count": 14,
   "metadata": {},
   "outputs": [
    {
     "name": "stdout",
     "output_type": "stream",
     "text": [
      "a\n",
      "e\n",
      "i\n",
      "o\n",
      "u\n"
     ]
    }
   ],
   "source": [
    "i = 0\n",
    "while i < len(vowels):\n",
    "    print(vowels[i])\n",
    "    i += 1\n"
   ]
  },
  {
   "cell_type": "markdown",
   "metadata": {
    "slideshow": {
     "slide_type": "subslide"
    }
   },
   "source": [
    "### Side-bar: Tabs vs. Spaces:\n",
    "\n",
    "![](https://media.giphy.com/media/LROKNqr26NG48/giphy.gif)"
   ]
  },
  {
   "cell_type": "markdown",
   "metadata": {},
   "source": [
    "- tabs or spaces can be used to mark indentation levels.\n",
    "- Python 3 will **not** allow mixture of the two.\n",
    "- PEP 8 (Python Standard guide) suggests 4 spaces (or tabs that render at 4 spaces)"
   ]
  },
  {
   "cell_type": "markdown",
   "metadata": {
    "slideshow": {
     "slide_type": "subslide"
    }
   },
   "source": [
    "### Most Importantly, Don't let it ruin relationships:"
   ]
  },
  {
   "cell_type": "code",
   "execution_count": 15,
   "metadata": {},
   "outputs": [
    {
     "data": {
      "image/jpeg": "[encoded data removed]",
      "text/html": [
       "\n",
       "        <iframe\n",
       "            width=\"800\"\n",
       "            height=\"400\"\n",
       "            src=\"https://www.youtube.com/embed/SsoOG6ZeyUI\"\n",
       "            frameborder=\"0\"\n",
       "            allowfullscreen\n",
       "        ></iframe>\n",
       "        "
      ],
      "text/plain": [
       "<IPython.lib.display.YouTubeVideo at 0x103440290>"
      ]
     },
     "execution_count": 15,
     "metadata": {},
     "output_type": "execute_result"
    }
   ],
   "source": [
    "from IPython.display import YouTubeVideo\n",
    "\n",
    "YouTubeVideo('SsoOG6ZeyUI', width=800, height=400)"
   ]
  },
  {
   "cell_type": "markdown",
   "metadata": {
    "slideshow": {
     "slide_type": "subslide"
    }
   },
   "source": [
    "### The For Loop\n",
    "\n",
    "![](static/for_loop_structure.png)\n",
    "\n",
    "- Uses the `for` keyword followed an element var name, the keyword `in`, the sequence to be iterated, and then finally the colon (`:`).\n",
    "- The loop body contains the code to be repeated. This is indented by one indentation level.\n",
    "- Should be used when iterating over known, finite sequences."
   ]
  },
  {
   "cell_type": "code",
   "execution_count": 16,
   "metadata": {},
   "outputs": [
    {
     "name": "stdout",
     "output_type": "stream",
     "text": [
      "('a', 'e', 'i', 'o', 'u')\n",
      "a\n",
      "e\n",
      "i\n",
      "o\n",
      "u\n"
     ]
    }
   ],
   "source": [
    "# To use the for loop\n",
    "print(vowels)\n",
    "for letter in vowels:\n",
    "    print(letter)"
   ]
  },
  {
   "cell_type": "code",
   "execution_count": 17,
   "metadata": {},
   "outputs": [
    {
     "name": "stdout",
     "output_type": "stream",
     "text": [
      "0\n",
      "1\n",
      "2\n",
      "3\n",
      "4\n",
      "5\n",
      "6\n",
      "7\n",
      "8\n",
      "9\n"
     ]
    }
   ],
   "source": [
    "# the range built-in is a function that will return x sequential values\n",
    "# where x is the max - 1 value you want starting at 0.\n",
    "for i in range(10):\n",
    "    print(i)"
   ]
  },
  {
   "cell_type": "code",
   "execution_count": 18,
   "metadata": {},
   "outputs": [
    {
     "name": "stdout",
     "output_type": "stream",
     "text": [
      "3\n",
      "4\n",
      "5\n",
      "6\n",
      "7\n",
      "8\n",
      "9\n"
     ]
    }
   ],
   "source": [
    "# you can pass in two arguments where the first is the starting number,\n",
    "# and the second is the max - 1 value you want.\n",
    "for i in range(3, 10):\n",
    "    print(i)"
   ]
  },
  {
   "cell_type": "code",
   "execution_count": 19,
   "metadata": {},
   "outputs": [
    {
     "name": "stdout",
     "output_type": "stream",
     "text": [
      "2\n",
      "4\n",
      "6\n",
      "8\n",
      "10\n",
      "12\n",
      "14\n",
      "16\n",
      "18\n"
     ]
    }
   ],
   "source": [
    "# finally you can pass in three arguments where the first is the starting\n",
    "# number, the second is the max - 1 value you want, and the third is the \n",
    "# steps to take.\n",
    "for i in range(2, 20, 2):\n",
    "    print(i)"
   ]
  },
  {
   "cell_type": "code",
   "execution_count": 20,
   "metadata": {},
   "outputs": [
    {
     "name": "stdout",
     "output_type": "stream",
     "text": [
      "0\n",
      "10\n",
      "20\n",
      "30\n",
      "40\n",
      "50\n",
      "60\n",
      "70\n",
      "80\n",
      "90\n"
     ]
    }
   ],
   "source": [
    "# here's another example\n",
    "for i in range(0, 100, 10):\n",
    "    print(i)"
   ]
  },
  {
   "cell_type": "markdown",
   "metadata": {
    "slideshow": {
     "slide_type": "subslide"
    }
   },
   "source": [
    "### Nested Loops\n",
    "\n",
    "- You have the ability to nest loops within loops.\n",
    "- indentation is key here\n",
    "- Use caution when using nested loops, and try to limit them to as few as possible."
   ]
  },
  {
   "cell_type": "code",
   "execution_count": 21,
   "metadata": {},
   "outputs": [
    {
     "name": "stdout",
     "output_type": "stream",
     "text": [
      "i = 0; j = 5\n",
      "i = 0; j = 6\n",
      "i = 0; j = 7\n",
      "break!\n",
      "i = 1; j = 5\n",
      "i = 1; j = 6\n",
      "i = 1; j = 7\n",
      "break!\n",
      "i = 2; j = 5\n",
      "i = 2; j = 6\n",
      "i = 2; j = 7\n",
      "break!\n",
      "i = 3; j = 5\n",
      "i = 3; j = 6\n",
      "i = 3; j = 7\n",
      "break!\n",
      "i = 4; j = 5\n",
      "i = 4; j = 6\n",
      "i = 4; j = 7\n",
      "break!\n"
     ]
    }
   ],
   "source": [
    "for i in range(5):\n",
    "    for j in range(5, 8):\n",
    "        print(f'i = {i}; j = {j}')\n",
    "        \n",
    "    print('break!')"
   ]
  },
  {
   "cell_type": "markdown",
   "metadata": {
    "slideshow": {
     "slide_type": "subslide"
    }
   },
   "source": [
    "### In-Class Exercise\n",
    "\n",
    "1. Create a tuple named `pokemon` that holds the strings `'picachu'`, `'charmander'`, and `'bulbasaur'`.\n",
    "1. Using index notation, `print()` the string that located at index 1 in `pokemon`\n",
    "1. Unpack the values of `pokemon` into the following three new variables with names `starter1`, `starter2`, `starter3`.\n",
    "1. Create a tuple using the `tuple()` built-in, that contains the letters of your name.\n",
    "1. Check whether the character `i` is in your tuple representation of your name.\n",
    "1. Write a `for` loop that prints out the integers 2 through 10, each on a new line, by using the `range()` function.\n",
    "1. Use a `while` loop that prints out the integers 2 through 10.\n",
    "1. Write a `for` loop that iterates over the string `'This is a simple string'` and prints each character.\n",
    "1. Using a nested for loop, iterate over the following set `('this', 'is', 'a', 'simple', 'set')` and print each word, three times."
   ]
  },
  {
   "cell_type": "code",
   "execution_count": null,
   "metadata": {},
   "outputs": [],
   "source": []
  }
 ],
 "metadata": {
  "kernelspec": {
   "display_name": "Python 3",
   "language": "python",
   "name": "python3"
  },
  "language_info": {
   "codemirror_mode": {
    "name": "ipython",
    "version": 3
   },
   "file_extension": ".py",
   "mimetype": "text/x-python",
   "name": "python",
   "nbconvert_exporter": "python",
   "pygments_lexer": "ipython3",
   "version": "3.8.3"
  }
 },
 "nbformat": 4,
 "nbformat_minor": 4
}
