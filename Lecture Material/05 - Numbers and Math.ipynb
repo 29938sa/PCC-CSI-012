{
 "cells": [
  {
   "cell_type": "markdown",
   "metadata": {
    "slideshow": {
     "slide_type": "slide"
    }
   },
   "source": [
    "# Numbers and Math\n",
    "\n",
    "![](https://gifimage.net/wp-content/uploads/2017/10/calculations-gif-6.gif)"
   ]
  },
  {
   "cell_type": "markdown",
   "metadata": {
    "slideshow": {
     "slide_type": "slide"
    }
   },
   "source": [
    "## What you'll learn in today's lesson\n",
    "\n",
    "- Built in numbers integers, floats, and complex numbers\n",
    "- Rounding numbers\n",
    "- e notation\n",
    "- Arithmetic Operators and Expressions\n",
    "- Common mathematical functions\n",
    "- Printing numbers with specific formatting"
   ]
  },
  {
   "cell_type": "markdown",
   "metadata": {
    "slideshow": {
     "slide_type": "slide"
    }
   },
   "source": [
    "## Integers, Floating-Point, and Complex (Imaginary) Numbers\n",
    "\n",
    "- **Integer:** A number that can be written with no fractional components (no decimals).\n",
    "    - One advantage of using integers is speed.  Computers LOVE integers because there's no additional calculations to do the operations.  When working with really big numbers, integers will work a LOT faster than floats.\n",
    "    - Another advantage is exact operation math.  When using only integers, the mathematical operations will be exact without any calculative errors.\n",
    "    - One disadvantage is that integers cannot do decimal math, which in real life isn't really practical.\n",
    "- **Floating Point:** A number that uses a decimal.\n",
    "    - One disadvantage is lack of speed; multiple operations will take longer to complete.\n",
    "    - One disadvantage is mathematical error in the operations.\n",
    "    - Can represent very large and very small numbers.\n",
    "- **Complex:** A number type used to represent real and imaginary number combinations."
   ]
  },
  {
   "cell_type": "code",
   "execution_count": 2,
   "metadata": {
    "slideshow": {
     "slide_type": "subslide"
    }
   },
   "outputs": [
    {
     "name": "stdout",
     "output_type": "stream",
     "text": [
      "32\n",
      "<class 'int'>\n"
     ]
    }
   ],
   "source": [
    "# We've already previously discussed briefly integers and floats but let's\n",
    "# go over the basicis again.  Creating an integer is as simple as setting its\n",
    "# value\n",
    "\n",
    "age = 32\n",
    "print(age)\n",
    "print(type(age))"
   ]
  },
  {
   "cell_type": "code",
   "execution_count": 3,
   "metadata": {
    "slideshow": {
     "slide_type": "subslide"
    }
   },
   "outputs": [
    {
     "name": "stdout",
     "output_type": "stream",
     "text": [
      "32\n",
      "<class 'int'>\n"
     ]
    }
   ],
   "source": [
    "# Additionally we can create an integer from a string using the `int` built-in\n",
    "age_str = '32'\n",
    "age = int(age_str)\n",
    "print(age)\n",
    "print(type(age))"
   ]
  },
  {
   "cell_type": "code",
   "execution_count": 57,
   "metadata": {
    "slideshow": {
     "slide_type": "subslide"
    }
   },
   "outputs": [
    {
     "name": "stdout",
     "output_type": "stream",
     "text": [
      "32\n",
      "32\n"
     ]
    }
   ],
   "source": [
    "# We can also create integers from strings that represent a binary number\n",
    "age_bin_str = '100000'\n",
    "age = int(age_bin_str, 2)\n",
    "print(age)\n",
    "\n",
    "# or a hexadecimal number\n",
    "age_hex_str = '20'\n",
    "age = int(age_hex_str, 16)\n",
    "print(age)"
   ]
  },
  {
   "cell_type": "code",
   "execution_count": 9,
   "metadata": {
    "slideshow": {
     "slide_type": "subslide"
    }
   },
   "outputs": [
    {
     "name": "stdout",
     "output_type": "stream",
     "text": [
      "1000000000\n"
     ]
    }
   ],
   "source": [
    "# you can use underscores to make larger integers look cleaner\n",
    "one_billion = 1_000_000_000\n",
    "print(one_billion)"
   ]
  },
  {
   "cell_type": "code",
   "execution_count": 10,
   "metadata": {},
   "outputs": [
    {
     "name": "stdout",
     "output_type": "stream",
     "text": [
      "(1, 0, 0)\n"
     ]
    }
   ],
   "source": [
    "# but NOT commas.  This is because commas are used to create another data type\n",
    "# called a tuple that will be covered in another section\n",
    "one_billion = 1,000,000\n",
    "print(one_billion)"
   ]
  },
  {
   "cell_type": "markdown",
   "metadata": {
    "slideshow": {
     "slide_type": "subslide"
    }
   },
   "source": [
    "### The Floating-Point Number in Computers\n",
    "\n",
    "A 32-bit float uses the following bit assignments to represent a decimal number:\n",
    " \n",
    "![](https://upload.wikimedia.org/wikipedia/commons/thumb/d/d2/Float_example.svg/1280px-Float_example.svg.png)\n",
    " \n",
    "The following algorithm is then used to calculate the value:\n",
    " \n",
    "![](https://wikimedia.org/api/rest_v1/media/math/render/svg/15f92e12d6d0a7c02be4f12c83007940c432ba87)"
   ]
  },
  {
   "cell_type": "code",
   "execution_count": 11,
   "metadata": {
    "slideshow": {
     "slide_type": "subslide"
    }
   },
   "outputs": [
    {
     "name": "stdout",
     "output_type": "stream",
     "text": [
      "32.3\n",
      "<class 'float'>\n"
     ]
    }
   ],
   "source": [
    "# Floats are created in the exact same way as integers\n",
    "age = 32.3\n",
    "print(age)\n",
    "print(type(age))"
   ]
  },
  {
   "cell_type": "code",
   "execution_count": 55,
   "metadata": {
    "slideshow": {
     "slide_type": "subslide"
    }
   },
   "outputs": [
    {
     "name": "stdout",
     "output_type": "stream",
     "text": [
      "32.3\n"
     ]
    }
   ],
   "source": [
    "age = float('32.3')\n",
    "print(age)"
   ]
  },
  {
   "cell_type": "code",
   "execution_count": null,
   "metadata": {},
   "outputs": [],
   "source": []
  },
  {
   "cell_type": "code",
   "execution_count": 15,
   "metadata": {
    "slideshow": {
     "slide_type": "-"
    }
   },
   "outputs": [
    {
     "name": "stdout",
     "output_type": "stream",
     "text": [
      "1000000.0\n"
     ]
    }
   ],
   "source": [
    "# You can also use underscores to clear up longer numbers\n",
    "print(1_000_000.0)"
   ]
  },
  {
   "cell_type": "code",
   "execution_count": 17,
   "metadata": {
    "slideshow": {
     "slide_type": "subslide"
    }
   },
   "outputs": [
    {
     "name": "stdout",
     "output_type": "stream",
     "text": [
      "1000000.0\n",
      "0.0027\n"
     ]
    }
   ],
   "source": [
    "# Very large and small numbers can be created using the 'e' notation\n",
    "# this is the equivalent of <num left> * 10 ^ <num right>\n",
    "print(1e6)\n",
    "print(2.7e-3)"
   ]
  },
  {
   "cell_type": "code",
   "execution_count": 21,
   "metadata": {
    "slideshow": {
     "slide_type": "subslide"
    }
   },
   "outputs": [
    {
     "name": "stdout",
     "output_type": "stream",
     "text": [
      "inf\n",
      "-inf\n"
     ]
    }
   ],
   "source": [
    "# Python has the concept of infinity, which is a value that is beyond the\n",
    "# maximum or minimum allowed floating point number for your system.\n",
    "print(2e400)\n",
    "print(-2e400)"
   ]
  },
  {
   "cell_type": "code",
   "execution_count": 32,
   "metadata": {},
   "outputs": [
    {
     "name": "stdout",
     "output_type": "stream",
     "text": [
      "0.30000000000000004\n"
     ]
    }
   ],
   "source": [
    "# GOTCHA: Rememebr that floatation math is complicated and will lead to\n",
    "# mathematical errors\n",
    "print(.1 + .1 + .1)"
   ]
  },
  {
   "cell_type": "markdown",
   "metadata": {
    "slideshow": {
     "slide_type": "slide"
    }
   },
   "source": [
    "### Complex Numbers"
   ]
  },
  {
   "cell_type": "code",
   "execution_count": 48,
   "metadata": {},
   "outputs": [
    {
     "name": "stdout",
     "output_type": "stream",
     "text": [
      "(2+3j)\n",
      "2.0\n",
      "3.0\n",
      "(2-3j)\n"
     ]
    }
   ],
   "source": [
    "# I'm not going to go into too much detail, but wanted to show you how complex\n",
    "# numbers are created in Python\n",
    "\n",
    "my_num = 2 + 3j\n",
    "print(my_num)\n",
    "print(my_num.real)\n",
    "print(my_num.imag)\n",
    "print(my_num.conjugate())"
   ]
  },
  {
   "cell_type": "markdown",
   "metadata": {
    "slideshow": {
     "slide_type": "slide"
    }
   },
   "source": [
    "## Mathematical Operations\n",
    "\n",
    "![](https://media.giphy.com/media/ccQ8MSKkjHE2c/giphy.gif)"
   ]
  },
  {
   "cell_type": "markdown",
   "metadata": {
    "slideshow": {
     "slide_type": "subslide"
    }
   },
   "source": [
    "The following operators are used for mathematical operations:\n",
    "\n",
    "| Operator          | Meaning             |\n",
    "| :------:          | --------            |\n",
    "| `+`               | addition            |\n",
    "| `-`               | subtraction         |\n",
    "| `/`               | division            |\n",
    "| `*`               | multiplication      |\n",
    "| `//`              | integer division    |\n",
    "| `%`               | modulus (remainder) |\n",
    "| `**`, `pow()`     | exponentiation      |"
   ]
  },
  {
   "cell_type": "code",
   "execution_count": 3,
   "metadata": {},
   "outputs": [
    {
     "name": "stdout",
     "output_type": "stream",
     "text": [
      "12\n",
      "1\n"
     ]
    }
   ],
   "source": [
    "# Addition\n",
    "print(3 + 9)\n",
    "print(-3 + 4.0)"
   ]
  },
  {
   "cell_type": "code",
   "execution_count": 7,
   "metadata": {
    "slideshow": {
     "slide_type": "subslide"
    }
   },
   "outputs": [
    {
     "name": "stdout",
     "output_type": "stream",
     "text": [
      "6\n",
      "-14.0\n"
     ]
    }
   ],
   "source": [
    "# Substration\n",
    "print(9 - 3)\n",
    "print(-10.0 - 4)"
   ]
  },
  {
   "cell_type": "code",
   "execution_count": 6,
   "metadata": {
    "slideshow": {
     "slide_type": "subslide"
    }
   },
   "outputs": [
    {
     "name": "stdout",
     "output_type": "stream",
     "text": [
      "12\n",
      "-12.0\n"
     ]
    }
   ],
   "source": [
    "# Multiplication\n",
    "print(4 * 3)\n",
    "print(6 * -2.0)"
   ]
  },
  {
   "cell_type": "code",
   "execution_count": 8,
   "metadata": {
    "slideshow": {
     "slide_type": "subslide"
    }
   },
   "outputs": [
    {
     "name": "stdout",
     "output_type": "stream",
     "text": [
      "2.0\n",
      "2.6666666666666665\n"
     ]
    }
   ],
   "source": [
    "# Division\n",
    "print(4 / 2)\n",
    "print(8 / 3.0)"
   ]
  },
  {
   "cell_type": "code",
   "execution_count": 15,
   "metadata": {
    "slideshow": {
     "slide_type": "subslide"
    }
   },
   "outputs": [
    {
     "name": "stdout",
     "output_type": "stream",
     "text": [
      "2\n",
      "2.0\n"
     ]
    }
   ],
   "source": [
    "# Integer Division (Floor Division)\n",
    "print(5 // 2)\n",
    "\n",
    "# even though its call Integer division, you can use floats with this operator\n",
    "# and you'll be given the floored division (rounded down)\n",
    "print(5.2 // 2.5)"
   ]
  },
  {
   "cell_type": "code",
   "execution_count": 18,
   "metadata": {
    "slideshow": {
     "slide_type": "subslide"
    }
   },
   "outputs": [
    {
     "name": "stdout",
     "output_type": "stream",
     "text": [
      "1\n",
      "0.20000000000000018\n"
     ]
    }
   ],
   "source": [
    "## Modulus\n",
    "print(5 % 2)\n",
    "\n",
    "# this works for floats as well!\n",
    "print(5.2 % 2.5)"
   ]
  },
  {
   "cell_type": "code",
   "execution_count": 21,
   "metadata": {
    "slideshow": {
     "slide_type": "subslide"
    }
   },
   "outputs": [
    {
     "ename": "ZeroDivisionError",
     "evalue": "division by zero",
     "output_type": "error",
     "traceback": [
      "\u001b[0;31m---------------------------------------------------------------------------\u001b[0m",
      "\u001b[0;31mZeroDivisionError\u001b[0m                         Traceback (most recent call last)",
      "\u001b[0;32m<ipython-input-21-866c970da5b1>\u001b[0m in \u001b[0;36m<module>\u001b[0;34m\u001b[0m\n\u001b[1;32m      2\u001b[0m \u001b[0;31m# division, will return an error:\u001b[0m\u001b[0;34m\u001b[0m\u001b[0;34m\u001b[0m\u001b[0m\n\u001b[1;32m      3\u001b[0m \u001b[0;34m\u001b[0m\u001b[0m\n\u001b[0;32m----> 4\u001b[0;31m \u001b[0;36m5\u001b[0m \u001b[0;34m/\u001b[0m \u001b[0;36m0\u001b[0m\u001b[0;34m\u001b[0m\u001b[0m\n\u001b[0m",
      "\u001b[0;31mZeroDivisionError\u001b[0m: division by zero"
     ]
    }
   ],
   "source": [
    "# GOTCHA: Beware that a division by 0 whether by regular, integer, or modulus\n",
    "# division, will return an error:\n",
    "\n",
    "5 / 0"
   ]
  },
  {
   "cell_type": "code",
   "execution_count": 27,
   "metadata": {
    "slideshow": {
     "slide_type": "subslide"
    }
   },
   "outputs": [
    {
     "name": "stdout",
     "output_type": "stream",
     "text": [
      "4\n",
      "5.196152422706632\n",
      "3.0\n",
      "0.25\n"
     ]
    }
   ],
   "source": [
    "# Exponents can be used with integers and floats\n",
    "print(2 ** 2)\n",
    "print(3 ** 1.5)\n",
    "print(9 ** 0.5)\n",
    "print(2 ** -2)"
   ]
  },
  {
   "cell_type": "markdown",
   "metadata": {
    "slideshow": {
     "slide_type": "subslide"
    }
   },
   "source": [
    "Order also matters, so here is the precedence from highest to lowest:\n",
    "\n",
    "| Precedence | Operators            |\n",
    "| :--------: | -------------------- |\n",
    "| 1          | contents within `()` |\n",
    "| 2          | `*`, `/`, `//`, `%`  |\n",
    "| 3          | `+`, `-`             |"
   ]
  },
  {
   "cell_type": "code",
   "execution_count": 29,
   "metadata": {
    "slideshow": {
     "slide_type": "subslide"
    }
   },
   "outputs": [
    {
     "name": "stdout",
     "output_type": "stream",
     "text": [
      "5\n"
     ]
    }
   ],
   "source": [
    "value = 2 * 3 - 1\n",
    "print(value)"
   ]
  },
  {
   "cell_type": "code",
   "execution_count": 30,
   "metadata": {
    "slideshow": {
     "slide_type": "-"
    }
   },
   "outputs": [
    {
     "name": "stdout",
     "output_type": "stream",
     "text": [
      "10.0\n"
     ]
    }
   ],
   "source": [
    "value = 4/2 + 2**3\n",
    "print(value)"
   ]
  },
  {
   "cell_type": "code",
   "execution_count": 31,
   "metadata": {
    "slideshow": {
     "slide_type": "-"
    }
   },
   "outputs": [
    {
     "name": "stdout",
     "output_type": "stream",
     "text": [
      "-3\n"
     ]
    }
   ],
   "source": [
    "value = -1 + (-3*2 + 4)\n",
    "print(value)"
   ]
  },
  {
   "cell_type": "markdown",
   "metadata": {
    "slideshow": {
     "slide_type": "subslide"
    }
   },
   "source": [
    "### In-Class exercise\n",
    "- Write a script that creates two variables.  Both should have the same value of 25,000,000 but one uses underscores and the other doesn't.\n",
    "- Write a script that assigns the floating-point value of 175000.0 to a variable using exponential (e) notation and then prints the value to the terminal.\n",
    "- Write a script that prompts the user to enter a base and then an exponent.  Print out to the user the following:\n",
    "    - `<base> to the power of <exponent> = <value>` where `<base>` is the user input for the base, `<exponent>` is the user input for the exponent, and `<value>` is the calculated value"
   ]
  },
  {
   "cell_type": "markdown",
   "metadata": {
    "slideshow": {
     "slide_type": "slide"
    }
   },
   "source": [
    "## Math Functions and Number Methods\n",
    "\n",
    "![](https://media.giphy.com/media/3o6Mbqy2ZURv6JU7KM/giphy.gif)"
   ]
  },
  {
   "cell_type": "markdown",
   "metadata": {
    "slideshow": {
     "slide_type": "subslide"
    }
   },
   "source": [
    "### Rounding\n",
    "\n",
    "This is the action of changing the number to a value that is approximately the same."
   ]
  },
  {
   "cell_type": "code",
   "execution_count": 67,
   "metadata": {
    "slideshow": {
     "slide_type": "subslide"
    }
   },
   "outputs": [
    {
     "name": "stdout",
     "output_type": "stream",
     "text": [
      "3\n",
      "5\n"
     ]
    }
   ],
   "source": [
    "# Rounding is done by using the `round()` function\n",
    "print(round(3.4))\n",
    "print(round(4.6))"
   ]
  },
  {
   "cell_type": "code",
   "execution_count": 65,
   "metadata": {
    "slideshow": {
     "slide_type": "subslide"
    }
   },
   "outputs": [
    {
     "name": "stdout",
     "output_type": "stream",
     "text": [
      "2\n",
      "2\n"
     ]
    }
   ],
   "source": [
    "# Ties in rounding are rounded to the nearest even number\n",
    "print(round(2.5))\n",
    "print(round(1.5))"
   ]
  },
  {
   "cell_type": "code",
   "execution_count": 42,
   "metadata": {
    "slideshow": {
     "slide_type": "subslide"
    }
   },
   "outputs": [
    {
     "name": "stdout",
     "output_type": "stream",
     "text": [
      "3.14\n"
     ]
    }
   ],
   "source": [
    "# round can have a second parameter passed into it to set the amount of \n",
    "# decimal places:\n",
    "print(round(3.14159, 2))"
   ]
  },
  {
   "cell_type": "markdown",
   "metadata": {
    "slideshow": {
     "slide_type": "subslide"
    }
   },
   "source": [
    "### Absolute Value\n",
    "\n",
    "This is the action of finding the positive value of a number."
   ]
  },
  {
   "cell_type": "code",
   "execution_count": 43,
   "metadata": {},
   "outputs": [
    {
     "name": "stdout",
     "output_type": "stream",
     "text": [
      "5\n",
      "3.2343\n",
      "898234.93741\n"
     ]
    }
   ],
   "source": [
    "print(abs(-5))\n",
    "print(abs(-3.2343))\n",
    "print(abs(898234.93741))"
   ]
  },
  {
   "cell_type": "markdown",
   "metadata": {
    "slideshow": {
     "slide_type": "subslide"
    }
   },
   "source": [
    "###  The `math` package\n",
    "\n",
    "The `math` package provides additional functions that you can use.  A **package** is a collection of classes, functions, and variables that you can use.  Access to these packages is done using the `import` keyword in Python.  You can use the `dir` function to see what the packages directory (contents) contains."
   ]
  },
  {
   "cell_type": "code",
   "execution_count": 34,
   "metadata": {},
   "outputs": [
    {
     "name": "stdout",
     "output_type": "stream",
     "text": [
      "['__doc__', '__file__', '__loader__', '__name__', '__package__', '__spec__', 'acos', 'acosh', 'asin', 'asinh', 'atan', 'atan2', 'atanh', 'ceil', 'copysign', 'cos', 'cosh', 'degrees', 'e', 'erf', 'erfc', 'exp', 'expm1', 'fabs', 'factorial', 'floor', 'fmod', 'frexp', 'fsum', 'gamma', 'gcd', 'hypot', 'inf', 'isclose', 'isfinite', 'isinf', 'isnan', 'ldexp', 'lgamma', 'log', 'log10', 'log1p', 'log2', 'modf', 'nan', 'pi', 'pow', 'radians', 'sin', 'sinh', 'sqrt', 'tan', 'tanh', 'tau', 'trunc']\n"
     ]
    }
   ],
   "source": [
    "import math\n",
    "print(dir(math))"
   ]
  },
  {
   "cell_type": "code",
   "execution_count": 71,
   "metadata": {
    "slideshow": {
     "slide_type": "subslide"
    }
   },
   "outputs": [
    {
     "name": "stdout",
     "output_type": "stream",
     "text": [
      "Help on built-in function sinh in module math:\n",
      "\n",
      "sinh(...)\n",
      "    sinh(x)\n",
      "    \n",
      "    Return the hyperbolic sine of x.\n",
      "\n"
     ]
    }
   ],
   "source": [
    "# If you don't know what a package, class, or function is, try using the\n",
    "# `help` function to view it's documentation\n",
    "help(math.sinh)"
   ]
  },
  {
   "cell_type": "code",
   "execution_count": 35,
   "metadata": {
    "slideshow": {
     "slide_type": "subslide"
    }
   },
   "outputs": [
    {
     "data": {
      "text/plain": [
       "3.141592653589793"
      ]
     },
     "execution_count": 35,
     "metadata": {},
     "output_type": "execute_result"
    }
   ],
   "source": [
    "# the math package has a pi representation\n",
    "math.pi"
   ]
  },
  {
   "cell_type": "code",
   "execution_count": 36,
   "metadata": {
    "slideshow": {
     "slide_type": "subslide"
    }
   },
   "outputs": [
    {
     "data": {
      "text/plain": [
       "True"
      ]
     },
     "execution_count": 36,
     "metadata": {},
     "output_type": "execute_result"
    }
   ],
   "source": [
    "# you can use the ininf() function to see if a float is inifinte\n",
    "math.isinf(float('inf'))"
   ]
  },
  {
   "cell_type": "code",
   "execution_count": 68,
   "metadata": {
    "slideshow": {
     "slide_type": "subslide"
    }
   },
   "outputs": [
    {
     "data": {
      "text/plain": [
       "0.644217687237691"
      ]
     },
     "execution_count": 68,
     "metadata": {},
     "output_type": "execute_result"
    }
   ],
   "source": [
    "# geometric operations such as sine, cosine, and tangent (and their inverse)\n",
    "# can also be found.  These functions assume radians\n",
    "radians = 0.7\n",
    "math.sin(radians)"
   ]
  }
 ],
 "metadata": {
  "celltoolbar": "Slideshow",
  "kernelspec": {
   "display_name": "Python 3",
   "language": "python",
   "name": "python3"
  },
  "language_info": {
   "codemirror_mode": {
    "name": "ipython",
    "version": 3
   },
   "file_extension": ".py",
   "mimetype": "text/x-python",
   "name": "python",
   "nbconvert_exporter": "python",
   "pygments_lexer": "ipython3",
   "version": "3.6.6"
  }
 },
 "nbformat": 4,
 "nbformat_minor": 4
}
